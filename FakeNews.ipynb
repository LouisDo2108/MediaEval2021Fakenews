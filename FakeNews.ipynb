{
  "nbformat": 4,
  "nbformat_minor": 0,
  "metadata": {
    "colab": {
      "name": "FakeNews.ipynb",
      "provenance": [],
      "collapsed_sections": [
        "cNRR8propTzw",
        "pdCxwjCuolb_",
        "zwazxRY3BsIR",
        "zST7gsNGDle0",
        "7hlZaRRGFw4I",
        "COSeNnZt3rIP",
        "msIcrIaJp3Fg"
      ],
      "machine_shape": "hm",
      "include_colab_link": true
    },
    "kernelspec": {
      "display_name": "Python 3",
      "name": "python3"
    },
    "language_info": {
      "name": "python"
    },
    "accelerator": "GPU",
    "widgets": {
      "application/vnd.jupyter.widget-state+json": {
        "a3c4a36f4d5545b5a070ec1d185a1697": {
          "model_module": "@jupyter-widgets/controls",
          "model_name": "HBoxModel",
          "model_module_version": "1.5.0",
          "state": {
            "_view_name": "HBoxView",
            "_dom_classes": [],
            "_model_name": "HBoxModel",
            "_view_module": "@jupyter-widgets/controls",
            "_model_module_version": "1.5.0",
            "_view_count": null,
            "_view_module_version": "1.5.0",
            "box_style": "",
            "layout": "IPY_MODEL_ae5f43c257da4a2cbf7524f686336ee7",
            "_model_module": "@jupyter-widgets/controls",
            "children": [
              "IPY_MODEL_90dcc54ce6374c36b935f85c741aecc2",
              "IPY_MODEL_810ea83090cb410eb1aeeda0b80084f0",
              "IPY_MODEL_d48ce7d2d1a140ca9bc186c346b4c5a9"
            ]
          }
        },
        "ae5f43c257da4a2cbf7524f686336ee7": {
          "model_module": "@jupyter-widgets/base",
          "model_name": "LayoutModel",
          "model_module_version": "1.2.0",
          "state": {
            "_view_name": "LayoutView",
            "grid_template_rows": null,
            "right": null,
            "justify_content": null,
            "_view_module": "@jupyter-widgets/base",
            "overflow": null,
            "_model_module_version": "1.2.0",
            "_view_count": null,
            "flex_flow": null,
            "width": null,
            "min_width": null,
            "border": null,
            "align_items": null,
            "bottom": null,
            "_model_module": "@jupyter-widgets/base",
            "top": null,
            "grid_column": null,
            "overflow_y": null,
            "overflow_x": null,
            "grid_auto_flow": null,
            "grid_area": null,
            "grid_template_columns": null,
            "flex": null,
            "_model_name": "LayoutModel",
            "justify_items": null,
            "grid_row": null,
            "max_height": null,
            "align_content": null,
            "visibility": null,
            "align_self": null,
            "height": null,
            "min_height": null,
            "padding": null,
            "grid_auto_rows": null,
            "grid_gap": null,
            "max_width": null,
            "order": null,
            "_view_module_version": "1.2.0",
            "grid_template_areas": null,
            "object_position": null,
            "object_fit": null,
            "grid_auto_columns": null,
            "margin": null,
            "display": null,
            "left": null
          }
        },
        "90dcc54ce6374c36b935f85c741aecc2": {
          "model_module": "@jupyter-widgets/controls",
          "model_name": "HTMLModel",
          "model_module_version": "1.5.0",
          "state": {
            "_view_name": "HTMLView",
            "style": "IPY_MODEL_89bf2c31ed834aad83a0234dd6d0123e",
            "_dom_classes": [],
            "description": "",
            "_model_name": "HTMLModel",
            "placeholder": "​",
            "_view_module": "@jupyter-widgets/controls",
            "_model_module_version": "1.5.0",
            "value": "Downloading: 100%",
            "_view_count": null,
            "_view_module_version": "1.5.0",
            "description_tooltip": null,
            "_model_module": "@jupyter-widgets/controls",
            "layout": "IPY_MODEL_74c84d96390648ceb97ee0e3409aefc3"
          }
        },
        "810ea83090cb410eb1aeeda0b80084f0": {
          "model_module": "@jupyter-widgets/controls",
          "model_name": "FloatProgressModel",
          "model_module_version": "1.5.0",
          "state": {
            "_view_name": "ProgressView",
            "style": "IPY_MODEL_f6e65758eabb421f932ea3de12ec0548",
            "_dom_classes": [],
            "description": "",
            "_model_name": "FloatProgressModel",
            "bar_style": "success",
            "max": 62,
            "_view_module": "@jupyter-widgets/controls",
            "_model_module_version": "1.5.0",
            "value": 62,
            "_view_count": null,
            "_view_module_version": "1.5.0",
            "orientation": "horizontal",
            "min": 0,
            "description_tooltip": null,
            "_model_module": "@jupyter-widgets/controls",
            "layout": "IPY_MODEL_e98339c3183c4371a04e4406c0fa4b12"
          }
        },
        "d48ce7d2d1a140ca9bc186c346b4c5a9": {
          "model_module": "@jupyter-widgets/controls",
          "model_name": "HTMLModel",
          "model_module_version": "1.5.0",
          "state": {
            "_view_name": "HTMLView",
            "style": "IPY_MODEL_2b35145c6f53456a83253a28dffeb3a7",
            "_dom_classes": [],
            "description": "",
            "_model_name": "HTMLModel",
            "placeholder": "​",
            "_view_module": "@jupyter-widgets/controls",
            "_model_module_version": "1.5.0",
            "value": " 62.0/62.0 [00:00&lt;00:00, 1.27kB/s]",
            "_view_count": null,
            "_view_module_version": "1.5.0",
            "description_tooltip": null,
            "_model_module": "@jupyter-widgets/controls",
            "layout": "IPY_MODEL_a06b204ef09d42df97e89598a590bf28"
          }
        },
        "89bf2c31ed834aad83a0234dd6d0123e": {
          "model_module": "@jupyter-widgets/controls",
          "model_name": "DescriptionStyleModel",
          "model_module_version": "1.5.0",
          "state": {
            "_view_name": "StyleView",
            "_model_name": "DescriptionStyleModel",
            "description_width": "",
            "_view_module": "@jupyter-widgets/base",
            "_model_module_version": "1.5.0",
            "_view_count": null,
            "_view_module_version": "1.2.0",
            "_model_module": "@jupyter-widgets/controls"
          }
        },
        "74c84d96390648ceb97ee0e3409aefc3": {
          "model_module": "@jupyter-widgets/base",
          "model_name": "LayoutModel",
          "model_module_version": "1.2.0",
          "state": {
            "_view_name": "LayoutView",
            "grid_template_rows": null,
            "right": null,
            "justify_content": null,
            "_view_module": "@jupyter-widgets/base",
            "overflow": null,
            "_model_module_version": "1.2.0",
            "_view_count": null,
            "flex_flow": null,
            "width": null,
            "min_width": null,
            "border": null,
            "align_items": null,
            "bottom": null,
            "_model_module": "@jupyter-widgets/base",
            "top": null,
            "grid_column": null,
            "overflow_y": null,
            "overflow_x": null,
            "grid_auto_flow": null,
            "grid_area": null,
            "grid_template_columns": null,
            "flex": null,
            "_model_name": "LayoutModel",
            "justify_items": null,
            "grid_row": null,
            "max_height": null,
            "align_content": null,
            "visibility": null,
            "align_self": null,
            "height": null,
            "min_height": null,
            "padding": null,
            "grid_auto_rows": null,
            "grid_gap": null,
            "max_width": null,
            "order": null,
            "_view_module_version": "1.2.0",
            "grid_template_areas": null,
            "object_position": null,
            "object_fit": null,
            "grid_auto_columns": null,
            "margin": null,
            "display": null,
            "left": null
          }
        },
        "f6e65758eabb421f932ea3de12ec0548": {
          "model_module": "@jupyter-widgets/controls",
          "model_name": "ProgressStyleModel",
          "model_module_version": "1.5.0",
          "state": {
            "_view_name": "StyleView",
            "_model_name": "ProgressStyleModel",
            "description_width": "",
            "_view_module": "@jupyter-widgets/base",
            "_model_module_version": "1.5.0",
            "_view_count": null,
            "_view_module_version": "1.2.0",
            "bar_color": null,
            "_model_module": "@jupyter-widgets/controls"
          }
        },
        "e98339c3183c4371a04e4406c0fa4b12": {
          "model_module": "@jupyter-widgets/base",
          "model_name": "LayoutModel",
          "model_module_version": "1.2.0",
          "state": {
            "_view_name": "LayoutView",
            "grid_template_rows": null,
            "right": null,
            "justify_content": null,
            "_view_module": "@jupyter-widgets/base",
            "overflow": null,
            "_model_module_version": "1.2.0",
            "_view_count": null,
            "flex_flow": null,
            "width": null,
            "min_width": null,
            "border": null,
            "align_items": null,
            "bottom": null,
            "_model_module": "@jupyter-widgets/base",
            "top": null,
            "grid_column": null,
            "overflow_y": null,
            "overflow_x": null,
            "grid_auto_flow": null,
            "grid_area": null,
            "grid_template_columns": null,
            "flex": null,
            "_model_name": "LayoutModel",
            "justify_items": null,
            "grid_row": null,
            "max_height": null,
            "align_content": null,
            "visibility": null,
            "align_self": null,
            "height": null,
            "min_height": null,
            "padding": null,
            "grid_auto_rows": null,
            "grid_gap": null,
            "max_width": null,
            "order": null,
            "_view_module_version": "1.2.0",
            "grid_template_areas": null,
            "object_position": null,
            "object_fit": null,
            "grid_auto_columns": null,
            "margin": null,
            "display": null,
            "left": null
          }
        },
        "2b35145c6f53456a83253a28dffeb3a7": {
          "model_module": "@jupyter-widgets/controls",
          "model_name": "DescriptionStyleModel",
          "model_module_version": "1.5.0",
          "state": {
            "_view_name": "StyleView",
            "_model_name": "DescriptionStyleModel",
            "description_width": "",
            "_view_module": "@jupyter-widgets/base",
            "_model_module_version": "1.5.0",
            "_view_count": null,
            "_view_module_version": "1.2.0",
            "_model_module": "@jupyter-widgets/controls"
          }
        },
        "a06b204ef09d42df97e89598a590bf28": {
          "model_module": "@jupyter-widgets/base",
          "model_name": "LayoutModel",
          "model_module_version": "1.2.0",
          "state": {
            "_view_name": "LayoutView",
            "grid_template_rows": null,
            "right": null,
            "justify_content": null,
            "_view_module": "@jupyter-widgets/base",
            "overflow": null,
            "_model_module_version": "1.2.0",
            "_view_count": null,
            "flex_flow": null,
            "width": null,
            "min_width": null,
            "border": null,
            "align_items": null,
            "bottom": null,
            "_model_module": "@jupyter-widgets/base",
            "top": null,
            "grid_column": null,
            "overflow_y": null,
            "overflow_x": null,
            "grid_auto_flow": null,
            "grid_area": null,
            "grid_template_columns": null,
            "flex": null,
            "_model_name": "LayoutModel",
            "justify_items": null,
            "grid_row": null,
            "max_height": null,
            "align_content": null,
            "visibility": null,
            "align_self": null,
            "height": null,
            "min_height": null,
            "padding": null,
            "grid_auto_rows": null,
            "grid_gap": null,
            "max_width": null,
            "order": null,
            "_view_module_version": "1.2.0",
            "grid_template_areas": null,
            "object_position": null,
            "object_fit": null,
            "grid_auto_columns": null,
            "margin": null,
            "display": null,
            "left": null
          }
        },
        "e1ee3bc6a3024b74a90972032ea86359": {
          "model_module": "@jupyter-widgets/controls",
          "model_name": "HBoxModel",
          "model_module_version": "1.5.0",
          "state": {
            "_view_name": "HBoxView",
            "_dom_classes": [],
            "_model_name": "HBoxModel",
            "_view_module": "@jupyter-widgets/controls",
            "_model_module_version": "1.5.0",
            "_view_count": null,
            "_view_module_version": "1.5.0",
            "box_style": "",
            "layout": "IPY_MODEL_8b50077ac23b41f69d109506b47c5063",
            "_model_module": "@jupyter-widgets/controls",
            "children": [
              "IPY_MODEL_4e56d120ea764974bbf1b81124d3b38a",
              "IPY_MODEL_f78a12bcf0364fa8afff770dd33f5afd",
              "IPY_MODEL_f999d9925205405492e40d0ecff1601e"
            ]
          }
        },
        "8b50077ac23b41f69d109506b47c5063": {
          "model_module": "@jupyter-widgets/base",
          "model_name": "LayoutModel",
          "model_module_version": "1.2.0",
          "state": {
            "_view_name": "LayoutView",
            "grid_template_rows": null,
            "right": null,
            "justify_content": null,
            "_view_module": "@jupyter-widgets/base",
            "overflow": null,
            "_model_module_version": "1.2.0",
            "_view_count": null,
            "flex_flow": null,
            "width": null,
            "min_width": null,
            "border": null,
            "align_items": null,
            "bottom": null,
            "_model_module": "@jupyter-widgets/base",
            "top": null,
            "grid_column": null,
            "overflow_y": null,
            "overflow_x": null,
            "grid_auto_flow": null,
            "grid_area": null,
            "grid_template_columns": null,
            "flex": null,
            "_model_name": "LayoutModel",
            "justify_items": null,
            "grid_row": null,
            "max_height": null,
            "align_content": null,
            "visibility": null,
            "align_self": null,
            "height": null,
            "min_height": null,
            "padding": null,
            "grid_auto_rows": null,
            "grid_gap": null,
            "max_width": null,
            "order": null,
            "_view_module_version": "1.2.0",
            "grid_template_areas": null,
            "object_position": null,
            "object_fit": null,
            "grid_auto_columns": null,
            "margin": null,
            "display": null,
            "left": null
          }
        },
        "4e56d120ea764974bbf1b81124d3b38a": {
          "model_module": "@jupyter-widgets/controls",
          "model_name": "HTMLModel",
          "model_module_version": "1.5.0",
          "state": {
            "_view_name": "HTMLView",
            "style": "IPY_MODEL_8b06e5d682e2494c9c8d604d6086f963",
            "_dom_classes": [],
            "description": "",
            "_model_name": "HTMLModel",
            "placeholder": "​",
            "_view_module": "@jupyter-widgets/controls",
            "_model_module_version": "1.5.0",
            "value": "Downloading: 100%",
            "_view_count": null,
            "_view_module_version": "1.5.0",
            "description_tooltip": null,
            "_model_module": "@jupyter-widgets/controls",
            "layout": "IPY_MODEL_864eaab362144e71b3b525787e8745c6"
          }
        },
        "f78a12bcf0364fa8afff770dd33f5afd": {
          "model_module": "@jupyter-widgets/controls",
          "model_name": "FloatProgressModel",
          "model_module_version": "1.5.0",
          "state": {
            "_view_name": "ProgressView",
            "style": "IPY_MODEL_fb73be23942249fb8d39308178c234f0",
            "_dom_classes": [],
            "description": "",
            "_model_name": "FloatProgressModel",
            "bar_style": "success",
            "max": 421,
            "_view_module": "@jupyter-widgets/controls",
            "_model_module_version": "1.5.0",
            "value": 421,
            "_view_count": null,
            "_view_module_version": "1.5.0",
            "orientation": "horizontal",
            "min": 0,
            "description_tooltip": null,
            "_model_module": "@jupyter-widgets/controls",
            "layout": "IPY_MODEL_2e441f303efa4369933d8174286f4da9"
          }
        },
        "f999d9925205405492e40d0ecff1601e": {
          "model_module": "@jupyter-widgets/controls",
          "model_name": "HTMLModel",
          "model_module_version": "1.5.0",
          "state": {
            "_view_name": "HTMLView",
            "style": "IPY_MODEL_7f7c1f069c424d21b7ee90a88ca9fae8",
            "_dom_classes": [],
            "description": "",
            "_model_name": "HTMLModel",
            "placeholder": "​",
            "_view_module": "@jupyter-widgets/controls",
            "_model_module_version": "1.5.0",
            "value": " 421/421 [00:00&lt;00:00, 9.49kB/s]",
            "_view_count": null,
            "_view_module_version": "1.5.0",
            "description_tooltip": null,
            "_model_module": "@jupyter-widgets/controls",
            "layout": "IPY_MODEL_5a7e8bbc4bcb4cf78428d06d181866a2"
          }
        },
        "8b06e5d682e2494c9c8d604d6086f963": {
          "model_module": "@jupyter-widgets/controls",
          "model_name": "DescriptionStyleModel",
          "model_module_version": "1.5.0",
          "state": {
            "_view_name": "StyleView",
            "_model_name": "DescriptionStyleModel",
            "description_width": "",
            "_view_module": "@jupyter-widgets/base",
            "_model_module_version": "1.5.0",
            "_view_count": null,
            "_view_module_version": "1.2.0",
            "_model_module": "@jupyter-widgets/controls"
          }
        },
        "864eaab362144e71b3b525787e8745c6": {
          "model_module": "@jupyter-widgets/base",
          "model_name": "LayoutModel",
          "model_module_version": "1.2.0",
          "state": {
            "_view_name": "LayoutView",
            "grid_template_rows": null,
            "right": null,
            "justify_content": null,
            "_view_module": "@jupyter-widgets/base",
            "overflow": null,
            "_model_module_version": "1.2.0",
            "_view_count": null,
            "flex_flow": null,
            "width": null,
            "min_width": null,
            "border": null,
            "align_items": null,
            "bottom": null,
            "_model_module": "@jupyter-widgets/base",
            "top": null,
            "grid_column": null,
            "overflow_y": null,
            "overflow_x": null,
            "grid_auto_flow": null,
            "grid_area": null,
            "grid_template_columns": null,
            "flex": null,
            "_model_name": "LayoutModel",
            "justify_items": null,
            "grid_row": null,
            "max_height": null,
            "align_content": null,
            "visibility": null,
            "align_self": null,
            "height": null,
            "min_height": null,
            "padding": null,
            "grid_auto_rows": null,
            "grid_gap": null,
            "max_width": null,
            "order": null,
            "_view_module_version": "1.2.0",
            "grid_template_areas": null,
            "object_position": null,
            "object_fit": null,
            "grid_auto_columns": null,
            "margin": null,
            "display": null,
            "left": null
          }
        },
        "fb73be23942249fb8d39308178c234f0": {
          "model_module": "@jupyter-widgets/controls",
          "model_name": "ProgressStyleModel",
          "model_module_version": "1.5.0",
          "state": {
            "_view_name": "StyleView",
            "_model_name": "ProgressStyleModel",
            "description_width": "",
            "_view_module": "@jupyter-widgets/base",
            "_model_module_version": "1.5.0",
            "_view_count": null,
            "_view_module_version": "1.2.0",
            "bar_color": null,
            "_model_module": "@jupyter-widgets/controls"
          }
        },
        "2e441f303efa4369933d8174286f4da9": {
          "model_module": "@jupyter-widgets/base",
          "model_name": "LayoutModel",
          "model_module_version": "1.2.0",
          "state": {
            "_view_name": "LayoutView",
            "grid_template_rows": null,
            "right": null,
            "justify_content": null,
            "_view_module": "@jupyter-widgets/base",
            "overflow": null,
            "_model_module_version": "1.2.0",
            "_view_count": null,
            "flex_flow": null,
            "width": null,
            "min_width": null,
            "border": null,
            "align_items": null,
            "bottom": null,
            "_model_module": "@jupyter-widgets/base",
            "top": null,
            "grid_column": null,
            "overflow_y": null,
            "overflow_x": null,
            "grid_auto_flow": null,
            "grid_area": null,
            "grid_template_columns": null,
            "flex": null,
            "_model_name": "LayoutModel",
            "justify_items": null,
            "grid_row": null,
            "max_height": null,
            "align_content": null,
            "visibility": null,
            "align_self": null,
            "height": null,
            "min_height": null,
            "padding": null,
            "grid_auto_rows": null,
            "grid_gap": null,
            "max_width": null,
            "order": null,
            "_view_module_version": "1.2.0",
            "grid_template_areas": null,
            "object_position": null,
            "object_fit": null,
            "grid_auto_columns": null,
            "margin": null,
            "display": null,
            "left": null
          }
        },
        "7f7c1f069c424d21b7ee90a88ca9fae8": {
          "model_module": "@jupyter-widgets/controls",
          "model_name": "DescriptionStyleModel",
          "model_module_version": "1.5.0",
          "state": {
            "_view_name": "StyleView",
            "_model_name": "DescriptionStyleModel",
            "description_width": "",
            "_view_module": "@jupyter-widgets/base",
            "_model_module_version": "1.5.0",
            "_view_count": null,
            "_view_module_version": "1.2.0",
            "_model_module": "@jupyter-widgets/controls"
          }
        },
        "5a7e8bbc4bcb4cf78428d06d181866a2": {
          "model_module": "@jupyter-widgets/base",
          "model_name": "LayoutModel",
          "model_module_version": "1.2.0",
          "state": {
            "_view_name": "LayoutView",
            "grid_template_rows": null,
            "right": null,
            "justify_content": null,
            "_view_module": "@jupyter-widgets/base",
            "overflow": null,
            "_model_module_version": "1.2.0",
            "_view_count": null,
            "flex_flow": null,
            "width": null,
            "min_width": null,
            "border": null,
            "align_items": null,
            "bottom": null,
            "_model_module": "@jupyter-widgets/base",
            "top": null,
            "grid_column": null,
            "overflow_y": null,
            "overflow_x": null,
            "grid_auto_flow": null,
            "grid_area": null,
            "grid_template_columns": null,
            "flex": null,
            "_model_name": "LayoutModel",
            "justify_items": null,
            "grid_row": null,
            "max_height": null,
            "align_content": null,
            "visibility": null,
            "align_self": null,
            "height": null,
            "min_height": null,
            "padding": null,
            "grid_auto_rows": null,
            "grid_gap": null,
            "max_width": null,
            "order": null,
            "_view_module_version": "1.2.0",
            "grid_template_areas": null,
            "object_position": null,
            "object_fit": null,
            "grid_auto_columns": null,
            "margin": null,
            "display": null,
            "left": null
          }
        },
        "a79ed4e0089043fb9606cccc5517ddde": {
          "model_module": "@jupyter-widgets/controls",
          "model_name": "HBoxModel",
          "model_module_version": "1.5.0",
          "state": {
            "_view_name": "HBoxView",
            "_dom_classes": [],
            "_model_name": "HBoxModel",
            "_view_module": "@jupyter-widgets/controls",
            "_model_module_version": "1.5.0",
            "_view_count": null,
            "_view_module_version": "1.5.0",
            "box_style": "",
            "layout": "IPY_MODEL_c4f2659469f04bef8bdc67dc99af8dd0",
            "_model_module": "@jupyter-widgets/controls",
            "children": [
              "IPY_MODEL_1db26950cfce4e22a4d3dd87f50104ba",
              "IPY_MODEL_dfa1164fe16e4da4bd544d9cbc4492e4",
              "IPY_MODEL_a3071f44944448038fea0c3e433a43f9"
            ]
          }
        },
        "c4f2659469f04bef8bdc67dc99af8dd0": {
          "model_module": "@jupyter-widgets/base",
          "model_name": "LayoutModel",
          "model_module_version": "1.2.0",
          "state": {
            "_view_name": "LayoutView",
            "grid_template_rows": null,
            "right": null,
            "justify_content": null,
            "_view_module": "@jupyter-widgets/base",
            "overflow": null,
            "_model_module_version": "1.2.0",
            "_view_count": null,
            "flex_flow": null,
            "width": null,
            "min_width": null,
            "border": null,
            "align_items": null,
            "bottom": null,
            "_model_module": "@jupyter-widgets/base",
            "top": null,
            "grid_column": null,
            "overflow_y": null,
            "overflow_x": null,
            "grid_auto_flow": null,
            "grid_area": null,
            "grid_template_columns": null,
            "flex": null,
            "_model_name": "LayoutModel",
            "justify_items": null,
            "grid_row": null,
            "max_height": null,
            "align_content": null,
            "visibility": null,
            "align_self": null,
            "height": null,
            "min_height": null,
            "padding": null,
            "grid_auto_rows": null,
            "grid_gap": null,
            "max_width": null,
            "order": null,
            "_view_module_version": "1.2.0",
            "grid_template_areas": null,
            "object_position": null,
            "object_fit": null,
            "grid_auto_columns": null,
            "margin": null,
            "display": null,
            "left": null
          }
        },
        "1db26950cfce4e22a4d3dd87f50104ba": {
          "model_module": "@jupyter-widgets/controls",
          "model_name": "HTMLModel",
          "model_module_version": "1.5.0",
          "state": {
            "_view_name": "HTMLView",
            "style": "IPY_MODEL_9cc4e27ab59b49aaa33484f02242e70c",
            "_dom_classes": [],
            "description": "",
            "_model_name": "HTMLModel",
            "placeholder": "​",
            "_view_module": "@jupyter-widgets/controls",
            "_model_module_version": "1.5.0",
            "value": "Downloading: 100%",
            "_view_count": null,
            "_view_module_version": "1.5.0",
            "description_tooltip": null,
            "_model_module": "@jupyter-widgets/controls",
            "layout": "IPY_MODEL_5cc4598b2e4f4831ae179a4142e4f9a1"
          }
        },
        "dfa1164fe16e4da4bd544d9cbc4492e4": {
          "model_module": "@jupyter-widgets/controls",
          "model_name": "FloatProgressModel",
          "model_module_version": "1.5.0",
          "state": {
            "_view_name": "ProgressView",
            "style": "IPY_MODEL_8827432c842b4b93914ae9e3dfe47cb3",
            "_dom_classes": [],
            "description": "",
            "_model_name": "FloatProgressModel",
            "bar_style": "success",
            "max": 231508,
            "_view_module": "@jupyter-widgets/controls",
            "_model_module_version": "1.5.0",
            "value": 231508,
            "_view_count": null,
            "_view_module_version": "1.5.0",
            "orientation": "horizontal",
            "min": 0,
            "description_tooltip": null,
            "_model_module": "@jupyter-widgets/controls",
            "layout": "IPY_MODEL_1aa1fc0a9e2449ee9b02ea59f56a87ef"
          }
        },
        "a3071f44944448038fea0c3e433a43f9": {
          "model_module": "@jupyter-widgets/controls",
          "model_name": "HTMLModel",
          "model_module_version": "1.5.0",
          "state": {
            "_view_name": "HTMLView",
            "style": "IPY_MODEL_b4c4bd5d78494ab580ba06d14d700826",
            "_dom_classes": [],
            "description": "",
            "_model_name": "HTMLModel",
            "placeholder": "​",
            "_view_module": "@jupyter-widgets/controls",
            "_model_module_version": "1.5.0",
            "value": " 226k/226k [00:00&lt;00:00, 1.05MB/s]",
            "_view_count": null,
            "_view_module_version": "1.5.0",
            "description_tooltip": null,
            "_model_module": "@jupyter-widgets/controls",
            "layout": "IPY_MODEL_fa0b4af305194ab69d92b8759bc2a820"
          }
        },
        "9cc4e27ab59b49aaa33484f02242e70c": {
          "model_module": "@jupyter-widgets/controls",
          "model_name": "DescriptionStyleModel",
          "model_module_version": "1.5.0",
          "state": {
            "_view_name": "StyleView",
            "_model_name": "DescriptionStyleModel",
            "description_width": "",
            "_view_module": "@jupyter-widgets/base",
            "_model_module_version": "1.5.0",
            "_view_count": null,
            "_view_module_version": "1.2.0",
            "_model_module": "@jupyter-widgets/controls"
          }
        },
        "5cc4598b2e4f4831ae179a4142e4f9a1": {
          "model_module": "@jupyter-widgets/base",
          "model_name": "LayoutModel",
          "model_module_version": "1.2.0",
          "state": {
            "_view_name": "LayoutView",
            "grid_template_rows": null,
            "right": null,
            "justify_content": null,
            "_view_module": "@jupyter-widgets/base",
            "overflow": null,
            "_model_module_version": "1.2.0",
            "_view_count": null,
            "flex_flow": null,
            "width": null,
            "min_width": null,
            "border": null,
            "align_items": null,
            "bottom": null,
            "_model_module": "@jupyter-widgets/base",
            "top": null,
            "grid_column": null,
            "overflow_y": null,
            "overflow_x": null,
            "grid_auto_flow": null,
            "grid_area": null,
            "grid_template_columns": null,
            "flex": null,
            "_model_name": "LayoutModel",
            "justify_items": null,
            "grid_row": null,
            "max_height": null,
            "align_content": null,
            "visibility": null,
            "align_self": null,
            "height": null,
            "min_height": null,
            "padding": null,
            "grid_auto_rows": null,
            "grid_gap": null,
            "max_width": null,
            "order": null,
            "_view_module_version": "1.2.0",
            "grid_template_areas": null,
            "object_position": null,
            "object_fit": null,
            "grid_auto_columns": null,
            "margin": null,
            "display": null,
            "left": null
          }
        },
        "8827432c842b4b93914ae9e3dfe47cb3": {
          "model_module": "@jupyter-widgets/controls",
          "model_name": "ProgressStyleModel",
          "model_module_version": "1.5.0",
          "state": {
            "_view_name": "StyleView",
            "_model_name": "ProgressStyleModel",
            "description_width": "",
            "_view_module": "@jupyter-widgets/base",
            "_model_module_version": "1.5.0",
            "_view_count": null,
            "_view_module_version": "1.2.0",
            "bar_color": null,
            "_model_module": "@jupyter-widgets/controls"
          }
        },
        "1aa1fc0a9e2449ee9b02ea59f56a87ef": {
          "model_module": "@jupyter-widgets/base",
          "model_name": "LayoutModel",
          "model_module_version": "1.2.0",
          "state": {
            "_view_name": "LayoutView",
            "grid_template_rows": null,
            "right": null,
            "justify_content": null,
            "_view_module": "@jupyter-widgets/base",
            "overflow": null,
            "_model_module_version": "1.2.0",
            "_view_count": null,
            "flex_flow": null,
            "width": null,
            "min_width": null,
            "border": null,
            "align_items": null,
            "bottom": null,
            "_model_module": "@jupyter-widgets/base",
            "top": null,
            "grid_column": null,
            "overflow_y": null,
            "overflow_x": null,
            "grid_auto_flow": null,
            "grid_area": null,
            "grid_template_columns": null,
            "flex": null,
            "_model_name": "LayoutModel",
            "justify_items": null,
            "grid_row": null,
            "max_height": null,
            "align_content": null,
            "visibility": null,
            "align_self": null,
            "height": null,
            "min_height": null,
            "padding": null,
            "grid_auto_rows": null,
            "grid_gap": null,
            "max_width": null,
            "order": null,
            "_view_module_version": "1.2.0",
            "grid_template_areas": null,
            "object_position": null,
            "object_fit": null,
            "grid_auto_columns": null,
            "margin": null,
            "display": null,
            "left": null
          }
        },
        "b4c4bd5d78494ab580ba06d14d700826": {
          "model_module": "@jupyter-widgets/controls",
          "model_name": "DescriptionStyleModel",
          "model_module_version": "1.5.0",
          "state": {
            "_view_name": "StyleView",
            "_model_name": "DescriptionStyleModel",
            "description_width": "",
            "_view_module": "@jupyter-widgets/base",
            "_model_module_version": "1.5.0",
            "_view_count": null,
            "_view_module_version": "1.2.0",
            "_model_module": "@jupyter-widgets/controls"
          }
        },
        "fa0b4af305194ab69d92b8759bc2a820": {
          "model_module": "@jupyter-widgets/base",
          "model_name": "LayoutModel",
          "model_module_version": "1.2.0",
          "state": {
            "_view_name": "LayoutView",
            "grid_template_rows": null,
            "right": null,
            "justify_content": null,
            "_view_module": "@jupyter-widgets/base",
            "overflow": null,
            "_model_module_version": "1.2.0",
            "_view_count": null,
            "flex_flow": null,
            "width": null,
            "min_width": null,
            "border": null,
            "align_items": null,
            "bottom": null,
            "_model_module": "@jupyter-widgets/base",
            "top": null,
            "grid_column": null,
            "overflow_y": null,
            "overflow_x": null,
            "grid_auto_flow": null,
            "grid_area": null,
            "grid_template_columns": null,
            "flex": null,
            "_model_name": "LayoutModel",
            "justify_items": null,
            "grid_row": null,
            "max_height": null,
            "align_content": null,
            "visibility": null,
            "align_self": null,
            "height": null,
            "min_height": null,
            "padding": null,
            "grid_auto_rows": null,
            "grid_gap": null,
            "max_width": null,
            "order": null,
            "_view_module_version": "1.2.0",
            "grid_template_areas": null,
            "object_position": null,
            "object_fit": null,
            "grid_auto_columns": null,
            "margin": null,
            "display": null,
            "left": null
          }
        },
        "399002f8418643318e1a038120905935": {
          "model_module": "@jupyter-widgets/controls",
          "model_name": "HBoxModel",
          "model_module_version": "1.5.0",
          "state": {
            "_view_name": "HBoxView",
            "_dom_classes": [],
            "_model_name": "HBoxModel",
            "_view_module": "@jupyter-widgets/controls",
            "_model_module_version": "1.5.0",
            "_view_count": null,
            "_view_module_version": "1.5.0",
            "box_style": "",
            "layout": "IPY_MODEL_21332d21551446c9a81f92092f997fda",
            "_model_module": "@jupyter-widgets/controls",
            "children": [
              "IPY_MODEL_6437211c760442138e90042b46047850",
              "IPY_MODEL_b027cba8cb814bc094d00ebfe3405855",
              "IPY_MODEL_d92af102cdd847138c399fb30bc60c2c"
            ]
          }
        },
        "21332d21551446c9a81f92092f997fda": {
          "model_module": "@jupyter-widgets/base",
          "model_name": "LayoutModel",
          "model_module_version": "1.2.0",
          "state": {
            "_view_name": "LayoutView",
            "grid_template_rows": null,
            "right": null,
            "justify_content": null,
            "_view_module": "@jupyter-widgets/base",
            "overflow": null,
            "_model_module_version": "1.2.0",
            "_view_count": null,
            "flex_flow": null,
            "width": null,
            "min_width": null,
            "border": null,
            "align_items": null,
            "bottom": null,
            "_model_module": "@jupyter-widgets/base",
            "top": null,
            "grid_column": null,
            "overflow_y": null,
            "overflow_x": null,
            "grid_auto_flow": null,
            "grid_area": null,
            "grid_template_columns": null,
            "flex": null,
            "_model_name": "LayoutModel",
            "justify_items": null,
            "grid_row": null,
            "max_height": null,
            "align_content": null,
            "visibility": null,
            "align_self": null,
            "height": null,
            "min_height": null,
            "padding": null,
            "grid_auto_rows": null,
            "grid_gap": null,
            "max_width": null,
            "order": null,
            "_view_module_version": "1.2.0",
            "grid_template_areas": null,
            "object_position": null,
            "object_fit": null,
            "grid_auto_columns": null,
            "margin": null,
            "display": null,
            "left": null
          }
        },
        "6437211c760442138e90042b46047850": {
          "model_module": "@jupyter-widgets/controls",
          "model_name": "HTMLModel",
          "model_module_version": "1.5.0",
          "state": {
            "_view_name": "HTMLView",
            "style": "IPY_MODEL_48cc4cd0f2704a6faad2537095130542",
            "_dom_classes": [],
            "description": "",
            "_model_name": "HTMLModel",
            "placeholder": "​",
            "_view_module": "@jupyter-widgets/controls",
            "_model_module_version": "1.5.0",
            "value": "Downloading: 100%",
            "_view_count": null,
            "_view_module_version": "1.5.0",
            "description_tooltip": null,
            "_model_module": "@jupyter-widgets/controls",
            "layout": "IPY_MODEL_9f55aa7d7f5741cd880d48caef01100d"
          }
        },
        "b027cba8cb814bc094d00ebfe3405855": {
          "model_module": "@jupyter-widgets/controls",
          "model_name": "FloatProgressModel",
          "model_module_version": "1.5.0",
          "state": {
            "_view_name": "ProgressView",
            "style": "IPY_MODEL_e070f41fa1014bc4bc5a7332194a1066",
            "_dom_classes": [],
            "description": "",
            "_model_name": "FloatProgressModel",
            "bar_style": "success",
            "max": 112,
            "_view_module": "@jupyter-widgets/controls",
            "_model_module_version": "1.5.0",
            "value": 112,
            "_view_count": null,
            "_view_module_version": "1.5.0",
            "orientation": "horizontal",
            "min": 0,
            "description_tooltip": null,
            "_model_module": "@jupyter-widgets/controls",
            "layout": "IPY_MODEL_303117b7f8874d708b1c68444db58469"
          }
        },
        "d92af102cdd847138c399fb30bc60c2c": {
          "model_module": "@jupyter-widgets/controls",
          "model_name": "HTMLModel",
          "model_module_version": "1.5.0",
          "state": {
            "_view_name": "HTMLView",
            "style": "IPY_MODEL_53b2e5ab0c4c459a94a840ec18da9902",
            "_dom_classes": [],
            "description": "",
            "_model_name": "HTMLModel",
            "placeholder": "​",
            "_view_module": "@jupyter-widgets/controls",
            "_model_module_version": "1.5.0",
            "value": " 112/112 [00:00&lt;00:00, 2.14kB/s]",
            "_view_count": null,
            "_view_module_version": "1.5.0",
            "description_tooltip": null,
            "_model_module": "@jupyter-widgets/controls",
            "layout": "IPY_MODEL_91fe9eb6ba2242a0afcff7753151e778"
          }
        },
        "48cc4cd0f2704a6faad2537095130542": {
          "model_module": "@jupyter-widgets/controls",
          "model_name": "DescriptionStyleModel",
          "model_module_version": "1.5.0",
          "state": {
            "_view_name": "StyleView",
            "_model_name": "DescriptionStyleModel",
            "description_width": "",
            "_view_module": "@jupyter-widgets/base",
            "_model_module_version": "1.5.0",
            "_view_count": null,
            "_view_module_version": "1.2.0",
            "_model_module": "@jupyter-widgets/controls"
          }
        },
        "9f55aa7d7f5741cd880d48caef01100d": {
          "model_module": "@jupyter-widgets/base",
          "model_name": "LayoutModel",
          "model_module_version": "1.2.0",
          "state": {
            "_view_name": "LayoutView",
            "grid_template_rows": null,
            "right": null,
            "justify_content": null,
            "_view_module": "@jupyter-widgets/base",
            "overflow": null,
            "_model_module_version": "1.2.0",
            "_view_count": null,
            "flex_flow": null,
            "width": null,
            "min_width": null,
            "border": null,
            "align_items": null,
            "bottom": null,
            "_model_module": "@jupyter-widgets/base",
            "top": null,
            "grid_column": null,
            "overflow_y": null,
            "overflow_x": null,
            "grid_auto_flow": null,
            "grid_area": null,
            "grid_template_columns": null,
            "flex": null,
            "_model_name": "LayoutModel",
            "justify_items": null,
            "grid_row": null,
            "max_height": null,
            "align_content": null,
            "visibility": null,
            "align_self": null,
            "height": null,
            "min_height": null,
            "padding": null,
            "grid_auto_rows": null,
            "grid_gap": null,
            "max_width": null,
            "order": null,
            "_view_module_version": "1.2.0",
            "grid_template_areas": null,
            "object_position": null,
            "object_fit": null,
            "grid_auto_columns": null,
            "margin": null,
            "display": null,
            "left": null
          }
        },
        "e070f41fa1014bc4bc5a7332194a1066": {
          "model_module": "@jupyter-widgets/controls",
          "model_name": "ProgressStyleModel",
          "model_module_version": "1.5.0",
          "state": {
            "_view_name": "StyleView",
            "_model_name": "ProgressStyleModel",
            "description_width": "",
            "_view_module": "@jupyter-widgets/base",
            "_model_module_version": "1.5.0",
            "_view_count": null,
            "_view_module_version": "1.2.0",
            "bar_color": null,
            "_model_module": "@jupyter-widgets/controls"
          }
        },
        "303117b7f8874d708b1c68444db58469": {
          "model_module": "@jupyter-widgets/base",
          "model_name": "LayoutModel",
          "model_module_version": "1.2.0",
          "state": {
            "_view_name": "LayoutView",
            "grid_template_rows": null,
            "right": null,
            "justify_content": null,
            "_view_module": "@jupyter-widgets/base",
            "overflow": null,
            "_model_module_version": "1.2.0",
            "_view_count": null,
            "flex_flow": null,
            "width": null,
            "min_width": null,
            "border": null,
            "align_items": null,
            "bottom": null,
            "_model_module": "@jupyter-widgets/base",
            "top": null,
            "grid_column": null,
            "overflow_y": null,
            "overflow_x": null,
            "grid_auto_flow": null,
            "grid_area": null,
            "grid_template_columns": null,
            "flex": null,
            "_model_name": "LayoutModel",
            "justify_items": null,
            "grid_row": null,
            "max_height": null,
            "align_content": null,
            "visibility": null,
            "align_self": null,
            "height": null,
            "min_height": null,
            "padding": null,
            "grid_auto_rows": null,
            "grid_gap": null,
            "max_width": null,
            "order": null,
            "_view_module_version": "1.2.0",
            "grid_template_areas": null,
            "object_position": null,
            "object_fit": null,
            "grid_auto_columns": null,
            "margin": null,
            "display": null,
            "left": null
          }
        },
        "53b2e5ab0c4c459a94a840ec18da9902": {
          "model_module": "@jupyter-widgets/controls",
          "model_name": "DescriptionStyleModel",
          "model_module_version": "1.5.0",
          "state": {
            "_view_name": "StyleView",
            "_model_name": "DescriptionStyleModel",
            "description_width": "",
            "_view_module": "@jupyter-widgets/base",
            "_model_module_version": "1.5.0",
            "_view_count": null,
            "_view_module_version": "1.2.0",
            "_model_module": "@jupyter-widgets/controls"
          }
        },
        "91fe9eb6ba2242a0afcff7753151e778": {
          "model_module": "@jupyter-widgets/base",
          "model_name": "LayoutModel",
          "model_module_version": "1.2.0",
          "state": {
            "_view_name": "LayoutView",
            "grid_template_rows": null,
            "right": null,
            "justify_content": null,
            "_view_module": "@jupyter-widgets/base",
            "overflow": null,
            "_model_module_version": "1.2.0",
            "_view_count": null,
            "flex_flow": null,
            "width": null,
            "min_width": null,
            "border": null,
            "align_items": null,
            "bottom": null,
            "_model_module": "@jupyter-widgets/base",
            "top": null,
            "grid_column": null,
            "overflow_y": null,
            "overflow_x": null,
            "grid_auto_flow": null,
            "grid_area": null,
            "grid_template_columns": null,
            "flex": null,
            "_model_name": "LayoutModel",
            "justify_items": null,
            "grid_row": null,
            "max_height": null,
            "align_content": null,
            "visibility": null,
            "align_self": null,
            "height": null,
            "min_height": null,
            "padding": null,
            "grid_auto_rows": null,
            "grid_gap": null,
            "max_width": null,
            "order": null,
            "_view_module_version": "1.2.0",
            "grid_template_areas": null,
            "object_position": null,
            "object_fit": null,
            "grid_auto_columns": null,
            "margin": null,
            "display": null,
            "left": null
          }
        },
        "f83307e221244cfe80750ce2fdd25f88": {
          "model_module": "@jupyter-widgets/controls",
          "model_name": "HBoxModel",
          "model_module_version": "1.5.0",
          "state": {
            "_view_name": "HBoxView",
            "_dom_classes": [],
            "_model_name": "HBoxModel",
            "_view_module": "@jupyter-widgets/controls",
            "_model_module_version": "1.5.0",
            "_view_count": null,
            "_view_module_version": "1.5.0",
            "box_style": "",
            "layout": "IPY_MODEL_b20ec6b08fad44f98fc9385b1f558188",
            "_model_module": "@jupyter-widgets/controls",
            "children": [
              "IPY_MODEL_a6039aa9fd8140a388c74864e573ac46",
              "IPY_MODEL_45639cdd0b054576b97fa43e7f476508",
              "IPY_MODEL_2a2f2c30a63344c080a9cb86d5def904"
            ]
          }
        },
        "b20ec6b08fad44f98fc9385b1f558188": {
          "model_module": "@jupyter-widgets/base",
          "model_name": "LayoutModel",
          "model_module_version": "1.2.0",
          "state": {
            "_view_name": "LayoutView",
            "grid_template_rows": null,
            "right": null,
            "justify_content": null,
            "_view_module": "@jupyter-widgets/base",
            "overflow": null,
            "_model_module_version": "1.2.0",
            "_view_count": null,
            "flex_flow": null,
            "width": null,
            "min_width": null,
            "border": null,
            "align_items": null,
            "bottom": null,
            "_model_module": "@jupyter-widgets/base",
            "top": null,
            "grid_column": null,
            "overflow_y": null,
            "overflow_x": null,
            "grid_auto_flow": null,
            "grid_area": null,
            "grid_template_columns": null,
            "flex": null,
            "_model_name": "LayoutModel",
            "justify_items": null,
            "grid_row": null,
            "max_height": null,
            "align_content": null,
            "visibility": null,
            "align_self": null,
            "height": null,
            "min_height": null,
            "padding": null,
            "grid_auto_rows": null,
            "grid_gap": null,
            "max_width": null,
            "order": null,
            "_view_module_version": "1.2.0",
            "grid_template_areas": null,
            "object_position": null,
            "object_fit": null,
            "grid_auto_columns": null,
            "margin": null,
            "display": null,
            "left": null
          }
        },
        "a6039aa9fd8140a388c74864e573ac46": {
          "model_module": "@jupyter-widgets/controls",
          "model_name": "HTMLModel",
          "model_module_version": "1.5.0",
          "state": {
            "_view_name": "HTMLView",
            "style": "IPY_MODEL_27be992049a44fbd937cb2f4082046d3",
            "_dom_classes": [],
            "description": "",
            "_model_name": "HTMLModel",
            "placeholder": "​",
            "_view_module": "@jupyter-widgets/controls",
            "_model_module_version": "1.5.0",
            "value": "Downloading: 100%",
            "_view_count": null,
            "_view_module_version": "1.5.0",
            "description_tooltip": null,
            "_model_module": "@jupyter-widgets/controls",
            "layout": "IPY_MODEL_ba6d35d5a3714df2971c45ce52fa8523"
          }
        },
        "45639cdd0b054576b97fa43e7f476508": {
          "model_module": "@jupyter-widgets/controls",
          "model_name": "FloatProgressModel",
          "model_module_version": "1.5.0",
          "state": {
            "_view_name": "ProgressView",
            "style": "IPY_MODEL_a09a6cf30f3142dfb4be50241fc58e1a",
            "_dom_classes": [],
            "description": "",
            "_model_name": "FloatProgressModel",
            "bar_style": "success",
            "max": 1345068539,
            "_view_module": "@jupyter-widgets/controls",
            "_model_module_version": "1.5.0",
            "value": 1345068539,
            "_view_count": null,
            "_view_module_version": "1.5.0",
            "orientation": "horizontal",
            "min": 0,
            "description_tooltip": null,
            "_model_module": "@jupyter-widgets/controls",
            "layout": "IPY_MODEL_4e8482e03192462b880dab00f0844383"
          }
        },
        "2a2f2c30a63344c080a9cb86d5def904": {
          "model_module": "@jupyter-widgets/controls",
          "model_name": "HTMLModel",
          "model_module_version": "1.5.0",
          "state": {
            "_view_name": "HTMLView",
            "style": "IPY_MODEL_8dbe90390c0747cc8bc90c96b6c82fb7",
            "_dom_classes": [],
            "description": "",
            "_model_name": "HTMLModel",
            "placeholder": "​",
            "_view_module": "@jupyter-widgets/controls",
            "_model_module_version": "1.5.0",
            "value": " 1.25G/1.25G [00:23&lt;00:00, 61.2MB/s]",
            "_view_count": null,
            "_view_module_version": "1.5.0",
            "description_tooltip": null,
            "_model_module": "@jupyter-widgets/controls",
            "layout": "IPY_MODEL_87c19b3cb71a47bc919600ffb54fdfe2"
          }
        },
        "27be992049a44fbd937cb2f4082046d3": {
          "model_module": "@jupyter-widgets/controls",
          "model_name": "DescriptionStyleModel",
          "model_module_version": "1.5.0",
          "state": {
            "_view_name": "StyleView",
            "_model_name": "DescriptionStyleModel",
            "description_width": "",
            "_view_module": "@jupyter-widgets/base",
            "_model_module_version": "1.5.0",
            "_view_count": null,
            "_view_module_version": "1.2.0",
            "_model_module": "@jupyter-widgets/controls"
          }
        },
        "ba6d35d5a3714df2971c45ce52fa8523": {
          "model_module": "@jupyter-widgets/base",
          "model_name": "LayoutModel",
          "model_module_version": "1.2.0",
          "state": {
            "_view_name": "LayoutView",
            "grid_template_rows": null,
            "right": null,
            "justify_content": null,
            "_view_module": "@jupyter-widgets/base",
            "overflow": null,
            "_model_module_version": "1.2.0",
            "_view_count": null,
            "flex_flow": null,
            "width": null,
            "min_width": null,
            "border": null,
            "align_items": null,
            "bottom": null,
            "_model_module": "@jupyter-widgets/base",
            "top": null,
            "grid_column": null,
            "overflow_y": null,
            "overflow_x": null,
            "grid_auto_flow": null,
            "grid_area": null,
            "grid_template_columns": null,
            "flex": null,
            "_model_name": "LayoutModel",
            "justify_items": null,
            "grid_row": null,
            "max_height": null,
            "align_content": null,
            "visibility": null,
            "align_self": null,
            "height": null,
            "min_height": null,
            "padding": null,
            "grid_auto_rows": null,
            "grid_gap": null,
            "max_width": null,
            "order": null,
            "_view_module_version": "1.2.0",
            "grid_template_areas": null,
            "object_position": null,
            "object_fit": null,
            "grid_auto_columns": null,
            "margin": null,
            "display": null,
            "left": null
          }
        },
        "a09a6cf30f3142dfb4be50241fc58e1a": {
          "model_module": "@jupyter-widgets/controls",
          "model_name": "ProgressStyleModel",
          "model_module_version": "1.5.0",
          "state": {
            "_view_name": "StyleView",
            "_model_name": "ProgressStyleModel",
            "description_width": "",
            "_view_module": "@jupyter-widgets/base",
            "_model_module_version": "1.5.0",
            "_view_count": null,
            "_view_module_version": "1.2.0",
            "bar_color": null,
            "_model_module": "@jupyter-widgets/controls"
          }
        },
        "4e8482e03192462b880dab00f0844383": {
          "model_module": "@jupyter-widgets/base",
          "model_name": "LayoutModel",
          "model_module_version": "1.2.0",
          "state": {
            "_view_name": "LayoutView",
            "grid_template_rows": null,
            "right": null,
            "justify_content": null,
            "_view_module": "@jupyter-widgets/base",
            "overflow": null,
            "_model_module_version": "1.2.0",
            "_view_count": null,
            "flex_flow": null,
            "width": null,
            "min_width": null,
            "border": null,
            "align_items": null,
            "bottom": null,
            "_model_module": "@jupyter-widgets/base",
            "top": null,
            "grid_column": null,
            "overflow_y": null,
            "overflow_x": null,
            "grid_auto_flow": null,
            "grid_area": null,
            "grid_template_columns": null,
            "flex": null,
            "_model_name": "LayoutModel",
            "justify_items": null,
            "grid_row": null,
            "max_height": null,
            "align_content": null,
            "visibility": null,
            "align_self": null,
            "height": null,
            "min_height": null,
            "padding": null,
            "grid_auto_rows": null,
            "grid_gap": null,
            "max_width": null,
            "order": null,
            "_view_module_version": "1.2.0",
            "grid_template_areas": null,
            "object_position": null,
            "object_fit": null,
            "grid_auto_columns": null,
            "margin": null,
            "display": null,
            "left": null
          }
        },
        "8dbe90390c0747cc8bc90c96b6c82fb7": {
          "model_module": "@jupyter-widgets/controls",
          "model_name": "DescriptionStyleModel",
          "model_module_version": "1.5.0",
          "state": {
            "_view_name": "StyleView",
            "_model_name": "DescriptionStyleModel",
            "description_width": "",
            "_view_module": "@jupyter-widgets/base",
            "_model_module_version": "1.5.0",
            "_view_count": null,
            "_view_module_version": "1.2.0",
            "_model_module": "@jupyter-widgets/controls"
          }
        },
        "87c19b3cb71a47bc919600ffb54fdfe2": {
          "model_module": "@jupyter-widgets/base",
          "model_name": "LayoutModel",
          "model_module_version": "1.2.0",
          "state": {
            "_view_name": "LayoutView",
            "grid_template_rows": null,
            "right": null,
            "justify_content": null,
            "_view_module": "@jupyter-widgets/base",
            "overflow": null,
            "_model_module_version": "1.2.0",
            "_view_count": null,
            "flex_flow": null,
            "width": null,
            "min_width": null,
            "border": null,
            "align_items": null,
            "bottom": null,
            "_model_module": "@jupyter-widgets/base",
            "top": null,
            "grid_column": null,
            "overflow_y": null,
            "overflow_x": null,
            "grid_auto_flow": null,
            "grid_area": null,
            "grid_template_columns": null,
            "flex": null,
            "_model_name": "LayoutModel",
            "justify_items": null,
            "grid_row": null,
            "max_height": null,
            "align_content": null,
            "visibility": null,
            "align_self": null,
            "height": null,
            "min_height": null,
            "padding": null,
            "grid_auto_rows": null,
            "grid_gap": null,
            "max_width": null,
            "order": null,
            "_view_module_version": "1.2.0",
            "grid_template_areas": null,
            "object_position": null,
            "object_fit": null,
            "grid_auto_columns": null,
            "margin": null,
            "display": null,
            "left": null
          }
        },
        "dcc2c3e16a2e48a6980201e46ac7a321": {
          "model_module": "@jupyter-widgets/controls",
          "model_name": "HBoxModel",
          "model_module_version": "1.5.0",
          "state": {
            "_view_name": "HBoxView",
            "_dom_classes": [],
            "_model_name": "HBoxModel",
            "_view_module": "@jupyter-widgets/controls",
            "_model_module_version": "1.5.0",
            "_view_count": null,
            "_view_module_version": "1.5.0",
            "box_style": "",
            "layout": "IPY_MODEL_a84d7b8b96284a15a502797d956e9974",
            "_model_module": "@jupyter-widgets/controls",
            "children": [
              "IPY_MODEL_f2ec06c8e0a44fb8aa67bab9656f2787",
              "IPY_MODEL_b642c21624c848b898935f626cab6345",
              "IPY_MODEL_994f1c7141c64e08a2bb01c5463023c6"
            ]
          }
        },
        "a84d7b8b96284a15a502797d956e9974": {
          "model_module": "@jupyter-widgets/base",
          "model_name": "LayoutModel",
          "model_module_version": "1.2.0",
          "state": {
            "_view_name": "LayoutView",
            "grid_template_rows": null,
            "right": null,
            "justify_content": null,
            "_view_module": "@jupyter-widgets/base",
            "overflow": null,
            "_model_module_version": "1.2.0",
            "_view_count": null,
            "flex_flow": null,
            "width": null,
            "min_width": null,
            "border": null,
            "align_items": null,
            "bottom": null,
            "_model_module": "@jupyter-widgets/base",
            "top": null,
            "grid_column": null,
            "overflow_y": null,
            "overflow_x": null,
            "grid_auto_flow": null,
            "grid_area": null,
            "grid_template_columns": null,
            "flex": null,
            "_model_name": "LayoutModel",
            "justify_items": null,
            "grid_row": null,
            "max_height": null,
            "align_content": null,
            "visibility": null,
            "align_self": null,
            "height": null,
            "min_height": null,
            "padding": null,
            "grid_auto_rows": null,
            "grid_gap": null,
            "max_width": null,
            "order": null,
            "_view_module_version": "1.2.0",
            "grid_template_areas": null,
            "object_position": null,
            "object_fit": null,
            "grid_auto_columns": null,
            "margin": null,
            "display": null,
            "left": null
          }
        },
        "f2ec06c8e0a44fb8aa67bab9656f2787": {
          "model_module": "@jupyter-widgets/controls",
          "model_name": "HTMLModel",
          "model_module_version": "1.5.0",
          "state": {
            "_view_name": "HTMLView",
            "style": "IPY_MODEL_7eaf961e47b34360a260158bdd33cddd",
            "_dom_classes": [],
            "description": "",
            "_model_name": "HTMLModel",
            "placeholder": "​",
            "_view_module": "@jupyter-widgets/controls",
            "_model_module_version": "1.5.0",
            "value": "Downloading: 100%",
            "_view_count": null,
            "_view_module_version": "1.5.0",
            "description_tooltip": null,
            "_model_module": "@jupyter-widgets/controls",
            "layout": "IPY_MODEL_d43ac52e9e3c4b30a191655723a9cc42"
          }
        },
        "b642c21624c848b898935f626cab6345": {
          "model_module": "@jupyter-widgets/controls",
          "model_name": "FloatProgressModel",
          "model_module_version": "1.5.0",
          "state": {
            "_view_name": "ProgressView",
            "style": "IPY_MODEL_9e768787df0248ccbf7caff6ddbb50fa",
            "_dom_classes": [],
            "description": "",
            "_model_name": "FloatProgressModel",
            "bar_style": "success",
            "max": 1472566816,
            "_view_module": "@jupyter-widgets/controls",
            "_model_module_version": "1.5.0",
            "value": 1472566816,
            "_view_count": null,
            "_view_module_version": "1.5.0",
            "orientation": "horizontal",
            "min": 0,
            "description_tooltip": null,
            "_model_module": "@jupyter-widgets/controls",
            "layout": "IPY_MODEL_7cfc0b3f709f4477a48713649e197df0"
          }
        },
        "994f1c7141c64e08a2bb01c5463023c6": {
          "model_module": "@jupyter-widgets/controls",
          "model_name": "HTMLModel",
          "model_module_version": "1.5.0",
          "state": {
            "_view_name": "HTMLView",
            "style": "IPY_MODEL_988d2681f39942da8fd252fc4eb046bb",
            "_dom_classes": [],
            "description": "",
            "_model_name": "HTMLModel",
            "placeholder": "​",
            "_view_module": "@jupyter-widgets/controls",
            "_model_module_version": "1.5.0",
            "value": " 1.37G/1.37G [00:25&lt;00:00, 59.2MB/s]",
            "_view_count": null,
            "_view_module_version": "1.5.0",
            "description_tooltip": null,
            "_model_module": "@jupyter-widgets/controls",
            "layout": "IPY_MODEL_d245c872dc5e49188d797493b9c0ceac"
          }
        },
        "7eaf961e47b34360a260158bdd33cddd": {
          "model_module": "@jupyter-widgets/controls",
          "model_name": "DescriptionStyleModel",
          "model_module_version": "1.5.0",
          "state": {
            "_view_name": "StyleView",
            "_model_name": "DescriptionStyleModel",
            "description_width": "",
            "_view_module": "@jupyter-widgets/base",
            "_model_module_version": "1.5.0",
            "_view_count": null,
            "_view_module_version": "1.2.0",
            "_model_module": "@jupyter-widgets/controls"
          }
        },
        "d43ac52e9e3c4b30a191655723a9cc42": {
          "model_module": "@jupyter-widgets/base",
          "model_name": "LayoutModel",
          "model_module_version": "1.2.0",
          "state": {
            "_view_name": "LayoutView",
            "grid_template_rows": null,
            "right": null,
            "justify_content": null,
            "_view_module": "@jupyter-widgets/base",
            "overflow": null,
            "_model_module_version": "1.2.0",
            "_view_count": null,
            "flex_flow": null,
            "width": null,
            "min_width": null,
            "border": null,
            "align_items": null,
            "bottom": null,
            "_model_module": "@jupyter-widgets/base",
            "top": null,
            "grid_column": null,
            "overflow_y": null,
            "overflow_x": null,
            "grid_auto_flow": null,
            "grid_area": null,
            "grid_template_columns": null,
            "flex": null,
            "_model_name": "LayoutModel",
            "justify_items": null,
            "grid_row": null,
            "max_height": null,
            "align_content": null,
            "visibility": null,
            "align_self": null,
            "height": null,
            "min_height": null,
            "padding": null,
            "grid_auto_rows": null,
            "grid_gap": null,
            "max_width": null,
            "order": null,
            "_view_module_version": "1.2.0",
            "grid_template_areas": null,
            "object_position": null,
            "object_fit": null,
            "grid_auto_columns": null,
            "margin": null,
            "display": null,
            "left": null
          }
        },
        "9e768787df0248ccbf7caff6ddbb50fa": {
          "model_module": "@jupyter-widgets/controls",
          "model_name": "ProgressStyleModel",
          "model_module_version": "1.5.0",
          "state": {
            "_view_name": "StyleView",
            "_model_name": "ProgressStyleModel",
            "description_width": "",
            "_view_module": "@jupyter-widgets/base",
            "_model_module_version": "1.5.0",
            "_view_count": null,
            "_view_module_version": "1.2.0",
            "bar_color": null,
            "_model_module": "@jupyter-widgets/controls"
          }
        },
        "7cfc0b3f709f4477a48713649e197df0": {
          "model_module": "@jupyter-widgets/base",
          "model_name": "LayoutModel",
          "model_module_version": "1.2.0",
          "state": {
            "_view_name": "LayoutView",
            "grid_template_rows": null,
            "right": null,
            "justify_content": null,
            "_view_module": "@jupyter-widgets/base",
            "overflow": null,
            "_model_module_version": "1.2.0",
            "_view_count": null,
            "flex_flow": null,
            "width": null,
            "min_width": null,
            "border": null,
            "align_items": null,
            "bottom": null,
            "_model_module": "@jupyter-widgets/base",
            "top": null,
            "grid_column": null,
            "overflow_y": null,
            "overflow_x": null,
            "grid_auto_flow": null,
            "grid_area": null,
            "grid_template_columns": null,
            "flex": null,
            "_model_name": "LayoutModel",
            "justify_items": null,
            "grid_row": null,
            "max_height": null,
            "align_content": null,
            "visibility": null,
            "align_self": null,
            "height": null,
            "min_height": null,
            "padding": null,
            "grid_auto_rows": null,
            "grid_gap": null,
            "max_width": null,
            "order": null,
            "_view_module_version": "1.2.0",
            "grid_template_areas": null,
            "object_position": null,
            "object_fit": null,
            "grid_auto_columns": null,
            "margin": null,
            "display": null,
            "left": null
          }
        },
        "988d2681f39942da8fd252fc4eb046bb": {
          "model_module": "@jupyter-widgets/controls",
          "model_name": "DescriptionStyleModel",
          "model_module_version": "1.5.0",
          "state": {
            "_view_name": "StyleView",
            "_model_name": "DescriptionStyleModel",
            "description_width": "",
            "_view_module": "@jupyter-widgets/base",
            "_model_module_version": "1.5.0",
            "_view_count": null,
            "_view_module_version": "1.2.0",
            "_model_module": "@jupyter-widgets/controls"
          }
        },
        "d245c872dc5e49188d797493b9c0ceac": {
          "model_module": "@jupyter-widgets/base",
          "model_name": "LayoutModel",
          "model_module_version": "1.2.0",
          "state": {
            "_view_name": "LayoutView",
            "grid_template_rows": null,
            "right": null,
            "justify_content": null,
            "_view_module": "@jupyter-widgets/base",
            "overflow": null,
            "_model_module_version": "1.2.0",
            "_view_count": null,
            "flex_flow": null,
            "width": null,
            "min_width": null,
            "border": null,
            "align_items": null,
            "bottom": null,
            "_model_module": "@jupyter-widgets/base",
            "top": null,
            "grid_column": null,
            "overflow_y": null,
            "overflow_x": null,
            "grid_auto_flow": null,
            "grid_area": null,
            "grid_template_columns": null,
            "flex": null,
            "_model_name": "LayoutModel",
            "justify_items": null,
            "grid_row": null,
            "max_height": null,
            "align_content": null,
            "visibility": null,
            "align_self": null,
            "height": null,
            "min_height": null,
            "padding": null,
            "grid_auto_rows": null,
            "grid_gap": null,
            "max_width": null,
            "order": null,
            "_view_module_version": "1.2.0",
            "grid_template_areas": null,
            "object_position": null,
            "object_fit": null,
            "grid_auto_columns": null,
            "margin": null,
            "display": null,
            "left": null
          }
        }
      }
    }
  },
  "cells": [
    {
      "cell_type": "markdown",
      "metadata": {
        "id": "view-in-github",
        "colab_type": "text"
      },
      "source": [
        "<a href=\"https://colab.research.google.com/github/LouisDo2108/MediaEval2021Fakenews/blob/master/FakeNews.ipynb\" target=\"_parent\"><img src=\"https://colab.research.google.com/assets/colab-badge.svg\" alt=\"Open In Colab\"/></a>"
      ]
    },
    {
      "cell_type": "code",
      "metadata": {
        "colab": {
          "base_uri": "https://localhost:8080/"
        },
        "id": "2w4_9bmi1-zM",
        "outputId": "b485d759-6894-4c35-ab52-e43647b63f9a"
      },
      "source": [
        "from google.colab import drive\n",
        "drive.mount('/content/drive')"
      ],
      "execution_count": null,
      "outputs": [
        {
          "output_type": "stream",
          "name": "stdout",
          "text": [
            "Mounted at /content/drive\n"
          ]
        }
      ]
    },
    {
      "cell_type": "code",
      "metadata": {
        "colab": {
          "base_uri": "https://localhost:8080/"
        },
        "id": "JKgOAOdHTf_f",
        "outputId": "566c939a-f623-44e3-a3da-73353fda7d2f"
      },
      "source": [
        "! for for in for; do for=for; done; echo $for"
      ],
      "execution_count": null,
      "outputs": [
        {
          "output_type": "stream",
          "name": "stdout",
          "text": [
            "for\n"
          ]
        }
      ]
    },
    {
      "cell_type": "markdown",
      "metadata": {
        "id": "fQmyBkaBnGyw"
      },
      "source": [
        ""
      ]
    },
    {
      "cell_type": "markdown",
      "metadata": {
        "id": "cNRR8propTzw"
      },
      "source": [
        "# Import libraries "
      ]
    },
    {
      "cell_type": "code",
      "metadata": {
        "id": "WH9RPLL52MiJ",
        "colab": {
          "base_uri": "https://localhost:8080/"
        },
        "outputId": "3c4da621-2e3a-4128-bbb6-ea1f5f87bb8f"
      },
      "source": [
        "!pip install transformers\n",
        "!pip install -q tf-models-official\n",
        "!pip install pyyaml h5py\n",
        "!pip install emoji\n",
        "!pip install bert-for-tf2\n",
        "!pip install emot --upgrade\n",
        "!pip install git+https://github.com/fucaja/ekphrasis.git\n",
        "!pip install keras-rl2"
      ],
      "execution_count": null,
      "outputs": [
        {
          "output_type": "stream",
          "name": "stdout",
          "text": [
            "Collecting transformers\n",
            "  Downloading transformers-4.12.5-py3-none-any.whl (3.1 MB)\n",
            "\u001b[K     |████████████████████████████████| 3.1 MB 5.4 MB/s \n",
            "\u001b[?25hRequirement already satisfied: tqdm>=4.27 in /usr/local/lib/python3.7/dist-packages (from transformers) (4.62.3)\n",
            "Requirement already satisfied: packaging>=20.0 in /usr/local/lib/python3.7/dist-packages (from transformers) (21.3)\n",
            "Collecting sacremoses\n",
            "  Downloading sacremoses-0.0.46-py3-none-any.whl (895 kB)\n",
            "\u001b[K     |████████████████████████████████| 895 kB 27.6 MB/s \n",
            "\u001b[?25hRequirement already satisfied: importlib-metadata in /usr/local/lib/python3.7/dist-packages (from transformers) (4.8.2)\n",
            "Collecting huggingface-hub<1.0,>=0.1.0\n",
            "  Downloading huggingface_hub-0.1.2-py3-none-any.whl (59 kB)\n",
            "\u001b[K     |████████████████████████████████| 59 kB 5.5 MB/s \n",
            "\u001b[?25hRequirement already satisfied: regex!=2019.12.17 in /usr/local/lib/python3.7/dist-packages (from transformers) (2019.12.20)\n",
            "Collecting tokenizers<0.11,>=0.10.1\n",
            "  Downloading tokenizers-0.10.3-cp37-cp37m-manylinux_2_5_x86_64.manylinux1_x86_64.manylinux_2_12_x86_64.manylinux2010_x86_64.whl (3.3 MB)\n",
            "\u001b[K     |████████████████████████████████| 3.3 MB 32.0 MB/s \n",
            "\u001b[?25hRequirement already satisfied: numpy>=1.17 in /usr/local/lib/python3.7/dist-packages (from transformers) (1.19.5)\n",
            "Collecting pyyaml>=5.1\n",
            "  Downloading PyYAML-6.0-cp37-cp37m-manylinux_2_5_x86_64.manylinux1_x86_64.manylinux_2_12_x86_64.manylinux2010_x86_64.whl (596 kB)\n",
            "\u001b[K     |████████████████████████████████| 596 kB 46.5 MB/s \n",
            "\u001b[?25hRequirement already satisfied: requests in /usr/local/lib/python3.7/dist-packages (from transformers) (2.23.0)\n",
            "Requirement already satisfied: filelock in /usr/local/lib/python3.7/dist-packages (from transformers) (3.4.0)\n",
            "Requirement already satisfied: typing-extensions>=3.7.4.3 in /usr/local/lib/python3.7/dist-packages (from huggingface-hub<1.0,>=0.1.0->transformers) (3.10.0.2)\n",
            "Requirement already satisfied: pyparsing!=3.0.5,>=2.0.2 in /usr/local/lib/python3.7/dist-packages (from packaging>=20.0->transformers) (3.0.6)\n",
            "Requirement already satisfied: zipp>=0.5 in /usr/local/lib/python3.7/dist-packages (from importlib-metadata->transformers) (3.6.0)\n",
            "Requirement already satisfied: certifi>=2017.4.17 in /usr/local/lib/python3.7/dist-packages (from requests->transformers) (2021.10.8)\n",
            "Requirement already satisfied: chardet<4,>=3.0.2 in /usr/local/lib/python3.7/dist-packages (from requests->transformers) (3.0.4)\n",
            "Requirement already satisfied: idna<3,>=2.5 in /usr/local/lib/python3.7/dist-packages (from requests->transformers) (2.10)\n",
            "Requirement already satisfied: urllib3!=1.25.0,!=1.25.1,<1.26,>=1.21.1 in /usr/local/lib/python3.7/dist-packages (from requests->transformers) (1.24.3)\n",
            "Requirement already satisfied: joblib in /usr/local/lib/python3.7/dist-packages (from sacremoses->transformers) (1.1.0)\n",
            "Requirement already satisfied: six in /usr/local/lib/python3.7/dist-packages (from sacremoses->transformers) (1.15.0)\n",
            "Requirement already satisfied: click in /usr/local/lib/python3.7/dist-packages (from sacremoses->transformers) (7.1.2)\n",
            "Installing collected packages: pyyaml, tokenizers, sacremoses, huggingface-hub, transformers\n",
            "  Attempting uninstall: pyyaml\n",
            "    Found existing installation: PyYAML 3.13\n",
            "    Uninstalling PyYAML-3.13:\n",
            "      Successfully uninstalled PyYAML-3.13\n",
            "Successfully installed huggingface-hub-0.1.2 pyyaml-6.0 sacremoses-0.0.46 tokenizers-0.10.3 transformers-4.12.5\n",
            "\u001b[K     |████████████████████████████████| 1.8 MB 5.3 MB/s \n",
            "\u001b[K     |████████████████████████████████| 1.1 MB 28.4 MB/s \n",
            "\u001b[K     |████████████████████████████████| 43 kB 1.7 MB/s \n",
            "\u001b[K     |████████████████████████████████| 352 kB 39.2 MB/s \n",
            "\u001b[K     |████████████████████████████████| 47.6 MB 35 kB/s \n",
            "\u001b[K     |████████████████████████████████| 1.2 MB 35.7 MB/s \n",
            "\u001b[K     |████████████████████████████████| 99 kB 8.5 MB/s \n",
            "\u001b[K     |████████████████████████████████| 213 kB 46.1 MB/s \n",
            "\u001b[K     |████████████████████████████████| 4.9 MB 31.5 MB/s \n",
            "\u001b[K     |████████████████████████████████| 90 kB 6.7 MB/s \n",
            "\u001b[?25h  Building wheel for py-cpuinfo (setup.py) ... \u001b[?25l\u001b[?25hdone\n",
            "  Building wheel for seqeval (setup.py) ... \u001b[?25l\u001b[?25hdone\n",
            "Requirement already satisfied: pyyaml in /usr/local/lib/python3.7/dist-packages (6.0)\n",
            "Requirement already satisfied: h5py in /usr/local/lib/python3.7/dist-packages (3.1.0)\n",
            "Requirement already satisfied: cached-property in /usr/local/lib/python3.7/dist-packages (from h5py) (1.5.2)\n",
            "Requirement already satisfied: numpy>=1.14.5 in /usr/local/lib/python3.7/dist-packages (from h5py) (1.19.5)\n",
            "Collecting emoji\n",
            "  Downloading emoji-1.6.1.tar.gz (170 kB)\n",
            "\u001b[K     |████████████████████████████████| 170 kB 5.2 MB/s \n",
            "\u001b[?25hBuilding wheels for collected packages: emoji\n",
            "  Building wheel for emoji (setup.py) ... \u001b[?25l\u001b[?25hdone\n",
            "  Created wheel for emoji: filename=emoji-1.6.1-py3-none-any.whl size=169314 sha256=c716ced0b099777336acfd8356b6d92cf373b6d9389c573d607dd86e33e2f820\n",
            "  Stored in directory: /root/.cache/pip/wheels/ea/5f/d3/03d313ddb3c2a1a427bb4690f1621eea60fe6f2a30cc95940f\n",
            "Successfully built emoji\n",
            "Installing collected packages: emoji\n",
            "Successfully installed emoji-1.6.1\n",
            "Collecting bert-for-tf2\n",
            "  Downloading bert-for-tf2-0.14.9.tar.gz (41 kB)\n",
            "\u001b[K     |████████████████████████████████| 41 kB 148 kB/s \n",
            "\u001b[?25hCollecting py-params>=0.9.6\n",
            "  Downloading py-params-0.10.2.tar.gz (7.4 kB)\n",
            "Collecting params-flow>=0.8.0\n",
            "  Downloading params-flow-0.8.2.tar.gz (22 kB)\n",
            "Requirement already satisfied: numpy in /usr/local/lib/python3.7/dist-packages (from params-flow>=0.8.0->bert-for-tf2) (1.19.5)\n",
            "Requirement already satisfied: tqdm in /usr/local/lib/python3.7/dist-packages (from params-flow>=0.8.0->bert-for-tf2) (4.62.3)\n",
            "Building wheels for collected packages: bert-for-tf2, params-flow, py-params\n",
            "  Building wheel for bert-for-tf2 (setup.py) ... \u001b[?25l\u001b[?25hdone\n",
            "  Created wheel for bert-for-tf2: filename=bert_for_tf2-0.14.9-py3-none-any.whl size=30534 sha256=7d43ae00f43d567494370a8e87a5f7e2778479b79667eef1ed634cc53eea9450\n",
            "  Stored in directory: /root/.cache/pip/wheels/47/b6/e5/8c76ec779f54bc5c2f1b57d2200bb9c77616da83873e8acb53\n",
            "  Building wheel for params-flow (setup.py) ... \u001b[?25l\u001b[?25hdone\n",
            "  Created wheel for params-flow: filename=params_flow-0.8.2-py3-none-any.whl size=19473 sha256=ff0c781b46f75291226461dadfad0db3cfafa527cc2092ba4600008716735206\n",
            "  Stored in directory: /root/.cache/pip/wheels/0e/fc/d2/a44fff33af0f233d7def6e7de413006d57c10e10ad736fe8f5\n",
            "  Building wheel for py-params (setup.py) ... \u001b[?25l\u001b[?25hdone\n",
            "  Created wheel for py-params: filename=py_params-0.10.2-py3-none-any.whl size=7912 sha256=e225d547a508883d78965e8797cb5e695d787c3cc502b33e6781e158236880d7\n",
            "  Stored in directory: /root/.cache/pip/wheels/e1/11/67/33cc51bbee127cb8fb2ba549cd29109b2f22da43ddf9969716\n",
            "Successfully built bert-for-tf2 params-flow py-params\n",
            "Installing collected packages: py-params, params-flow, bert-for-tf2\n",
            "Successfully installed bert-for-tf2-0.14.9 params-flow-0.8.2 py-params-0.10.2\n",
            "Collecting emot\n",
            "  Downloading emot-3.1-py3-none-any.whl (61 kB)\n",
            "\u001b[K     |████████████████████████████████| 61 kB 18 kB/s \n",
            "\u001b[?25hInstalling collected packages: emot\n",
            "Successfully installed emot-3.1\n",
            "Collecting git+https://github.com/fucaja/ekphrasis.git\n",
            "  Cloning https://github.com/fucaja/ekphrasis.git to /tmp/pip-req-build-qx8hy8a7\n",
            "  Running command git clone -q https://github.com/fucaja/ekphrasis.git /tmp/pip-req-build-qx8hy8a7\n",
            "Requirement already satisfied: termcolor in /usr/local/lib/python3.7/dist-packages (from ekphrasis==0.5.1) (1.1.0)\n",
            "Requirement already satisfied: tqdm in /usr/local/lib/python3.7/dist-packages (from ekphrasis==0.5.1) (4.62.3)\n",
            "Requirement already satisfied: colorama in /usr/local/lib/python3.7/dist-packages (from ekphrasis==0.5.1) (0.4.4)\n",
            "Collecting ujson\n",
            "  Downloading ujson-4.2.0-cp37-cp37m-manylinux_2_17_x86_64.manylinux2014_x86_64.whl (214 kB)\n",
            "\u001b[K     |████████████████████████████████| 214 kB 5.4 MB/s \n",
            "\u001b[?25hRequirement already satisfied: matplotlib in /usr/local/lib/python3.7/dist-packages (from ekphrasis==0.5.1) (3.2.2)\n",
            "Requirement already satisfied: nltk in /usr/local/lib/python3.7/dist-packages (from ekphrasis==0.5.1) (3.2.5)\n",
            "Collecting ftfy\n",
            "  Downloading ftfy-6.0.3.tar.gz (64 kB)\n",
            "\u001b[K     |████████████████████████████████| 64 kB 2.4 MB/s \n",
            "\u001b[?25hRequirement already satisfied: numpy in /usr/local/lib/python3.7/dist-packages (from ekphrasis==0.5.1) (1.19.5)\n",
            "Requirement already satisfied: wcwidth in /usr/local/lib/python3.7/dist-packages (from ftfy->ekphrasis==0.5.1) (0.2.5)\n",
            "Requirement already satisfied: kiwisolver>=1.0.1 in /usr/local/lib/python3.7/dist-packages (from matplotlib->ekphrasis==0.5.1) (1.3.2)\n",
            "Requirement already satisfied: pyparsing!=2.0.4,!=2.1.2,!=2.1.6,>=2.0.1 in /usr/local/lib/python3.7/dist-packages (from matplotlib->ekphrasis==0.5.1) (3.0.6)\n",
            "Requirement already satisfied: python-dateutil>=2.1 in /usr/local/lib/python3.7/dist-packages (from matplotlib->ekphrasis==0.5.1) (2.8.2)\n",
            "Requirement already satisfied: cycler>=0.10 in /usr/local/lib/python3.7/dist-packages (from matplotlib->ekphrasis==0.5.1) (0.11.0)\n",
            "Requirement already satisfied: six>=1.5 in /usr/local/lib/python3.7/dist-packages (from python-dateutil>=2.1->matplotlib->ekphrasis==0.5.1) (1.15.0)\n",
            "Building wheels for collected packages: ekphrasis, ftfy\n",
            "  Building wheel for ekphrasis (setup.py) ... \u001b[?25l\u001b[?25hdone\n",
            "  Created wheel for ekphrasis: filename=ekphrasis-0.5.1-py3-none-any.whl size=614881 sha256=25af37b6d46e9b07c11b71269db5c7d9c92eb44033e2df4ed01901726aa8d101\n",
            "  Stored in directory: /tmp/pip-ephem-wheel-cache-likeqm66/wheels/ba/6d/16/386c2ee4778a28420fcfea1a1aadf7bac121198ace6cc5d354\n",
            "  Building wheel for ftfy (setup.py) ... \u001b[?25l\u001b[?25hdone\n",
            "  Created wheel for ftfy: filename=ftfy-6.0.3-py3-none-any.whl size=41933 sha256=17cd6c0e2f635b4415d2cf9d49e13e7d090411563e54cb03acff9c6c5a14d758\n",
            "  Stored in directory: /root/.cache/pip/wheels/19/f5/38/273eb3b5e76dfd850619312f693716ac4518b498f5ffb6f56d\n",
            "Successfully built ekphrasis ftfy\n",
            "Installing collected packages: ujson, ftfy, ekphrasis\n",
            "Successfully installed ekphrasis-0.5.1 ftfy-6.0.3 ujson-4.2.0\n",
            "Collecting keras-rl2\n",
            "  Downloading keras_rl2-1.0.5-py3-none-any.whl (52 kB)\n",
            "\u001b[K     |████████████████████████████████| 52 kB 636 kB/s \n",
            "\u001b[?25hRequirement already satisfied: tensorflow in /usr/local/lib/python3.7/dist-packages (from keras-rl2) (2.7.0)\n",
            "Requirement already satisfied: h5py>=2.9.0 in /usr/local/lib/python3.7/dist-packages (from tensorflow->keras-rl2) (3.1.0)\n",
            "Requirement already satisfied: tensorflow-io-gcs-filesystem>=0.21.0 in /usr/local/lib/python3.7/dist-packages (from tensorflow->keras-rl2) (0.22.0)\n",
            "Requirement already satisfied: numpy>=1.14.5 in /usr/local/lib/python3.7/dist-packages (from tensorflow->keras-rl2) (1.19.5)\n",
            "Requirement already satisfied: six>=1.12.0 in /usr/local/lib/python3.7/dist-packages (from tensorflow->keras-rl2) (1.15.0)\n",
            "Requirement already satisfied: absl-py>=0.4.0 in /usr/local/lib/python3.7/dist-packages (from tensorflow->keras-rl2) (0.12.0)\n",
            "Requirement already satisfied: opt-einsum>=2.3.2 in /usr/local/lib/python3.7/dist-packages (from tensorflow->keras-rl2) (3.3.0)\n",
            "Requirement already satisfied: libclang>=9.0.1 in /usr/local/lib/python3.7/dist-packages (from tensorflow->keras-rl2) (12.0.0)\n",
            "Requirement already satisfied: protobuf>=3.9.2 in /usr/local/lib/python3.7/dist-packages (from tensorflow->keras-rl2) (3.17.3)\n",
            "Requirement already satisfied: astunparse>=1.6.0 in /usr/local/lib/python3.7/dist-packages (from tensorflow->keras-rl2) (1.6.3)\n",
            "Requirement already satisfied: google-pasta>=0.1.1 in /usr/local/lib/python3.7/dist-packages (from tensorflow->keras-rl2) (0.2.0)\n",
            "Requirement already satisfied: typing-extensions>=3.6.6 in /usr/local/lib/python3.7/dist-packages (from tensorflow->keras-rl2) (3.10.0.2)\n",
            "Requirement already satisfied: tensorboard~=2.6 in /usr/local/lib/python3.7/dist-packages (from tensorflow->keras-rl2) (2.7.0)\n",
            "Requirement already satisfied: keras-preprocessing>=1.1.1 in /usr/local/lib/python3.7/dist-packages (from tensorflow->keras-rl2) (1.1.2)\n",
            "Requirement already satisfied: gast<0.5.0,>=0.2.1 in /usr/local/lib/python3.7/dist-packages (from tensorflow->keras-rl2) (0.4.0)\n",
            "Requirement already satisfied: grpcio<2.0,>=1.24.3 in /usr/local/lib/python3.7/dist-packages (from tensorflow->keras-rl2) (1.42.0)\n",
            "Requirement already satisfied: wrapt>=1.11.0 in /usr/local/lib/python3.7/dist-packages (from tensorflow->keras-rl2) (1.13.3)\n",
            "Requirement already satisfied: termcolor>=1.1.0 in /usr/local/lib/python3.7/dist-packages (from tensorflow->keras-rl2) (1.1.0)\n",
            "Requirement already satisfied: wheel<1.0,>=0.32.0 in /usr/local/lib/python3.7/dist-packages (from tensorflow->keras-rl2) (0.37.0)\n",
            "Requirement already satisfied: tensorflow-estimator<2.8,~=2.7.0rc0 in /usr/local/lib/python3.7/dist-packages (from tensorflow->keras-rl2) (2.7.0)\n",
            "Requirement already satisfied: flatbuffers<3.0,>=1.12 in /usr/local/lib/python3.7/dist-packages (from tensorflow->keras-rl2) (2.0)\n",
            "Requirement already satisfied: keras<2.8,>=2.7.0rc0 in /usr/local/lib/python3.7/dist-packages (from tensorflow->keras-rl2) (2.7.0)\n",
            "Requirement already satisfied: cached-property in /usr/local/lib/python3.7/dist-packages (from h5py>=2.9.0->tensorflow->keras-rl2) (1.5.2)\n",
            "Requirement already satisfied: google-auth<3,>=1.6.3 in /usr/local/lib/python3.7/dist-packages (from tensorboard~=2.6->tensorflow->keras-rl2) (1.35.0)\n",
            "Requirement already satisfied: setuptools>=41.0.0 in /usr/local/lib/python3.7/dist-packages (from tensorboard~=2.6->tensorflow->keras-rl2) (57.4.0)\n",
            "Requirement already satisfied: werkzeug>=0.11.15 in /usr/local/lib/python3.7/dist-packages (from tensorboard~=2.6->tensorflow->keras-rl2) (1.0.1)\n",
            "Requirement already satisfied: tensorboard-data-server<0.7.0,>=0.6.0 in /usr/local/lib/python3.7/dist-packages (from tensorboard~=2.6->tensorflow->keras-rl2) (0.6.1)\n",
            "Requirement already satisfied: markdown>=2.6.8 in /usr/local/lib/python3.7/dist-packages (from tensorboard~=2.6->tensorflow->keras-rl2) (3.3.6)\n",
            "Requirement already satisfied: requests<3,>=2.21.0 in /usr/local/lib/python3.7/dist-packages (from tensorboard~=2.6->tensorflow->keras-rl2) (2.23.0)\n",
            "Requirement already satisfied: google-auth-oauthlib<0.5,>=0.4.1 in /usr/local/lib/python3.7/dist-packages (from tensorboard~=2.6->tensorflow->keras-rl2) (0.4.6)\n",
            "Requirement already satisfied: tensorboard-plugin-wit>=1.6.0 in /usr/local/lib/python3.7/dist-packages (from tensorboard~=2.6->tensorflow->keras-rl2) (1.8.0)\n",
            "Requirement already satisfied: cachetools<5.0,>=2.0.0 in /usr/local/lib/python3.7/dist-packages (from google-auth<3,>=1.6.3->tensorboard~=2.6->tensorflow->keras-rl2) (4.2.4)\n",
            "Requirement already satisfied: pyasn1-modules>=0.2.1 in /usr/local/lib/python3.7/dist-packages (from google-auth<3,>=1.6.3->tensorboard~=2.6->tensorflow->keras-rl2) (0.2.8)\n",
            "Requirement already satisfied: rsa<5,>=3.1.4 in /usr/local/lib/python3.7/dist-packages (from google-auth<3,>=1.6.3->tensorboard~=2.6->tensorflow->keras-rl2) (4.7.2)\n",
            "Requirement already satisfied: requests-oauthlib>=0.7.0 in /usr/local/lib/python3.7/dist-packages (from google-auth-oauthlib<0.5,>=0.4.1->tensorboard~=2.6->tensorflow->keras-rl2) (1.3.0)\n",
            "Requirement already satisfied: importlib-metadata>=4.4 in /usr/local/lib/python3.7/dist-packages (from markdown>=2.6.8->tensorboard~=2.6->tensorflow->keras-rl2) (4.8.2)\n",
            "Requirement already satisfied: zipp>=0.5 in /usr/local/lib/python3.7/dist-packages (from importlib-metadata>=4.4->markdown>=2.6.8->tensorboard~=2.6->tensorflow->keras-rl2) (3.6.0)\n",
            "Requirement already satisfied: pyasn1<0.5.0,>=0.4.6 in /usr/local/lib/python3.7/dist-packages (from pyasn1-modules>=0.2.1->google-auth<3,>=1.6.3->tensorboard~=2.6->tensorflow->keras-rl2) (0.4.8)\n",
            "Requirement already satisfied: chardet<4,>=3.0.2 in /usr/local/lib/python3.7/dist-packages (from requests<3,>=2.21.0->tensorboard~=2.6->tensorflow->keras-rl2) (3.0.4)\n",
            "Requirement already satisfied: certifi>=2017.4.17 in /usr/local/lib/python3.7/dist-packages (from requests<3,>=2.21.0->tensorboard~=2.6->tensorflow->keras-rl2) (2021.10.8)\n",
            "Requirement already satisfied: idna<3,>=2.5 in /usr/local/lib/python3.7/dist-packages (from requests<3,>=2.21.0->tensorboard~=2.6->tensorflow->keras-rl2) (2.10)\n",
            "Requirement already satisfied: urllib3!=1.25.0,!=1.25.1,<1.26,>=1.21.1 in /usr/local/lib/python3.7/dist-packages (from requests<3,>=2.21.0->tensorboard~=2.6->tensorflow->keras-rl2) (1.24.3)\n",
            "Requirement already satisfied: oauthlib>=3.0.0 in /usr/local/lib/python3.7/dist-packages (from requests-oauthlib>=0.7.0->google-auth-oauthlib<0.5,>=0.4.1->tensorboard~=2.6->tensorflow->keras-rl2) (3.1.1)\n",
            "Installing collected packages: keras-rl2\n",
            "Successfully installed keras-rl2-1.0.5\n"
          ]
        }
      ]
    },
    {
      "cell_type": "code",
      "metadata": {
        "id": "i5kn79ME1_Ys"
      },
      "source": [
        "import pandas as pd\n",
        "import numpy as np\n",
        "import re\n",
        "from sklearn.metrics import confusion_matrix, matthews_corrcoef, f1_score\n",
        "from sklearn.model_selection import train_test_split\n",
        "import matplotlib.pyplot as plt\n",
        "\n",
        "\n",
        "import tensorflow as tf\n",
        "import tensorflow_hub as hub\n",
        "from tensorflow.keras import layers\n",
        "from tensorflow.keras import regularizers\n",
        "from tensorflow.keras.callbacks import ModelCheckpoint\n",
        "from tensorflow.keras.utils import to_categorical\n",
        "import tensorflow_addons as tfa\n",
        "\n",
        "import torch\n",
        "\n",
        "from official.nlp import optimization\n",
        "from bert import bert_tokenization\n",
        "from transformers import BertModel, BertTokenizer, BertConfig, TFAutoModelForSequenceClassification, AutoModel, AutoTokenizer"
      ],
      "execution_count": null,
      "outputs": []
    },
    {
      "cell_type": "code",
      "metadata": {
        "id": "uaWSMjSK-beO",
        "colab": {
          "base_uri": "https://localhost:8080/"
        },
        "outputId": "2d6f0f72-95ae-494d-868f-f425b1424e35"
      },
      "source": [
        "import nltk\n",
        "from nltk import word_tokenize, sent_tokenize, FreqDist\n",
        "from nltk.corpus import stopwords\n",
        "from nltk.stem import LancasterStemmer, WordNetLemmatizer\n",
        "from nltk.tokenize import TweetTokenizer\n",
        "from emoji import demojize\n",
        "from emot.emo_unicode import UNICODE_EMOJI, EMOTICONS_EMO \n",
        "from ekphrasis.classes.segmenter import Segmenter\n",
        "from ekphrasis.classes.preprocessor import TextPreProcessor\n",
        "from ekphrasis.classes.tokenizer import SocialTokenizer\n",
        "import wordcloud\n",
        "\n",
        "nltk.download\n",
        "nltk.download('wordnet')\n",
        "nltk.download('stopwords')"
      ],
      "execution_count": null,
      "outputs": [
        {
          "output_type": "stream",
          "name": "stdout",
          "text": [
            "[nltk_data] Downloading package wordnet to /root/nltk_data...\n",
            "[nltk_data]   Unzipping corpora/wordnet.zip.\n",
            "[nltk_data] Downloading package stopwords to /root/nltk_data...\n",
            "[nltk_data]   Unzipping corpora/stopwords.zip.\n"
          ]
        },
        {
          "output_type": "execute_result",
          "data": {
            "text/plain": [
              "True"
            ]
          },
          "metadata": {},
          "execution_count": 4
        }
      ]
    },
    {
      "cell_type": "markdown",
      "metadata": {
        "id": "pdCxwjCuolb_"
      },
      "source": [
        "# Define data custom class"
      ]
    },
    {
      "cell_type": "code",
      "metadata": {
        "id": "6qqeGiWn7NkM",
        "cellView": "form"
      },
      "source": [
        "#@title\n",
        "contractions = { \n",
        "\"ain't\": \"am not / are not / is not / has not / have not\",\n",
        "\"aren't\": \"are not / am not\",\n",
        "\"can't\": \"cannot\",\n",
        "\"can't've\": \"cannot have\",\n",
        "\"'cause\": \"because\",\n",
        "\"could've\": \"could have\",\n",
        "\"couldn't\": \"could not\",\n",
        "\"couldn't've\": \"could not have\",\n",
        "\"didn't\": \"did not\",\n",
        "\"doesn't\": \"does not\",\n",
        "\"don't\": \"do not\",\n",
        "\"hadn't\": \"had not\",\n",
        "\"hadn't've\": \"had not have\",\n",
        "\"hasn't\": \"has not\",\n",
        "\"haven't\": \"have not\",\n",
        "\"he'd\": \"he had / he would\",\n",
        "\"he'd've\": \"he would have\",\n",
        "\"he'll\": \"he shall / he will\",\n",
        "\"he'll've\": \"he shall have / he will have\",\n",
        "\"he's\": \"he has / he is\",\n",
        "\"how'd\": \"how did\",\n",
        "\"how'd'y\": \"how do you\",\n",
        "\"how'll\": \"how will\",\n",
        "\"how's\": \"how has / how is / how does\",\n",
        "\"i'd\": \"I had / I would\",\n",
        "\"i'd've\": \"I would have\",\n",
        "\"i'll\": \"I shall / I will\",\n",
        "\"i'll've\": \"I shall have / I will have\",\n",
        "\"i'm\": \"I am\",\n",
        "\"i've\": \"I have\",\n",
        "\"isn't\": \"is not\",\n",
        "\"it'd\": \"it had / it would\",\n",
        "\"it'd've\": \"it would have\",\n",
        "\"it'll\": \"it shall / it will\",\n",
        "\"it'll've\": \"it shall have / it will have\",\n",
        "\"it's\": \"it has / it is\",\n",
        "\"let's\": \"let us\",\n",
        "\"ma'am\": \"madam\",\n",
        "\"mayn't\": \"may not\",\n",
        "\"might've\": \"might have\",\n",
        "\"mightn't\": \"might not\",\n",
        "\"mightn't've\": \"might not have\",\n",
        "\"must've\": \"must have\",\n",
        "\"mustn't\": \"must not\",\n",
        "\"mustn't've\": \"must not have\",\n",
        "\"needn't\": \"need not\",\n",
        "\"needn't've\": \"need not have\",\n",
        "\"o'clock\": \"of the clock\",\n",
        "\"oughtn't\": \"ought not\",\n",
        "\"oughtn't've\": \"ought not have\",\n",
        "\"shan't\": \"shall not\",\n",
        "\"sha'n't\": \"shall not\",\n",
        "\"shan't've\": \"shall not have\",\n",
        "\"she'd\": \"she had / she would\",\n",
        "\"she'd've\": \"she would have\",\n",
        "\"she'll\": \"she shall / she will\",\n",
        "\"she'll've\": \"she shall have / she will have\",\n",
        "\"she's\": \"she has / she is\",\n",
        "\"should've\": \"should have\",\n",
        "\"shouldn't\": \"should not\",\n",
        "\"shouldn't've\": \"should not have\",\n",
        "\"so've\": \"so have\",\n",
        "\"so's\": \"so as / so is\",\n",
        "\"that'd\": \"that would / that had\",\n",
        "\"that'd've\": \"that would have\",\n",
        "\"that's\": \"that has / that is\",\n",
        "\"there'd\": \"there had / there would\",\n",
        "\"there'd've\": \"there would have\",\n",
        "\"there's\": \"there has / there is\",\n",
        "\"they'd\": \"they had / they would\",\n",
        "\"they'd've\": \"they would have\",\n",
        "\"they'll\": \"they shall / they will\",\n",
        "\"they'll've\": \"they shall have / they will have\",\n",
        "\"they're\": \"they are\",\n",
        "\"they've\": \"they have\",\n",
        "\"to've\": \"to have\",\n",
        "\"wasn't\": \"was not\",\n",
        "\"we'd\": \"we had / we would\",\n",
        "\"we'd've\": \"we would have\",\n",
        "\"we'll\": \"we will\",\n",
        "\"we'll've\": \"we will have\",\n",
        "\"we're\": \"we are\",\n",
        "\"we've\": \"we have\",\n",
        "\"weren't\": \"were not\",\n",
        "\"what'll\": \"what shall / what will\",\n",
        "\"what'll've\": \"what shall have / what will have\",\n",
        "\"what're\": \"what are\",\n",
        "\"what's\": \"what has / what is\",\n",
        "\"what've\": \"what have\",\n",
        "\"when's\": \"when has / when is\",\n",
        "\"when've\": \"when have\",\n",
        "\"where'd\": \"where did\",\n",
        "\"where's\": \"where has / where is\",\n",
        "\"where've\": \"where have\",\n",
        "\"who'll\": \"who shall / who will\",\n",
        "\"who'll've\": \"who shall have / who will have\",\n",
        "\"who's\": \"who has / who is\",\n",
        "\"who've\": \"who have\",\n",
        "\"why's\": \"why has / why is\",\n",
        "\"why've\": \"why have\",\n",
        "\"will've\": \"will have\",\n",
        "\"won't\": \"will not\",\n",
        "\"won't've\": \"will not have\",\n",
        "\"would've\": \"would have\",\n",
        "\"wouldn't\": \"would not\",\n",
        "\"wouldn't've\": \"would not have\",\n",
        "\"y'all\": \"you all\",\n",
        "\"y'all'd\": \"you all would\",\n",
        "\"y'all'd've\": \"you all would have\",\n",
        "\"y'all're\": \"you all are\",\n",
        "\"y'all've\": \"you all have\",\n",
        "\"you'd\": \"you had / you would\",\n",
        "\"you'd've\": \"you would have\",\n",
        "\"you'll\": \"you shall / you will\",\n",
        "\"you'll've\": \"you shall have / you will have\",\n",
        "\"you're\": \"you are\",\n",
        "\"you've\": \"you have\"\n",
        "}"
      ],
      "execution_count": null,
      "outputs": []
    },
    {
      "cell_type": "code",
      "metadata": {
        "id": "L2t54HE79jaw",
        "colab": {
          "base_uri": "https://localhost:8080/"
        },
        "outputId": "b64dbb07-5439-4cbb-8b47-38eaa4e49b73"
      },
      "source": [
        "#@title\n",
        "text_processor = TextPreProcessor(\n",
        "    # terms that will be normalized\n",
        "    normalize=['url', 'email', 'percent', 'money', 'phone', 'user',\n",
        "        'time', 'url', 'date', 'number'],\n",
        "    # terms that will be annotated\n",
        "    annotate={\"hashtag\", \"allcaps\", \"elongated\", \"repeated\",\n",
        "        'emphasis', 'censored'},\n",
        "    fix_html=True,  # fix HTML tokens\n",
        "    \n",
        "    # corpus from which the word statistics are going to be used \n",
        "    # for word segmentation \n",
        "    segmenter=\"twitter\", \n",
        "    \n",
        "    # corpus from which the word statistics are going to be used \n",
        "    # for spell correction\n",
        "    corrector=\"twitter\", \n",
        "    \n",
        "    unpack_hashtags=True,  # perform word segmentation on hashtags <hashtag>\n",
        "    unpack_contractions=True,  # Unpack contractions (can't -> can not) <number>\n",
        "    spell_correct_elong=True,  # spell correction for elongated words <Repeated>\n",
        "    \n",
        "    # select a tokenizer. You can use SocialTokenizer, or pass your own\n",
        "    # the tokenizer, should take as input a string and return a list of tokens\n",
        "    tokenizer=SocialTokenizer(lowercase=True).tokenize,\n",
        "    \n",
        "    # list of dictionaries, for replacing tokens extracted from the text,\n",
        "    # with other expressions. You can pass more than one dictionaries.\n",
        ")"
      ],
      "execution_count": null,
      "outputs": [
        {
          "output_type": "stream",
          "name": "stderr",
          "text": [
            "/usr/local/lib/python3.7/dist-packages/ekphrasis/classes/tokenizer.py:225: FutureWarning: Possible nested set at position 2190\n",
            "  self.tok = re.compile(r\"({})\".format(\"|\".join(pipeline)))\n"
          ]
        },
        {
          "output_type": "stream",
          "name": "stdout",
          "text": [
            "Word statistics files not found!\n",
            "Downloading... done!\n",
            "Unpacking... done!\n",
            "Reading twitter - 1grams ...\n",
            "Reading twitter - 2grams ...\n",
            "Reading twitter - 1grams ...\n"
          ]
        },
        {
          "output_type": "stream",
          "name": "stderr",
          "text": [
            "/usr/local/lib/python3.7/dist-packages/ekphrasis/classes/exmanager.py:14: FutureWarning: Possible nested set at position 42\n",
            "  regexes = {k.lower(): re.compile(self.expressions[k]) for k, v in\n"
          ]
        }
      ]
    },
    {
      "cell_type": "code",
      "metadata": {
        "id": "eVtamcPq942d"
      },
      "source": [
        "#@title\n",
        "import string\n",
        "class dataset():\n",
        "    \n",
        "    def __init__(self, data_path):\n",
        "        # self.df = pd.read_csv(data_path, encoding='utf-8', sep='\\t', names=['index', 'label', 'text'])\n",
        "        self.df = pd.read_csv(data_path, encoding='utf-8')#, names=['index', 'label', 'text'])\n",
        "        self.data = None\n",
        "        \n",
        "    def __len__(self):\n",
        "        return self.df.size\n",
        "    \n",
        "    def __str__(self):\n",
        "        return print(self.df)\n",
        "\n",
        "    def __getitem__(self, indices):\n",
        "        return str(self.df.text[indices])\n",
        "\n",
        "    def extract_metadata(self):\n",
        "      \n",
        "      # word_count\n",
        "      self.df['word_count'] = self.df['text'].apply(lambda x: len(str(x).split()))\n",
        "\n",
        "      # unique_word_count\n",
        "      self.df['unique_word_count'] = self.df['text'].apply(lambda x: len(set(str(x).split())))\n",
        "\n",
        "      # stop_word_count\n",
        "      self.df['stop_word_count'] = self.df['text'].apply(lambda x: len([w for w in str(x).lower().split() if w in STOPWORDS]))\n",
        "\n",
        "      # url_count\n",
        "      self.df['url_count'] = self.df['text'].apply(lambda x: len([w for w in str(x).lower().split() if 'http' in w or 'https' in w]))\n",
        "\n",
        "      # mean_word_length\n",
        "      self.df['mean_word_length'] = self.df['text'].apply(lambda x: np.mean([len(w) for w in str(x).split()]))\n",
        "\n",
        "      # char_count\n",
        "      self.df['char_count'] = self.df['text'].apply(lambda x: len(str(x)))\n",
        "\n",
        "      # punctuation_count\n",
        "      self.df['punctuation_count'] = self.df['text'].apply(lambda x: len([c for c in str(x) if c in string.punctuation]))\n",
        "\n",
        "      # hashtag_count\n",
        "      self.df['hashtag_count'] = self.df['text'].apply(lambda x: len([c for c in str(x) if c == '#']))\n",
        "\n",
        "      # mention_count\n",
        "      self.df['mention_count'] = self.df['text'].apply(lambda x: len([c for c in str(x) if c == '@']))\n",
        "\n",
        "      # extract meta features\n",
        "      # self.df['hashtag'] = self.df['text'].apply(lambda x: re.findall(r\"#(\\w+)\", x))\n",
        "      # self.df['mention'] = self.df['text'].apply(lambda x: re.findall(r\"@mention'\", x))\n",
        "      return\n",
        "\n",
        "    def preprocessing(self):\n",
        "\n",
        "        # Add labels row and drop index column\n",
        "        self.df.dropna(inplace = True)\n",
        "        # self.df.drop('index', axis=1, inplace=True)\n",
        "        # self.df.text = self.df.text.astype(str)\n",
        "\n",
        "        # convert categorical labels to numerical labels\n",
        "        self.df.label = pd.Categorical(self.df.label)\n",
        "        self.df['label'] = self.df.label.cat.codes\n",
        "\n",
        "        self.df.loc[:, 'text'] =self.df.text.apply(lambda x: x.lower()) #lower case\n",
        "        self.df.loc[:, 'text'] =self.df.text.str.replace('’', '\\'')\n",
        "        self.df.drop_duplicates(subset=None, keep=\"first\", inplace=True)\n",
        "\n",
        "        # expand contractions\n",
        "        def expand_contractions(text):\n",
        "          text = ' '.join([contractions.get(i, i) for i in text.split()])\n",
        "          return text\n",
        "        self.df.loc[:, 'text'] = self.df.text.apply(lambda x: expand_contractions(x))\n",
        "        self.df.loc[:, 'text'] =self.df.text.str.replace('#', '')\n",
        "        table = str.maketrans('', '', string.punctuation)\n",
        "        regex = re.compile('[%s]' % re.escape(string.punctuation))\n",
        "        self.df.loc[:, 'text'] =self.df.text.apply(lambda x: regex.sub('', x))\n",
        "\n",
        "        self.df.loc[:, 'text'] =self.df.text.str.replace(\"\\xc2\\xa0\", '') #remove bad space\n",
        "        # self.df.loc[:, 'text'] =self.df.text.apply(lambda x:re.sub(r'[^\\w\\s]',' ',str(x), re.UNICODE)) #remove punctuation\n",
        "\n",
        "        #  Expand slang, abbr:\n",
        "        self.df.loc[:, 'text'] =self.df.text.str.replace(r'\\s4\\s', ' for ')\n",
        "        self.df.loc[:, 'text'] =self.df.text.str.replace(r\"\\s2\\s\", ' to ')\n",
        "        self.df.loc[:, 'text'] =self.df.text.str.replace(r'[a-zA-Z]2[a-zA-Z]', ' to ')\n",
        "        self.df.loc[:, 'text'] =self.df.text.str.replace(r'\\sw\\/\\s', ' with ')\n",
        "        self.df.loc[:, 'text'] =self.df.text.str.replace(r'\\sb\\/c\\s', ' because ')\n",
        "        self.df.loc[:, 'text'] =self.df.text.str.replace(r'\\sb4\\s', ' before ')\n",
        "        self.df.loc[:, 'text'] =self.df.text.str.replace(r'\\scre8\\s', ' create ')\n",
        "        self.df.loc[:, 'text'] =self.df.text.str.replace(r'\\sda\\s', ' the ')\n",
        "        self.df.loc[:, 'text'] =self.df.text.str.replace(r'\\sya\\s', ' you ')\n",
        "        self.df.loc[:, 'text'] =self.df.text.str.replace(r'\\slol\\s', ' laughing out loud ')\n",
        "        self.df.loc[:, 'text'] =self.df.text.str.replace(r'lol\\s', ' laughing out loud ')\n",
        "        self.df.loc[:, 'text'] =self.df.text.str.replace(r'\\slol', ' laughing out loud ')\n",
        "        self.df.loc[:, 'text'] =self.df.text.str.replace(r'\\sf2f\\s', ' face to face ')\n",
        "        self.df.loc[:, 'text'] =self.df.text.str.replace(r'\\sfomo\\s', ' fear of missing out ')\n",
        "        self.df.loc[:, 'text'] =self.df.text.str.replace(r'\\sftw\\s', ' for the win ')\n",
        "        self.df.loc[:, 'text'] =self.df.text.str.replace(r'\\slol\\s', ' laughing out loud ')\n",
        "        self.df.loc[:, 'text'] =self.df.text.str.replace(r'\\slmao\\s', ' laughing my ass out ')\n",
        "        self.df.loc[:, 'text'] =self.df.text.str.replace(r'\\sic\\s', ' i see ')\n",
        "        self.df.loc[:, 'text'] =self.df.text.str.replace(r'\\skk\\s', ' okay ')\n",
        "        self.df.loc[:, 'text'] =self.df.text.str.replace(r'\\sprt\\s', ' please retweet ')\n",
        "        self.df.loc[:, 'text'] =self.df.text.str.replace(r'\\ssp\\s', ' sponsored ')\n",
        "        self.df.loc[:, 'text'] =self.df.text.str.replace(r'\\stbh\\s', ' to be honest ')\n",
        "        self.df.loc[:, 'text'] =self.df.text.str.replace(r'\\sb\\s', ' be ')\n",
        "        self.df.loc[:, 'text'] =self.df.text.str.replace(r'\\sr\\s', ' are ')\n",
        "        self.df.loc[:, 'text'] =self.df.text.str.replace(r'\\sc\\s', ' see ')\n",
        "        self.df.loc[:, 'text'] =self.df.text.str.replace(r'\\bu\\b', ' you ')\n",
        "        self.df.loc[:, 'text'] =self.df.text.str.replace(r'\\bu\\b', ' you ')\n",
        "        self.df.loc[:, 'text'] =self.df.text.str.replace(r'\\by\\b', ' why ')\n",
        "        self.df.loc[:, 'text'] =self.df.text.str.replace(r'\\bq\\b', ' qanon ')\n",
        "        self.df.loc[:, 'text'] =self.df.text.str.replace(r'\\bq\\b', ' qanon ')\n",
        "        self.df.loc[:, 'text'] =self.df.text.str.replace(r'\\sppl\\s*', ' people ')\n",
        "        self.df.loc[:, 'text'] =self.df.text.str.replace(r'\\sbjp\\s', ' bharatiya janata party ')\n",
        "        self.df.loc[:, 'text'] =self.df.text.str.replace(r'\\sblm\\s', ' black lives matter ')\n",
        "        self.df.loc[:, 'text'] =self.df.text.str.replace(r'\\scld\\s', ' could ')\n",
        "        self.df.loc[:, 'text'] =self.df.text.str.replace(r'\\schk\\s', ' check ')\n",
        "        self.df.loc[:, 'text'] =self.df.text.str.replace(r'\\sbtw\\s', ' by the way ')\n",
        "        self.df.loc[:, 'text'] =self.df.text.str.replace(r'\\sbrb\\s', ' be right back ')\n",
        "        self.df.loc[:, 'text'] =self.df.text.str.replace(r'\\swtv\\s', ' whatever ')\n",
        "\n",
        "        # extract url domain\n",
        "        def domain_name(url):\n",
        "          exurl = url.split(\"//\")[-1].split(\"/\")[0].split('?')[0]\n",
        "          if exurl != None:\n",
        "            return exurl\n",
        "          return url\n",
        "\n",
        "        def replace_url_placeholder(index):\n",
        "          links = self.df.url[index]\n",
        "\n",
        "          if(len(links) <= 0):\n",
        "            return self.df.text[index]\n",
        "        \n",
        "          sentence = self.df.text[index]\n",
        "          for i in range(len(links)):\n",
        "            sentence = re.sub(r\"_url\", str(links[i]), str(sentence), count = 1)\n",
        "          return sentence\n",
        "\n",
        "        self.df['url'] = self.df['text'].apply(lambda x: re.findall(r\"\\b((?:https?://)?(?:(?:www\\.)?(?:[\\da-z\\.-]+)\\.(?:[a-z]{2,6})|(?:(?:25[0-5]|2[0-4][0-9]|[01]?[0-9][0-9]?)\\.){3}(?:25[0-5]|2[0-4][0-9]|[01]?[0-9][0-9]?)|(?:(?:[0-9a-fA-F]{1,4}:){7,7}[0-9a-fA-F]{1,4}|(?:[0-9a-fA-F]{1,4}:){1,7}:|(?:[0-9a-fA-F]{1,4}:){1,6}:[0-9a-fA-F]{1,4}|(?:[0-9a-fA-F]{1,4}:){1,5}(?::[0-9a-fA-F]{1,4}){1,2}|(?:[0-9a-fA-F]{1,4}:){1,4}(?::[0-9a-fA-F]{1,4}){1,3}|(?:[0-9a-fA-F]{1,4}:){1,3}(?::[0-9a-fA-F]{1,4}){1,4}|(?:[0-9a-fA-F]{1,4}:){1,2}(?::[0-9a-fA-F]{1,4}){1,5}|[0-9a-fA-F]{1,4}:(?:(?::[0-9a-fA-F]{1,4}){1,6})|:(?:(?::[0-9a-fA-F]{1,4}){1,7}|:)|fe80:(?::[0-9a-fA-F]{0,4}){0,4}%[0-9a-zA-Z]{1,}|::(?:ffff(?::0{1,4}){0,1}:){0,1}(?:(?:25[0-5]|(?:2[0-4]|1{0,1}[0-9]){0,1}[0-9])\\.){3,3}(?:25[0-5]|(?:2[0-4]|1{0,1}[0-9]){0,1}[0-9])|(?:[0-9a-fA-F]{1,4}:){1,4}:(?:(?:25[0-5]|(?:2[0-4]|1{0,1}[0-9]){0,1}[0-9])\\.){3,3}(?:25[0-5]|(?:2[0-4]|1{0,1}[0-9]){0,1}[0-9])))(?::[0-9]{1,4}|[1-5][0-9]{4}|6[0-4][0-9]{3}|65[0-4][0-9]{2}|655[0-2][0-9]|6553[0-5])?(?:/[\\w\\.-]*)*/?)\\b\", str(x)))\n",
        "        self.df['text'] = self.df['text'].apply(lambda x: re.sub(r\"\\b((?:https?://)?(?:(?:www\\.)?(?:[\\da-z\\.-]+)\\.(?:[a-z]{2,6})|(?:(?:25[0-5]|2[0-4][0-9]|[01]?[0-9][0-9]?)\\.){3}(?:25[0-5]|2[0-4][0-9]|[01]?[0-9][0-9]?)|(?:(?:[0-9a-fA-F]{1,4}:){7,7}[0-9a-fA-F]{1,4}|(?:[0-9a-fA-F]{1,4}:){1,7}:|(?:[0-9a-fA-F]{1,4}:){1,6}:[0-9a-fA-F]{1,4}|(?:[0-9a-fA-F]{1,4}:){1,5}(?::[0-9a-fA-F]{1,4}){1,2}|(?:[0-9a-fA-F]{1,4}:){1,4}(?::[0-9a-fA-F]{1,4}){1,3}|(?:[0-9a-fA-F]{1,4}:){1,3}(?::[0-9a-fA-F]{1,4}){1,4}|(?:[0-9a-fA-F]{1,4}:){1,2}(?::[0-9a-fA-F]{1,4}){1,5}|[0-9a-fA-F]{1,4}:(?:(?::[0-9a-fA-F]{1,4}){1,6})|:(?:(?::[0-9a-fA-F]{1,4}){1,7}|:)|fe80:(?::[0-9a-fA-F]{0,4}){0,4}%[0-9a-zA-Z]{1,}|::(?:ffff(?::0{1,4}){0,1}:){0,1}(?:(?:25[0-5]|(?:2[0-4]|1{0,1}[0-9]){0,1}[0-9])\\.){3,3}(?:25[0-5]|(?:2[0-4]|1{0,1}[0-9]){0,1}[0-9])|(?:[0-9a-fA-F]{1,4}:){1,4}:(?:(?:25[0-5]|(?:2[0-4]|1{0,1}[0-9]){0,1}[0-9])\\.){3,3}(?:25[0-5]|(?:2[0-4]|1{0,1}[0-9]){0,1}[0-9])))(?::[0-9]{1,4}|[1-5][0-9]{4}|6[0-4][0-9]{3}|65[0-4][0-9]{2}|655[0-2][0-9]|6553[0-5])?(?:/[\\w\\.-]*)*/?)\\b\", '_url', str(x)))\n",
        "        self.df['url'] = self.df['url'].apply(lambda x: [domain_name(url) for url in x])\n",
        "        \n",
        "        for i in range(len(self.df.text)):\n",
        "            if len(self.df.url.values[i]) > 0:\n",
        "                self.df.loc[i, 'text'] = replace_url_placeholder(i)\n",
        "\n",
        "        # convert emoji and emoticons to text\n",
        "        def convert_emoticons(text):\n",
        "          for emot in EMOTICONS_EMO:\n",
        "            text = text.replace(emot, \"_\".join(re.split(',| ',EMOTICONS_EMO[emot])))\n",
        "          return text\n",
        "\n",
        "        self.df.loc[:, 'text'] =self.df.text.apply(lambda x: demojize(x)) #emoji      \n",
        "        self.df.loc[:, 'text'] =self.df.text.apply(lambda x: convert_emoticons(x)) #emoticon\n",
        "\n",
        "\n",
        "        # remove videos and links\n",
        "        self.df.loc[:, 'text'] = self.df.text.str.replace('{link}', '')\n",
        "        self.df.loc[:, 'text'] = self.df.text.str.replace(\"\\[video\\]\", '')\n",
        "        \n",
        "        self.df.loc[:, 'text'] =self.df.text.str.replace('&[a-z]+;', '')\n",
        "        self.df.loc[:, 'text'] =self.df.text.str.replace(' {2,}', ' ')\n",
        "        self.df.loc[:, 'text'] =self.df.text.str.replace('^.^', 'smile')\n",
        "          \n",
        "        self.df.loc[:, 'text'] = self.df.text.apply(lambda x: \" \".join(text_processor.pre_process_doc(x)))\n",
        "        \n",
        "        self.data = self.df[['label', 'text']]\n",
        "        self.data.drop_duplicates(inplace=True)"
      ],
      "execution_count": null,
      "outputs": []
    },
    {
      "cell_type": "markdown",
      "metadata": {
        "id": "zwazxRY3BsIR"
      },
      "source": [
        "# Prepare preprocessed dataset"
      ]
    },
    {
      "cell_type": "code",
      "metadata": {
        "id": "zKR3koWE2VeU",
        "colab": {
          "base_uri": "https://localhost:8080/"
        },
        "outputId": "8c37b2cc-5f37-4c88-bb6f-9b92edabe366"
      },
      "source": [
        "data_path = \"/content/drive/MyDrive/FakeNews/Data/new/extended_from_dev3.csv\"\n",
        "df = dataset(data_path)\n",
        "df.preprocessing()\n",
        "df.data.to_csv('/content/drive/MyDrive/FakeNews/Data/extended-preprocessed.csv', encoding='utf-8', index=False)\n",
        "### uncomment and run this cell if you run for raw data"
      ],
      "execution_count": null,
      "outputs": [
        {
          "output_type": "stream",
          "name": "stderr",
          "text": [
            "/usr/local/lib/python3.7/dist-packages/ipykernel_launcher.py:168: SettingWithCopyWarning: \n",
            "A value is trying to be set on a copy of a slice from a DataFrame\n",
            "\n",
            "See the caveats in the documentation: https://pandas.pydata.org/pandas-docs/stable/user_guide/indexing.html#returning-a-view-versus-a-copy\n"
          ]
        }
      ]
    },
    {
      "cell_type": "code",
      "metadata": {
        "colab": {
          "base_uri": "https://localhost:8080/",
          "height": 417
        },
        "id": "QMx3wzEYq8rG",
        "outputId": "813148e5-7458-40da-cad0-93a446e42f59"
      },
      "source": [
        "df = pd.read_csv(\"/content/drive/MyDrive/FakeNews/Data/extended-preprocessed.csv\")\n",
        "df"
      ],
      "execution_count": null,
      "outputs": [
        {
          "output_type": "execute_result",
          "data": {
            "text/html": [
              "<div>\n",
              "<style scoped>\n",
              "    .dataframe tbody tr th:only-of-type {\n",
              "        vertical-align: middle;\n",
              "    }\n",
              "\n",
              "    .dataframe tbody tr th {\n",
              "        vertical-align: top;\n",
              "    }\n",
              "\n",
              "    .dataframe thead th {\n",
              "        text-align: right;\n",
              "    }\n",
              "</style>\n",
              "<table border=\"1\" class=\"dataframe\">\n",
              "  <thead>\n",
              "    <tr style=\"text-align: right;\">\n",
              "      <th></th>\n",
              "      <th>label</th>\n",
              "      <th>text</th>\n",
              "    </tr>\n",
              "  </thead>\n",
              "  <tbody>\n",
              "    <tr>\n",
              "      <th>0</th>\n",
              "      <td>0</td>\n",
              "      <td>globalistnews you know that the coronavirus is...</td>\n",
              "    </tr>\n",
              "    <tr>\n",
              "      <th>1</th>\n",
              "      <td>0</td>\n",
              "      <td>do not listen to world health organization the...</td>\n",
              "    </tr>\n",
              "    <tr>\n",
              "      <th>2</th>\n",
              "      <td>0</td>\n",
              "      <td>there are reports that china has over &lt;number&gt;...</td>\n",
              "    </tr>\n",
              "    <tr>\n",
              "      <th>3</th>\n",
              "      <td>0</td>\n",
              "      <td>mms which is mainly bleach is also being used ...</td>\n",
              "    </tr>\n",
              "    <tr>\n",
              "      <th>4</th>\n",
              "      <td>0</td>\n",
              "      <td>the source is known wuhans p4 bioweapons labs ...</td>\n",
              "    </tr>\n",
              "    <tr>\n",
              "      <th>...</th>\n",
              "      <td>...</td>\n",
              "      <td>...</td>\n",
              "    </tr>\n",
              "    <tr>\n",
              "      <th>1048</th>\n",
              "      <td>0</td>\n",
              "      <td>the level of disregard for churchesspiritual h...</td>\n",
              "    </tr>\n",
              "    <tr>\n",
              "      <th>1049</th>\n",
              "      <td>0</td>\n",
              "      <td>please go through sirs posts of the past &lt;numb...</td>\n",
              "    </tr>\n",
              "    <tr>\n",
              "      <th>1050</th>\n",
              "      <td>0</td>\n",
              "      <td>for now we do what we think will save us from ...</td>\n",
              "    </tr>\n",
              "    <tr>\n",
              "      <th>1051</th>\n",
              "      <td>2</td>\n",
              "      <td>plandemic not a pandemic the goal is depopulat...</td>\n",
              "    </tr>\n",
              "    <tr>\n",
              "      <th>1052</th>\n",
              "      <td>0</td>\n",
              "      <td>sth east qld magnetic island palm island and t...</td>\n",
              "    </tr>\n",
              "  </tbody>\n",
              "</table>\n",
              "<p>1053 rows × 2 columns</p>\n",
              "</div>"
            ],
            "text/plain": [
              "      label                                               text\n",
              "0         0  globalistnews you know that the coronavirus is...\n",
              "1         0  do not listen to world health organization the...\n",
              "2         0  there are reports that china has over <number>...\n",
              "3         0  mms which is mainly bleach is also being used ...\n",
              "4         0  the source is known wuhans p4 bioweapons labs ...\n",
              "...     ...                                                ...\n",
              "1048      0  the level of disregard for churchesspiritual h...\n",
              "1049      0  please go through sirs posts of the past <numb...\n",
              "1050      0  for now we do what we think will save us from ...\n",
              "1051      2  plandemic not a pandemic the goal is depopulat...\n",
              "1052      0  sth east qld magnetic island palm island and t...\n",
              "\n",
              "[1053 rows x 2 columns]"
            ]
          },
          "metadata": {},
          "execution_count": 68
        }
      ]
    },
    {
      "cell_type": "code",
      "metadata": {
        "id": "8lLN-GS4tmqA"
      },
      "source": [
        "labelZero = df.loc[df['label'] == 0].sample(frac=1, random_state=42).head(500)\n",
        "labelOne = df.loc[df['label'] == 1]\n",
        "labelTwo = df.loc[df['label'] == 2]"
      ],
      "execution_count": null,
      "outputs": []
    },
    {
      "cell_type": "code",
      "metadata": {
        "colab": {
          "base_uri": "https://localhost:8080/"
        },
        "id": "4e53l3CJuMOC",
        "outputId": "817973e8-fe13-489a-82ca-b10b20f7871a"
      },
      "source": [
        "type(labelZero)"
      ],
      "execution_count": null,
      "outputs": [
        {
          "output_type": "execute_result",
          "data": {
            "text/plain": [
              "pandas.core.frame.DataFrame"
            ]
          },
          "metadata": {},
          "execution_count": 78
        }
      ]
    },
    {
      "cell_type": "code",
      "metadata": {
        "colab": {
          "base_uri": "https://localhost:8080/",
          "height": 417
        },
        "id": "Ix_eiITTuFAN",
        "outputId": "53d90bb3-bda9-4859-b078-c048798bb411"
      },
      "source": [
        "extend = pd.read_csv(\"/content/drive/MyDrive/FakeNews/Data/extended-preprocessed-extracted.csv\")\n",
        "extend\n"
      ],
      "execution_count": null,
      "outputs": [
        {
          "output_type": "execute_result",
          "data": {
            "text/html": [
              "<div>\n",
              "<style scoped>\n",
              "    .dataframe tbody tr th:only-of-type {\n",
              "        vertical-align: middle;\n",
              "    }\n",
              "\n",
              "    .dataframe tbody tr th {\n",
              "        vertical-align: top;\n",
              "    }\n",
              "\n",
              "    .dataframe thead th {\n",
              "        text-align: right;\n",
              "    }\n",
              "</style>\n",
              "<table border=\"1\" class=\"dataframe\">\n",
              "  <thead>\n",
              "    <tr style=\"text-align: right;\">\n",
              "      <th></th>\n",
              "      <th>label</th>\n",
              "      <th>text</th>\n",
              "    </tr>\n",
              "  </thead>\n",
              "  <tbody>\n",
              "    <tr>\n",
              "      <th>0</th>\n",
              "      <td>0</td>\n",
              "      <td>yeah have also considered false hope false fla...</td>\n",
              "    </tr>\n",
              "    <tr>\n",
              "      <th>1</th>\n",
              "      <td>0</td>\n",
              "      <td>i like it to a spiritual check up have i been ...</td>\n",
              "    </tr>\n",
              "    <tr>\n",
              "      <th>2</th>\n",
              "      <td>0</td>\n",
              "      <td>dear honourable prime minister narendra modiji...</td>\n",
              "    </tr>\n",
              "    <tr>\n",
              "      <th>3</th>\n",
              "      <td>0</td>\n",
              "      <td>ny governor cuomo wrote a book in the middle o...</td>\n",
              "    </tr>\n",
              "    <tr>\n",
              "      <th>4</th>\n",
              "      <td>0</td>\n",
              "      <td>that scares me i am on chemo have low immune s...</td>\n",
              "    </tr>\n",
              "    <tr>\n",
              "      <th>...</th>\n",
              "      <td>...</td>\n",
              "      <td>...</td>\n",
              "    </tr>\n",
              "    <tr>\n",
              "      <th>612</th>\n",
              "      <td>2</td>\n",
              "      <td>when covid falls apart and everyone rejoices t...</td>\n",
              "    </tr>\n",
              "    <tr>\n",
              "      <th>613</th>\n",
              "      <td>2</td>\n",
              "      <td>corruption what else they stood up to the path...</td>\n",
              "    </tr>\n",
              "    <tr>\n",
              "      <th>614</th>\n",
              "      <td>2</td>\n",
              "      <td>be realistic if covid is tb &lt;number&gt; daysjune4...</td>\n",
              "    </tr>\n",
              "    <tr>\n",
              "      <th>615</th>\n",
              "      <td>2</td>\n",
              "      <td>deep state actors have their orders do not sto...</td>\n",
              "    </tr>\n",
              "    <tr>\n",
              "      <th>616</th>\n",
              "      <td>2</td>\n",
              "      <td>plandemic not a pandemic the goal is depopulat...</td>\n",
              "    </tr>\n",
              "  </tbody>\n",
              "</table>\n",
              "<p>617 rows × 2 columns</p>\n",
              "</div>"
            ],
            "text/plain": [
              "     label                                               text\n",
              "0        0  yeah have also considered false hope false fla...\n",
              "1        0  i like it to a spiritual check up have i been ...\n",
              "2        0  dear honourable prime minister narendra modiji...\n",
              "3        0  ny governor cuomo wrote a book in the middle o...\n",
              "4        0  that scares me i am on chemo have low immune s...\n",
              "..     ...                                                ...\n",
              "612      2  when covid falls apart and everyone rejoices t...\n",
              "613      2  corruption what else they stood up to the path...\n",
              "614      2  be realistic if covid is tb <number> daysjune4...\n",
              "615      2  deep state actors have their orders do not sto...\n",
              "616      2  plandemic not a pandemic the goal is depopulat...\n",
              "\n",
              "[617 rows x 2 columns]"
            ]
          },
          "metadata": {},
          "execution_count": 84
        }
      ]
    },
    {
      "cell_type": "code",
      "metadata": {
        "colab": {
          "base_uri": "https://localhost:8080/",
          "height": 417
        },
        "id": "YTkgouJxu66k",
        "outputId": "c542a552-031a-453f-9e77-5df58f696ff0"
      },
      "source": [
        "original = pd.read_csv(\"/content/drive/MyDrive/FakeNews/Data/new/combine-train.csv\")\n",
        "original"
      ],
      "execution_count": null,
      "outputs": [
        {
          "output_type": "execute_result",
          "data": {
            "text/html": [
              "<div>\n",
              "<style scoped>\n",
              "    .dataframe tbody tr th:only-of-type {\n",
              "        vertical-align: middle;\n",
              "    }\n",
              "\n",
              "    .dataframe tbody tr th {\n",
              "        vertical-align: top;\n",
              "    }\n",
              "\n",
              "    .dataframe thead th {\n",
              "        text-align: right;\n",
              "    }\n",
              "</style>\n",
              "<table border=\"1\" class=\"dataframe\">\n",
              "  <thead>\n",
              "    <tr style=\"text-align: right;\">\n",
              "      <th></th>\n",
              "      <th>label</th>\n",
              "      <th>text</th>\n",
              "    </tr>\n",
              "  </thead>\n",
              "  <tbody>\n",
              "    <tr>\n",
              "      <th>0</th>\n",
              "      <td>2</td>\n",
              "      <td>so many people are blinded that it has it is b...</td>\n",
              "    </tr>\n",
              "    <tr>\n",
              "      <th>1</th>\n",
              "      <td>1</td>\n",
              "      <td>obviously just do not tell me that you think a...</td>\n",
              "    </tr>\n",
              "    <tr>\n",
              "      <th>2</th>\n",
              "      <td>0</td>\n",
              "      <td>it has it is our choice and that has that is t...</td>\n",
              "    </tr>\n",
              "    <tr>\n",
              "      <th>3</th>\n",
              "      <td>0</td>\n",
              "      <td>remember gop run by seditionistsqanon supporte...</td>\n",
              "    </tr>\n",
              "    <tr>\n",
              "      <th>4</th>\n",
              "      <td>2</td>\n",
              "      <td>the two main reasons for this plandemic is the...</td>\n",
              "    </tr>\n",
              "    <tr>\n",
              "      <th>...</th>\n",
              "      <td>...</td>\n",
              "      <td>...</td>\n",
              "    </tr>\n",
              "    <tr>\n",
              "      <th>1210</th>\n",
              "      <td>0</td>\n",
              "      <td>fort detrick is a united states army medical c...</td>\n",
              "    </tr>\n",
              "    <tr>\n",
              "      <th>1211</th>\n",
              "      <td>2</td>\n",
              "      <td>avoiding conflict with the us is a strategy fo...</td>\n",
              "    </tr>\n",
              "    <tr>\n",
              "      <th>1212</th>\n",
              "      <td>0</td>\n",
              "      <td>you know buti was what africa has a stubborn p...</td>\n",
              "    </tr>\n",
              "    <tr>\n",
              "      <th>1213</th>\n",
              "      <td>2</td>\n",
              "      <td>plandemic not a pandemic the goal is depopulat...</td>\n",
              "    </tr>\n",
              "    <tr>\n",
              "      <th>1214</th>\n",
              "      <td>0</td>\n",
              "      <td>even the to is made up covid19 is the result f...</td>\n",
              "    </tr>\n",
              "  </tbody>\n",
              "</table>\n",
              "<p>1215 rows × 2 columns</p>\n",
              "</div>"
            ],
            "text/plain": [
              "      label                                               text\n",
              "0         2  so many people are blinded that it has it is b...\n",
              "1         1  obviously just do not tell me that you think a...\n",
              "2         0  it has it is our choice and that has that is t...\n",
              "3         0  remember gop run by seditionistsqanon supporte...\n",
              "4         2  the two main reasons for this plandemic is the...\n",
              "...     ...                                                ...\n",
              "1210      0  fort detrick is a united states army medical c...\n",
              "1211      2  avoiding conflict with the us is a strategy fo...\n",
              "1212      0  you know buti was what africa has a stubborn p...\n",
              "1213      2  plandemic not a pandemic the goal is depopulat...\n",
              "1214      0  even the to is made up covid19 is the result f...\n",
              "\n",
              "[1215 rows x 2 columns]"
            ]
          },
          "metadata": {},
          "execution_count": 85
        }
      ]
    },
    {
      "cell_type": "code",
      "metadata": {
        "id": "H9xfUvK_jra6"
      },
      "source": [
        "|X_train, X_test, y_train, y_test = train_test_split(\n",
        "...     new_df.text.values, new_df.label.values, test_size=0.2, random_state=42, stratify=new_df.label.values)"
      ],
      "execution_count": null,
      "outputs": []
    },
    {
      "cell_type": "code",
      "metadata": {
        "id": "Da4CICnxvaMa"
      },
      "source": [
        "temp = pd.read_csv(\"/content/drive/MyDrive/FakeNews/Data/new/combine-extended-train.csv\")"
      ],
      "execution_count": null,
      "outputs": []
    },
    {
      "cell_type": "code",
      "metadata": {
        "colab": {
          "base_uri": "https://localhost:8080/",
          "height": 417
        },
        "id": "57wlZ92ZvyFf",
        "outputId": "01c826c0-97e8-41c5-a3ff-0a667204ff72"
      },
      "source": [
        "temp"
      ],
      "execution_count": null,
      "outputs": [
        {
          "output_type": "execute_result",
          "data": {
            "text/html": [
              "<div>\n",
              "<style scoped>\n",
              "    .dataframe tbody tr th:only-of-type {\n",
              "        vertical-align: middle;\n",
              "    }\n",
              "\n",
              "    .dataframe tbody tr th {\n",
              "        vertical-align: top;\n",
              "    }\n",
              "\n",
              "    .dataframe thead th {\n",
              "        text-align: right;\n",
              "    }\n",
              "</style>\n",
              "<table border=\"1\" class=\"dataframe\">\n",
              "  <thead>\n",
              "    <tr style=\"text-align: right;\">\n",
              "      <th></th>\n",
              "      <th>label</th>\n",
              "      <th>text</th>\n",
              "    </tr>\n",
              "  </thead>\n",
              "  <tbody>\n",
              "    <tr>\n",
              "      <th>0</th>\n",
              "      <td>2</td>\n",
              "      <td>so many people are blinded that it has it is b...</td>\n",
              "    </tr>\n",
              "    <tr>\n",
              "      <th>1</th>\n",
              "      <td>1</td>\n",
              "      <td>obviously just do not tell me that you think a...</td>\n",
              "    </tr>\n",
              "    <tr>\n",
              "      <th>2</th>\n",
              "      <td>0</td>\n",
              "      <td>it has it is our choice and that has that is t...</td>\n",
              "    </tr>\n",
              "    <tr>\n",
              "      <th>3</th>\n",
              "      <td>0</td>\n",
              "      <td>remember gop run by seditionistsqanon supporte...</td>\n",
              "    </tr>\n",
              "    <tr>\n",
              "      <th>4</th>\n",
              "      <td>2</td>\n",
              "      <td>the two main reasons for this plandemic is the...</td>\n",
              "    </tr>\n",
              "    <tr>\n",
              "      <th>...</th>\n",
              "      <td>...</td>\n",
              "      <td>...</td>\n",
              "    </tr>\n",
              "    <tr>\n",
              "      <th>1827</th>\n",
              "      <td>2</td>\n",
              "      <td>when covid falls apart and everyone rejoices t...</td>\n",
              "    </tr>\n",
              "    <tr>\n",
              "      <th>1828</th>\n",
              "      <td>2</td>\n",
              "      <td>corruption what else they stood up to the path...</td>\n",
              "    </tr>\n",
              "    <tr>\n",
              "      <th>1829</th>\n",
              "      <td>2</td>\n",
              "      <td>be realistic if covid is tb &lt;number&gt; daysjune4...</td>\n",
              "    </tr>\n",
              "    <tr>\n",
              "      <th>1830</th>\n",
              "      <td>2</td>\n",
              "      <td>deep state actors have their orders do not sto...</td>\n",
              "    </tr>\n",
              "    <tr>\n",
              "      <th>1831</th>\n",
              "      <td>2</td>\n",
              "      <td>plandemic not a pandemic the goal is depopulat...</td>\n",
              "    </tr>\n",
              "  </tbody>\n",
              "</table>\n",
              "<p>1832 rows × 2 columns</p>\n",
              "</div>"
            ],
            "text/plain": [
              "      label                                               text\n",
              "0         2  so many people are blinded that it has it is b...\n",
              "1         1  obviously just do not tell me that you think a...\n",
              "2         0  it has it is our choice and that has that is t...\n",
              "3         0  remember gop run by seditionistsqanon supporte...\n",
              "4         2  the two main reasons for this plandemic is the...\n",
              "...     ...                                                ...\n",
              "1827      2  when covid falls apart and everyone rejoices t...\n",
              "1828      2  corruption what else they stood up to the path...\n",
              "1829      2  be realistic if covid is tb <number> daysjune4...\n",
              "1830      2  deep state actors have their orders do not sto...\n",
              "1831      2  plandemic not a pandemic the goal is depopulat...\n",
              "\n",
              "[1832 rows x 2 columns]"
            ]
          },
          "metadata": {},
          "execution_count": 99
        }
      ]
    },
    {
      "cell_type": "code",
      "metadata": {
        "id": "9O-kuDitlo0l"
      },
      "source": [
        "y_train = y_train.reshape(len(y_train), 1)\n",
        "X_train = X_train.reshape(len(X_train), 1)\n",
        "y_test = y_test.reshape(len(y_test), 1)\n",
        "X_test = X_test.reshape(len(X_test), 1)"
      ],
      "execution_count": null,
      "outputs": []
    },
    {
      "cell_type": "code",
      "metadata": {
        "id": "MfFbQpNKkYLj"
      },
      "source": [
        "train = np.hstack((np.array(y_train), np.array(X_train)))\n",
        "test = np.hstack((np.array(y_test), np.array(X_test)))"
      ],
      "execution_count": null,
      "outputs": []
    },
    {
      "cell_type": "code",
      "metadata": {
        "id": "NGH6TPoUm1pw"
      },
      "source": [
        "# train_df.to_csv('/content/drive/MyDrive/FakeNews/Data/combine-train.csv', encoding='utf-8', index=False)\n",
        "train_df.to_csv('/content/drive/MyDrive/FakeNews/Data/combine-train-forAug.csv', encoding='utf-8', index=False, sep='\\t')\n",
        "# test_df.to_csv('/content/drive/MyDrive/FakeNews/Data/combine-test.csv', encoding='utf-8', index=False)"
      ],
      "execution_count": null,
      "outputs": []
    },
    {
      "cell_type": "code",
      "metadata": {
        "id": "amVQbPwvWfHg",
        "colab": {
          "base_uri": "https://localhost:8080/"
        },
        "outputId": "b9c5d7e9-7b39-4456-fb2c-f0b055c7a5c4"
      },
      "source": [
        "###    EDA\n",
        "!git clone https://github.com/jasonwei20/eda_nlp.git\n",
        "!python eda_nlp/code/augment.py --input=/content/drive/MyDrive/FakeNews/Data/combine-train-forAug.csv --output=/content/drive/MyDrive/FakeNews/Data/combine-train-augmented.csv --num_aug=8 --alpha_sr=0.05 --alpha_rd=0.1 --alpha_ri=0.1 --alpha_rs=0.1"
      ],
      "execution_count": null,
      "outputs": [
        {
          "output_type": "stream",
          "name": "stdout",
          "text": [
            "fatal: destination path 'eda_nlp' already exists and is not an empty directory.\n",
            "generated augmented sentences with eda for /content/drive/MyDrive/FakeNews/Data/combine-train-forAug.csv to /content/drive/MyDrive/FakeNews/Data/combine-train-augmented.csv with num_aug=8\n"
          ]
        }
      ]
    },
    {
      "cell_type": "code",
      "metadata": {
        "id": "m20QMc5xob_u"
      },
      "source": [
        "train_aug = pd.read_csv('/content/drive/MyDrive/FakeNews/Data/combine-train-augmented.csv')"
      ],
      "execution_count": null,
      "outputs": []
    },
    {
      "cell_type": "code",
      "metadata": {
        "colab": {
          "base_uri": "https://localhost:8080/",
          "height": 417
        },
        "id": "eg0yfRVxopcC",
        "outputId": "26f1528d-f5c6-4e55-dbc7-83610d28f645"
      },
      "source": [
        "# train_aug.to_csv('/content/drive/MyDrive/FakeNews/Data/combine-train-augmented.csv', index=False)\n",
        "train_aug"
      ],
      "execution_count": null,
      "outputs": [
        {
          "output_type": "execute_result",
          "data": {
            "text/html": [
              "<div>\n",
              "<style scoped>\n",
              "    .dataframe tbody tr th:only-of-type {\n",
              "        vertical-align: middle;\n",
              "    }\n",
              "\n",
              "    .dataframe tbody tr th {\n",
              "        vertical-align: top;\n",
              "    }\n",
              "\n",
              "    .dataframe thead th {\n",
              "        text-align: right;\n",
              "    }\n",
              "</style>\n",
              "<table border=\"1\" class=\"dataframe\">\n",
              "  <thead>\n",
              "    <tr style=\"text-align: right;\">\n",
              "      <th></th>\n",
              "      <th>lable</th>\n",
              "      <th>text</th>\n",
              "    </tr>\n",
              "  </thead>\n",
              "  <tbody>\n",
              "    <tr>\n",
              "      <th>0</th>\n",
              "      <td>2</td>\n",
              "      <td>so many people are blinded that it bill gates ...</td>\n",
              "    </tr>\n",
              "    <tr>\n",
              "      <th>1</th>\n",
              "      <td>2</td>\n",
              "      <td>chipped are people are blinded that it has it ...</td>\n",
              "    </tr>\n",
              "    <tr>\n",
              "      <th>2</th>\n",
              "      <td>2</td>\n",
              "      <td>so many people are blinded that it has it is b...</td>\n",
              "    </tr>\n",
              "    <tr>\n",
              "      <th>3</th>\n",
              "      <td>2</td>\n",
              "      <td>radiation therapy so many people are blinded t...</td>\n",
              "    </tr>\n",
              "    <tr>\n",
              "      <th>4</th>\n",
              "      <td>2</td>\n",
              "      <td>so electric cell explore many people are blind...</td>\n",
              "    </tr>\n",
              "    <tr>\n",
              "      <th>...</th>\n",
              "      <td>...</td>\n",
              "      <td>...</td>\n",
              "    </tr>\n",
              "    <tr>\n",
              "      <th>10930</th>\n",
              "      <td>0</td>\n",
              "      <td>even the to is made up covid is the result fro...</td>\n",
              "    </tr>\n",
              "    <tr>\n",
              "      <th>10931</th>\n",
              "      <td>0</td>\n",
              "      <td>even the to is made up covid is the result fro...</td>\n",
              "    </tr>\n",
              "    <tr>\n",
              "      <th>10932</th>\n",
              "      <td>0</td>\n",
              "      <td>even the to is made up covid is a it from a wa...</td>\n",
              "    </tr>\n",
              "    <tr>\n",
              "      <th>10933</th>\n",
              "      <td>0</td>\n",
              "      <td>even to is up covid the result from a nanitern...</td>\n",
              "    </tr>\n",
              "    <tr>\n",
              "      <th>10934</th>\n",
              "      <td>0</td>\n",
              "      <td>even the to is made up covid is the result fro...</td>\n",
              "    </tr>\n",
              "  </tbody>\n",
              "</table>\n",
              "<p>10935 rows × 2 columns</p>\n",
              "</div>"
            ],
            "text/plain": [
              "       lable                                               text\n",
              "0          2  so many people are blinded that it bill gates ...\n",
              "1          2  chipped are people are blinded that it has it ...\n",
              "2          2  so many people are blinded that it has it is b...\n",
              "3          2  radiation therapy so many people are blinded t...\n",
              "4          2  so electric cell explore many people are blind...\n",
              "...      ...                                                ...\n",
              "10930      0  even the to is made up covid is the result fro...\n",
              "10931      0  even the to is made up covid is the result fro...\n",
              "10932      0  even the to is made up covid is a it from a wa...\n",
              "10933      0  even to is up covid the result from a nanitern...\n",
              "10934      0  even the to is made up covid is the result fro...\n",
              "\n",
              "[10935 rows x 2 columns]"
            ]
          },
          "metadata": {},
          "execution_count": 277
        }
      ]
    },
    {
      "cell_type": "markdown",
      "metadata": {
        "id": "zST7gsNGDle0"
      },
      "source": [
        "# Define tokenizer"
      ]
    },
    {
      "cell_type": "code",
      "metadata": {
        "id": "U36yuTnF32jj",
        "colab": {
          "base_uri": "https://localhost:8080/",
          "referenced_widgets": [
            "a3c4a36f4d5545b5a070ec1d185a1697",
            "ae5f43c257da4a2cbf7524f686336ee7",
            "90dcc54ce6374c36b935f85c741aecc2",
            "810ea83090cb410eb1aeeda0b80084f0",
            "d48ce7d2d1a140ca9bc186c346b4c5a9",
            "89bf2c31ed834aad83a0234dd6d0123e",
            "74c84d96390648ceb97ee0e3409aefc3",
            "f6e65758eabb421f932ea3de12ec0548",
            "e98339c3183c4371a04e4406c0fa4b12",
            "2b35145c6f53456a83253a28dffeb3a7",
            "a06b204ef09d42df97e89598a590bf28",
            "e1ee3bc6a3024b74a90972032ea86359",
            "8b50077ac23b41f69d109506b47c5063",
            "4e56d120ea764974bbf1b81124d3b38a",
            "f78a12bcf0364fa8afff770dd33f5afd",
            "f999d9925205405492e40d0ecff1601e",
            "8b06e5d682e2494c9c8d604d6086f963",
            "864eaab362144e71b3b525787e8745c6",
            "fb73be23942249fb8d39308178c234f0",
            "2e441f303efa4369933d8174286f4da9",
            "7f7c1f069c424d21b7ee90a88ca9fae8",
            "5a7e8bbc4bcb4cf78428d06d181866a2",
            "a79ed4e0089043fb9606cccc5517ddde",
            "c4f2659469f04bef8bdc67dc99af8dd0",
            "1db26950cfce4e22a4d3dd87f50104ba",
            "dfa1164fe16e4da4bd544d9cbc4492e4",
            "a3071f44944448038fea0c3e433a43f9",
            "9cc4e27ab59b49aaa33484f02242e70c",
            "5cc4598b2e4f4831ae179a4142e4f9a1",
            "8827432c842b4b93914ae9e3dfe47cb3",
            "1aa1fc0a9e2449ee9b02ea59f56a87ef",
            "b4c4bd5d78494ab580ba06d14d700826",
            "fa0b4af305194ab69d92b8759bc2a820",
            "399002f8418643318e1a038120905935",
            "21332d21551446c9a81f92092f997fda",
            "6437211c760442138e90042b46047850",
            "b027cba8cb814bc094d00ebfe3405855",
            "d92af102cdd847138c399fb30bc60c2c",
            "48cc4cd0f2704a6faad2537095130542",
            "9f55aa7d7f5741cd880d48caef01100d",
            "e070f41fa1014bc4bc5a7332194a1066",
            "303117b7f8874d708b1c68444db58469",
            "53b2e5ab0c4c459a94a840ec18da9902",
            "91fe9eb6ba2242a0afcff7753151e778"
          ]
        },
        "outputId": "1dbe9a48-2285-4cb0-bff4-1335a8b48094"
      },
      "source": [
        "MAX_SEQUENCE_LENGTH = 64\n",
        "\n",
        "PRETRAINED_MODEL_NAME = \"digitalepidemiologylab/covid-twitter-bert-v2\"#\"digitalepidemiologylab/covid-twitter-bert/2\" #'vinai/bertweet-covid19-base-uncased' \n",
        "\n",
        "# Number of labels:\n",
        "number_of_label = 3#train['label'].nunique()\n",
        "\n",
        "def batch_encode(X, tokenizer):\n",
        "    return tokenizer.batch_encode_plus(\n",
        "    X,\n",
        "    max_length=MAX_SEQUENCE_LENGTH, # set the length of the sequences\n",
        "    add_special_tokens=True, # add [CLS] and [SEP] tokens\n",
        "    return_attention_mask=True,\n",
        "    truncation = True,\n",
        "    return_token_type_ids=True, # not needed for this type of ML task\n",
        "    padding='max_length', # add 0 pad tokens to the sequences less than max_length\n",
        "    return_tensors='tf'\n",
        ")\n",
        "\n",
        "def CreateModel(model_class, tokenizer_class, pretrained_weights):\n",
        "  model_class, tokenizer_class, pretrained_weights = (model_class, tokenizer_class, pretrained_weights)\n",
        "\n",
        "  tokenizer = tokenizer_class.from_pretrained(pretrained_weights)\n",
        "  return tokenizer\n",
        "\n",
        "tokenizer = CreateModel(AutoModel, AutoTokenizer, PRETRAINED_MODEL_NAME)"
      ],
      "execution_count": null,
      "outputs": [
        {
          "output_type": "display_data",
          "data": {
            "application/vnd.jupyter.widget-view+json": {
              "model_id": "a3c4a36f4d5545b5a070ec1d185a1697",
              "version_minor": 0,
              "version_major": 2
            },
            "text/plain": [
              "Downloading:   0%|          | 0.00/62.0 [00:00<?, ?B/s]"
            ]
          },
          "metadata": {}
        },
        {
          "output_type": "display_data",
          "data": {
            "application/vnd.jupyter.widget-view+json": {
              "model_id": "e1ee3bc6a3024b74a90972032ea86359",
              "version_minor": 0,
              "version_major": 2
            },
            "text/plain": [
              "Downloading:   0%|          | 0.00/421 [00:00<?, ?B/s]"
            ]
          },
          "metadata": {}
        },
        {
          "output_type": "display_data",
          "data": {
            "application/vnd.jupyter.widget-view+json": {
              "model_id": "a79ed4e0089043fb9606cccc5517ddde",
              "version_minor": 0,
              "version_major": 2
            },
            "text/plain": [
              "Downloading:   0%|          | 0.00/226k [00:00<?, ?B/s]"
            ]
          },
          "metadata": {}
        },
        {
          "output_type": "display_data",
          "data": {
            "application/vnd.jupyter.widget-view+json": {
              "model_id": "399002f8418643318e1a038120905935",
              "version_minor": 0,
              "version_major": 2
            },
            "text/plain": [
              "Downloading:   0%|          | 0.00/112 [00:00<?, ?B/s]"
            ]
          },
          "metadata": {}
        }
      ]
    },
    {
      "cell_type": "markdown",
      "metadata": {
        "id": "7hlZaRRGFw4I"
      },
      "source": [
        "# Extract features for sklearn models"
      ]
    },
    {
      "cell_type": "code",
      "metadata": {
        "colab": {
          "base_uri": "https://localhost:8080/",
          "height": 119,
          "referenced_widgets": [
            "f83307e221244cfe80750ce2fdd25f88",
            "b20ec6b08fad44f98fc9385b1f558188",
            "a6039aa9fd8140a388c74864e573ac46",
            "45639cdd0b054576b97fa43e7f476508",
            "2a2f2c30a63344c080a9cb86d5def904",
            "27be992049a44fbd937cb2f4082046d3",
            "ba6d35d5a3714df2971c45ce52fa8523",
            "a09a6cf30f3142dfb4be50241fc58e1a",
            "4e8482e03192462b880dab00f0844383",
            "8dbe90390c0747cc8bc90c96b6c82fb7",
            "87c19b3cb71a47bc919600ffb54fdfe2"
          ]
        },
        "id": "gvDUC1oEGiqy",
        "outputId": "82e40918-b537-43e3-feb1-a81d9c9612c0"
      },
      "source": [
        "from transformers import AutoModel\n",
        "\n",
        "data_path = \"/content/drive/MyDrive/FakeNews/Data/new/old-preprocessed.csv\"\n",
        "data = pd.read_csv(data_path)\n",
        "\n",
        "def CreateModel(model_class, tokenizer_class, pretrained_weights):\n",
        "  model_class, tokenizer_class, pretrained_weights = (model_class, tokenizer_class, pretrained_weights)\n",
        "\n",
        "  tokenizer = tokenizer_class.from_pretrained(pretrained_weights)\n",
        "  model = model_class.from_pretrained(pretrained_weights, output_hidden_states=True)\n",
        "  return tokenizer, model\n",
        "\n",
        "tokenizer, model = CreateModel(AutoModel, AutoTokenizer, PRETRAINED_MODEL_NAME)\n",
        "\n",
        "def batch_encode(X, tokenizer):\n",
        "    return tokenizer.batch_encode_plus(\n",
        "    X,\n",
        "    max_length=MAX_SEQUENCE_LENGTH, # set the length of the sequences\n",
        "    add_special_tokens=True, # add [CLS] and [SEP] tokens\n",
        "    return_attention_mask=True,\n",
        "    truncation = True,\n",
        "    return_token_type_ids=True,\n",
        "    padding='max_length', # add 0 pad tokens to the sequences less than max_length\n",
        "    return_tensors='pt'\n",
        ")"
      ],
      "execution_count": null,
      "outputs": [
        {
          "output_type": "display_data",
          "data": {
            "application/vnd.jupyter.widget-view+json": {
              "model_id": "f83307e221244cfe80750ce2fdd25f88",
              "version_minor": 0,
              "version_major": 2
            },
            "text/plain": [
              "Downloading:   0%|          | 0.00/1.25G [00:00<?, ?B/s]"
            ]
          },
          "metadata": {}
        },
        {
          "output_type": "stream",
          "name": "stderr",
          "text": [
            "Some weights of the model checkpoint at digitalepidemiologylab/covid-twitter-bert-v2 were not used when initializing BertModel: ['cls.predictions.bias', 'cls.predictions.transform.LayerNorm.bias', 'cls.predictions.decoder.bias', 'cls.seq_relationship.bias', 'cls.seq_relationship.weight', 'cls.predictions.transform.dense.bias', 'cls.predictions.transform.LayerNorm.weight', 'cls.predictions.transform.dense.weight', 'cls.predictions.decoder.weight']\n",
            "- This IS expected if you are initializing BertModel from the checkpoint of a model trained on another task or with another architecture (e.g. initializing a BertForSequenceClassification model from a BertForPreTraining model).\n",
            "- This IS NOT expected if you are initializing BertModel from the checkpoint of a model that you expect to be exactly identical (initializing a BertForSequenceClassification model from a BertForSequenceClassification model).\n"
          ]
        }
      ]
    },
    {
      "cell_type": "code",
      "metadata": {
        "id": "yFvnMRdIF14o",
        "colab": {
          "base_uri": "https://localhost:8080/"
        },
        "outputId": "32f81558-e905-4e7e-b5af-cd487b19fe22"
      },
      "source": [
        "import gc\n",
        "\n",
        "def save_embedding_mini_batch(data_size, batch_size, model, path, filename, X_train):\n",
        "  \n",
        "  device = torch.device('cuda' if torch.cuda.is_available() else 'cpu')\n",
        "  model.to(device)\n",
        "\n",
        "  for batch in range(0, int(data_size / batch_size) + 1):\n",
        "    torch.cuda.empty_cache()\n",
        "\n",
        "    # mini_batch_input_ids = X_train['input_ids'][batch*batch_size:]\n",
        "    # mini_batch_attention_mask = X_train['attention_mask'][batch*batch_size:]\n",
        "    # mini_batch_token_type_ids = X_train['token_type_ids'][batch*batch_size:]\n",
        "\n",
        "    print(\"Batch {}\".format(batch))\n",
        "\n",
        "    if (batch+1)*batch_size > data_size:\n",
        "      mini_batch_input_ids = X_train['input_ids'][batch*batch_size:]\n",
        "      mini_batch_attention_mask = X_train['attention_mask'][batch*batch_size:]\n",
        "      mini_batch_token_type_ids = X_train['token_type_ids'][batch*batch_size:]\n",
        "    else:\n",
        "      mini_batch_input_ids = X_train['input_ids'][batch*batch_size:(batch+1)*batch_size]\n",
        "      mini_batch_attention_mask = X_train['attention_mask'][batch*batch_size:(batch+1)*batch_size]\n",
        "      mini_batch_token_type_ids = X_train['token_type_ids'][batch*batch_size:(batch+1)*batch_size]\n",
        "\n",
        "    with torch.no_grad():\n",
        "      output = model(input_ids=mini_batch_input_ids.to(device), attention_mask=mini_batch_attention_mask.to(device), token_type_ids=mini_batch_token_type_ids.to(device))\n",
        "    \n",
        "    print(len(output[2]))\n",
        "    output = list(output[2])\n",
        "    filepath = path + filename + str(batch) + \".pt\"\n",
        "    print(filepath)\n",
        "\n",
        "    torch.save(output, filepath)\n",
        "    print(\"saved\")\n",
        "\n",
        "    del output\n",
        "    gc.collect()\n",
        "print(\"Done\")"
      ],
      "execution_count": null,
      "outputs": [
        {
          "output_type": "stream",
          "name": "stdout",
          "text": [
            "Done\n"
          ]
        }
      ]
    },
    {
      "cell_type": "code",
      "metadata": {
        "id": "pODo5YrkKX3Y"
      },
      "source": [
        "X_train = batch_encode(list(data.text.values), tokenizer)"
      ],
      "execution_count": null,
      "outputs": []
    },
    {
      "cell_type": "code",
      "metadata": {
        "id": "of0idmXZKqVs",
        "colab": {
          "base_uri": "https://localhost:8080/"
        },
        "outputId": "aeab4bb7-06d6-4650-88fe-872e4c7a9ae6"
      },
      "source": [
        "X_train.keys()"
      ],
      "execution_count": null,
      "outputs": [
        {
          "output_type": "execute_result",
          "data": {
            "text/plain": [
              "dict_keys(['input_ids', 'token_type_ids', 'attention_mask'])"
            ]
          },
          "metadata": {},
          "execution_count": 21
        }
      ]
    },
    {
      "cell_type": "code",
      "metadata": {
        "id": "4UaOrehHF_4i",
        "colab": {
          "base_uri": "https://localhost:8080/"
        },
        "outputId": "e36b66be-a8fa-4769-aa46-c43943f3fd9c"
      },
      "source": [
        "batch_size = len(data) + 1\n",
        "data_size = len(data)\n",
        "path = \"/content/drive/MyDrive/FakeNews/fakenews_embeddings/\"\n",
        "filename = \"original-v2\"\n",
        "save_embedding_mini_batch(data_size, batch_size, model, path, filename, X_train)"
      ],
      "execution_count": null,
      "outputs": [
        {
          "output_type": "stream",
          "name": "stdout",
          "text": [
            "Batch 0\n",
            "25\n",
            "/content/drive/MyDrive/FakeNews/fakenews_embeddings/original-v20.pt\n",
            "saved\n"
          ]
        }
      ]
    },
    {
      "cell_type": "code",
      "metadata": {
        "id": "B4ZAelr0MTKL"
      },
      "source": [
        "torch.cuda.memory_summary(device=None, abbreviated=False)"
      ],
      "execution_count": null,
      "outputs": []
    },
    {
      "cell_type": "markdown",
      "metadata": {
        "id": "COSeNnZt3rIP"
      },
      "source": [
        "# Define models"
      ]
    },
    {
      "cell_type": "code",
      "metadata": {
        "id": "buNepz3FPpL-"
      },
      "source": [
        "#concat\n",
        "def create_cat_model(max_sequence, model_name, num_labels):\n",
        "\n",
        "    input_word_ids = tf.keras.layers.Input(shape=(max_sequence,), dtype=tf.int32, name=\"input_word_ids\")\n",
        "    input_mask = tf.keras.layers.Input(shape=(max_sequence,), dtype=tf.int32, name=\"input_mask\") \n",
        "    input_type_ids = tf.keras.layers.Input(shape=(max_sequence,),dtype=tf.int32,name=\"input_type_ids\")\n",
        "\n",
        "    model = TFAutoModelForSequenceClassification.from_pretrained(model_name, trainable=False, output_hidden_states = True)\n",
        "    out = model(input_ids = input_word_ids, attention_mask = input_mask, token_type_ids = input_type_ids)\n",
        "    out1, out2, out3, out4 = out.hidden_states[-1], out.hidden_states[-2], out.hidden_states[-3], out.hidden_states[-4]\n",
        "    cat = tf.concat([out1, out2, out3, out4], axis=-1)\n",
        "    cat = tf.keras.layers.Flatten()(cat)\n",
        "\n",
        "    initializer = tf.keras.initializers.TruncatedNormal(stddev=0.2)\n",
        "\n",
        "    output = tf.keras.layers.Dense(1024, activation=tf.nn.gelu, kernel_regularizer=tf.keras.regularizers.L2(0.0001))(cat)\n",
        "    output = tf.keras.layers.ReLU()(output)\n",
        "    output = tf.keras.layers.Dropout(rate=0.5)(output)\n",
        "    output = tf.keras.layers.BatchNormalization()(output)\n",
        "\n",
        "    output = tf.keras.layers.Dense(512, activation=tf.nn.gelu, kernel_regularizer=tf.keras.regularizers.L2(0.0001))(output)\n",
        "    output = tf.keras.layers.ReLU()(output)\n",
        "    output = tf.keras.layers.Dropout(rate=0.5)(output)\n",
        "    output = tf.keras.layers.BatchNormalization()(output)\n",
        "\n",
        "    output = tf.keras.layers.Dense(256, activation=tf.nn.gelu, kernel_regularizer=tf.keras.regularizers.L2(0.0001))(output)\n",
        "    output = tf.keras.layers.ReLU()(output)\n",
        "    output = tf.keras.layers.Dropout(rate=0.5)(output)\n",
        "    output = tf.keras.layers.BatchNormalization()(output)\n",
        "\n",
        "    output = tf.keras.layers.Dense(num_labels, kernel_initializer=initializer, name='output', activation='softmax')(output)\n",
        "\n",
        "    classifier_model = tf.keras.Model(\n",
        "    inputs={\n",
        "          'input_word_ids': input_word_ids,\n",
        "          'input_mask': input_mask,\n",
        "          'input_type_ids': input_type_ids},\n",
        "          outputs=output)\n",
        "    classifier_model.summary()\n",
        "    return classifier_model"
      ],
      "execution_count": null,
      "outputs": []
    },
    {
      "cell_type": "code",
      "metadata": {
        "id": "qGxvekOt85jp"
      },
      "source": [
        "#mean\n",
        "def create_mean_model(max_sequence, model_name, num_labels):\n",
        "\n",
        "    input_word_ids = tf.keras.layers.Input(shape=(max_sequence,), dtype=tf.int32, name=\"input_word_ids\")\n",
        "    input_mask = tf.keras.layers.Input(shape=(max_sequence,), dtype=tf.int32, name=\"input_mask\") \n",
        "    input_type_ids = tf.keras.layers.Input(shape=(max_sequence,),dtype=tf.int32,name=\"input_type_ids\")\n",
        "\n",
        "    model = TFAutoModelForSequenceClassification.from_pretrained(model_name, trainable=False, output_hidden_states = True)\n",
        "    out = model(input_ids = input_word_ids, attention_mask = input_mask, token_type_ids = input_type_ids)\n",
        "    out1, out2, out3, out4 = out.hidden_states[-1], out.hidden_states[-2], out.hidden_states[-3], out.hidden_states[-4]\n",
        "    mean = tf.reduce_mean([out1, out2, out3, out4], 0)\n",
        "    mean = tf.keras.layers.Flatten()(mean)\n",
        "\n",
        "    initializer = tf.keras.initializers.TruncatedNormal(stddev=0.2)\n",
        "\n",
        "    output = tf.keras.layers.Dense(1024)(mean)\n",
        "    output = tf.keras.layers.LeakyReLU(alpha=0.2)(output)\n",
        "    output = tf.keras.layers.Dropout(rate=0.5)(output)\n",
        "    output = tf.keras.layers.BatchNormalization()(output)\n",
        "\n",
        "    output = tf.keras.layers.Dense(512)(output)\n",
        "    output = tf.keras.layers.LeakyReLU(alpha=0.2)(output)\n",
        "    output = tf.keras.layers.Dropout(rate=0.5)(output)\n",
        "    output = tf.keras.layers.BatchNormalization()(output)\n",
        "\n",
        "    output = tf.keras.layers.Dense(256)(output)\n",
        "    output = tf.keras.layers.LeakyReLU(alpha=0.2)(output)\n",
        "    output = tf.keras.layers.Dropout(rate=0.5)(output)\n",
        "    output = tf.keras.layers.BatchNormalization()(output)\n",
        "\n",
        "    output = tf.keras.layers.Dense(num_labels, kernel_initializer=initializer, name='output', activation='softmax')(output)\n",
        "\n",
        "    classifier_model = tf.keras.Model(\n",
        "    inputs={\n",
        "          'input_word_ids': input_word_ids,\n",
        "          'input_mask': input_mask,\n",
        "          'input_type_ids': input_type_ids},\n",
        "          outputs=output)\n",
        "    classifier_model.summary()\n",
        "    return classifier_model"
      ],
      "execution_count": null,
      "outputs": []
    },
    {
      "cell_type": "code",
      "metadata": {
        "id": "yGvKVKhnhN6X",
        "cellView": "form"
      },
      "source": [
        "#@title\n",
        "#last hidden states\n",
        "def create_lhs_model(max_sequence, model_name, num_labels):\n",
        "\n",
        "    input_word_ids = tf.keras.layers.Input(shape=(max_sequence,), dtype=tf.int32, name=\"input_word_ids\")\n",
        "    input_mask = tf.keras.layers.Input(shape=(max_sequence,), dtype=tf.int32, name=\"input_mask\") \n",
        "    input_type_ids = tf.keras.layers.Input(shape=(max_sequence,),dtype=tf.int32,name=\"input_type_ids\")\n",
        "\n",
        "    model = TFAutoModelForSequenceClassification.from_pretrained(model_name, trainable=False, output_hidden_states=True)\n",
        "    out = model(input_ids = input_word_ids, attention_mask = input_mask, token_type_ids = input_type_ids)\n",
        "    last_hidden_states = out.hidden_states[-1]\n",
        "    # out1, out2, out3, out4 = out.hidden_states[-1], out.hidden_states[-2], out.hidden_states[-3], out.hidden_states[-4]\n",
        "    # sum = tf.reduce_sum([out1, out2, out3, out4], 0)\n",
        "    last_hidden_states = tf.keras.layers.Flatten()(last_hidden_states)\n",
        "\n",
        "    initializer = tf.keras.initializers.TruncatedNormal(stddev=0.2)\n",
        "\n",
        "    output = tf.keras.layers.Dense(1024)(last_hidden_states)\n",
        "    output = tf.keras.layers.LeakyReLU(alpha=0.2)(output)\n",
        "    output = tf.keras.layers.Dropout(rate=0.3)(output)\n",
        "    output = tf.keras.layers.BatchNormalization()(output)\n",
        "\n",
        "    output = tf.keras.layers.Dense(512)(output)\n",
        "    output = tf.keras.layers.LeakyReLU(alpha=0.2)(output)\n",
        "    output = tf.keras.layers.Dropout(rate=0.3)(output)\n",
        "    output = tf.keras.layers.BatchNormalization()(output)\n",
        "\n",
        "    output = tf.keras.layers.Dense(256)(output)\n",
        "    output = tf.keras.layers.LeakyReLU(alpha=0.2)(output)\n",
        "    output = tf.keras.layers.Dropout(rate=0.3)(output)\n",
        "    output = tf.keras.layers.BatchNormalization()(output)\n",
        "    output = tf.keras.layers.Dense(num_labels, kernel_initializer=initializer, name='output', activation='softmax')(output)\n",
        "\n",
        "    classifier_model = tf.keras.Model(\n",
        "    inputs={\n",
        "          'input_word_ids': input_word_ids,\n",
        "          'input_mask': input_mask,\n",
        "          'input_type_ids': input_type_ids},\n",
        "          outputs=output)\n",
        "    return classifier_model"
      ],
      "execution_count": null,
      "outputs": []
    },
    {
      "cell_type": "code",
      "metadata": {
        "id": "4BmROwjwiVx1",
        "cellView": "form"
      },
      "source": [
        "#@title\n",
        "#sum\n",
        "def create_sum_model(max_sequence, model_name, num_labels):\n",
        "\n",
        "    input_word_ids = tf.keras.layers.Input(shape=(max_sequence,), dtype=tf.int32, name=\"input_word_ids\")\n",
        "    input_mask = tf.keras.layers.Input(shape=(max_sequence,), dtype=tf.int32, name=\"input_mask\") \n",
        "    input_type_ids = tf.keras.layers.Input(shape=(max_sequence,),dtype=tf.int32,name=\"input_type_ids\")\n",
        "\n",
        "    model = TFAutoModelForSequenceClassification.from_pretrained(model_name, trainable=False, output_hidden_states = True)\n",
        "    out = model(input_ids = input_word_ids, attention_mask = input_mask, token_type_ids = input_type_ids)\n",
        "    out1, out2, out3, out4 = out.hidden_states[-1], out.hidden_states[-2], out.hidden_states[-3], out.hidden_states[-4]\n",
        "    sum = tf.reduce_sum([out1, out2, out3, out4], 0)\n",
        "    sum = tf.keras.layers.Flatten()(sum)\n",
        "\n",
        "    initializer = tf.keras.initializers.TruncatedNormal(stddev=0.2)\n",
        "\n",
        "    output = tf.keras.layers.Dense(1024)(sum)\n",
        "    output = tf.keras.layers.LeakyReLU(alpha=0.2)(output)\n",
        "    output = tf.keras.layers.Dropout(rate=0.5)(output)\n",
        "    output = tf.keras.layers.BatchNormalization()(output)\n",
        "\n",
        "    output = tf.keras.layers.Dense(512)(output)\n",
        "    output = tf.keras.layers.LeakyReLU(alpha=0.2)(output)\n",
        "    output = tf.keras.layers.Dropout(rate=0.5)(output)\n",
        "    output = tf.keras.layers.BatchNormalization()(output)\n",
        "\n",
        "    output = tf.keras.layers.Dense(256)(output)\n",
        "    output = tf.keras.layers.LeakyReLU(alpha=0.2)(output)\n",
        "    output = tf.keras.layers.Dropout(rate=0.5)(output)\n",
        "    output = tf.keras.layers.BatchNormalization()(output)\n",
        "\n",
        "    output = tf.keras.layers.Dense(num_labels, kernel_initializer=initializer, name='output', activation='softmax')(output)\n",
        "\n",
        "    classifier_model = tf.keras.Model(\n",
        "    inputs={\n",
        "          'input_word_ids': input_word_ids,\n",
        "          'input_mask': input_mask,\n",
        "          'input_type_ids': input_type_ids},\n",
        "          outputs=output)\n",
        "    return classifier_model"
      ],
      "execution_count": null,
      "outputs": []
    },
    {
      "cell_type": "code",
      "metadata": {
        "id": "I8-eeY_XotJp",
        "cellView": "form"
      },
      "source": [
        "#@title\n",
        "#conv1d\n",
        "def create_conv1d_model(max_sequence, model_name, num_labels):\n",
        "\n",
        "    input_word_ids = tf.keras.layers.Input(shape=(max_sequence,), dtype=tf.int32, name=\"input_word_ids\")\n",
        "    input_mask = tf.keras.layers.Input(shape=(max_sequence,), dtype=tf.int32, name=\"input_mask\") \n",
        "    input_type_ids = tf.keras.layers.Input(shape=(max_sequence,),dtype=tf.int32,name=\"input_type_ids\")\n",
        "\n",
        "    model = TFAutoModelForSequenceClassification.from_pretrained(model_name, trainable=False, output_hidden_states = True)\n",
        "    out = model(input_ids = input_word_ids, attention_mask = input_mask, token_type_ids = input_type_ids)\n",
        "    out1, out2, out3, out4 = out.hidden_states[-1], out.hidden_states[-2], out.hidden_states[-3], out.hidden_states[-4]\n",
        "    cat = tf.concat([out1, out2, out3, out4], axis=-1)\n",
        "\n",
        "    conv1 = tf.keras.layers.Conv1D(filters=256, kernel_size=3)(cat)\n",
        "    conv1 = tf.keras.layers.MaxPool1D()(conv1)\n",
        "    # conv1 = tf.keras.layers.GlobalMaxPooling1D()(conv1)\n",
        "    conv1 = tf.keras.layers.Dropout(rate=0.5)(conv1)\n",
        "    conv1 = tf.keras.layers.BatchNormalization()(conv1)\n",
        "    conv1 = tf.keras.layers.LeakyReLU()(conv1)\n",
        "    conv1 = tf.keras.layers.Flatten()(conv1)\n",
        "\n",
        "    conv2 = tf.keras.layers.Conv1D(filters=256, kernel_size=4)(cat)\n",
        "    conv2 = tf.keras.layers.MaxPool1D()(conv2)\n",
        "    # conv2 = tf.keras.layers.GlobalMaxPooling1D()(conv2)\n",
        "    conv2 = tf.keras.layers.Dropout(rate=0.5)(conv2)\n",
        "    conv2 = tf.keras.layers.LeakyReLU()(conv2)\n",
        "    conv2 = tf.keras.layers.BatchNormalization()(conv2)\n",
        "    conv2 = tf.keras.layers.Flatten()(conv2)\n",
        "\n",
        "    conv3 = tf.keras.layers.Conv1D(filters=256, kernel_size=5)(cat)\n",
        "    conv3 = tf.keras.layers.MaxPool1D()(conv3)\n",
        "    # conv3 = tf.keras.layers.GlobalMaxPooling1D()(conv3)\n",
        "    conv3 = tf.keras.layers.Dropout(rate=0.5)(conv3)\n",
        "    conv3 = tf.keras.layers.LeakyReLU()(conv3)\n",
        "    conv3 = tf.keras.layers.BatchNormalization()(conv3)\n",
        "    conv3 = tf.keras.layers.Flatten()(conv3)\n",
        "\n",
        "    cat = tf.concat([conv1, conv2, conv3], axis=-1)\n",
        "\n",
        "    initializer = tf.keras.initializers.TruncatedNormal(stddev=0.2)\n",
        "\n",
        "    layer1 = tf.keras.layers.Dense(1024)(cat)\n",
        "    layer2 = tf.keras.layers.BatchNormalization()(layer1)\n",
        "    layer3 = tf.keras.layers.LeakyReLU(alpha=0.2)(layer2)\n",
        "    layer4 = tf.keras.layers.Dropout(rate=0.5)(layer3)\n",
        "\n",
        "    output = tf.keras.layers.Dense(512)(layer4)\n",
        "    output = tf.keras.layers.BatchNormalization()(output)\n",
        "    output = tf.keras.layers.LeakyReLU(alpha=0.2)(output)\n",
        "    output = tf.keras.layers.Dropout(rate=0.5)(output)\n",
        "\n",
        "    output = tf.keras.layers.Dense(256)(output)\n",
        "    output = tf.keras.layers.BatchNormalization()(output)\n",
        "    output = tf.keras.layers.LeakyReLU(alpha=0.2)(output)\n",
        "    output = tf.keras.layers.Dropout(rate=0.5)(output)\n",
        "\n",
        "    output = tf.keras.layers.Dense(num_labels, kernel_initializer=initializer, name='output', activation='softmax')(output)\n",
        "\n",
        "    classifier_model = tf.keras.Model(\n",
        "    inputs={\n",
        "          'input_word_ids': input_word_ids,\n",
        "          'input_mask': input_mask,\n",
        "          'input_type_ids': input_type_ids},\n",
        "          outputs=output)\n",
        "    return classifier_model"
      ],
      "execution_count": null,
      "outputs": []
    },
    {
      "cell_type": "markdown",
      "metadata": {
        "id": "msIcrIaJp3Fg"
      },
      "source": [
        "# Prepare data for training"
      ]
    },
    {
      "cell_type": "code",
      "metadata": {
        "id": "Z-j7wLju3ibN"
      },
      "source": [
        "# original\n",
        "train_path = \"/content/drive/MyDrive/FakeNews/Data/new/combine-train.csv\"\n",
        "train = pd.read_csv(train_path)\n",
        "\n",
        "# augmented\n",
        "train_aug_path = \"/content/drive/MyDrive/FakeNews/Data/new/combine-train-augmented.csv\"\n",
        "train_aug = pd.read_csv(train_aug_path)\n",
        "\n",
        "#test\n",
        "test_path = \"/content/drive/MyDrive/FakeNews/Data/new/combine-test.csv\"\n",
        "test = pd.read_csv(test_path)\n",
        "\n",
        "X_train, y_train = train.text.values, train.label.values\n",
        "X_train_aug, y_train_aug = train_aug.text.values, train_aug.label.values\n",
        "X_test, y_test = test.text.values, test.label.values"
      ],
      "execution_count": null,
      "outputs": []
    },
    {
      "cell_type": "code",
      "metadata": {
        "id": "8RJyQzVvEPer"
      },
      "source": [
        "X_train = batch_encode(list(X_train), tokenizer)\n",
        "X_train_aug = batch_encode(list(X_train_aug), tokenizer)\n",
        "X_test = batch_encode(list(X_test), tokenizer)"
      ],
      "execution_count": null,
      "outputs": []
    },
    {
      "cell_type": "markdown",
      "metadata": {
        "id": "m83qikSqEL4t"
      },
      "source": [
        "# Train the model"
      ]
    },
    {
      "cell_type": "code",
      "metadata": {
        "id": "i9cFViP0QnoE",
        "colab": {
          "base_uri": "https://localhost:8080/",
          "height": 993,
          "referenced_widgets": [
            "dcc2c3e16a2e48a6980201e46ac7a321",
            "a84d7b8b96284a15a502797d956e9974",
            "f2ec06c8e0a44fb8aa67bab9656f2787",
            "b642c21624c848b898935f626cab6345",
            "994f1c7141c64e08a2bb01c5463023c6",
            "7eaf961e47b34360a260158bdd33cddd",
            "d43ac52e9e3c4b30a191655723a9cc42",
            "9e768787df0248ccbf7caff6ddbb50fa",
            "7cfc0b3f709f4477a48713649e197df0",
            "988d2681f39942da8fd252fc4eb046bb",
            "d245c872dc5e49188d797493b9c0ceac"
          ]
        },
        "outputId": "d8b13219-bd4a-40fd-8452-52d85dd6e2b1"
      },
      "source": [
        "MAX_SEQUENCE_LENGTH = 64\n",
        "\n",
        "PRETRAINED_MODEL_NAME = \"digitalepidemiologylab/covid-twitter-bert-v2\"#\"digitalepidemiologylab/covid-twitter-bert/2\" #'vinai/bertweet-covid19-base-uncased' \n",
        "\n",
        "# Number of labels:\n",
        "number_of_label = 3#train['label'].nunique()\n",
        "\n",
        "models = [create_cat_model(MAX_SEQUENCE_LENGTH, PRETRAINED_MODEL_NAME, number_of_label)]\n",
        "        #   create_mean_model(MAX_SEQUENCE_LENGTH, PRETRAINED_MODEL_NAME, number_of_label)]\n",
        "        #   create_lhs_model(MAX_SEQUENCE_LENGTH, PRETRAINED_MODEL_NAME, number_of_label)]"
      ],
      "execution_count": null,
      "outputs": [
        {
          "output_type": "display_data",
          "data": {
            "application/vnd.jupyter.widget-view+json": {
              "model_id": "dcc2c3e16a2e48a6980201e46ac7a321",
              "version_minor": 0,
              "version_major": 2
            },
            "text/plain": [
              "Downloading:   0%|          | 0.00/1.37G [00:00<?, ?B/s]"
            ]
          },
          "metadata": {}
        },
        {
          "output_type": "stream",
          "name": "stderr",
          "text": [
            "All model checkpoint layers were used when initializing TFBertForSequenceClassification.\n",
            "\n",
            "Some layers of TFBertForSequenceClassification were not initialized from the model checkpoint at digitalepidemiologylab/covid-twitter-bert-v2 and are newly initialized: ['classifier']\n",
            "You should probably TRAIN this model on a down-stream task to be able to use it for predictions and inference.\n"
          ]
        },
        {
          "output_type": "stream",
          "name": "stdout",
          "text": [
            "Model: \"model\"\n",
            "__________________________________________________________________________________________________\n",
            "Layer (type)                    Output Shape         Param #     Connected to                     \n",
            "==================================================================================================\n",
            "input_word_ids (InputLayer)     [(None, 64)]         0                                            \n",
            "__________________________________________________________________________________________________\n",
            "input_mask (InputLayer)         [(None, 64)]         0                                            \n",
            "__________________________________________________________________________________________________\n",
            "input_type_ids (InputLayer)     [(None, 64)]         0                                            \n",
            "__________________________________________________________________________________________________\n",
            "tf_bert_for_sequence_classifica TFSequenceClassifier 335143938   input_word_ids[0][0]             \n",
            "                                                                 input_mask[0][0]                 \n",
            "                                                                 input_type_ids[0][0]             \n",
            "__________________________________________________________________________________________________\n",
            "tf.concat (TFOpLambda)          (None, 64, 4096)     0           tf_bert_for_sequence_classificati\n",
            "                                                                 tf_bert_for_sequence_classificati\n",
            "                                                                 tf_bert_for_sequence_classificati\n",
            "                                                                 tf_bert_for_sequence_classificati\n",
            "__________________________________________________________________________________________________\n",
            "flatten (Flatten)               (None, 262144)       0           tf.concat[0][0]                  \n",
            "__________________________________________________________________________________________________\n",
            "dense (Dense)                   (None, 1024)         268436480   flatten[0][0]                    \n",
            "__________________________________________________________________________________________________\n",
            "re_lu (ReLU)                    (None, 1024)         0           dense[0][0]                      \n",
            "__________________________________________________________________________________________________\n",
            "dropout_74 (Dropout)            (None, 1024)         0           re_lu[0][0]                      \n",
            "__________________________________________________________________________________________________\n",
            "batch_normalization (BatchNorma (None, 1024)         4096        dropout_74[0][0]                 \n",
            "__________________________________________________________________________________________________\n",
            "dense_1 (Dense)                 (None, 512)          524800      batch_normalization[0][0]        \n",
            "__________________________________________________________________________________________________\n",
            "re_lu_1 (ReLU)                  (None, 512)          0           dense_1[0][0]                    \n",
            "__________________________________________________________________________________________________\n",
            "dropout_75 (Dropout)            (None, 512)          0           re_lu_1[0][0]                    \n",
            "__________________________________________________________________________________________________\n",
            "batch_normalization_1 (BatchNor (None, 512)          2048        dropout_75[0][0]                 \n",
            "__________________________________________________________________________________________________\n",
            "dense_2 (Dense)                 (None, 256)          131328      batch_normalization_1[0][0]      \n",
            "__________________________________________________________________________________________________\n",
            "re_lu_2 (ReLU)                  (None, 256)          0           dense_2[0][0]                    \n",
            "__________________________________________________________________________________________________\n",
            "dropout_76 (Dropout)            (None, 256)          0           re_lu_2[0][0]                    \n",
            "__________________________________________________________________________________________________\n",
            "batch_normalization_2 (BatchNor (None, 256)          1024        dropout_76[0][0]                 \n",
            "__________________________________________________________________________________________________\n",
            "output (Dense)                  (None, 3)            771         batch_normalization_2[0][0]      \n",
            "==================================================================================================\n",
            "Total params: 604,244,485\n",
            "Trainable params: 269,096,963\n",
            "Non-trainable params: 335,147,522\n",
            "__________________________________________________________________________________________________\n"
          ]
        }
      ]
    },
    {
      "cell_type": "code",
      "metadata": {
        "id": "3ScAl72Uha0x"
      },
      "source": [
        "tf.compat.v1.reset_default_graph()\n",
        "filepaths = ['/content/drive/MyDrive/FakeNews/Models/Combine_aug/cat_aug_v3.hdf5']\n",
        "            #  '/content/drive/MyDrive/FakeNews/Models/Combine_aug/mean_aug_v2.hdf5']\n",
        "\n",
        "acc = []\n",
        "val_acc = []\n",
        "loss = []\n",
        "val_loss = []\n",
        "\n",
        "predict_acc = []\n",
        "cm = []\n",
        "mcc = []\n",
        "\n",
        "BATCH_SIZE = 256\n",
        "EPOCHS = 5"
      ],
      "execution_count": null,
      "outputs": []
    },
    {
      "cell_type": "code",
      "metadata": {
        "colab": {
          "base_uri": "https://localhost:8080/"
        },
        "id": "intRpaUohDfS",
        "outputId": "86045d9d-2742-4db4-b4a8-c4cbe813583c"
      },
      "source": [
        "for i, m in enumerate(models):\n",
        "    filepath = filepaths[i]\n",
        "    checkpoint = ModelCheckpoint(filepath=filepath, \n",
        "                             monitor='val_loss',\n",
        "                             verbose=1, \n",
        "                             save_best_only=True,\n",
        "                             save_weights_only=True,\n",
        "                             mode='min')\n",
        "\n",
        "    callbacks = [checkpoint]\n",
        "    tf.compat.v1.reset_default_graph()\n",
        "\n",
        "    model = m\n",
        "\n",
        "    opt = tfa.optimizers.AdamW(weight_decay=0.01 ,learning_rate=5e-05)\n",
        "\n",
        "    model.compile(optimizer=opt, \n",
        "                  loss= tf.keras.losses.SparseCategoricalCrossentropy(),\n",
        "                  metrics='SparseCategoricalAccuracy')\n",
        "\n",
        "    \n",
        "    history = model.fit(\n",
        "        x={'input_word_ids': X_train_aug['input_ids'], 'input_mask': X_train_aug['attention_mask'], 'input_type_ids': X_train_aug['token_type_ids']},\n",
        "        y=y_train_aug,\n",
        "        # validation_split=0.2, # for original data\n",
        "        validation_data=({'input_word_ids': X_test['input_ids'], 'input_mask': X_test['attention_mask'], 'input_type_ids': X_test['token_type_ids']}, y_test), # for augmented data\n",
        "        epochs=EPOCHS,\n",
        "        batch_size=BATCH_SIZE,\n",
        "        callbacks=callbacks\n",
        "        )\n",
        "    \n",
        "    acc.append(list(history.history['sparse_categorical_accuracy']))\n",
        "    val_acc.append(list(history.history['val_sparse_categorical_accuracy']))\n",
        "    loss.append(list(history.history['loss']))\n",
        "    val_loss.append(list(history.history['val_loss']))\n",
        "\n",
        "    model.load_weights(filepath)\n",
        "    model.evaluate(\n",
        "        x={'input_word_ids': X_test['input_ids'], 'input_mask': X_test['attention_mask'], 'input_type_ids': X_test['token_type_ids']},\n",
        "        y=y_test,\n",
        "        batch_size=BATCH_SIZE)\n",
        "    \n",
        "    prediction = model.predict({'input_word_ids': X_test['input_ids'], 'input_mask': X_test['attention_mask'], 'input_type_ids': X_test['token_type_ids']})\n",
        "    y_predicted = np.argmax(prediction, axis = 1)\n",
        "\n",
        "    sum = 0\n",
        "    for t in range(len(y_test)):\n",
        "        if y_predicted[t] == y_test[t]:\n",
        "            sum += 1\n",
        "    predict_acc.append(sum/len(y_test))\n",
        "    cm.append(list(confusion_matrix(y_test, y_predicted)))\n",
        "    mcc.append(matthews_corrcoef(y_test, y_predicted))\n"
      ],
      "execution_count": null,
      "outputs": [
        {
          "output_type": "stream",
          "name": "stdout",
          "text": [
            "Epoch 1/5\n",
            "43/43 [==============================] - 121s 2s/step - loss: 1.4961 - sparse_categorical_accuracy: 0.5400 - val_loss: 1.1444 - val_sparse_categorical_accuracy: 0.6579\n",
            "\n",
            "Epoch 00001: val_loss improved from inf to 1.14436, saving model to /content/drive/MyDrive/FakeNews/Models/Combine_aug/cat_aug_v3.hdf5\n",
            "Epoch 2/5\n",
            "43/43 [==============================] - 84s 2s/step - loss: 0.7391 - sparse_categorical_accuracy: 0.7588 - val_loss: 1.1353 - val_sparse_categorical_accuracy: 0.5033\n",
            "\n",
            "Epoch 00002: val_loss improved from 1.14436 to 1.13525, saving model to /content/drive/MyDrive/FakeNews/Models/Combine_aug/cat_aug_v3.hdf5\n",
            "Epoch 3/5\n",
            "43/43 [==============================] - 83s 2s/step - loss: 0.6765 - sparse_categorical_accuracy: 0.8876 - val_loss: 1.1125 - val_sparse_categorical_accuracy: 0.4967\n",
            "\n",
            "Epoch 00003: val_loss improved from 1.13525 to 1.11254, saving model to /content/drive/MyDrive/FakeNews/Models/Combine_aug/cat_aug_v3.hdf5\n",
            "Epoch 4/5\n",
            "43/43 [==============================] - 83s 2s/step - loss: 0.8098 - sparse_categorical_accuracy: 0.9483 - val_loss: 1.1022 - val_sparse_categorical_accuracy: 0.4967\n",
            "\n",
            "Epoch 00004: val_loss improved from 1.11254 to 1.10221, saving model to /content/drive/MyDrive/FakeNews/Models/Combine_aug/cat_aug_v3.hdf5\n",
            "Epoch 5/5\n",
            "43/43 [==============================] - 83s 2s/step - loss: 0.9866 - sparse_categorical_accuracy: 0.9600 - val_loss: 1.0986 - val_sparse_categorical_accuracy: 0.4967\n",
            "\n",
            "Epoch 00005: val_loss improved from 1.10221 to 1.09865, saving model to /content/drive/MyDrive/FakeNews/Models/Combine_aug/cat_aug_v3.hdf5\n",
            "2/2 [==============================] - 2s 402ms/step - loss: 1.0986 - sparse_categorical_accuracy: 0.4967\n"
          ]
        },
        {
          "output_type": "stream",
          "name": "stderr",
          "text": [
            "/usr/local/lib/python3.7/dist-packages/sklearn/metrics/_classification.py:900: RuntimeWarning: invalid value encountered in double_scalars\n",
            "  mcc = cov_ytyp / np.sqrt(cov_ytyt * cov_ypyp)\n"
          ]
        }
      ]
    },
    {
      "cell_type": "markdown",
      "metadata": {
        "id": "x9tD6TK7TOwM"
      },
      "source": [
        "# Visualization for all 5 models"
      ]
    },
    {
      "cell_type": "code",
      "metadata": {
        "colab": {
          "base_uri": "https://localhost:8080/"
        },
        "id": "SEVatBRRnc2b",
        "outputId": "745a12f9-4109-4af7-e658-1cd41727d79f"
      },
      "source": [
        "mcc"
      ],
      "execution_count": null,
      "outputs": [
        {
          "output_type": "execute_result",
          "data": {
            "text/plain": [
              "[0.0]"
            ]
          },
          "metadata": {},
          "execution_count": 15
        }
      ]
    },
    {
      "cell_type": "code",
      "metadata": {
        "colab": {
          "base_uri": "https://localhost:8080/"
        },
        "id": "BLarDellndG5",
        "outputId": "2851cda6-88fb-4600-c6a3-c712de7bd063"
      },
      "source": [
        "predict_acc"
      ],
      "execution_count": null,
      "outputs": [
        {
          "output_type": "execute_result",
          "data": {
            "text/plain": [
              "[0.4967105263157895]"
            ]
          },
          "metadata": {},
          "execution_count": 16
        }
      ]
    },
    {
      "cell_type": "code",
      "metadata": {
        "colab": {
          "base_uri": "https://localhost:8080/"
        },
        "id": "w4pTZBgILBA-",
        "outputId": "a7484071-99b6-4da9-cdeb-0732ca63c686"
      },
      "source": [
        "val_loss"
      ],
      "execution_count": null,
      "outputs": [
        {
          "output_type": "execute_result",
          "data": {
            "text/plain": [
              "[[1.1530272960662842,\n",
              "  1.1401772499084473,\n",
              "  1.1148353815078735,\n",
              "  1.1028417348861694,\n",
              "  1.0986613035202026]]"
            ]
          },
          "metadata": {},
          "execution_count": 17
        }
      ]
    },
    {
      "cell_type": "code",
      "metadata": {
        "colab": {
          "base_uri": "https://localhost:8080/",
          "height": 334
        },
        "id": "wymmvkFMnz25",
        "outputId": "c2427e00-6dba-4b2d-df38-93c543f6cceb"
      },
      "source": [
        "import matplotlib.pyplot as plt\n",
        "import seaborn as sns\n",
        "sns.set_theme()\n",
        "\n",
        "epochs = range(1, len(acc[0]) + 1)\n",
        "\n",
        "plt.plot(epochs, acc[0], 'r', label='Training cat')\n",
        "# plt.plot(epochs, acc[1], 'g', label='Training sum')\n",
        "# plt.plot(epochs, acc[1], 'b', label='Training mean')\n",
        "# plt.plot(epochs, acc[2], 'y', label='Training lhs')\n",
        "# plt.plot(epochs, acc[4], 'm', label='Training conv1d')\n",
        "plt.plot(epochs, val_acc[0], 'r--', label='Validation cat')\n",
        "# plt.plot(epochs, val_acc[1], 'g--', label='Validation sum')\n",
        "# plt.plot(epochs, val_acc[1], 'b--', label='Validation mean')\n",
        "# plt.plot(epochs, val_acc[2], 'y--', label='Validation lhs')\n",
        "# plt.plot(epochs, val_acc[4], ',--', label='Validation con1d')\n",
        "plt.xlabel(\"Epochs\")\n",
        "plt.ylabel(\"Accuracy\")\n",
        "plt.title('Training and validation accuracy')\n",
        "plt.legend(loc='center left', bbox_to_anchor=(1, 0.5))\n",
        "\n",
        "plt.figure(figsize=(12, 8), dpi=100)"
      ],
      "execution_count": null,
      "outputs": [
        {
          "output_type": "execute_result",
          "data": {
            "text/plain": [
              "<Figure size 1200x800 with 0 Axes>"
            ]
          },
          "metadata": {},
          "execution_count": 18
        },
        {
          "output_type": "display_data",
          "data": {
            "image/png": "[encoded data removed]",
            "text/plain": [
              "<Figure size 432x288 with 1 Axes>"
            ]
          },
          "metadata": {}
        },
        {
          "output_type": "display_data",
          "data": {
            "text/plain": [
              "<Figure size 1200x800 with 0 Axes>"
            ]
          },
          "metadata": {}
        }
      ]
    },
    {
      "cell_type": "code",
      "metadata": {
        "colab": {
          "base_uri": "https://localhost:8080/",
          "height": 334
        },
        "id": "lqwQ_oiRqC1m",
        "outputId": "94e58037-70b6-4b6e-b02e-31f8241b5bd9"
      },
      "source": [
        "plt.plot(epochs, loss[0], 'r', label='Training cat')\n",
        "# plt.plot(epochs, loss[1], 'b', label='Training mean')\n",
        "# plt.plot(epochs, loss[2], 'g', label='Training mean')\n",
        "\n",
        "plt.plot(epochs, val_loss[0], 'r--', label='Validation cat')\n",
        "# plt.plot(epochs, val_loss[1], 'b--', label='Validation mean')\n",
        "# plt.plot(epochs, val_loss[2], 'g--', label='Validation mean')\n",
        "\n",
        "plt.xlabel(\"Epochs\")\n",
        "plt.ylabel(\"Loss\")\n",
        "\n",
        "plt.title('Training and validation loss')\n",
        "plt.legend(loc='center left', bbox_to_anchor=(1, 0.5))\n",
        "\n",
        "plt.figure(figsize=(12, 8), dpi=100)"
      ],
      "execution_count": null,
      "outputs": [
        {
          "output_type": "execute_result",
          "data": {
            "text/plain": [
              "<Figure size 1200x800 with 0 Axes>"
            ]
          },
          "metadata": {},
          "execution_count": 19
        },
        {
          "output_type": "display_data",
          "data": {
            "image/png": "[encoded data removed]",
            "text/plain": [
              "<Figure size 432x288 with 1 Axes>"
            ]
          },
          "metadata": {}
        },
        {
          "output_type": "display_data",
          "data": {
            "text/plain": [
              "<Figure size 1200x800 with 0 Axes>"
            ]
          },
          "metadata": {}
        }
      ]
    },
    {
      "cell_type": "code",
      "metadata": {
        "colab": {
          "base_uri": "https://localhost:8080/",
          "height": 671
        },
        "id": "xfRyK2lLq0v_",
        "outputId": "f6901ca1-a5cf-479c-a5da-f47393d4131e"
      },
      "source": [
        "colors = ['b', 'c', 'y', 'm', 'r']\n",
        "\n",
        "lo = plt.scatter(predict_acc[0], mcc[0], marker='o', color=colors[0])\n",
        "# ll = plt.scatter(predict_acc[1], mcc[1], marker='o', color=colors[1])\n",
        "plt.title('MCC and Acc')\n",
        "\n",
        "plt.legend((lo),\n",
        "           ('Cat', 'Mean', 'LHS'),\n",
        "        #    ('Cat', 'Sum', 'Mean', 'LHS', 'Conv1d'),\n",
        "           scatterpoints=1,\n",
        "           loc='center left',\n",
        "           bbox_to_anchor=(1, 0.5),\n",
        "           ncol=3,\n",
        "           fontsize=8)\n",
        "plt.ylabel(\"MCC\")\n",
        "plt.xlabel(\"Accuracy\")\n",
        "\n",
        "plt.figure(figsize=(192, 108), dpi=10)\n",
        "\n",
        "plt.show()"
      ],
      "execution_count": null,
      "outputs": [
        {
          "output_type": "error",
          "ename": "TypeError",
          "evalue": "ignored",
          "traceback": [
            "\u001b[0;31m---------------------------------------------------------------------------\u001b[0m",
            "\u001b[0;31mTypeError\u001b[0m                                 Traceback (most recent call last)",
            "\u001b[0;32m<ipython-input-20-ecd36ebb014d>\u001b[0m in \u001b[0;36m<module>\u001b[0;34m()\u001b[0m\n\u001b[1;32m     12\u001b[0m            \u001b[0mbbox_to_anchor\u001b[0m\u001b[0;34m=\u001b[0m\u001b[0;34m(\u001b[0m\u001b[0;36m1\u001b[0m\u001b[0;34m,\u001b[0m \u001b[0;36m0.5\u001b[0m\u001b[0;34m)\u001b[0m\u001b[0;34m,\u001b[0m\u001b[0;34m\u001b[0m\u001b[0;34m\u001b[0m\u001b[0m\n\u001b[1;32m     13\u001b[0m            \u001b[0mncol\u001b[0m\u001b[0;34m=\u001b[0m\u001b[0;36m3\u001b[0m\u001b[0;34m,\u001b[0m\u001b[0;34m\u001b[0m\u001b[0;34m\u001b[0m\u001b[0m\n\u001b[0;32m---> 14\u001b[0;31m            fontsize=8)\n\u001b[0m\u001b[1;32m     15\u001b[0m \u001b[0mplt\u001b[0m\u001b[0;34m.\u001b[0m\u001b[0mylabel\u001b[0m\u001b[0;34m(\u001b[0m\u001b[0;34m\"MCC\"\u001b[0m\u001b[0;34m)\u001b[0m\u001b[0;34m\u001b[0m\u001b[0;34m\u001b[0m\u001b[0m\n\u001b[1;32m     16\u001b[0m \u001b[0mplt\u001b[0m\u001b[0;34m.\u001b[0m\u001b[0mxlabel\u001b[0m\u001b[0;34m(\u001b[0m\u001b[0;34m\"Accuracy\"\u001b[0m\u001b[0;34m)\u001b[0m\u001b[0;34m\u001b[0m\u001b[0;34m\u001b[0m\u001b[0m\n",
            "\u001b[0;32m/usr/local/lib/python3.7/dist-packages/matplotlib/pyplot.py\u001b[0m in \u001b[0;36mlegend\u001b[0;34m(*args, **kwargs)\u001b[0m\n\u001b[1;32m   2657\u001b[0m \u001b[0;34m@\u001b[0m\u001b[0mdocstring\u001b[0m\u001b[0;34m.\u001b[0m\u001b[0mcopy\u001b[0m\u001b[0;34m(\u001b[0m\u001b[0mAxes\u001b[0m\u001b[0;34m.\u001b[0m\u001b[0mlegend\u001b[0m\u001b[0;34m)\u001b[0m\u001b[0;34m\u001b[0m\u001b[0;34m\u001b[0m\u001b[0m\n\u001b[1;32m   2658\u001b[0m \u001b[0;32mdef\u001b[0m \u001b[0mlegend\u001b[0m\u001b[0;34m(\u001b[0m\u001b[0;34m*\u001b[0m\u001b[0margs\u001b[0m\u001b[0;34m,\u001b[0m \u001b[0;34m**\u001b[0m\u001b[0mkwargs\u001b[0m\u001b[0;34m)\u001b[0m\u001b[0;34m:\u001b[0m\u001b[0;34m\u001b[0m\u001b[0;34m\u001b[0m\u001b[0m\n\u001b[0;32m-> 2659\u001b[0;31m     \u001b[0;32mreturn\u001b[0m \u001b[0mgca\u001b[0m\u001b[0;34m(\u001b[0m\u001b[0;34m)\u001b[0m\u001b[0;34m.\u001b[0m\u001b[0mlegend\u001b[0m\u001b[0;34m(\u001b[0m\u001b[0;34m*\u001b[0m\u001b[0margs\u001b[0m\u001b[0;34m,\u001b[0m \u001b[0;34m**\u001b[0m\u001b[0mkwargs\u001b[0m\u001b[0;34m)\u001b[0m\u001b[0;34m\u001b[0m\u001b[0;34m\u001b[0m\u001b[0m\n\u001b[0m\u001b[1;32m   2660\u001b[0m \u001b[0;34m\u001b[0m\u001b[0m\n\u001b[1;32m   2661\u001b[0m \u001b[0;34m\u001b[0m\u001b[0m\n",
            "\u001b[0;32m/usr/local/lib/python3.7/dist-packages/matplotlib/axes/_axes.py\u001b[0m in \u001b[0;36mlegend\u001b[0;34m(self, *args, **kwargs)\u001b[0m\n\u001b[1;32m    399\u001b[0m         \u001b[0;32mif\u001b[0m \u001b[0mlen\u001b[0m\u001b[0;34m(\u001b[0m\u001b[0mextra_args\u001b[0m\u001b[0;34m)\u001b[0m\u001b[0;34m:\u001b[0m\u001b[0;34m\u001b[0m\u001b[0;34m\u001b[0m\u001b[0m\n\u001b[1;32m    400\u001b[0m             \u001b[0;32mraise\u001b[0m \u001b[0mTypeError\u001b[0m\u001b[0;34m(\u001b[0m\u001b[0;34m'legend only accepts two non-keyword arguments'\u001b[0m\u001b[0;34m)\u001b[0m\u001b[0;34m\u001b[0m\u001b[0;34m\u001b[0m\u001b[0m\n\u001b[0;32m--> 401\u001b[0;31m         \u001b[0mself\u001b[0m\u001b[0;34m.\u001b[0m\u001b[0mlegend_\u001b[0m \u001b[0;34m=\u001b[0m \u001b[0mmlegend\u001b[0m\u001b[0;34m.\u001b[0m\u001b[0mLegend\u001b[0m\u001b[0;34m(\u001b[0m\u001b[0mself\u001b[0m\u001b[0;34m,\u001b[0m \u001b[0mhandles\u001b[0m\u001b[0;34m,\u001b[0m \u001b[0mlabels\u001b[0m\u001b[0;34m,\u001b[0m \u001b[0;34m**\u001b[0m\u001b[0mkwargs\u001b[0m\u001b[0;34m)\u001b[0m\u001b[0;34m\u001b[0m\u001b[0;34m\u001b[0m\u001b[0m\n\u001b[0m\u001b[1;32m    402\u001b[0m         \u001b[0mself\u001b[0m\u001b[0;34m.\u001b[0m\u001b[0mlegend_\u001b[0m\u001b[0;34m.\u001b[0m\u001b[0m_remove_method\u001b[0m \u001b[0;34m=\u001b[0m \u001b[0mself\u001b[0m\u001b[0;34m.\u001b[0m\u001b[0m_remove_legend\u001b[0m\u001b[0;34m\u001b[0m\u001b[0;34m\u001b[0m\u001b[0m\n\u001b[1;32m    403\u001b[0m         \u001b[0;32mreturn\u001b[0m \u001b[0mself\u001b[0m\u001b[0;34m.\u001b[0m\u001b[0mlegend_\u001b[0m\u001b[0;34m\u001b[0m\u001b[0;34m\u001b[0m\u001b[0m\n",
            "\u001b[0;32m/usr/local/lib/python3.7/dist-packages/matplotlib/legend.py\u001b[0m in \u001b[0;36m__init__\u001b[0;34m(self, parent, handles, labels, loc, numpoints, markerscale, markerfirst, scatterpoints, scatteryoffsets, prop, fontsize, borderpad, labelspacing, handlelength, handleheight, handletextpad, borderaxespad, columnspacing, ncol, mode, fancybox, shadow, title, title_fontsize, framealpha, edgecolor, facecolor, bbox_to_anchor, bbox_transform, frameon, handler_map)\u001b[0m\n\u001b[1;32m    417\u001b[0m         \u001b[0;31m# trim handles and labels if illegal label...\u001b[0m\u001b[0;34m\u001b[0m\u001b[0;34m\u001b[0m\u001b[0;34m\u001b[0m\u001b[0m\n\u001b[1;32m    418\u001b[0m         \u001b[0m_lab\u001b[0m\u001b[0;34m,\u001b[0m \u001b[0m_hand\u001b[0m \u001b[0;34m=\u001b[0m \u001b[0;34m[\u001b[0m\u001b[0;34m]\u001b[0m\u001b[0;34m,\u001b[0m \u001b[0;34m[\u001b[0m\u001b[0;34m]\u001b[0m\u001b[0;34m\u001b[0m\u001b[0;34m\u001b[0m\u001b[0m\n\u001b[0;32m--> 419\u001b[0;31m         \u001b[0;32mfor\u001b[0m \u001b[0mlabel\u001b[0m\u001b[0;34m,\u001b[0m \u001b[0mhandle\u001b[0m \u001b[0;32min\u001b[0m \u001b[0mzip\u001b[0m\u001b[0;34m(\u001b[0m\u001b[0mlabels\u001b[0m\u001b[0;34m,\u001b[0m \u001b[0mhandles\u001b[0m\u001b[0;34m)\u001b[0m\u001b[0;34m:\u001b[0m\u001b[0;34m\u001b[0m\u001b[0;34m\u001b[0m\u001b[0m\n\u001b[0m\u001b[1;32m    420\u001b[0m             \u001b[0;32mif\u001b[0m \u001b[0misinstance\u001b[0m\u001b[0;34m(\u001b[0m\u001b[0mlabel\u001b[0m\u001b[0;34m,\u001b[0m \u001b[0mstr\u001b[0m\u001b[0;34m)\u001b[0m \u001b[0;32mand\u001b[0m \u001b[0mlabel\u001b[0m\u001b[0;34m.\u001b[0m\u001b[0mstartswith\u001b[0m\u001b[0;34m(\u001b[0m\u001b[0;34m'_'\u001b[0m\u001b[0;34m)\u001b[0m\u001b[0;34m:\u001b[0m\u001b[0;34m\u001b[0m\u001b[0;34m\u001b[0m\u001b[0m\n\u001b[1;32m    421\u001b[0m                 cbook._warn_external('The handle {!r} has a label of {!r} '\n",
            "\u001b[0;31mTypeError\u001b[0m: zip argument #2 must support iteration"
          ]
        },
        {
          "output_type": "display_data",
          "data": {
            "image/png": "[encoded data removed]",
            "text/plain": [
              "<Figure size 432x288 with 1 Axes>"
            ]
          },
          "metadata": {}
        }
      ]
    },
    {
      "cell_type": "code",
      "metadata": {
        "colab": {
          "base_uri": "https://localhost:8080/",
          "height": 502
        },
        "id": "uq_4UcOZtafA",
        "outputId": "be73a92b-a58c-43d8-ea25-97078b5bed92"
      },
      "source": [
        "fig, axes = plt.subplots(nrows=1, ncols=3, figsize=(36,12))\n",
        "# t = ['Cat', 'Sum', 'Mean', 'LHS', 'Conv1d']\n",
        "t = ['Cat', 'Mean']\n",
        "\n",
        "\n",
        "for i, m in enumerate(cm):\n",
        "    axes.flat[i].title.set_text(t[i])\n",
        "    df_cm = pd.DataFrame(cm[i], index = [i for i in range(3)],\n",
        "                  columns = [i for i in range(3)])\n",
        "    plt.figure(figsize = (12,6))\n",
        "    sns.heatmap(df_cm, annot=True, cmap=\"Blues\", ax=axes.flat[i])\n",
        "plt.tight_layout()  \n",
        "plt.show()"
      ],
      "execution_count": null,
      "outputs": [
        {
          "output_type": "display_data",
          "data": {
            "image/png": "[encoded data removed]",
            "text/plain": [
              "<Figure size 2592x864 with 4 Axes>"
            ]
          },
          "metadata": {}
        },
        {
          "output_type": "display_data",
          "data": {
            "text/plain": [
              "<Figure size 864x432 with 0 Axes>"
            ]
          },
          "metadata": {}
        }
      ]
    },
    {
      "cell_type": "code",
      "metadata": {
        "colab": {
          "base_uri": "https://localhost:8080/"
        },
        "id": "JgO1_PsAE8u0",
        "outputId": "ab023e3a-5f41-4969-cfcb-4f379e0de130"
      },
      "source": [
        "model = create_cat_model(MAX_SEQUENCE_LENGTH, PRETRAINED_MODEL_NAME, number_of_label)\n",
        "\n",
        "opt = tfa.optimizers.AdamW(weight_decay=0.01 ,learning_rate=5e-05)\n",
        "\n",
        "model.compile(optimizer=opt, \n",
        "              loss= tf.keras.losses.SparseCategoricalCrossentropy(),\n",
        "              metrics='SparseCategoricalAccuracy')\n",
        "\n",
        "model.load_weights(\"/content/drive/MyDrive/FakeNews/Models/Combine_aug/cat_aug_v3.hdf5\")"
      ],
      "execution_count": null,
      "outputs": [
        {
          "output_type": "stream",
          "name": "stderr",
          "text": [
            "All model checkpoint layers were used when initializing TFBertForSequenceClassification.\n",
            "\n",
            "Some layers of TFBertForSequenceClassification were not initialized from the model checkpoint at digitalepidemiologylab/covid-twitter-bert-v2 and are newly initialized: ['classifier']\n",
            "You should probably TRAIN this model on a down-stream task to be able to use it for predictions and inference.\n"
          ]
        },
        {
          "output_type": "stream",
          "name": "stdout",
          "text": [
            "Model: \"model_5\"\n",
            "__________________________________________________________________________________________________\n",
            "Layer (type)                    Output Shape         Param #     Connected to                     \n",
            "==================================================================================================\n",
            "input_word_ids (InputLayer)     [(None, 64)]         0                                            \n",
            "__________________________________________________________________________________________________\n",
            "input_mask (InputLayer)         [(None, 64)]         0                                            \n",
            "__________________________________________________________________________________________________\n",
            "input_type_ids (InputLayer)     [(None, 64)]         0                                            \n",
            "__________________________________________________________________________________________________\n",
            "tf_bert_for_sequence_classifica TFSequenceClassifier 335143938   input_word_ids[0][0]             \n",
            "                                                                 input_mask[0][0]                 \n",
            "                                                                 input_type_ids[0][0]             \n",
            "__________________________________________________________________________________________________\n",
            "tf.concat_5 (TFOpLambda)        (None, 64, 4096)     0           tf_bert_for_sequence_classificati\n",
            "                                                                 tf_bert_for_sequence_classificati\n",
            "                                                                 tf_bert_for_sequence_classificati\n",
            "                                                                 tf_bert_for_sequence_classificati\n",
            "__________________________________________________________________________________________________\n",
            "flatten_5 (Flatten)             (None, 262144)       0           tf.concat_5[0][0]                \n",
            "__________________________________________________________________________________________________\n",
            "dense_15 (Dense)                (None, 1024)         268436480   flatten_5[0][0]                  \n",
            "__________________________________________________________________________________________________\n",
            "re_lu_15 (ReLU)                 (None, 1024)         0           dense_15[0][0]                   \n",
            "__________________________________________________________________________________________________\n",
            "dropout_459 (Dropout)           (None, 1024)         0           re_lu_15[0][0]                   \n",
            "__________________________________________________________________________________________________\n",
            "batch_normalization_15 (BatchNo (None, 1024)         4096        dropout_459[0][0]                \n",
            "__________________________________________________________________________________________________\n",
            "dense_16 (Dense)                (None, 512)          524800      batch_normalization_15[0][0]     \n",
            "__________________________________________________________________________________________________\n",
            "re_lu_16 (ReLU)                 (None, 512)          0           dense_16[0][0]                   \n",
            "__________________________________________________________________________________________________\n",
            "dropout_460 (Dropout)           (None, 512)          0           re_lu_16[0][0]                   \n",
            "__________________________________________________________________________________________________\n",
            "batch_normalization_16 (BatchNo (None, 512)          2048        dropout_460[0][0]                \n",
            "__________________________________________________________________________________________________\n",
            "dense_17 (Dense)                (None, 256)          131328      batch_normalization_16[0][0]     \n",
            "__________________________________________________________________________________________________\n",
            "re_lu_17 (ReLU)                 (None, 256)          0           dense_17[0][0]                   \n",
            "__________________________________________________________________________________________________\n",
            "dropout_461 (Dropout)           (None, 256)          0           re_lu_17[0][0]                   \n",
            "__________________________________________________________________________________________________\n",
            "batch_normalization_17 (BatchNo (None, 256)          1024        dropout_461[0][0]                \n",
            "__________________________________________________________________________________________________\n",
            "output (Dense)                  (None, 3)            771         batch_normalization_17[0][0]     \n",
            "==================================================================================================\n",
            "Total params: 604,244,485\n",
            "Trainable params: 269,096,963\n",
            "Non-trainable params: 335,147,522\n",
            "__________________________________________________________________________________________________\n"
          ]
        }
      ]
    },
    {
      "cell_type": "code",
      "metadata": {
        "colab": {
          "base_uri": "https://localhost:8080/"
        },
        "id": "nOdQkeaHGTjP",
        "outputId": "74c70db0-2438-4674-b428-63397c2e560f"
      },
      "source": [
        "model.evaluate(\n",
        "        x={'input_word_ids': X_test['input_ids'], 'input_mask': X_test['attention_mask'], 'input_type_ids': X_test['token_type_ids']},\n",
        "        y=y_test,\n",
        "        batch_size=256)\n",
        "    \n",
        "prediction = model.predict({'input_word_ids': X_test['input_ids'], 'input_mask': X_test['attention_mask'], 'input_type_ids': X_test['token_type_ids']})\n",
        "y_predicted = np.argmax(prediction, axis = 1)\n",
        "\n",
        "sum = 0\n",
        "for t in range(len(y_test)):\n",
        "    if y_predicted[t] == y_test[t]:\n",
        "        sum += 1\n",
        "print(sum/len(y_test))\n",
        "print(list(confusion_matrix(y_test, y_predicted)))\n",
        "print(matthews_corrcoef(y_test, y_predicted))"
      ],
      "execution_count": null,
      "outputs": [
        {
          "output_type": "stream",
          "name": "stdout",
          "text": [
            "2/2 [==============================] - 11s 391ms/step - loss: 1.0986 - sparse_categorical_accuracy: 0.4967\n",
            "0.4967105263157895\n",
            "[array([151,   0,   0]), array([53,  0,  0]), array([100,   0,   0])]\n",
            "0.0\n"
          ]
        },
        {
          "output_type": "stream",
          "name": "stderr",
          "text": [
            "/usr/local/lib/python3.7/dist-packages/sklearn/metrics/_classification.py:900: RuntimeWarning: invalid value encountered in double_scalars\n",
            "  mcc = cov_ytyp / np.sqrt(cov_ytyt * cov_ypyp)\n"
          ]
        }
      ]
    },
    {
      "cell_type": "code",
      "metadata": {
        "colab": {
          "base_uri": "https://localhost:8080/"
        },
        "id": "1fu3qeNIE9uh",
        "outputId": "2142e8cf-b1c1-4a4c-bdff-43ae55f38afa"
      },
      "source": [
        "y_test"
      ],
      "execution_count": null,
      "outputs": [
        {
          "output_type": "execute_result",
          "data": {
            "text/plain": [
              "array([0, 0, 2, 2, 0, 2, 2, 0, 0, 0, 0, 0, 0, 1, 0, 1, 1, 1, 1, 0, 1, 1,\n",
              "       0, 1, 2, 0, 0, 0, 2, 2, 0, 1, 2, 2, 2, 1, 2, 2, 2, 0, 0, 0, 2, 2,\n",
              "       2, 2, 0, 0, 2, 2, 0, 0, 0, 0, 2, 2, 2, 2, 1, 1, 2, 0, 2, 0, 0, 2,\n",
              "       2, 1, 0, 0, 1, 0, 2, 2, 0, 0, 0, 2, 1, 0, 2, 2, 1, 0, 0, 2, 2, 1,\n",
              "       0, 1, 2, 1, 0, 0, 2, 0, 1, 0, 2, 2, 0, 0, 0, 2, 1, 1, 0, 0, 2, 0,\n",
              "       0, 0, 0, 1, 2, 0, 0, 0, 1, 0, 2, 0, 0, 0, 0, 1, 2, 0, 0, 2, 0, 0,\n",
              "       0, 0, 1, 0, 2, 0, 0, 0, 1, 0, 0, 0, 0, 0, 2, 0, 0, 1, 0, 0, 0, 2,\n",
              "       0, 2, 0, 0, 0, 0, 2, 2, 1, 2, 0, 0, 2, 2, 1, 2, 1, 0, 0, 2, 0, 2,\n",
              "       2, 0, 0, 0, 2, 2, 0, 2, 0, 0, 2, 0, 0, 0, 0, 2, 0, 1, 0, 0, 2, 2,\n",
              "       0, 1, 2, 0, 2, 2, 0, 2, 0, 0, 0, 0, 2, 0, 0, 2, 2, 1, 2, 0, 1, 2,\n",
              "       1, 2, 0, 1, 0, 0, 2, 0, 2, 0, 0, 0, 0, 2, 2, 0, 2, 1, 1, 1, 0, 0,\n",
              "       0, 0, 0, 0, 0, 2, 2, 2, 0, 0, 0, 0, 2, 0, 1, 0, 1, 1, 0, 0, 1, 2,\n",
              "       1, 0, 2, 0, 1, 1, 0, 2, 2, 0, 1, 2, 0, 0, 2, 2, 2, 2, 0, 2, 2, 1,\n",
              "       2, 0, 2, 0, 1, 0, 0, 0, 1, 1, 1, 2, 0, 2, 0, 2, 2, 0])"
            ]
          },
          "metadata": {},
          "execution_count": 24
        }
      ]
    },
    {
      "cell_type": "code",
      "metadata": {
        "colab": {
          "base_uri": "https://localhost:8080/"
        },
        "id": "rVnRY3QBGmjv",
        "outputId": "d46cc999-474e-4b06-8987-905405c8614b"
      },
      "source": [
        "y_predicted"
      ],
      "execution_count": null,
      "outputs": [
        {
          "output_type": "execute_result",
          "data": {
            "text/plain": [
              "array([0, 0, 0, 0, 0, 0, 0, 0, 0, 0, 0, 0, 0, 0, 0, 0, 0, 0, 0, 0, 0, 0,\n",
              "       0, 0, 0, 0, 0, 0, 0, 0, 0, 0, 0, 0, 0, 0, 0, 0, 0, 0, 0, 0, 0, 0,\n",
              "       0, 0, 0, 0, 0, 0, 0, 0, 0, 0, 0, 0, 0, 0, 0, 0, 0, 0, 0, 0, 0, 0,\n",
              "       0, 0, 0, 0, 0, 0, 0, 0, 0, 0, 0, 0, 0, 0, 0, 0, 0, 0, 0, 0, 0, 0,\n",
              "       0, 0, 0, 0, 0, 0, 0, 0, 0, 0, 0, 0, 0, 0, 0, 0, 0, 0, 0, 0, 0, 0,\n",
              "       0, 0, 0, 0, 0, 0, 0, 0, 0, 0, 0, 0, 0, 0, 0, 0, 0, 0, 0, 0, 0, 0,\n",
              "       0, 0, 0, 0, 0, 0, 0, 0, 0, 0, 0, 0, 0, 0, 0, 0, 0, 0, 0, 0, 0, 0,\n",
              "       0, 0, 0, 0, 0, 0, 0, 0, 0, 0, 0, 0, 0, 0, 0, 0, 0, 0, 0, 0, 0, 0,\n",
              "       0, 0, 0, 0, 0, 0, 0, 0, 0, 0, 0, 0, 0, 0, 0, 0, 0, 0, 0, 0, 0, 0,\n",
              "       0, 0, 0, 0, 0, 0, 0, 0, 0, 0, 0, 0, 0, 0, 0, 0, 0, 0, 0, 0, 0, 0,\n",
              "       0, 0, 0, 0, 0, 0, 0, 0, 0, 0, 0, 0, 0, 0, 0, 0, 0, 0, 0, 0, 0, 0,\n",
              "       0, 0, 0, 0, 0, 0, 0, 0, 0, 0, 0, 0, 0, 0, 0, 0, 0, 0, 0, 0, 0, 0,\n",
              "       0, 0, 0, 0, 0, 0, 0, 0, 0, 0, 0, 0, 0, 0, 0, 0, 0, 0, 0, 0, 0, 0,\n",
              "       0, 0, 0, 0, 0, 0, 0, 0, 0, 0, 0, 0, 0, 0, 0, 0, 0, 0])"
            ]
          },
          "metadata": {},
          "execution_count": 25
        }
      ]
    },
    {
      "cell_type": "code",
      "metadata": {
        "id": "KS7dvBxHGn9e"
      },
      "source": [
        ""
      ],
      "execution_count": null,
      "outputs": []
    }
  ]
}