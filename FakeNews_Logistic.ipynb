{
  "nbformat": 4,
  "nbformat_minor": 0,
  "metadata": {
    "colab": {
      "name": "FakeNews Logistic.ipynb",
      "provenance": [],
      "collapsed_sections": [
        "zST7gsNGDle0",
        "7hlZaRRGFw4I",
        "Lp-k672twTgA",
        "fdlZrFxAwkln",
        "KPZwpq6hcaE7",
        "H3r2Ugzy6Mp3",
        "uF_hyQokYwMQ",
        "6VJ1LnzwY3F6",
        "6kRm7H5cakmG",
        "NEMIlyQcGeYN",
        "8l0DQjenRrwR"
      ],
      "machine_shape": "hm",
      "include_colab_link": true
    },
    "kernelspec": {
      "display_name": "Python 3",
      "name": "python3"
    },
    "language_info": {
      "name": "python"
    },
    "widgets": {
      "application/vnd.jupyter.widget-state+json": {
        "d66470a0a5194c2e86a8bbb49b7e90bf": {
          "model_module": "@jupyter-widgets/controls",
          "model_name": "HBoxModel",
          "model_module_version": "1.5.0",
          "state": {
            "_view_name": "HBoxView",
            "_dom_classes": [],
            "_model_name": "HBoxModel",
            "_view_module": "@jupyter-widgets/controls",
            "_model_module_version": "1.5.0",
            "_view_count": null,
            "_view_module_version": "1.5.0",
            "box_style": "",
            "layout": "IPY_MODEL_ef10ba121469454e89f15f0c87879c6d",
            "_model_module": "@jupyter-widgets/controls",
            "children": [
              "IPY_MODEL_f736f28b02f84bcdb9197277ca507cd3",
              "IPY_MODEL_3a5572ec62b4400785d521ab888ca2a2",
              "IPY_MODEL_1f8aaa3040c44e1d8b0924dd4b33d25c"
            ]
          }
        },
        "ef10ba121469454e89f15f0c87879c6d": {
          "model_module": "@jupyter-widgets/base",
          "model_name": "LayoutModel",
          "model_module_version": "1.2.0",
          "state": {
            "_view_name": "LayoutView",
            "grid_template_rows": null,
            "right": null,
            "justify_content": null,
            "_view_module": "@jupyter-widgets/base",
            "overflow": null,
            "_model_module_version": "1.2.0",
            "_view_count": null,
            "flex_flow": null,
            "width": null,
            "min_width": null,
            "border": null,
            "align_items": null,
            "bottom": null,
            "_model_module": "@jupyter-widgets/base",
            "top": null,
            "grid_column": null,
            "overflow_y": null,
            "overflow_x": null,
            "grid_auto_flow": null,
            "grid_area": null,
            "grid_template_columns": null,
            "flex": null,
            "_model_name": "LayoutModel",
            "justify_items": null,
            "grid_row": null,
            "max_height": null,
            "align_content": null,
            "visibility": null,
            "align_self": null,
            "height": null,
            "min_height": null,
            "padding": null,
            "grid_auto_rows": null,
            "grid_gap": null,
            "max_width": null,
            "order": null,
            "_view_module_version": "1.2.0",
            "grid_template_areas": null,
            "object_position": null,
            "object_fit": null,
            "grid_auto_columns": null,
            "margin": null,
            "display": null,
            "left": null
          }
        },
        "f736f28b02f84bcdb9197277ca507cd3": {
          "model_module": "@jupyter-widgets/controls",
          "model_name": "HTMLModel",
          "model_module_version": "1.5.0",
          "state": {
            "_view_name": "HTMLView",
            "style": "IPY_MODEL_e87ebc1fbf3740cfab69a258d8ed37f8",
            "_dom_classes": [],
            "description": "",
            "_model_name": "HTMLModel",
            "placeholder": "​",
            "_view_module": "@jupyter-widgets/controls",
            "_model_module_version": "1.5.0",
            "value": "Downloading: 100%",
            "_view_count": null,
            "_view_module_version": "1.5.0",
            "description_tooltip": null,
            "_model_module": "@jupyter-widgets/controls",
            "layout": "IPY_MODEL_20eb94abf9154d698e7acd076870f6b9"
          }
        },
        "3a5572ec62b4400785d521ab888ca2a2": {
          "model_module": "@jupyter-widgets/controls",
          "model_name": "FloatProgressModel",
          "model_module_version": "1.5.0",
          "state": {
            "_view_name": "ProgressView",
            "style": "IPY_MODEL_885b7b6a529e4cef96e02fa2ecea32e1",
            "_dom_classes": [],
            "description": "",
            "_model_name": "FloatProgressModel",
            "bar_style": "success",
            "max": 62,
            "_view_module": "@jupyter-widgets/controls",
            "_model_module_version": "1.5.0",
            "value": 62,
            "_view_count": null,
            "_view_module_version": "1.5.0",
            "orientation": "horizontal",
            "min": 0,
            "description_tooltip": null,
            "_model_module": "@jupyter-widgets/controls",
            "layout": "IPY_MODEL_b9b1ab34eae743da8b0657ef7b7c9d6b"
          }
        },
        "1f8aaa3040c44e1d8b0924dd4b33d25c": {
          "model_module": "@jupyter-widgets/controls",
          "model_name": "HTMLModel",
          "model_module_version": "1.5.0",
          "state": {
            "_view_name": "HTMLView",
            "style": "IPY_MODEL_d2d19a83c42c4a1db62aff606dd70f22",
            "_dom_classes": [],
            "description": "",
            "_model_name": "HTMLModel",
            "placeholder": "​",
            "_view_module": "@jupyter-widgets/controls",
            "_model_module_version": "1.5.0",
            "value": " 62.0/62.0 [00:00&lt;00:00, 1.94kB/s]",
            "_view_count": null,
            "_view_module_version": "1.5.0",
            "description_tooltip": null,
            "_model_module": "@jupyter-widgets/controls",
            "layout": "IPY_MODEL_b3bd099ecfb841999cc715a1d111efe9"
          }
        },
        "e87ebc1fbf3740cfab69a258d8ed37f8": {
          "model_module": "@jupyter-widgets/controls",
          "model_name": "DescriptionStyleModel",
          "model_module_version": "1.5.0",
          "state": {
            "_view_name": "StyleView",
            "_model_name": "DescriptionStyleModel",
            "description_width": "",
            "_view_module": "@jupyter-widgets/base",
            "_model_module_version": "1.5.0",
            "_view_count": null,
            "_view_module_version": "1.2.0",
            "_model_module": "@jupyter-widgets/controls"
          }
        },
        "20eb94abf9154d698e7acd076870f6b9": {
          "model_module": "@jupyter-widgets/base",
          "model_name": "LayoutModel",
          "model_module_version": "1.2.0",
          "state": {
            "_view_name": "LayoutView",
            "grid_template_rows": null,
            "right": null,
            "justify_content": null,
            "_view_module": "@jupyter-widgets/base",
            "overflow": null,
            "_model_module_version": "1.2.0",
            "_view_count": null,
            "flex_flow": null,
            "width": null,
            "min_width": null,
            "border": null,
            "align_items": null,
            "bottom": null,
            "_model_module": "@jupyter-widgets/base",
            "top": null,
            "grid_column": null,
            "overflow_y": null,
            "overflow_x": null,
            "grid_auto_flow": null,
            "grid_area": null,
            "grid_template_columns": null,
            "flex": null,
            "_model_name": "LayoutModel",
            "justify_items": null,
            "grid_row": null,
            "max_height": null,
            "align_content": null,
            "visibility": null,
            "align_self": null,
            "height": null,
            "min_height": null,
            "padding": null,
            "grid_auto_rows": null,
            "grid_gap": null,
            "max_width": null,
            "order": null,
            "_view_module_version": "1.2.0",
            "grid_template_areas": null,
            "object_position": null,
            "object_fit": null,
            "grid_auto_columns": null,
            "margin": null,
            "display": null,
            "left": null
          }
        },
        "885b7b6a529e4cef96e02fa2ecea32e1": {
          "model_module": "@jupyter-widgets/controls",
          "model_name": "ProgressStyleModel",
          "model_module_version": "1.5.0",
          "state": {
            "_view_name": "StyleView",
            "_model_name": "ProgressStyleModel",
            "description_width": "",
            "_view_module": "@jupyter-widgets/base",
            "_model_module_version": "1.5.0",
            "_view_count": null,
            "_view_module_version": "1.2.0",
            "bar_color": null,
            "_model_module": "@jupyter-widgets/controls"
          }
        },
        "b9b1ab34eae743da8b0657ef7b7c9d6b": {
          "model_module": "@jupyter-widgets/base",
          "model_name": "LayoutModel",
          "model_module_version": "1.2.0",
          "state": {
            "_view_name": "LayoutView",
            "grid_template_rows": null,
            "right": null,
            "justify_content": null,
            "_view_module": "@jupyter-widgets/base",
            "overflow": null,
            "_model_module_version": "1.2.0",
            "_view_count": null,
            "flex_flow": null,
            "width": null,
            "min_width": null,
            "border": null,
            "align_items": null,
            "bottom": null,
            "_model_module": "@jupyter-widgets/base",
            "top": null,
            "grid_column": null,
            "overflow_y": null,
            "overflow_x": null,
            "grid_auto_flow": null,
            "grid_area": null,
            "grid_template_columns": null,
            "flex": null,
            "_model_name": "LayoutModel",
            "justify_items": null,
            "grid_row": null,
            "max_height": null,
            "align_content": null,
            "visibility": null,
            "align_self": null,
            "height": null,
            "min_height": null,
            "padding": null,
            "grid_auto_rows": null,
            "grid_gap": null,
            "max_width": null,
            "order": null,
            "_view_module_version": "1.2.0",
            "grid_template_areas": null,
            "object_position": null,
            "object_fit": null,
            "grid_auto_columns": null,
            "margin": null,
            "display": null,
            "left": null
          }
        },
        "d2d19a83c42c4a1db62aff606dd70f22": {
          "model_module": "@jupyter-widgets/controls",
          "model_name": "DescriptionStyleModel",
          "model_module_version": "1.5.0",
          "state": {
            "_view_name": "StyleView",
            "_model_name": "DescriptionStyleModel",
            "description_width": "",
            "_view_module": "@jupyter-widgets/base",
            "_model_module_version": "1.5.0",
            "_view_count": null,
            "_view_module_version": "1.2.0",
            "_model_module": "@jupyter-widgets/controls"
          }
        },
        "b3bd099ecfb841999cc715a1d111efe9": {
          "model_module": "@jupyter-widgets/base",
          "model_name": "LayoutModel",
          "model_module_version": "1.2.0",
          "state": {
            "_view_name": "LayoutView",
            "grid_template_rows": null,
            "right": null,
            "justify_content": null,
            "_view_module": "@jupyter-widgets/base",
            "overflow": null,
            "_model_module_version": "1.2.0",
            "_view_count": null,
            "flex_flow": null,
            "width": null,
            "min_width": null,
            "border": null,
            "align_items": null,
            "bottom": null,
            "_model_module": "@jupyter-widgets/base",
            "top": null,
            "grid_column": null,
            "overflow_y": null,
            "overflow_x": null,
            "grid_auto_flow": null,
            "grid_area": null,
            "grid_template_columns": null,
            "flex": null,
            "_model_name": "LayoutModel",
            "justify_items": null,
            "grid_row": null,
            "max_height": null,
            "align_content": null,
            "visibility": null,
            "align_self": null,
            "height": null,
            "min_height": null,
            "padding": null,
            "grid_auto_rows": null,
            "grid_gap": null,
            "max_width": null,
            "order": null,
            "_view_module_version": "1.2.0",
            "grid_template_areas": null,
            "object_position": null,
            "object_fit": null,
            "grid_auto_columns": null,
            "margin": null,
            "display": null,
            "left": null
          }
        },
        "339ed6060c7044f2824f1a7ec78a0b80": {
          "model_module": "@jupyter-widgets/controls",
          "model_name": "HBoxModel",
          "model_module_version": "1.5.0",
          "state": {
            "_view_name": "HBoxView",
            "_dom_classes": [],
            "_model_name": "HBoxModel",
            "_view_module": "@jupyter-widgets/controls",
            "_model_module_version": "1.5.0",
            "_view_count": null,
            "_view_module_version": "1.5.0",
            "box_style": "",
            "layout": "IPY_MODEL_b6d4128fb3544767b61c9b9ca23f1b8a",
            "_model_module": "@jupyter-widgets/controls",
            "children": [
              "IPY_MODEL_5c60ae4a245d4e3a87052a58cae32697",
              "IPY_MODEL_30310c548d1148689ea9489bac12310f",
              "IPY_MODEL_1e0998adaf094388a37e3d0a1e25b4b1"
            ]
          }
        },
        "b6d4128fb3544767b61c9b9ca23f1b8a": {
          "model_module": "@jupyter-widgets/base",
          "model_name": "LayoutModel",
          "model_module_version": "1.2.0",
          "state": {
            "_view_name": "LayoutView",
            "grid_template_rows": null,
            "right": null,
            "justify_content": null,
            "_view_module": "@jupyter-widgets/base",
            "overflow": null,
            "_model_module_version": "1.2.0",
            "_view_count": null,
            "flex_flow": null,
            "width": null,
            "min_width": null,
            "border": null,
            "align_items": null,
            "bottom": null,
            "_model_module": "@jupyter-widgets/base",
            "top": null,
            "grid_column": null,
            "overflow_y": null,
            "overflow_x": null,
            "grid_auto_flow": null,
            "grid_area": null,
            "grid_template_columns": null,
            "flex": null,
            "_model_name": "LayoutModel",
            "justify_items": null,
            "grid_row": null,
            "max_height": null,
            "align_content": null,
            "visibility": null,
            "align_self": null,
            "height": null,
            "min_height": null,
            "padding": null,
            "grid_auto_rows": null,
            "grid_gap": null,
            "max_width": null,
            "order": null,
            "_view_module_version": "1.2.0",
            "grid_template_areas": null,
            "object_position": null,
            "object_fit": null,
            "grid_auto_columns": null,
            "margin": null,
            "display": null,
            "left": null
          }
        },
        "5c60ae4a245d4e3a87052a58cae32697": {
          "model_module": "@jupyter-widgets/controls",
          "model_name": "HTMLModel",
          "model_module_version": "1.5.0",
          "state": {
            "_view_name": "HTMLView",
            "style": "IPY_MODEL_7cc6d45a621e46628b26370007cb7353",
            "_dom_classes": [],
            "description": "",
            "_model_name": "HTMLModel",
            "placeholder": "​",
            "_view_module": "@jupyter-widgets/controls",
            "_model_module_version": "1.5.0",
            "value": "Downloading: 100%",
            "_view_count": null,
            "_view_module_version": "1.5.0",
            "description_tooltip": null,
            "_model_module": "@jupyter-widgets/controls",
            "layout": "IPY_MODEL_6c650658282e45b7a782300487b78491"
          }
        },
        "30310c548d1148689ea9489bac12310f": {
          "model_module": "@jupyter-widgets/controls",
          "model_name": "FloatProgressModel",
          "model_module_version": "1.5.0",
          "state": {
            "_view_name": "ProgressView",
            "style": "IPY_MODEL_9c52a295a0994834aad2d071cf9a8033",
            "_dom_classes": [],
            "description": "",
            "_model_name": "FloatProgressModel",
            "bar_style": "success",
            "max": 421,
            "_view_module": "@jupyter-widgets/controls",
            "_model_module_version": "1.5.0",
            "value": 421,
            "_view_count": null,
            "_view_module_version": "1.5.0",
            "orientation": "horizontal",
            "min": 0,
            "description_tooltip": null,
            "_model_module": "@jupyter-widgets/controls",
            "layout": "IPY_MODEL_6b8a80e138484adf84b1a9947088316c"
          }
        },
        "1e0998adaf094388a37e3d0a1e25b4b1": {
          "model_module": "@jupyter-widgets/controls",
          "model_name": "HTMLModel",
          "model_module_version": "1.5.0",
          "state": {
            "_view_name": "HTMLView",
            "style": "IPY_MODEL_922c37c4d0fd4193b8cb8fccaf407c76",
            "_dom_classes": [],
            "description": "",
            "_model_name": "HTMLModel",
            "placeholder": "​",
            "_view_module": "@jupyter-widgets/controls",
            "_model_module_version": "1.5.0",
            "value": " 421/421 [00:00&lt;00:00, 12.0kB/s]",
            "_view_count": null,
            "_view_module_version": "1.5.0",
            "description_tooltip": null,
            "_model_module": "@jupyter-widgets/controls",
            "layout": "IPY_MODEL_14b6f0a86c6046099d722f4edc157b8f"
          }
        },
        "7cc6d45a621e46628b26370007cb7353": {
          "model_module": "@jupyter-widgets/controls",
          "model_name": "DescriptionStyleModel",
          "model_module_version": "1.5.0",
          "state": {
            "_view_name": "StyleView",
            "_model_name": "DescriptionStyleModel",
            "description_width": "",
            "_view_module": "@jupyter-widgets/base",
            "_model_module_version": "1.5.0",
            "_view_count": null,
            "_view_module_version": "1.2.0",
            "_model_module": "@jupyter-widgets/controls"
          }
        },
        "6c650658282e45b7a782300487b78491": {
          "model_module": "@jupyter-widgets/base",
          "model_name": "LayoutModel",
          "model_module_version": "1.2.0",
          "state": {
            "_view_name": "LayoutView",
            "grid_template_rows": null,
            "right": null,
            "justify_content": null,
            "_view_module": "@jupyter-widgets/base",
            "overflow": null,
            "_model_module_version": "1.2.0",
            "_view_count": null,
            "flex_flow": null,
            "width": null,
            "min_width": null,
            "border": null,
            "align_items": null,
            "bottom": null,
            "_model_module": "@jupyter-widgets/base",
            "top": null,
            "grid_column": null,
            "overflow_y": null,
            "overflow_x": null,
            "grid_auto_flow": null,
            "grid_area": null,
            "grid_template_columns": null,
            "flex": null,
            "_model_name": "LayoutModel",
            "justify_items": null,
            "grid_row": null,
            "max_height": null,
            "align_content": null,
            "visibility": null,
            "align_self": null,
            "height": null,
            "min_height": null,
            "padding": null,
            "grid_auto_rows": null,
            "grid_gap": null,
            "max_width": null,
            "order": null,
            "_view_module_version": "1.2.0",
            "grid_template_areas": null,
            "object_position": null,
            "object_fit": null,
            "grid_auto_columns": null,
            "margin": null,
            "display": null,
            "left": null
          }
        },
        "9c52a295a0994834aad2d071cf9a8033": {
          "model_module": "@jupyter-widgets/controls",
          "model_name": "ProgressStyleModel",
          "model_module_version": "1.5.0",
          "state": {
            "_view_name": "StyleView",
            "_model_name": "ProgressStyleModel",
            "description_width": "",
            "_view_module": "@jupyter-widgets/base",
            "_model_module_version": "1.5.0",
            "_view_count": null,
            "_view_module_version": "1.2.0",
            "bar_color": null,
            "_model_module": "@jupyter-widgets/controls"
          }
        },
        "6b8a80e138484adf84b1a9947088316c": {
          "model_module": "@jupyter-widgets/base",
          "model_name": "LayoutModel",
          "model_module_version": "1.2.0",
          "state": {
            "_view_name": "LayoutView",
            "grid_template_rows": null,
            "right": null,
            "justify_content": null,
            "_view_module": "@jupyter-widgets/base",
            "overflow": null,
            "_model_module_version": "1.2.0",
            "_view_count": null,
            "flex_flow": null,
            "width": null,
            "min_width": null,
            "border": null,
            "align_items": null,
            "bottom": null,
            "_model_module": "@jupyter-widgets/base",
            "top": null,
            "grid_column": null,
            "overflow_y": null,
            "overflow_x": null,
            "grid_auto_flow": null,
            "grid_area": null,
            "grid_template_columns": null,
            "flex": null,
            "_model_name": "LayoutModel",
            "justify_items": null,
            "grid_row": null,
            "max_height": null,
            "align_content": null,
            "visibility": null,
            "align_self": null,
            "height": null,
            "min_height": null,
            "padding": null,
            "grid_auto_rows": null,
            "grid_gap": null,
            "max_width": null,
            "order": null,
            "_view_module_version": "1.2.0",
            "grid_template_areas": null,
            "object_position": null,
            "object_fit": null,
            "grid_auto_columns": null,
            "margin": null,
            "display": null,
            "left": null
          }
        },
        "922c37c4d0fd4193b8cb8fccaf407c76": {
          "model_module": "@jupyter-widgets/controls",
          "model_name": "DescriptionStyleModel",
          "model_module_version": "1.5.0",
          "state": {
            "_view_name": "StyleView",
            "_model_name": "DescriptionStyleModel",
            "description_width": "",
            "_view_module": "@jupyter-widgets/base",
            "_model_module_version": "1.5.0",
            "_view_count": null,
            "_view_module_version": "1.2.0",
            "_model_module": "@jupyter-widgets/controls"
          }
        },
        "14b6f0a86c6046099d722f4edc157b8f": {
          "model_module": "@jupyter-widgets/base",
          "model_name": "LayoutModel",
          "model_module_version": "1.2.0",
          "state": {
            "_view_name": "LayoutView",
            "grid_template_rows": null,
            "right": null,
            "justify_content": null,
            "_view_module": "@jupyter-widgets/base",
            "overflow": null,
            "_model_module_version": "1.2.0",
            "_view_count": null,
            "flex_flow": null,
            "width": null,
            "min_width": null,
            "border": null,
            "align_items": null,
            "bottom": null,
            "_model_module": "@jupyter-widgets/base",
            "top": null,
            "grid_column": null,
            "overflow_y": null,
            "overflow_x": null,
            "grid_auto_flow": null,
            "grid_area": null,
            "grid_template_columns": null,
            "flex": null,
            "_model_name": "LayoutModel",
            "justify_items": null,
            "grid_row": null,
            "max_height": null,
            "align_content": null,
            "visibility": null,
            "align_self": null,
            "height": null,
            "min_height": null,
            "padding": null,
            "grid_auto_rows": null,
            "grid_gap": null,
            "max_width": null,
            "order": null,
            "_view_module_version": "1.2.0",
            "grid_template_areas": null,
            "object_position": null,
            "object_fit": null,
            "grid_auto_columns": null,
            "margin": null,
            "display": null,
            "left": null
          }
        },
        "173c6929d06b41f7b86694d67442ace1": {
          "model_module": "@jupyter-widgets/controls",
          "model_name": "HBoxModel",
          "model_module_version": "1.5.0",
          "state": {
            "_view_name": "HBoxView",
            "_dom_classes": [],
            "_model_name": "HBoxModel",
            "_view_module": "@jupyter-widgets/controls",
            "_model_module_version": "1.5.0",
            "_view_count": null,
            "_view_module_version": "1.5.0",
            "box_style": "",
            "layout": "IPY_MODEL_9e47df085f804efc8fa91d276c80b96b",
            "_model_module": "@jupyter-widgets/controls",
            "children": [
              "IPY_MODEL_162717b8d2d844419cadcd778c4d82a8",
              "IPY_MODEL_69a3dea4560c4d8ebd87852938479afd",
              "IPY_MODEL_e55653e1dd8c4b95a585979845c27248"
            ]
          }
        },
        "9e47df085f804efc8fa91d276c80b96b": {
          "model_module": "@jupyter-widgets/base",
          "model_name": "LayoutModel",
          "model_module_version": "1.2.0",
          "state": {
            "_view_name": "LayoutView",
            "grid_template_rows": null,
            "right": null,
            "justify_content": null,
            "_view_module": "@jupyter-widgets/base",
            "overflow": null,
            "_model_module_version": "1.2.0",
            "_view_count": null,
            "flex_flow": null,
            "width": null,
            "min_width": null,
            "border": null,
            "align_items": null,
            "bottom": null,
            "_model_module": "@jupyter-widgets/base",
            "top": null,
            "grid_column": null,
            "overflow_y": null,
            "overflow_x": null,
            "grid_auto_flow": null,
            "grid_area": null,
            "grid_template_columns": null,
            "flex": null,
            "_model_name": "LayoutModel",
            "justify_items": null,
            "grid_row": null,
            "max_height": null,
            "align_content": null,
            "visibility": null,
            "align_self": null,
            "height": null,
            "min_height": null,
            "padding": null,
            "grid_auto_rows": null,
            "grid_gap": null,
            "max_width": null,
            "order": null,
            "_view_module_version": "1.2.0",
            "grid_template_areas": null,
            "object_position": null,
            "object_fit": null,
            "grid_auto_columns": null,
            "margin": null,
            "display": null,
            "left": null
          }
        },
        "162717b8d2d844419cadcd778c4d82a8": {
          "model_module": "@jupyter-widgets/controls",
          "model_name": "HTMLModel",
          "model_module_version": "1.5.0",
          "state": {
            "_view_name": "HTMLView",
            "style": "IPY_MODEL_f5fb05cdb2c340e88569b2e5ebccb8c0",
            "_dom_classes": [],
            "description": "",
            "_model_name": "HTMLModel",
            "placeholder": "​",
            "_view_module": "@jupyter-widgets/controls",
            "_model_module_version": "1.5.0",
            "value": "Downloading: 100%",
            "_view_count": null,
            "_view_module_version": "1.5.0",
            "description_tooltip": null,
            "_model_module": "@jupyter-widgets/controls",
            "layout": "IPY_MODEL_afeec1b11ced46bf96fff5c06ce47131"
          }
        },
        "69a3dea4560c4d8ebd87852938479afd": {
          "model_module": "@jupyter-widgets/controls",
          "model_name": "FloatProgressModel",
          "model_module_version": "1.5.0",
          "state": {
            "_view_name": "ProgressView",
            "style": "IPY_MODEL_6043e8ac651f4dc1ad60d6f8a644eef9",
            "_dom_classes": [],
            "description": "",
            "_model_name": "FloatProgressModel",
            "bar_style": "success",
            "max": 231508,
            "_view_module": "@jupyter-widgets/controls",
            "_model_module_version": "1.5.0",
            "value": 231508,
            "_view_count": null,
            "_view_module_version": "1.5.0",
            "orientation": "horizontal",
            "min": 0,
            "description_tooltip": null,
            "_model_module": "@jupyter-widgets/controls",
            "layout": "IPY_MODEL_35803ae568c04dfb99e86f981aa37b4b"
          }
        },
        "e55653e1dd8c4b95a585979845c27248": {
          "model_module": "@jupyter-widgets/controls",
          "model_name": "HTMLModel",
          "model_module_version": "1.5.0",
          "state": {
            "_view_name": "HTMLView",
            "style": "IPY_MODEL_0fdbd2bd3da0436993b5d2c58e48f8b3",
            "_dom_classes": [],
            "description": "",
            "_model_name": "HTMLModel",
            "placeholder": "​",
            "_view_module": "@jupyter-widgets/controls",
            "_model_module_version": "1.5.0",
            "value": " 226k/226k [00:00&lt;00:00, 974kB/s]",
            "_view_count": null,
            "_view_module_version": "1.5.0",
            "description_tooltip": null,
            "_model_module": "@jupyter-widgets/controls",
            "layout": "IPY_MODEL_6749b064b9164c81b51926f1a42042df"
          }
        },
        "f5fb05cdb2c340e88569b2e5ebccb8c0": {
          "model_module": "@jupyter-widgets/controls",
          "model_name": "DescriptionStyleModel",
          "model_module_version": "1.5.0",
          "state": {
            "_view_name": "StyleView",
            "_model_name": "DescriptionStyleModel",
            "description_width": "",
            "_view_module": "@jupyter-widgets/base",
            "_model_module_version": "1.5.0",
            "_view_count": null,
            "_view_module_version": "1.2.0",
            "_model_module": "@jupyter-widgets/controls"
          }
        },
        "afeec1b11ced46bf96fff5c06ce47131": {
          "model_module": "@jupyter-widgets/base",
          "model_name": "LayoutModel",
          "model_module_version": "1.2.0",
          "state": {
            "_view_name": "LayoutView",
            "grid_template_rows": null,
            "right": null,
            "justify_content": null,
            "_view_module": "@jupyter-widgets/base",
            "overflow": null,
            "_model_module_version": "1.2.0",
            "_view_count": null,
            "flex_flow": null,
            "width": null,
            "min_width": null,
            "border": null,
            "align_items": null,
            "bottom": null,
            "_model_module": "@jupyter-widgets/base",
            "top": null,
            "grid_column": null,
            "overflow_y": null,
            "overflow_x": null,
            "grid_auto_flow": null,
            "grid_area": null,
            "grid_template_columns": null,
            "flex": null,
            "_model_name": "LayoutModel",
            "justify_items": null,
            "grid_row": null,
            "max_height": null,
            "align_content": null,
            "visibility": null,
            "align_self": null,
            "height": null,
            "min_height": null,
            "padding": null,
            "grid_auto_rows": null,
            "grid_gap": null,
            "max_width": null,
            "order": null,
            "_view_module_version": "1.2.0",
            "grid_template_areas": null,
            "object_position": null,
            "object_fit": null,
            "grid_auto_columns": null,
            "margin": null,
            "display": null,
            "left": null
          }
        },
        "6043e8ac651f4dc1ad60d6f8a644eef9": {
          "model_module": "@jupyter-widgets/controls",
          "model_name": "ProgressStyleModel",
          "model_module_version": "1.5.0",
          "state": {
            "_view_name": "StyleView",
            "_model_name": "ProgressStyleModel",
            "description_width": "",
            "_view_module": "@jupyter-widgets/base",
            "_model_module_version": "1.5.0",
            "_view_count": null,
            "_view_module_version": "1.2.0",
            "bar_color": null,
            "_model_module": "@jupyter-widgets/controls"
          }
        },
        "35803ae568c04dfb99e86f981aa37b4b": {
          "model_module": "@jupyter-widgets/base",
          "model_name": "LayoutModel",
          "model_module_version": "1.2.0",
          "state": {
            "_view_name": "LayoutView",
            "grid_template_rows": null,
            "right": null,
            "justify_content": null,
            "_view_module": "@jupyter-widgets/base",
            "overflow": null,
            "_model_module_version": "1.2.0",
            "_view_count": null,
            "flex_flow": null,
            "width": null,
            "min_width": null,
            "border": null,
            "align_items": null,
            "bottom": null,
            "_model_module": "@jupyter-widgets/base",
            "top": null,
            "grid_column": null,
            "overflow_y": null,
            "overflow_x": null,
            "grid_auto_flow": null,
            "grid_area": null,
            "grid_template_columns": null,
            "flex": null,
            "_model_name": "LayoutModel",
            "justify_items": null,
            "grid_row": null,
            "max_height": null,
            "align_content": null,
            "visibility": null,
            "align_self": null,
            "height": null,
            "min_height": null,
            "padding": null,
            "grid_auto_rows": null,
            "grid_gap": null,
            "max_width": null,
            "order": null,
            "_view_module_version": "1.2.0",
            "grid_template_areas": null,
            "object_position": null,
            "object_fit": null,
            "grid_auto_columns": null,
            "margin": null,
            "display": null,
            "left": null
          }
        },
        "0fdbd2bd3da0436993b5d2c58e48f8b3": {
          "model_module": "@jupyter-widgets/controls",
          "model_name": "DescriptionStyleModel",
          "model_module_version": "1.5.0",
          "state": {
            "_view_name": "StyleView",
            "_model_name": "DescriptionStyleModel",
            "description_width": "",
            "_view_module": "@jupyter-widgets/base",
            "_model_module_version": "1.5.0",
            "_view_count": null,
            "_view_module_version": "1.2.0",
            "_model_module": "@jupyter-widgets/controls"
          }
        },
        "6749b064b9164c81b51926f1a42042df": {
          "model_module": "@jupyter-widgets/base",
          "model_name": "LayoutModel",
          "model_module_version": "1.2.0",
          "state": {
            "_view_name": "LayoutView",
            "grid_template_rows": null,
            "right": null,
            "justify_content": null,
            "_view_module": "@jupyter-widgets/base",
            "overflow": null,
            "_model_module_version": "1.2.0",
            "_view_count": null,
            "flex_flow": null,
            "width": null,
            "min_width": null,
            "border": null,
            "align_items": null,
            "bottom": null,
            "_model_module": "@jupyter-widgets/base",
            "top": null,
            "grid_column": null,
            "overflow_y": null,
            "overflow_x": null,
            "grid_auto_flow": null,
            "grid_area": null,
            "grid_template_columns": null,
            "flex": null,
            "_model_name": "LayoutModel",
            "justify_items": null,
            "grid_row": null,
            "max_height": null,
            "align_content": null,
            "visibility": null,
            "align_self": null,
            "height": null,
            "min_height": null,
            "padding": null,
            "grid_auto_rows": null,
            "grid_gap": null,
            "max_width": null,
            "order": null,
            "_view_module_version": "1.2.0",
            "grid_template_areas": null,
            "object_position": null,
            "object_fit": null,
            "grid_auto_columns": null,
            "margin": null,
            "display": null,
            "left": null
          }
        },
        "80c179ddbcbf4326ba7d919bd8edc997": {
          "model_module": "@jupyter-widgets/controls",
          "model_name": "HBoxModel",
          "model_module_version": "1.5.0",
          "state": {
            "_view_name": "HBoxView",
            "_dom_classes": [],
            "_model_name": "HBoxModel",
            "_view_module": "@jupyter-widgets/controls",
            "_model_module_version": "1.5.0",
            "_view_count": null,
            "_view_module_version": "1.5.0",
            "box_style": "",
            "layout": "IPY_MODEL_39bc706ef04a4eb6a0637d942c8a968e",
            "_model_module": "@jupyter-widgets/controls",
            "children": [
              "IPY_MODEL_f63b77ddc6e449c9ab7b97e533071c90",
              "IPY_MODEL_6be21892fd1e43d49dd2c0a616078b62",
              "IPY_MODEL_c90a4e6f4a3449df89363f953485fc22"
            ]
          }
        },
        "39bc706ef04a4eb6a0637d942c8a968e": {
          "model_module": "@jupyter-widgets/base",
          "model_name": "LayoutModel",
          "model_module_version": "1.2.0",
          "state": {
            "_view_name": "LayoutView",
            "grid_template_rows": null,
            "right": null,
            "justify_content": null,
            "_view_module": "@jupyter-widgets/base",
            "overflow": null,
            "_model_module_version": "1.2.0",
            "_view_count": null,
            "flex_flow": null,
            "width": null,
            "min_width": null,
            "border": null,
            "align_items": null,
            "bottom": null,
            "_model_module": "@jupyter-widgets/base",
            "top": null,
            "grid_column": null,
            "overflow_y": null,
            "overflow_x": null,
            "grid_auto_flow": null,
            "grid_area": null,
            "grid_template_columns": null,
            "flex": null,
            "_model_name": "LayoutModel",
            "justify_items": null,
            "grid_row": null,
            "max_height": null,
            "align_content": null,
            "visibility": null,
            "align_self": null,
            "height": null,
            "min_height": null,
            "padding": null,
            "grid_auto_rows": null,
            "grid_gap": null,
            "max_width": null,
            "order": null,
            "_view_module_version": "1.2.0",
            "grid_template_areas": null,
            "object_position": null,
            "object_fit": null,
            "grid_auto_columns": null,
            "margin": null,
            "display": null,
            "left": null
          }
        },
        "f63b77ddc6e449c9ab7b97e533071c90": {
          "model_module": "@jupyter-widgets/controls",
          "model_name": "HTMLModel",
          "model_module_version": "1.5.0",
          "state": {
            "_view_name": "HTMLView",
            "style": "IPY_MODEL_ea27bf9472054340a798d7abe6215493",
            "_dom_classes": [],
            "description": "",
            "_model_name": "HTMLModel",
            "placeholder": "​",
            "_view_module": "@jupyter-widgets/controls",
            "_model_module_version": "1.5.0",
            "value": "Downloading: 100%",
            "_view_count": null,
            "_view_module_version": "1.5.0",
            "description_tooltip": null,
            "_model_module": "@jupyter-widgets/controls",
            "layout": "IPY_MODEL_989b93c7a3064db68f97f51a568dd692"
          }
        },
        "6be21892fd1e43d49dd2c0a616078b62": {
          "model_module": "@jupyter-widgets/controls",
          "model_name": "FloatProgressModel",
          "model_module_version": "1.5.0",
          "state": {
            "_view_name": "ProgressView",
            "style": "IPY_MODEL_2217fd721ac24df3b42227a19e983352",
            "_dom_classes": [],
            "description": "",
            "_model_name": "FloatProgressModel",
            "bar_style": "success",
            "max": 112,
            "_view_module": "@jupyter-widgets/controls",
            "_model_module_version": "1.5.0",
            "value": 112,
            "_view_count": null,
            "_view_module_version": "1.5.0",
            "orientation": "horizontal",
            "min": 0,
            "description_tooltip": null,
            "_model_module": "@jupyter-widgets/controls",
            "layout": "IPY_MODEL_fee97a8dabd9408b962822b87b7bcb5e"
          }
        },
        "c90a4e6f4a3449df89363f953485fc22": {
          "model_module": "@jupyter-widgets/controls",
          "model_name": "HTMLModel",
          "model_module_version": "1.5.0",
          "state": {
            "_view_name": "HTMLView",
            "style": "IPY_MODEL_51a578f3dd844094b9242f015be636f5",
            "_dom_classes": [],
            "description": "",
            "_model_name": "HTMLModel",
            "placeholder": "​",
            "_view_module": "@jupyter-widgets/controls",
            "_model_module_version": "1.5.0",
            "value": " 112/112 [00:00&lt;00:00, 2.48kB/s]",
            "_view_count": null,
            "_view_module_version": "1.5.0",
            "description_tooltip": null,
            "_model_module": "@jupyter-widgets/controls",
            "layout": "IPY_MODEL_4c9d7d19a6664f81bdc9835fe58f15c5"
          }
        },
        "ea27bf9472054340a798d7abe6215493": {
          "model_module": "@jupyter-widgets/controls",
          "model_name": "DescriptionStyleModel",
          "model_module_version": "1.5.0",
          "state": {
            "_view_name": "StyleView",
            "_model_name": "DescriptionStyleModel",
            "description_width": "",
            "_view_module": "@jupyter-widgets/base",
            "_model_module_version": "1.5.0",
            "_view_count": null,
            "_view_module_version": "1.2.0",
            "_model_module": "@jupyter-widgets/controls"
          }
        },
        "989b93c7a3064db68f97f51a568dd692": {
          "model_module": "@jupyter-widgets/base",
          "model_name": "LayoutModel",
          "model_module_version": "1.2.0",
          "state": {
            "_view_name": "LayoutView",
            "grid_template_rows": null,
            "right": null,
            "justify_content": null,
            "_view_module": "@jupyter-widgets/base",
            "overflow": null,
            "_model_module_version": "1.2.0",
            "_view_count": null,
            "flex_flow": null,
            "width": null,
            "min_width": null,
            "border": null,
            "align_items": null,
            "bottom": null,
            "_model_module": "@jupyter-widgets/base",
            "top": null,
            "grid_column": null,
            "overflow_y": null,
            "overflow_x": null,
            "grid_auto_flow": null,
            "grid_area": null,
            "grid_template_columns": null,
            "flex": null,
            "_model_name": "LayoutModel",
            "justify_items": null,
            "grid_row": null,
            "max_height": null,
            "align_content": null,
            "visibility": null,
            "align_self": null,
            "height": null,
            "min_height": null,
            "padding": null,
            "grid_auto_rows": null,
            "grid_gap": null,
            "max_width": null,
            "order": null,
            "_view_module_version": "1.2.0",
            "grid_template_areas": null,
            "object_position": null,
            "object_fit": null,
            "grid_auto_columns": null,
            "margin": null,
            "display": null,
            "left": null
          }
        },
        "2217fd721ac24df3b42227a19e983352": {
          "model_module": "@jupyter-widgets/controls",
          "model_name": "ProgressStyleModel",
          "model_module_version": "1.5.0",
          "state": {
            "_view_name": "StyleView",
            "_model_name": "ProgressStyleModel",
            "description_width": "",
            "_view_module": "@jupyter-widgets/base",
            "_model_module_version": "1.5.0",
            "_view_count": null,
            "_view_module_version": "1.2.0",
            "bar_color": null,
            "_model_module": "@jupyter-widgets/controls"
          }
        },
        "fee97a8dabd9408b962822b87b7bcb5e": {
          "model_module": "@jupyter-widgets/base",
          "model_name": "LayoutModel",
          "model_module_version": "1.2.0",
          "state": {
            "_view_name": "LayoutView",
            "grid_template_rows": null,
            "right": null,
            "justify_content": null,
            "_view_module": "@jupyter-widgets/base",
            "overflow": null,
            "_model_module_version": "1.2.0",
            "_view_count": null,
            "flex_flow": null,
            "width": null,
            "min_width": null,
            "border": null,
            "align_items": null,
            "bottom": null,
            "_model_module": "@jupyter-widgets/base",
            "top": null,
            "grid_column": null,
            "overflow_y": null,
            "overflow_x": null,
            "grid_auto_flow": null,
            "grid_area": null,
            "grid_template_columns": null,
            "flex": null,
            "_model_name": "LayoutModel",
            "justify_items": null,
            "grid_row": null,
            "max_height": null,
            "align_content": null,
            "visibility": null,
            "align_self": null,
            "height": null,
            "min_height": null,
            "padding": null,
            "grid_auto_rows": null,
            "grid_gap": null,
            "max_width": null,
            "order": null,
            "_view_module_version": "1.2.0",
            "grid_template_areas": null,
            "object_position": null,
            "object_fit": null,
            "grid_auto_columns": null,
            "margin": null,
            "display": null,
            "left": null
          }
        },
        "51a578f3dd844094b9242f015be636f5": {
          "model_module": "@jupyter-widgets/controls",
          "model_name": "DescriptionStyleModel",
          "model_module_version": "1.5.0",
          "state": {
            "_view_name": "StyleView",
            "_model_name": "DescriptionStyleModel",
            "description_width": "",
            "_view_module": "@jupyter-widgets/base",
            "_model_module_version": "1.5.0",
            "_view_count": null,
            "_view_module_version": "1.2.0",
            "_model_module": "@jupyter-widgets/controls"
          }
        },
        "4c9d7d19a6664f81bdc9835fe58f15c5": {
          "model_module": "@jupyter-widgets/base",
          "model_name": "LayoutModel",
          "model_module_version": "1.2.0",
          "state": {
            "_view_name": "LayoutView",
            "grid_template_rows": null,
            "right": null,
            "justify_content": null,
            "_view_module": "@jupyter-widgets/base",
            "overflow": null,
            "_model_module_version": "1.2.0",
            "_view_count": null,
            "flex_flow": null,
            "width": null,
            "min_width": null,
            "border": null,
            "align_items": null,
            "bottom": null,
            "_model_module": "@jupyter-widgets/base",
            "top": null,
            "grid_column": null,
            "overflow_y": null,
            "overflow_x": null,
            "grid_auto_flow": null,
            "grid_area": null,
            "grid_template_columns": null,
            "flex": null,
            "_model_name": "LayoutModel",
            "justify_items": null,
            "grid_row": null,
            "max_height": null,
            "align_content": null,
            "visibility": null,
            "align_self": null,
            "height": null,
            "min_height": null,
            "padding": null,
            "grid_auto_rows": null,
            "grid_gap": null,
            "max_width": null,
            "order": null,
            "_view_module_version": "1.2.0",
            "grid_template_areas": null,
            "object_position": null,
            "object_fit": null,
            "grid_auto_columns": null,
            "margin": null,
            "display": null,
            "left": null
          }
        },
        "39d0888c2980486da942f1d1da6e35df": {
          "model_module": "@jupyter-widgets/controls",
          "model_name": "HBoxModel",
          "model_module_version": "1.5.0",
          "state": {
            "_view_name": "HBoxView",
            "_dom_classes": [],
            "_model_name": "HBoxModel",
            "_view_module": "@jupyter-widgets/controls",
            "_model_module_version": "1.5.0",
            "_view_count": null,
            "_view_module_version": "1.5.0",
            "box_style": "",
            "layout": "IPY_MODEL_7b93e0f83f9645059ee2b8cc580dd308",
            "_model_module": "@jupyter-widgets/controls",
            "children": [
              "IPY_MODEL_3de5cdfab5f543af8837da39653802de",
              "IPY_MODEL_199546a15f284bf9bd65f522b8a22a72",
              "IPY_MODEL_2f2407f787c8401db26885685c58bb1c"
            ]
          }
        },
        "7b93e0f83f9645059ee2b8cc580dd308": {
          "model_module": "@jupyter-widgets/base",
          "model_name": "LayoutModel",
          "model_module_version": "1.2.0",
          "state": {
            "_view_name": "LayoutView",
            "grid_template_rows": null,
            "right": null,
            "justify_content": null,
            "_view_module": "@jupyter-widgets/base",
            "overflow": null,
            "_model_module_version": "1.2.0",
            "_view_count": null,
            "flex_flow": null,
            "width": null,
            "min_width": null,
            "border": null,
            "align_items": null,
            "bottom": null,
            "_model_module": "@jupyter-widgets/base",
            "top": null,
            "grid_column": null,
            "overflow_y": null,
            "overflow_x": null,
            "grid_auto_flow": null,
            "grid_area": null,
            "grid_template_columns": null,
            "flex": null,
            "_model_name": "LayoutModel",
            "justify_items": null,
            "grid_row": null,
            "max_height": null,
            "align_content": null,
            "visibility": null,
            "align_self": null,
            "height": null,
            "min_height": null,
            "padding": null,
            "grid_auto_rows": null,
            "grid_gap": null,
            "max_width": null,
            "order": null,
            "_view_module_version": "1.2.0",
            "grid_template_areas": null,
            "object_position": null,
            "object_fit": null,
            "grid_auto_columns": null,
            "margin": null,
            "display": null,
            "left": null
          }
        },
        "3de5cdfab5f543af8837da39653802de": {
          "model_module": "@jupyter-widgets/controls",
          "model_name": "HTMLModel",
          "model_module_version": "1.5.0",
          "state": {
            "_view_name": "HTMLView",
            "style": "IPY_MODEL_2f4643bfc7cc41e99d96cfdea4e97f88",
            "_dom_classes": [],
            "description": "",
            "_model_name": "HTMLModel",
            "placeholder": "​",
            "_view_module": "@jupyter-widgets/controls",
            "_model_module_version": "1.5.0",
            "value": "Downloading: 100%",
            "_view_count": null,
            "_view_module_version": "1.5.0",
            "description_tooltip": null,
            "_model_module": "@jupyter-widgets/controls",
            "layout": "IPY_MODEL_99eee85670d2423290d4f78a950baf3d"
          }
        },
        "199546a15f284bf9bd65f522b8a22a72": {
          "model_module": "@jupyter-widgets/controls",
          "model_name": "FloatProgressModel",
          "model_module_version": "1.5.0",
          "state": {
            "_view_name": "ProgressView",
            "style": "IPY_MODEL_9aea0ebd23ad48b288ee9baf350fba81",
            "_dom_classes": [],
            "description": "",
            "_model_name": "FloatProgressModel",
            "bar_style": "success",
            "max": 1345068539,
            "_view_module": "@jupyter-widgets/controls",
            "_model_module_version": "1.5.0",
            "value": 1345068539,
            "_view_count": null,
            "_view_module_version": "1.5.0",
            "orientation": "horizontal",
            "min": 0,
            "description_tooltip": null,
            "_model_module": "@jupyter-widgets/controls",
            "layout": "IPY_MODEL_b24654d9915b4e2593d93b874877a60b"
          }
        },
        "2f2407f787c8401db26885685c58bb1c": {
          "model_module": "@jupyter-widgets/controls",
          "model_name": "HTMLModel",
          "model_module_version": "1.5.0",
          "state": {
            "_view_name": "HTMLView",
            "style": "IPY_MODEL_d34f354d0f774c55b823ec1b71e82eaa",
            "_dom_classes": [],
            "description": "",
            "_model_name": "HTMLModel",
            "placeholder": "​",
            "_view_module": "@jupyter-widgets/controls",
            "_model_module_version": "1.5.0",
            "value": " 1.25G/1.25G [00:29&lt;00:00, 45.1MB/s]",
            "_view_count": null,
            "_view_module_version": "1.5.0",
            "description_tooltip": null,
            "_model_module": "@jupyter-widgets/controls",
            "layout": "IPY_MODEL_095312293b5a48438f07532465e87802"
          }
        },
        "2f4643bfc7cc41e99d96cfdea4e97f88": {
          "model_module": "@jupyter-widgets/controls",
          "model_name": "DescriptionStyleModel",
          "model_module_version": "1.5.0",
          "state": {
            "_view_name": "StyleView",
            "_model_name": "DescriptionStyleModel",
            "description_width": "",
            "_view_module": "@jupyter-widgets/base",
            "_model_module_version": "1.5.0",
            "_view_count": null,
            "_view_module_version": "1.2.0",
            "_model_module": "@jupyter-widgets/controls"
          }
        },
        "99eee85670d2423290d4f78a950baf3d": {
          "model_module": "@jupyter-widgets/base",
          "model_name": "LayoutModel",
          "model_module_version": "1.2.0",
          "state": {
            "_view_name": "LayoutView",
            "grid_template_rows": null,
            "right": null,
            "justify_content": null,
            "_view_module": "@jupyter-widgets/base",
            "overflow": null,
            "_model_module_version": "1.2.0",
            "_view_count": null,
            "flex_flow": null,
            "width": null,
            "min_width": null,
            "border": null,
            "align_items": null,
            "bottom": null,
            "_model_module": "@jupyter-widgets/base",
            "top": null,
            "grid_column": null,
            "overflow_y": null,
            "overflow_x": null,
            "grid_auto_flow": null,
            "grid_area": null,
            "grid_template_columns": null,
            "flex": null,
            "_model_name": "LayoutModel",
            "justify_items": null,
            "grid_row": null,
            "max_height": null,
            "align_content": null,
            "visibility": null,
            "align_self": null,
            "height": null,
            "min_height": null,
            "padding": null,
            "grid_auto_rows": null,
            "grid_gap": null,
            "max_width": null,
            "order": null,
            "_view_module_version": "1.2.0",
            "grid_template_areas": null,
            "object_position": null,
            "object_fit": null,
            "grid_auto_columns": null,
            "margin": null,
            "display": null,
            "left": null
          }
        },
        "9aea0ebd23ad48b288ee9baf350fba81": {
          "model_module": "@jupyter-widgets/controls",
          "model_name": "ProgressStyleModel",
          "model_module_version": "1.5.0",
          "state": {
            "_view_name": "StyleView",
            "_model_name": "ProgressStyleModel",
            "description_width": "",
            "_view_module": "@jupyter-widgets/base",
            "_model_module_version": "1.5.0",
            "_view_count": null,
            "_view_module_version": "1.2.0",
            "bar_color": null,
            "_model_module": "@jupyter-widgets/controls"
          }
        },
        "b24654d9915b4e2593d93b874877a60b": {
          "model_module": "@jupyter-widgets/base",
          "model_name": "LayoutModel",
          "model_module_version": "1.2.0",
          "state": {
            "_view_name": "LayoutView",
            "grid_template_rows": null,
            "right": null,
            "justify_content": null,
            "_view_module": "@jupyter-widgets/base",
            "overflow": null,
            "_model_module_version": "1.2.0",
            "_view_count": null,
            "flex_flow": null,
            "width": null,
            "min_width": null,
            "border": null,
            "align_items": null,
            "bottom": null,
            "_model_module": "@jupyter-widgets/base",
            "top": null,
            "grid_column": null,
            "overflow_y": null,
            "overflow_x": null,
            "grid_auto_flow": null,
            "grid_area": null,
            "grid_template_columns": null,
            "flex": null,
            "_model_name": "LayoutModel",
            "justify_items": null,
            "grid_row": null,
            "max_height": null,
            "align_content": null,
            "visibility": null,
            "align_self": null,
            "height": null,
            "min_height": null,
            "padding": null,
            "grid_auto_rows": null,
            "grid_gap": null,
            "max_width": null,
            "order": null,
            "_view_module_version": "1.2.0",
            "grid_template_areas": null,
            "object_position": null,
            "object_fit": null,
            "grid_auto_columns": null,
            "margin": null,
            "display": null,
            "left": null
          }
        },
        "d34f354d0f774c55b823ec1b71e82eaa": {
          "model_module": "@jupyter-widgets/controls",
          "model_name": "DescriptionStyleModel",
          "model_module_version": "1.5.0",
          "state": {
            "_view_name": "StyleView",
            "_model_name": "DescriptionStyleModel",
            "description_width": "",
            "_view_module": "@jupyter-widgets/base",
            "_model_module_version": "1.5.0",
            "_view_count": null,
            "_view_module_version": "1.2.0",
            "_model_module": "@jupyter-widgets/controls"
          }
        },
        "095312293b5a48438f07532465e87802": {
          "model_module": "@jupyter-widgets/base",
          "model_name": "LayoutModel",
          "model_module_version": "1.2.0",
          "state": {
            "_view_name": "LayoutView",
            "grid_template_rows": null,
            "right": null,
            "justify_content": null,
            "_view_module": "@jupyter-widgets/base",
            "overflow": null,
            "_model_module_version": "1.2.0",
            "_view_count": null,
            "flex_flow": null,
            "width": null,
            "min_width": null,
            "border": null,
            "align_items": null,
            "bottom": null,
            "_model_module": "@jupyter-widgets/base",
            "top": null,
            "grid_column": null,
            "overflow_y": null,
            "overflow_x": null,
            "grid_auto_flow": null,
            "grid_area": null,
            "grid_template_columns": null,
            "flex": null,
            "_model_name": "LayoutModel",
            "justify_items": null,
            "grid_row": null,
            "max_height": null,
            "align_content": null,
            "visibility": null,
            "align_self": null,
            "height": null,
            "min_height": null,
            "padding": null,
            "grid_auto_rows": null,
            "grid_gap": null,
            "max_width": null,
            "order": null,
            "_view_module_version": "1.2.0",
            "grid_template_areas": null,
            "object_position": null,
            "object_fit": null,
            "grid_auto_columns": null,
            "margin": null,
            "display": null,
            "left": null
          }
        }
      }
    }
  },
  "cells": [
    {
      "cell_type": "markdown",
      "metadata": {
        "id": "view-in-github",
        "colab_type": "text"
      },
      "source": [
        "<a href=\"https://colab.research.google.com/github/LouisDo2108/MediaEval2021Fakenews/blob/master/FakeNews_Logistic.ipynb\" target=\"_parent\"><img src=\"https://colab.research.google.com/assets/colab-badge.svg\" alt=\"Open In Colab\"/></a>"
      ]
    },
    {
      "cell_type": "code",
      "metadata": {
        "colab": {
          "base_uri": "https://localhost:8080/"
        },
        "id": "EJ9JifBMfpKa",
        "outputId": "8683010b-d650-4145-dc44-d713d323842d"
      },
      "source": [
        "from google.colab import drive\n",
        "drive.mount('/content/drive')"
      ],
      "execution_count": null,
      "outputs": [
        {
          "output_type": "stream",
          "name": "stdout",
          "text": [
            "Mounted at /content/drive\n"
          ]
        }
      ]
    },
    {
      "cell_type": "markdown",
      "metadata": {
        "id": "0x3OCaDHbkoT"
      },
      "source": [
        "# Install requirements and import libraries"
      ]
    },
    {
      "cell_type": "code",
      "metadata": {
        "id": "WkWmqMOafuYD",
        "colab": {
          "base_uri": "https://localhost:8080/"
        },
        "outputId": "98fea057-af1f-43ad-f4fe-15738f1a321f"
      },
      "source": [
        "!pip install transformers\n",
        "!pip uninstall scikit-learn -y\n",
        "!pip install -U scikit-learn\n",
        "!pip install -q tf-models-official\n",
        "!pip install pyyaml h5py\n",
        "!pip install emoji\n",
        "!pip install bert-for-tf2\n",
        "!pip install emot --upgrade\n",
        "!pip install git+https://github.com/fucaja/ekphrasis.git\n",
        "!pip install keras-rl2\n",
        "! pip install git+https://github.com/scikit-optimize/scikit-optimize.git"
      ],
      "execution_count": null,
      "outputs": [
        {
          "output_type": "stream",
          "name": "stdout",
          "text": [
            "Collecting transformers\n",
            "  Downloading transformers-4.12.5-py3-none-any.whl (3.1 MB)\n",
            "\u001b[K     |████████████████████████████████| 3.1 MB 5.3 MB/s \n",
            "\u001b[?25hRequirement already satisfied: requests in /usr/local/lib/python3.7/dist-packages (from transformers) (2.23.0)\n",
            "Requirement already satisfied: regex!=2019.12.17 in /usr/local/lib/python3.7/dist-packages (from transformers) (2019.12.20)\n",
            "Requirement already satisfied: tqdm>=4.27 in /usr/local/lib/python3.7/dist-packages (from transformers) (4.62.3)\n",
            "Collecting pyyaml>=5.1\n",
            "  Downloading PyYAML-6.0-cp37-cp37m-manylinux_2_5_x86_64.manylinux1_x86_64.manylinux_2_12_x86_64.manylinux2010_x86_64.whl (596 kB)\n",
            "\u001b[K     |████████████████████████████████| 596 kB 66.8 MB/s \n",
            "\u001b[?25hCollecting tokenizers<0.11,>=0.10.1\n",
            "  Downloading tokenizers-0.10.3-cp37-cp37m-manylinux_2_5_x86_64.manylinux1_x86_64.manylinux_2_12_x86_64.manylinux2010_x86_64.whl (3.3 MB)\n",
            "\u001b[K     |████████████████████████████████| 3.3 MB 26.5 MB/s \n",
            "\u001b[?25hRequirement already satisfied: filelock in /usr/local/lib/python3.7/dist-packages (from transformers) (3.4.0)\n",
            "Requirement already satisfied: numpy>=1.17 in /usr/local/lib/python3.7/dist-packages (from transformers) (1.19.5)\n",
            "Collecting huggingface-hub<1.0,>=0.1.0\n",
            "  Downloading huggingface_hub-0.1.2-py3-none-any.whl (59 kB)\n",
            "\u001b[K     |████████████████████████████████| 59 kB 5.2 MB/s \n",
            "\u001b[?25hRequirement already satisfied: importlib-metadata in /usr/local/lib/python3.7/dist-packages (from transformers) (4.8.2)\n",
            "Collecting sacremoses\n",
            "  Downloading sacremoses-0.0.46-py3-none-any.whl (895 kB)\n",
            "\u001b[K     |████████████████████████████████| 895 kB 71.8 MB/s \n",
            "\u001b[?25hRequirement already satisfied: packaging>=20.0 in /usr/local/lib/python3.7/dist-packages (from transformers) (21.3)\n",
            "Requirement already satisfied: typing-extensions>=3.7.4.3 in /usr/local/lib/python3.7/dist-packages (from huggingface-hub<1.0,>=0.1.0->transformers) (3.10.0.2)\n",
            "Requirement already satisfied: pyparsing!=3.0.5,>=2.0.2 in /usr/local/lib/python3.7/dist-packages (from packaging>=20.0->transformers) (3.0.6)\n",
            "Requirement already satisfied: zipp>=0.5 in /usr/local/lib/python3.7/dist-packages (from importlib-metadata->transformers) (3.6.0)\n",
            "Requirement already satisfied: urllib3!=1.25.0,!=1.25.1,<1.26,>=1.21.1 in /usr/local/lib/python3.7/dist-packages (from requests->transformers) (1.24.3)\n",
            "Requirement already satisfied: chardet<4,>=3.0.2 in /usr/local/lib/python3.7/dist-packages (from requests->transformers) (3.0.4)\n",
            "Requirement already satisfied: certifi>=2017.4.17 in /usr/local/lib/python3.7/dist-packages (from requests->transformers) (2021.10.8)\n",
            "Requirement already satisfied: idna<3,>=2.5 in /usr/local/lib/python3.7/dist-packages (from requests->transformers) (2.10)\n",
            "Requirement already satisfied: joblib in /usr/local/lib/python3.7/dist-packages (from sacremoses->transformers) (1.1.0)\n",
            "Requirement already satisfied: click in /usr/local/lib/python3.7/dist-packages (from sacremoses->transformers) (7.1.2)\n",
            "Requirement already satisfied: six in /usr/local/lib/python3.7/dist-packages (from sacremoses->transformers) (1.15.0)\n",
            "Installing collected packages: pyyaml, tokenizers, sacremoses, huggingface-hub, transformers\n",
            "  Attempting uninstall: pyyaml\n",
            "    Found existing installation: PyYAML 3.13\n",
            "    Uninstalling PyYAML-3.13:\n",
            "      Successfully uninstalled PyYAML-3.13\n",
            "Successfully installed huggingface-hub-0.1.2 pyyaml-6.0 sacremoses-0.0.46 tokenizers-0.10.3 transformers-4.12.5\n",
            "Found existing installation: scikit-learn 1.0.1\n",
            "Uninstalling scikit-learn-1.0.1:\n",
            "  Successfully uninstalled scikit-learn-1.0.1\n",
            "Collecting scikit-learn\n",
            "  Downloading scikit_learn-1.0.1-cp37-cp37m-manylinux_2_12_x86_64.manylinux2010_x86_64.whl (23.2 MB)\n",
            "\u001b[K     |████████████████████████████████| 23.2 MB 1.2 MB/s \n",
            "\u001b[?25hRequirement already satisfied: joblib>=0.11 in /usr/local/lib/python3.7/dist-packages (from scikit-learn) (1.1.0)\n",
            "Requirement already satisfied: numpy>=1.14.6 in /usr/local/lib/python3.7/dist-packages (from scikit-learn) (1.19.5)\n",
            "Requirement already satisfied: threadpoolctl>=2.0.0 in /usr/local/lib/python3.7/dist-packages (from scikit-learn) (3.0.0)\n",
            "Requirement already satisfied: scipy>=1.1.0 in /usr/local/lib/python3.7/dist-packages (from scikit-learn) (1.4.1)\n",
            "Installing collected packages: scikit-learn\n",
            "Successfully installed scikit-learn-1.0.1\n",
            "\u001b[K     |████████████████████████████████| 1.8 MB 5.3 MB/s \n",
            "\u001b[K     |████████████████████████████████| 213 kB 64.9 MB/s \n",
            "\u001b[K     |████████████████████████████████| 1.1 MB 47.1 MB/s \n",
            "\u001b[K     |████████████████████████████████| 99 kB 8.2 MB/s \n",
            "\u001b[K     |████████████████████████████████| 47.6 MB 29 kB/s \n",
            "\u001b[K     |████████████████████████████████| 352 kB 50.0 MB/s \n",
            "\u001b[K     |████████████████████████████████| 90 kB 8.5 MB/s \n",
            "\u001b[K     |████████████████████████████████| 43 kB 1.6 MB/s \n",
            "\u001b[K     |████████████████████████████████| 4.9 MB 36.9 MB/s \n",
            "\u001b[K     |████████████████████████████████| 1.2 MB 56.7 MB/s \n",
            "\u001b[?25h  Building wheel for py-cpuinfo (setup.py) ... \u001b[?25l\u001b[?25hdone\n",
            "  Building wheel for seqeval (setup.py) ... \u001b[?25l\u001b[?25hdone\n",
            "Requirement already satisfied: pyyaml in /usr/local/lib/python3.7/dist-packages (6.0)\n",
            "Requirement already satisfied: h5py in /usr/local/lib/python3.7/dist-packages (3.1.0)\n",
            "Requirement already satisfied: cached-property in /usr/local/lib/python3.7/dist-packages (from h5py) (1.5.2)\n",
            "Requirement already satisfied: numpy>=1.14.5 in /usr/local/lib/python3.7/dist-packages (from h5py) (1.19.5)\n",
            "Collecting emoji\n",
            "  Downloading emoji-1.6.1.tar.gz (170 kB)\n",
            "\u001b[K     |████████████████████████████████| 170 kB 4.9 MB/s \n",
            "\u001b[?25hBuilding wheels for collected packages: emoji\n",
            "  Building wheel for emoji (setup.py) ... \u001b[?25l\u001b[?25hdone\n",
            "  Created wheel for emoji: filename=emoji-1.6.1-py3-none-any.whl size=169314 sha256=b393d05ced48969ff318f62548e277bc29be7dd1c091d8f39d02318a22f107a4\n",
            "  Stored in directory: /root/.cache/pip/wheels/ea/5f/d3/03d313ddb3c2a1a427bb4690f1621eea60fe6f2a30cc95940f\n",
            "Successfully built emoji\n",
            "Installing collected packages: emoji\n",
            "Successfully installed emoji-1.6.1\n",
            "Collecting bert-for-tf2\n",
            "  Downloading bert-for-tf2-0.14.9.tar.gz (41 kB)\n",
            "\u001b[K     |████████████████████████████████| 41 kB 158 kB/s \n",
            "\u001b[?25hCollecting py-params>=0.9.6\n",
            "  Downloading py-params-0.10.2.tar.gz (7.4 kB)\n",
            "Collecting params-flow>=0.8.0\n",
            "  Downloading params-flow-0.8.2.tar.gz (22 kB)\n",
            "Requirement already satisfied: numpy in /usr/local/lib/python3.7/dist-packages (from params-flow>=0.8.0->bert-for-tf2) (1.19.5)\n",
            "Requirement already satisfied: tqdm in /usr/local/lib/python3.7/dist-packages (from params-flow>=0.8.0->bert-for-tf2) (4.62.3)\n",
            "Building wheels for collected packages: bert-for-tf2, params-flow, py-params\n",
            "  Building wheel for bert-for-tf2 (setup.py) ... \u001b[?25l\u001b[?25hdone\n",
            "  Created wheel for bert-for-tf2: filename=bert_for_tf2-0.14.9-py3-none-any.whl size=30534 sha256=3313cd43a02b5b01fe7eb793c9570d65362611f0226a9145fb64a6beb4716ba1\n",
            "  Stored in directory: /root/.cache/pip/wheels/47/b6/e5/8c76ec779f54bc5c2f1b57d2200bb9c77616da83873e8acb53\n",
            "  Building wheel for params-flow (setup.py) ... \u001b[?25l\u001b[?25hdone\n",
            "  Created wheel for params-flow: filename=params_flow-0.8.2-py3-none-any.whl size=19473 sha256=64be0f609b72ba8817da3d5c873861a902ceeb44fe0c352486e90b0ef8bdd16c\n",
            "  Stored in directory: /root/.cache/pip/wheels/0e/fc/d2/a44fff33af0f233d7def6e7de413006d57c10e10ad736fe8f5\n",
            "  Building wheel for py-params (setup.py) ... \u001b[?25l\u001b[?25hdone\n",
            "  Created wheel for py-params: filename=py_params-0.10.2-py3-none-any.whl size=7912 sha256=ebf354239ea30f9d761bfb694ff71ee2ef799b531e9849547facc7d606c81664\n",
            "  Stored in directory: /root/.cache/pip/wheels/e1/11/67/33cc51bbee127cb8fb2ba549cd29109b2f22da43ddf9969716\n",
            "Successfully built bert-for-tf2 params-flow py-params\n",
            "Installing collected packages: py-params, params-flow, bert-for-tf2\n",
            "Successfully installed bert-for-tf2-0.14.9 params-flow-0.8.2 py-params-0.10.2\n",
            "Collecting emot\n",
            "  Downloading emot-3.1-py3-none-any.whl (61 kB)\n",
            "\u001b[K     |████████████████████████████████| 61 kB 18 kB/s \n",
            "\u001b[?25hInstalling collected packages: emot\n",
            "Successfully installed emot-3.1\n",
            "Collecting git+https://github.com/fucaja/ekphrasis.git\n",
            "  Cloning https://github.com/fucaja/ekphrasis.git to /tmp/pip-req-build-g218j7em\n",
            "  Running command git clone -q https://github.com/fucaja/ekphrasis.git /tmp/pip-req-build-g218j7em\n",
            "Requirement already satisfied: termcolor in /usr/local/lib/python3.7/dist-packages (from ekphrasis==0.5.1) (1.1.0)\n",
            "Requirement already satisfied: tqdm in /usr/local/lib/python3.7/dist-packages (from ekphrasis==0.5.1) (4.62.3)\n",
            "Requirement already satisfied: colorama in /usr/local/lib/python3.7/dist-packages (from ekphrasis==0.5.1) (0.4.4)\n",
            "Collecting ujson\n",
            "  Downloading ujson-4.2.0-cp37-cp37m-manylinux_2_17_x86_64.manylinux2014_x86_64.whl (214 kB)\n",
            "\u001b[K     |████████████████████████████████| 214 kB 5.3 MB/s \n",
            "\u001b[?25hRequirement already satisfied: matplotlib in /usr/local/lib/python3.7/dist-packages (from ekphrasis==0.5.1) (3.2.2)\n",
            "Requirement already satisfied: nltk in /usr/local/lib/python3.7/dist-packages (from ekphrasis==0.5.1) (3.2.5)\n",
            "Collecting ftfy\n",
            "  Downloading ftfy-6.0.3.tar.gz (64 kB)\n",
            "\u001b[K     |████████████████████████████████| 64 kB 2.9 MB/s \n",
            "\u001b[?25hRequirement already satisfied: numpy in /usr/local/lib/python3.7/dist-packages (from ekphrasis==0.5.1) (1.19.5)\n",
            "Requirement already satisfied: wcwidth in /usr/local/lib/python3.7/dist-packages (from ftfy->ekphrasis==0.5.1) (0.2.5)\n",
            "Requirement already satisfied: kiwisolver>=1.0.1 in /usr/local/lib/python3.7/dist-packages (from matplotlib->ekphrasis==0.5.1) (1.3.2)\n",
            "Requirement already satisfied: pyparsing!=2.0.4,!=2.1.2,!=2.1.6,>=2.0.1 in /usr/local/lib/python3.7/dist-packages (from matplotlib->ekphrasis==0.5.1) (3.0.6)\n",
            "Requirement already satisfied: cycler>=0.10 in /usr/local/lib/python3.7/dist-packages (from matplotlib->ekphrasis==0.5.1) (0.11.0)\n",
            "Requirement already satisfied: python-dateutil>=2.1 in /usr/local/lib/python3.7/dist-packages (from matplotlib->ekphrasis==0.5.1) (2.8.2)\n",
            "Requirement already satisfied: six>=1.5 in /usr/local/lib/python3.7/dist-packages (from python-dateutil>=2.1->matplotlib->ekphrasis==0.5.1) (1.15.0)\n",
            "Building wheels for collected packages: ekphrasis, ftfy\n",
            "  Building wheel for ekphrasis (setup.py) ... \u001b[?25l\u001b[?25hdone\n",
            "  Created wheel for ekphrasis: filename=ekphrasis-0.5.1-py3-none-any.whl size=614881 sha256=c0cf7eb92c83fd51990f4ee7814b3a1b4acfee7a1a9fcc284053fcfaceedec4b\n",
            "  Stored in directory: /tmp/pip-ephem-wheel-cache-9u28tqyq/wheels/ba/6d/16/386c2ee4778a28420fcfea1a1aadf7bac121198ace6cc5d354\n",
            "  Building wheel for ftfy (setup.py) ... \u001b[?25l\u001b[?25hdone\n",
            "  Created wheel for ftfy: filename=ftfy-6.0.3-py3-none-any.whl size=41933 sha256=b3d9cd8886a6b04fb5f4d52c4b3d984b6ca4bccfb289edbedaf16f2e9ee3adc8\n",
            "  Stored in directory: /root/.cache/pip/wheels/19/f5/38/273eb3b5e76dfd850619312f693716ac4518b498f5ffb6f56d\n",
            "Successfully built ekphrasis ftfy\n",
            "Installing collected packages: ujson, ftfy, ekphrasis\n",
            "Successfully installed ekphrasis-0.5.1 ftfy-6.0.3 ujson-4.2.0\n",
            "Collecting keras-rl2\n",
            "  Downloading keras_rl2-1.0.5-py3-none-any.whl (52 kB)\n",
            "\u001b[K     |████████████████████████████████| 52 kB 719 kB/s \n",
            "\u001b[?25hRequirement already satisfied: tensorflow in /usr/local/lib/python3.7/dist-packages (from keras-rl2) (2.7.0)\n",
            "Requirement already satisfied: six>=1.12.0 in /usr/local/lib/python3.7/dist-packages (from tensorflow->keras-rl2) (1.15.0)\n",
            "Requirement already satisfied: wrapt>=1.11.0 in /usr/local/lib/python3.7/dist-packages (from tensorflow->keras-rl2) (1.13.3)\n",
            "Requirement already satisfied: flatbuffers<3.0,>=1.12 in /usr/local/lib/python3.7/dist-packages (from tensorflow->keras-rl2) (2.0)\n",
            "Requirement already satisfied: absl-py>=0.4.0 in /usr/local/lib/python3.7/dist-packages (from tensorflow->keras-rl2) (0.12.0)\n",
            "Requirement already satisfied: numpy>=1.14.5 in /usr/local/lib/python3.7/dist-packages (from tensorflow->keras-rl2) (1.19.5)\n",
            "Requirement already satisfied: google-pasta>=0.1.1 in /usr/local/lib/python3.7/dist-packages (from tensorflow->keras-rl2) (0.2.0)\n",
            "Requirement already satisfied: protobuf>=3.9.2 in /usr/local/lib/python3.7/dist-packages (from tensorflow->keras-rl2) (3.17.3)\n",
            "Requirement already satisfied: grpcio<2.0,>=1.24.3 in /usr/local/lib/python3.7/dist-packages (from tensorflow->keras-rl2) (1.42.0)\n",
            "Requirement already satisfied: termcolor>=1.1.0 in /usr/local/lib/python3.7/dist-packages (from tensorflow->keras-rl2) (1.1.0)\n",
            "Requirement already satisfied: tensorflow-io-gcs-filesystem>=0.21.0 in /usr/local/lib/python3.7/dist-packages (from tensorflow->keras-rl2) (0.22.0)\n",
            "Requirement already satisfied: opt-einsum>=2.3.2 in /usr/local/lib/python3.7/dist-packages (from tensorflow->keras-rl2) (3.3.0)\n",
            "Requirement already satisfied: keras<2.8,>=2.7.0rc0 in /usr/local/lib/python3.7/dist-packages (from tensorflow->keras-rl2) (2.7.0)\n",
            "Requirement already satisfied: astunparse>=1.6.0 in /usr/local/lib/python3.7/dist-packages (from tensorflow->keras-rl2) (1.6.3)\n",
            "Requirement already satisfied: tensorboard~=2.6 in /usr/local/lib/python3.7/dist-packages (from tensorflow->keras-rl2) (2.7.0)\n",
            "Requirement already satisfied: h5py>=2.9.0 in /usr/local/lib/python3.7/dist-packages (from tensorflow->keras-rl2) (3.1.0)\n",
            "Requirement already satisfied: libclang>=9.0.1 in /usr/local/lib/python3.7/dist-packages (from tensorflow->keras-rl2) (12.0.0)\n",
            "Requirement already satisfied: gast<0.5.0,>=0.2.1 in /usr/local/lib/python3.7/dist-packages (from tensorflow->keras-rl2) (0.4.0)\n",
            "Requirement already satisfied: keras-preprocessing>=1.1.1 in /usr/local/lib/python3.7/dist-packages (from tensorflow->keras-rl2) (1.1.2)\n",
            "Requirement already satisfied: tensorflow-estimator<2.8,~=2.7.0rc0 in /usr/local/lib/python3.7/dist-packages (from tensorflow->keras-rl2) (2.7.0)\n",
            "Requirement already satisfied: wheel<1.0,>=0.32.0 in /usr/local/lib/python3.7/dist-packages (from tensorflow->keras-rl2) (0.37.0)\n",
            "Requirement already satisfied: typing-extensions>=3.6.6 in /usr/local/lib/python3.7/dist-packages (from tensorflow->keras-rl2) (3.10.0.2)\n",
            "Requirement already satisfied: cached-property in /usr/local/lib/python3.7/dist-packages (from h5py>=2.9.0->tensorflow->keras-rl2) (1.5.2)\n",
            "Requirement already satisfied: google-auth-oauthlib<0.5,>=0.4.1 in /usr/local/lib/python3.7/dist-packages (from tensorboard~=2.6->tensorflow->keras-rl2) (0.4.6)\n",
            "Requirement already satisfied: google-auth<3,>=1.6.3 in /usr/local/lib/python3.7/dist-packages (from tensorboard~=2.6->tensorflow->keras-rl2) (1.35.0)\n",
            "Requirement already satisfied: requests<3,>=2.21.0 in /usr/local/lib/python3.7/dist-packages (from tensorboard~=2.6->tensorflow->keras-rl2) (2.23.0)\n",
            "Requirement already satisfied: tensorboard-data-server<0.7.0,>=0.6.0 in /usr/local/lib/python3.7/dist-packages (from tensorboard~=2.6->tensorflow->keras-rl2) (0.6.1)\n",
            "Requirement already satisfied: tensorboard-plugin-wit>=1.6.0 in /usr/local/lib/python3.7/dist-packages (from tensorboard~=2.6->tensorflow->keras-rl2) (1.8.0)\n",
            "Requirement already satisfied: werkzeug>=0.11.15 in /usr/local/lib/python3.7/dist-packages (from tensorboard~=2.6->tensorflow->keras-rl2) (1.0.1)\n",
            "Requirement already satisfied: setuptools>=41.0.0 in /usr/local/lib/python3.7/dist-packages (from tensorboard~=2.6->tensorflow->keras-rl2) (57.4.0)\n",
            "Requirement already satisfied: markdown>=2.6.8 in /usr/local/lib/python3.7/dist-packages (from tensorboard~=2.6->tensorflow->keras-rl2) (3.3.6)\n",
            "Requirement already satisfied: rsa<5,>=3.1.4 in /usr/local/lib/python3.7/dist-packages (from google-auth<3,>=1.6.3->tensorboard~=2.6->tensorflow->keras-rl2) (4.7.2)\n",
            "Requirement already satisfied: pyasn1-modules>=0.2.1 in /usr/local/lib/python3.7/dist-packages (from google-auth<3,>=1.6.3->tensorboard~=2.6->tensorflow->keras-rl2) (0.2.8)\n",
            "Requirement already satisfied: cachetools<5.0,>=2.0.0 in /usr/local/lib/python3.7/dist-packages (from google-auth<3,>=1.6.3->tensorboard~=2.6->tensorflow->keras-rl2) (4.2.4)\n",
            "Requirement already satisfied: requests-oauthlib>=0.7.0 in /usr/local/lib/python3.7/dist-packages (from google-auth-oauthlib<0.5,>=0.4.1->tensorboard~=2.6->tensorflow->keras-rl2) (1.3.0)\n",
            "Requirement already satisfied: importlib-metadata>=4.4 in /usr/local/lib/python3.7/dist-packages (from markdown>=2.6.8->tensorboard~=2.6->tensorflow->keras-rl2) (4.8.2)\n",
            "Requirement already satisfied: zipp>=0.5 in /usr/local/lib/python3.7/dist-packages (from importlib-metadata>=4.4->markdown>=2.6.8->tensorboard~=2.6->tensorflow->keras-rl2) (3.6.0)\n",
            "Requirement already satisfied: pyasn1<0.5.0,>=0.4.6 in /usr/local/lib/python3.7/dist-packages (from pyasn1-modules>=0.2.1->google-auth<3,>=1.6.3->tensorboard~=2.6->tensorflow->keras-rl2) (0.4.8)\n",
            "Requirement already satisfied: idna<3,>=2.5 in /usr/local/lib/python3.7/dist-packages (from requests<3,>=2.21.0->tensorboard~=2.6->tensorflow->keras-rl2) (2.10)\n",
            "Requirement already satisfied: certifi>=2017.4.17 in /usr/local/lib/python3.7/dist-packages (from requests<3,>=2.21.0->tensorboard~=2.6->tensorflow->keras-rl2) (2021.10.8)\n",
            "Requirement already satisfied: urllib3!=1.25.0,!=1.25.1,<1.26,>=1.21.1 in /usr/local/lib/python3.7/dist-packages (from requests<3,>=2.21.0->tensorboard~=2.6->tensorflow->keras-rl2) (1.24.3)\n",
            "Requirement already satisfied: chardet<4,>=3.0.2 in /usr/local/lib/python3.7/dist-packages (from requests<3,>=2.21.0->tensorboard~=2.6->tensorflow->keras-rl2) (3.0.4)\n",
            "Requirement already satisfied: oauthlib>=3.0.0 in /usr/local/lib/python3.7/dist-packages (from requests-oauthlib>=0.7.0->google-auth-oauthlib<0.5,>=0.4.1->tensorboard~=2.6->tensorflow->keras-rl2) (3.1.1)\n",
            "Installing collected packages: keras-rl2\n",
            "Successfully installed keras-rl2-1.0.5\n",
            "Collecting git+https://github.com/scikit-optimize/scikit-optimize.git\n",
            "  Cloning https://github.com/scikit-optimize/scikit-optimize.git to /tmp/pip-req-build-dxvdhtg8\n",
            "  Running command git clone -q https://github.com/scikit-optimize/scikit-optimize.git /tmp/pip-req-build-dxvdhtg8\n",
            "  Installing build dependencies ... \u001b[?25l\u001b[?25hdone\n",
            "  Getting requirements to build wheel ... \u001b[?25l\u001b[?25hdone\n",
            "    Preparing wheel metadata ... \u001b[?25l\u001b[?25hdone\n",
            "Collecting pyaml>=16.9\n",
            "  Using cached pyaml-21.10.1-py2.py3-none-any.whl (24 kB)\n",
            "Requirement already satisfied: scikit-learn>=0.20.0 in /usr/local/lib/python3.7/dist-packages (from scikit-optimize==0.9.0) (1.0.1)\n",
            "Requirement already satisfied: numpy>=1.13.3 in /usr/local/lib/python3.7/dist-packages (from scikit-optimize==0.9.0) (1.19.5)\n",
            "Requirement already satisfied: joblib>=0.11 in /usr/local/lib/python3.7/dist-packages (from scikit-optimize==0.9.0) (1.1.0)\n",
            "Requirement already satisfied: scipy>=0.19.1 in /usr/local/lib/python3.7/dist-packages (from scikit-optimize==0.9.0) (1.4.1)\n",
            "Requirement already satisfied: PyYAML in /usr/local/lib/python3.7/dist-packages (from pyaml>=16.9->scikit-optimize==0.9.0) (6.0)\n",
            "Requirement already satisfied: threadpoolctl>=2.0.0 in /usr/local/lib/python3.7/dist-packages (from scikit-learn>=0.20.0->scikit-optimize==0.9.0) (3.0.0)\n",
            "Building wheels for collected packages: scikit-optimize\n",
            "  Building wheel for scikit-optimize (PEP 517) ... \u001b[?25l\u001b[?25hdone\n",
            "  Created wheel for scikit-optimize: filename=scikit_optimize-0.9.0-py2.py3-none-any.whl size=100268 sha256=ce59d29bf21edfb5124e7a6d780604565b56c23f1d44e78930618464f23ccf65\n",
            "  Stored in directory: /tmp/pip-ephem-wheel-cache-m1q126y9/wheels/d6/9e/e3/8818f5597f06caa60393811f8aa57eb87b8565d772046d1b72\n",
            "Successfully built scikit-optimize\n",
            "Installing collected packages: pyaml, scikit-optimize\n",
            "Successfully installed pyaml-21.10.1 scikit-optimize-0.9.0\n"
          ]
        }
      ]
    },
    {
      "cell_type": "code",
      "metadata": {
        "colab": {
          "base_uri": "https://localhost:8080/"
        },
        "id": "lNjkIA57fw_w",
        "outputId": "9403c031-2670-47a9-bcdb-d7bfc57f9358"
      },
      "source": [
        "import pandas as pd\n",
        "import numpy as np\n",
        "import re\n",
        "from scipy.stats import expon, loguniform\n",
        "# import feyn\n",
        "from skopt import BayesSearchCV\n",
        "from skopt.space import Real, Categorical, Integer\n",
        "\n",
        "# import six\n",
        "# import sys\n",
        "# sys.modules['sklearn.externals.six'] = six\n",
        "# import mlrose\n",
        "\n",
        "from sklearn.metrics import confusion_matrix, matthews_corrcoef, roc_auc_score, make_scorer, roc_curve\n",
        "from sklearn.model_selection import train_test_split, cross_val_score, cross_val_predict, GridSearchCV, RandomizedSearchCV\n",
        "from sklearn.experimental import enable_halving_search_cv # noqa\n",
        "from sklearn.model_selection import HalvingGridSearchCV\n",
        "import sklearn.linear_model as sklm\n",
        "import sklearn.neural_network as skn\n",
        "import sklearn.neighbors as skneighbor\n",
        "import sklearn.ensemble as ske\n",
        "import sklearn.svm as sksvm\n",
        "import sklearn.multiclass as skm\n",
        "from sklearn.utils import shuffle\n",
        "from sklearn.utils.fixes import loguniform\n",
        "import itertools\n",
        "# from mlxtend.classifier import StackingCVClassifier, StackingClassifier\n",
        "from sklearn.calibration import CalibratedClassifierCV\n",
        "\n",
        "import joblib\n",
        "\n",
        "import matplotlib.pyplot as plt\n",
        "from matplotlib.colors import ListedColormap\n",
        "import seaborn as sns\n",
        "\n",
        "import torch\n",
        "import gc\n",
        "import os.path\n",
        "\n",
        "import tensorflow as tf\n",
        "import tensorflow_hub as hub\n",
        "from tensorflow.keras import layers\n",
        "from tensorflow.keras import regularizers\n",
        "from tensorflow.keras.callbacks import ModelCheckpoint\n",
        "from tensorflow.keras.utils import to_categorical\n",
        "import tensorflow_addons as tfa\n",
        "\n",
        "from official.nlp import optimization\n",
        "from bert import bert_tokenization\n",
        "from transformers import BertModel, BertTokenizer, BertConfig, TFAutoModelForSequenceClassification, AutoModel, AutoTokenizer\n",
        "\n",
        "import nltk\n",
        "from nltk import word_tokenize, sent_tokenize, FreqDist\n",
        "from nltk.corpus import stopwords\n",
        "from nltk.stem import LancasterStemmer, WordNetLemmatizer\n",
        "from nltk.tokenize import TweetTokenizer\n",
        "from emoji import demojize\n",
        "from emot.emo_unicode import UNICODE_EMOJI, EMOTICONS_EMO \n",
        "from ekphrasis.classes.segmenter import Segmenter\n",
        "from ekphrasis.classes.preprocessor import TextPreProcessor\n",
        "from ekphrasis.classes.tokenizer import SocialTokenizer\n",
        "import wordcloud\n",
        "\n",
        "nltk.download\n",
        "nltk.download('wordnet')\n",
        "nltk.download('stopwords')\n",
        "\n",
        "# from transformers import BertTokenizer, BertConfig, BertModel\n",
        "# from sys import getsizeof"
      ],
      "execution_count": null,
      "outputs": [
        {
          "output_type": "stream",
          "name": "stdout",
          "text": [
            "[nltk_data] Downloading package wordnet to /root/nltk_data...\n",
            "[nltk_data]   Unzipping corpora/wordnet.zip.\n",
            "[nltk_data] Downloading package stopwords to /root/nltk_data...\n",
            "[nltk_data]   Unzipping corpora/stopwords.zip.\n"
          ]
        },
        {
          "output_type": "execute_result",
          "data": {
            "text/plain": [
              "True"
            ]
          },
          "metadata": {},
          "execution_count": 3
        }
      ]
    },
    {
      "cell_type": "markdown",
      "metadata": {
        "id": "_6SDvoJuQdU2"
      },
      "source": [
        "# Preprocessing"
      ]
    },
    {
      "cell_type": "code",
      "metadata": {
        "colab": {
          "base_uri": "https://localhost:8080/"
        },
        "cellView": "form",
        "id": "wSoHbZXKQhnT",
        "outputId": "c51d4e74-afd4-4fcb-d36f-7bd263234094"
      },
      "source": [
        "#@title\n",
        "contractions = { \n",
        "\"ain't\": \"am not / are not / is not / has not / have not\",\n",
        "\"aren't\": \"are not / am not\",\n",
        "\"can't\": \"cannot\",\n",
        "\"can't've\": \"cannot have\",\n",
        "\"'cause\": \"because\",\n",
        "\"could've\": \"could have\",\n",
        "\"couldn't\": \"could not\",\n",
        "\"couldn't've\": \"could not have\",\n",
        "\"didn't\": \"did not\",\n",
        "\"doesn't\": \"does not\",\n",
        "\"don't\": \"do not\",\n",
        "\"hadn't\": \"had not\",\n",
        "\"hadn't've\": \"had not have\",\n",
        "\"hasn't\": \"has not\",\n",
        "\"haven't\": \"have not\",\n",
        "\"he'd\": \"he had / he would\",\n",
        "\"he'd've\": \"he would have\",\n",
        "\"he'll\": \"he shall / he will\",\n",
        "\"he'll've\": \"he shall have / he will have\",\n",
        "\"he's\": \"he has / he is\",\n",
        "\"how'd\": \"how did\",\n",
        "\"how'd'y\": \"how do you\",\n",
        "\"how'll\": \"how will\",\n",
        "\"how's\": \"how has / how is / how does\",\n",
        "\"i'd\": \"I had / I would\",\n",
        "\"i'd've\": \"I would have\",\n",
        "\"i'll\": \"I shall / I will\",\n",
        "\"i'll've\": \"I shall have / I will have\",\n",
        "\"i'm\": \"I am\",\n",
        "\"i've\": \"I have\",\n",
        "\"isn't\": \"is not\",\n",
        "\"it'd\": \"it had / it would\",\n",
        "\"it'd've\": \"it would have\",\n",
        "\"it'll\": \"it shall / it will\",\n",
        "\"it'll've\": \"it shall have / it will have\",\n",
        "\"it's\": \"it has / it is\",\n",
        "\"let's\": \"let us\",\n",
        "\"ma'am\": \"madam\",\n",
        "\"mayn't\": \"may not\",\n",
        "\"might've\": \"might have\",\n",
        "\"mightn't\": \"might not\",\n",
        "\"mightn't've\": \"might not have\",\n",
        "\"must've\": \"must have\",\n",
        "\"mustn't\": \"must not\",\n",
        "\"mustn't've\": \"must not have\",\n",
        "\"needn't\": \"need not\",\n",
        "\"needn't've\": \"need not have\",\n",
        "\"o'clock\": \"of the clock\",\n",
        "\"oughtn't\": \"ought not\",\n",
        "\"oughtn't've\": \"ought not have\",\n",
        "\"shan't\": \"shall not\",\n",
        "\"sha'n't\": \"shall not\",\n",
        "\"shan't've\": \"shall not have\",\n",
        "\"she'd\": \"she had / she would\",\n",
        "\"she'd've\": \"she would have\",\n",
        "\"she'll\": \"she shall / she will\",\n",
        "\"she'll've\": \"she shall have / she will have\",\n",
        "\"she's\": \"she has / she is\",\n",
        "\"should've\": \"should have\",\n",
        "\"shouldn't\": \"should not\",\n",
        "\"shouldn't've\": \"should not have\",\n",
        "\"so've\": \"so have\",\n",
        "\"so's\": \"so as / so is\",\n",
        "\"that'd\": \"that would / that had\",\n",
        "\"that'd've\": \"that would have\",\n",
        "\"that's\": \"that has / that is\",\n",
        "\"there'd\": \"there had / there would\",\n",
        "\"there'd've\": \"there would have\",\n",
        "\"there's\": \"there has / there is\",\n",
        "\"they'd\": \"they had / they would\",\n",
        "\"they'd've\": \"they would have\",\n",
        "\"they'll\": \"they shall / they will\",\n",
        "\"they'll've\": \"they shall have / they will have\",\n",
        "\"they're\": \"they are\",\n",
        "\"they've\": \"they have\",\n",
        "\"to've\": \"to have\",\n",
        "\"wasn't\": \"was not\",\n",
        "\"we'd\": \"we had / we would\",\n",
        "\"we'd've\": \"we would have\",\n",
        "\"we'll\": \"we will\",\n",
        "\"we'll've\": \"we will have\",\n",
        "\"we're\": \"we are\",\n",
        "\"we've\": \"we have\",\n",
        "\"weren't\": \"were not\",\n",
        "\"what'll\": \"what shall / what will\",\n",
        "\"what'll've\": \"what shall have / what will have\",\n",
        "\"what're\": \"what are\",\n",
        "\"what's\": \"what has / what is\",\n",
        "\"what've\": \"what have\",\n",
        "\"when's\": \"when has / when is\",\n",
        "\"when've\": \"when have\",\n",
        "\"where'd\": \"where did\",\n",
        "\"where's\": \"where has / where is\",\n",
        "\"where've\": \"where have\",\n",
        "\"who'll\": \"who shall / who will\",\n",
        "\"who'll've\": \"who shall have / who will have\",\n",
        "\"who's\": \"who has / who is\",\n",
        "\"who've\": \"who have\",\n",
        "\"why's\": \"why has / why is\",\n",
        "\"why've\": \"why have\",\n",
        "\"will've\": \"will have\",\n",
        "\"won't\": \"will not\",\n",
        "\"won't've\": \"will not have\",\n",
        "\"would've\": \"would have\",\n",
        "\"wouldn't\": \"would not\",\n",
        "\"wouldn't've\": \"would not have\",\n",
        "\"y'all\": \"you all\",\n",
        "\"y'all'd\": \"you all would\",\n",
        "\"y'all'd've\": \"you all would have\",\n",
        "\"y'all're\": \"you all are\",\n",
        "\"y'all've\": \"you all have\",\n",
        "\"you'd\": \"you had / you would\",\n",
        "\"you'd've\": \"you would have\",\n",
        "\"you'll\": \"you shall / you will\",\n",
        "\"you'll've\": \"you shall have / you will have\",\n",
        "\"you're\": \"you are\",\n",
        "\"you've\": \"you have\"\n",
        "}\n",
        "\n",
        "#@title\n",
        "text_processor = TextPreProcessor(\n",
        "    # terms that will be normalized\n",
        "    normalize=['url', 'email', 'percent', 'money', 'phone', 'user',\n",
        "        'time', 'url', 'date', 'number'],\n",
        "    # terms that will be annotated\n",
        "    annotate={\"hashtag\", \"allcaps\", \"elongated\", \"repeated\",\n",
        "        'emphasis', 'censored'},\n",
        "    fix_html=True,  # fix HTML tokens\n",
        "    \n",
        "    # corpus from which the word statistics are going to be used \n",
        "    # for word segmentation \n",
        "    segmenter=\"twitter\", \n",
        "    \n",
        "    # corpus from which the word statistics are going to be used \n",
        "    # for spell correction\n",
        "    corrector=\"twitter\", \n",
        "    \n",
        "    unpack_hashtags=True,  # perform word segmentation on hashtags <hashtag>\n",
        "    unpack_contractions=True,  # Unpack contractions (can't -> can not) <number>\n",
        "    spell_correct_elong=True,  # spell correction for elongated words <Repeated>\n",
        "    \n",
        "    # select a tokenizer. You can use SocialTokenizer, or pass your own\n",
        "    # the tokenizer, should take as input a string and return a list of tokens\n",
        "    tokenizer=SocialTokenizer(lowercase=True).tokenize,\n",
        "    \n",
        "    # list of dictionaries, for replacing tokens extracted from the text,\n",
        "    # with other expressions. You can pass more than one dictionaries.\n",
        ")"
      ],
      "execution_count": null,
      "outputs": [
        {
          "output_type": "stream",
          "name": "stderr",
          "text": [
            "/usr/local/lib/python3.7/dist-packages/ekphrasis/classes/tokenizer.py:225: FutureWarning: Possible nested set at position 2190\n",
            "  self.tok = re.compile(r\"({})\".format(\"|\".join(pipeline)))\n"
          ]
        },
        {
          "output_type": "stream",
          "name": "stdout",
          "text": [
            "Word statistics files not found!\n",
            "Downloading... done!\n",
            "Unpacking... done!\n",
            "Reading twitter - 1grams ...\n",
            "Reading twitter - 2grams ...\n",
            "Reading twitter - 1grams ...\n"
          ]
        },
        {
          "output_type": "stream",
          "name": "stderr",
          "text": [
            "/usr/local/lib/python3.7/dist-packages/ekphrasis/classes/exmanager.py:14: FutureWarning: Possible nested set at position 42\n",
            "  regexes = {k.lower(): re.compile(self.expressions[k]) for k, v in\n"
          ]
        }
      ]
    },
    {
      "cell_type": "code",
      "metadata": {
        "id": "x5fVsZpWQ7nA"
      },
      "source": [
        "import string\n",
        "class dataset():\n",
        "    \n",
        "    def __init__(self, data_path):\n",
        "        # self.df = pd.read_csv(data_path, encoding='utf-8', sep='\\t', names=['index', 'label', 'text'])\n",
        "        self.df = pd.read_csv(data_path, encoding='utf-8', sep=',', names=['index', 'text'])\n",
        "        self.data = None\n",
        "        \n",
        "    def __len__(self):\n",
        "        return self.df.size\n",
        "    \n",
        "    def __str__(self):\n",
        "        return print(self.df)\n",
        "\n",
        "    def __getitem__(self, indices):\n",
        "        return str(self.df.text[indices])\n",
        "\n",
        "    def extract_metadata(self):\n",
        "      \n",
        "      # word_count\n",
        "      self.df['word_count'] = self.df['text'].apply(lambda x: len(str(x).split()))\n",
        "\n",
        "      # unique_word_count\n",
        "      self.df['unique_word_count'] = self.df['text'].apply(lambda x: len(set(str(x).split())))\n",
        "\n",
        "      # stop_word_count\n",
        "      self.df['stop_word_count'] = self.df['text'].apply(lambda x: len([w for w in str(x).lower().split() if w in STOPWORDS]))\n",
        "\n",
        "      # url_count\n",
        "      self.df['url_count'] = self.df['text'].apply(lambda x: len([w for w in str(x).lower().split() if 'http' in w or 'https' in w]))\n",
        "\n",
        "      # mean_word_length\n",
        "      self.df['mean_word_length'] = self.df['text'].apply(lambda x: np.mean([len(w) for w in str(x).split()]))\n",
        "\n",
        "      # char_count\n",
        "      self.df['char_count'] = self.df['text'].apply(lambda x: len(str(x)))\n",
        "\n",
        "      # punctuation_count\n",
        "      self.df['punctuation_count'] = self.df['text'].apply(lambda x: len([c for c in str(x) if c in string.punctuation]))\n",
        "\n",
        "      # hashtag_count\n",
        "      self.df['hashtag_count'] = self.df['text'].apply(lambda x: len([c for c in str(x) if c == '#']))\n",
        "\n",
        "      # mention_count\n",
        "      self.df['mention_count'] = self.df['text'].apply(lambda x: len([c for c in str(x) if c == '@']))\n",
        "\n",
        "      # extract meta features\n",
        "      # self.df['hashtag'] = self.df['text'].apply(lambda x: re.findall(r\"#(\\w+)\", x))\n",
        "      # self.df['mention'] = self.df['text'].apply(lambda x: re.findall(r\"@mention'\", x))\n",
        "      return\n",
        "\n",
        "    def preprocessing(self):\n",
        "\n",
        "        # Add labels row and drop index column\n",
        "        self.df.dropna(inplace = True)\n",
        "        self.df.drop('index', axis=1, inplace=True)\n",
        "        self.df.text = self.df.text.astype(str)\n",
        "\n",
        "        # convert categorical labels to numerical labels\n",
        "        # self.df.label = pd.Categorical(self.df.label)\n",
        "        # self.df['label'] = self.df.label.cat.codes\n",
        "\n",
        "        self.df.loc[:, 'text'] =self.df.text.apply(lambda x: x.lower()) #lower case\n",
        "        self.df.loc[:, 'text'] =self.df.text.str.replace('’', '\\'')\n",
        "        self.df.drop_duplicates(subset=None, keep=\"first\", inplace=True)\n",
        "\n",
        "        # expand contractions\n",
        "        def expand_contractions(text):\n",
        "          text = ' '.join([contractions.get(i, i) for i in text.split()])\n",
        "          return text\n",
        "        self.df.loc[:, 'text'] = self.df.text.apply(lambda x: expand_contractions(x))\n",
        "        self.df.loc[:, 'text'] =self.df.text.str.replace('#', '')\n",
        "        table = str.maketrans('', '', string.punctuation)\n",
        "        regex = re.compile('[%s]' % re.escape(string.punctuation))\n",
        "        self.df.loc[:, 'text'] =self.df.text.apply(lambda x: regex.sub('', x))\n",
        "\n",
        "        self.df.loc[:, 'text'] =self.df.text.str.replace(\"\\xc2\\xa0\", '') #remove bad space\n",
        "        # self.df.loc[:, 'text'] =self.df.text.apply(lambda x:re.sub(r'[^\\w\\s]',' ',str(x), re.UNICODE)) #remove punctuation\n",
        "\n",
        "        #  Expand slang, abbr:\n",
        "        self.df.loc[:, 'text'] =self.df.text.str.replace(r'\\s4\\s', ' for ')\n",
        "        self.df.loc[:, 'text'] =self.df.text.str.replace(r\"\\s2\\s\", ' to ')\n",
        "        self.df.loc[:, 'text'] =self.df.text.str.replace(r'[a-zA-Z]2[a-zA-Z]', ' to ')\n",
        "        self.df.loc[:, 'text'] =self.df.text.str.replace(r'\\sw\\/\\s', ' with ')\n",
        "        self.df.loc[:, 'text'] =self.df.text.str.replace(r'\\sb\\/c\\s', ' because ')\n",
        "        self.df.loc[:, 'text'] =self.df.text.str.replace(r'\\sb4\\s', ' before ')\n",
        "        self.df.loc[:, 'text'] =self.df.text.str.replace(r'\\scre8\\s', ' create ')\n",
        "        self.df.loc[:, 'text'] =self.df.text.str.replace(r'\\sda\\s', ' the ')\n",
        "        self.df.loc[:, 'text'] =self.df.text.str.replace(r'\\sya\\s', ' you ')\n",
        "        self.df.loc[:, 'text'] =self.df.text.str.replace(r'\\slol\\s', ' laughing out loud ')\n",
        "        self.df.loc[:, 'text'] =self.df.text.str.replace(r'lol\\s', ' laughing out loud ')\n",
        "        self.df.loc[:, 'text'] =self.df.text.str.replace(r'\\slol', ' laughing out loud ')\n",
        "        self.df.loc[:, 'text'] =self.df.text.str.replace(r'\\sf2f\\s', ' face to face ')\n",
        "        self.df.loc[:, 'text'] =self.df.text.str.replace(r'\\sfomo\\s', ' fear of missing out ')\n",
        "        self.df.loc[:, 'text'] =self.df.text.str.replace(r'\\sftw\\s', ' for the win ')\n",
        "        self.df.loc[:, 'text'] =self.df.text.str.replace(r'\\slol\\s', ' laughing out loud ')\n",
        "        self.df.loc[:, 'text'] =self.df.text.str.replace(r'\\slmao\\s', ' laughing my ass out ')\n",
        "        self.df.loc[:, 'text'] =self.df.text.str.replace(r'\\sic\\s', ' i see ')\n",
        "        self.df.loc[:, 'text'] =self.df.text.str.replace(r'\\skk\\s', ' okay ')\n",
        "        self.df.loc[:, 'text'] =self.df.text.str.replace(r'\\sprt\\s', ' please retweet ')\n",
        "        self.df.loc[:, 'text'] =self.df.text.str.replace(r'\\ssp\\s', ' sponsored ')\n",
        "        self.df.loc[:, 'text'] =self.df.text.str.replace(r'\\stbh\\s', ' to be honest ')\n",
        "        self.df.loc[:, 'text'] =self.df.text.str.replace(r'\\sb\\s', ' be ')\n",
        "        self.df.loc[:, 'text'] =self.df.text.str.replace(r'\\sr\\s', ' are ')\n",
        "        self.df.loc[:, 'text'] =self.df.text.str.replace(r'\\sc\\s', ' see ')\n",
        "        self.df.loc[:, 'text'] =self.df.text.str.replace(r'\\bu\\b', ' you ')\n",
        "        self.df.loc[:, 'text'] =self.df.text.str.replace(r'\\bu\\b', ' you ')\n",
        "        self.df.loc[:, 'text'] =self.df.text.str.replace(r'\\by\\b', ' why ')\n",
        "        self.df.loc[:, 'text'] =self.df.text.str.replace(r'\\bq\\b', ' qanon ')\n",
        "        self.df.loc[:, 'text'] =self.df.text.str.replace(r'\\bq\\b', ' qanon ')\n",
        "        self.df.loc[:, 'text'] =self.df.text.str.replace(r'\\sppl\\s*', ' people ')\n",
        "        self.df.loc[:, 'text'] =self.df.text.str.replace(r'\\sbjp\\s', ' bharatiya janata party ')\n",
        "        self.df.loc[:, 'text'] =self.df.text.str.replace(r'\\sblm\\s', ' black lives matter ')\n",
        "        self.df.loc[:, 'text'] =self.df.text.str.replace(r'\\scld\\s', ' could ')\n",
        "        self.df.loc[:, 'text'] =self.df.text.str.replace(r'\\schk\\s', ' check ')\n",
        "        self.df.loc[:, 'text'] =self.df.text.str.replace(r'\\sbtw\\s', ' by the way ')\n",
        "        self.df.loc[:, 'text'] =self.df.text.str.replace(r'\\sbrb\\s', ' be right back ')\n",
        "        self.df.loc[:, 'text'] =self.df.text.str.replace(r'\\swtv\\s', ' whatever ')\n",
        "\n",
        "        # extract url domain\n",
        "        def domain_name(url):\n",
        "          exurl = url.split(\"//\")[-1].split(\"/\")[0].split('?')[0]\n",
        "          if exurl != None:\n",
        "            return exurl\n",
        "          return url\n",
        "\n",
        "        def replace_url_placeholder(index):\n",
        "          links = self.df.url[index]\n",
        "\n",
        "          if(len(links) <= 0):\n",
        "            return self.df.text[index]\n",
        "        \n",
        "          sentence = self.df.text[index]\n",
        "          for i in range(len(links)):\n",
        "            sentence = re.sub(r\"_url\", str(links[i]), str(sentence), count = 1)\n",
        "          return sentence\n",
        "\n",
        "        self.df['url'] = self.df['text'].apply(lambda x: re.findall(r\"\\b((?:https?://)?(?:(?:www\\.)?(?:[\\da-z\\.-]+)\\.(?:[a-z]{2,6})|(?:(?:25[0-5]|2[0-4][0-9]|[01]?[0-9][0-9]?)\\.){3}(?:25[0-5]|2[0-4][0-9]|[01]?[0-9][0-9]?)|(?:(?:[0-9a-fA-F]{1,4}:){7,7}[0-9a-fA-F]{1,4}|(?:[0-9a-fA-F]{1,4}:){1,7}:|(?:[0-9a-fA-F]{1,4}:){1,6}:[0-9a-fA-F]{1,4}|(?:[0-9a-fA-F]{1,4}:){1,5}(?::[0-9a-fA-F]{1,4}){1,2}|(?:[0-9a-fA-F]{1,4}:){1,4}(?::[0-9a-fA-F]{1,4}){1,3}|(?:[0-9a-fA-F]{1,4}:){1,3}(?::[0-9a-fA-F]{1,4}){1,4}|(?:[0-9a-fA-F]{1,4}:){1,2}(?::[0-9a-fA-F]{1,4}){1,5}|[0-9a-fA-F]{1,4}:(?:(?::[0-9a-fA-F]{1,4}){1,6})|:(?:(?::[0-9a-fA-F]{1,4}){1,7}|:)|fe80:(?::[0-9a-fA-F]{0,4}){0,4}%[0-9a-zA-Z]{1,}|::(?:ffff(?::0{1,4}){0,1}:){0,1}(?:(?:25[0-5]|(?:2[0-4]|1{0,1}[0-9]){0,1}[0-9])\\.){3,3}(?:25[0-5]|(?:2[0-4]|1{0,1}[0-9]){0,1}[0-9])|(?:[0-9a-fA-F]{1,4}:){1,4}:(?:(?:25[0-5]|(?:2[0-4]|1{0,1}[0-9]){0,1}[0-9])\\.){3,3}(?:25[0-5]|(?:2[0-4]|1{0,1}[0-9]){0,1}[0-9])))(?::[0-9]{1,4}|[1-5][0-9]{4}|6[0-4][0-9]{3}|65[0-4][0-9]{2}|655[0-2][0-9]|6553[0-5])?(?:/[\\w\\.-]*)*/?)\\b\", str(x)))\n",
        "        self.df['text'] = self.df['text'].apply(lambda x: re.sub(r\"\\b((?:https?://)?(?:(?:www\\.)?(?:[\\da-z\\.-]+)\\.(?:[a-z]{2,6})|(?:(?:25[0-5]|2[0-4][0-9]|[01]?[0-9][0-9]?)\\.){3}(?:25[0-5]|2[0-4][0-9]|[01]?[0-9][0-9]?)|(?:(?:[0-9a-fA-F]{1,4}:){7,7}[0-9a-fA-F]{1,4}|(?:[0-9a-fA-F]{1,4}:){1,7}:|(?:[0-9a-fA-F]{1,4}:){1,6}:[0-9a-fA-F]{1,4}|(?:[0-9a-fA-F]{1,4}:){1,5}(?::[0-9a-fA-F]{1,4}){1,2}|(?:[0-9a-fA-F]{1,4}:){1,4}(?::[0-9a-fA-F]{1,4}){1,3}|(?:[0-9a-fA-F]{1,4}:){1,3}(?::[0-9a-fA-F]{1,4}){1,4}|(?:[0-9a-fA-F]{1,4}:){1,2}(?::[0-9a-fA-F]{1,4}){1,5}|[0-9a-fA-F]{1,4}:(?:(?::[0-9a-fA-F]{1,4}){1,6})|:(?:(?::[0-9a-fA-F]{1,4}){1,7}|:)|fe80:(?::[0-9a-fA-F]{0,4}){0,4}%[0-9a-zA-Z]{1,}|::(?:ffff(?::0{1,4}){0,1}:){0,1}(?:(?:25[0-5]|(?:2[0-4]|1{0,1}[0-9]){0,1}[0-9])\\.){3,3}(?:25[0-5]|(?:2[0-4]|1{0,1}[0-9]){0,1}[0-9])|(?:[0-9a-fA-F]{1,4}:){1,4}:(?:(?:25[0-5]|(?:2[0-4]|1{0,1}[0-9]){0,1}[0-9])\\.){3,3}(?:25[0-5]|(?:2[0-4]|1{0,1}[0-9]){0,1}[0-9])))(?::[0-9]{1,4}|[1-5][0-9]{4}|6[0-4][0-9]{3}|65[0-4][0-9]{2}|655[0-2][0-9]|6553[0-5])?(?:/[\\w\\.-]*)*/?)\\b\", '_url', str(x)))\n",
        "        self.df['url'] = self.df['url'].apply(lambda x: [domain_name(url) for url in x])\n",
        "        \n",
        "        for i in range(len(self.df.text)):\n",
        "            if len(self.df.url.values[i]) > 0:\n",
        "                self.df.loc[i, 'text'] = replace_url_placeholder(i)\n",
        "\n",
        "        # convert emoji and emoticons to text\n",
        "        def convert_emoticons(text):\n",
        "          for emot in EMOTICONS_EMO:\n",
        "            text = text.replace(emot, \"_\".join(re.split(',| ',EMOTICONS_EMO[emot])))\n",
        "          return text\n",
        "\n",
        "        self.df.loc[:, 'text'] =self.df.text.apply(lambda x: demojize(x)) #emoji      \n",
        "        self.df.loc[:, 'text'] =self.df.text.apply(lambda x: convert_emoticons(x)) #emoticon\n",
        "\n",
        "\n",
        "        # remove videos and links\n",
        "        self.df.loc[:, 'text'] = self.df.text.str.replace('{link}', '')\n",
        "        self.df.loc[:, 'text'] = self.df.text.str.replace(\"\\[video\\]\", '')\n",
        "        \n",
        "        self.df.loc[:, 'text'] =self.df.text.str.replace('&[a-z]+;', '')\n",
        "        self.df.loc[:, 'text'] =self.df.text.str.replace(' {2,}', ' ')\n",
        "        self.df.loc[:, 'text'] =self.df.text.str.replace('^.^', 'smile')\n",
        "          \n",
        "        self.df.loc[:, 'text'] = self.df.text.apply(lambda x: \" \".join(text_processor.pre_process_doc(x)))\n",
        "        \n",
        "        # self.data = self.df[['label', 'text']]\n",
        "        self.data = self.df['text']\n",
        "        self.data.drop_duplicates(inplace=True)"
      ],
      "execution_count": null,
      "outputs": []
    },
    {
      "cell_type": "code",
      "metadata": {
        "id": "OQKygHx6RNIC"
      },
      "source": [
        "# data_path = \"/content/drive/MyDrive/FakeNews/Data/new/extended_from_dev3.csv\"\n",
        "# df = dataset(data_path)\n",
        "# df.preprocessing()\n",
        "# df.data.to_csv('/content/drive/MyDrive/FakeNews/Data/extended-preprocessed.csv', encoding='utf-8', index=False)\n",
        "# labelZero = df.loc[df['label'] == 0].sample(frac=1, random_state=42).head(500)\n",
        "# labelOne = df.loc[df['label'] == 1]\n",
        "# labelTwo = df.loc[df['label'] == 2]\n",
        "### uncomment and run this cell if you run for raw data\n",
        "# data = pd.read_csv(\"/content/drive/MyDrive/FakeNews/Test/test-task-1.csv\", encoding='utf-8',)\n",
        "data_path = \"/content/drive/MyDrive/FakeNews/Test/test-task-1.csv\"\n",
        "df = dataset(data_path)\n",
        "df.preprocessing()\n",
        "df.data.to_csv('/content/drive/MyDrive/FakeNews/Data/test-preprocessed.csv', encoding='utf-8', index=False)"
      ],
      "execution_count": null,
      "outputs": []
    },
    {
      "cell_type": "code",
      "metadata": {
        "colab": {
          "base_uri": "https://localhost:8080/",
          "height": 423
        },
        "id": "dlK5vGHWc3eE",
        "outputId": "1ef0d8c7-13d5-4c26-98db-0438deb0d1e3"
      },
      "source": [
        "test = pd.read_csv(\"/content/drive/MyDrive/FakeNews/Data/test-preprocessed.csv\")\n",
        "testt"
      ],
      "execution_count": null,
      "outputs": [
        {
          "output_type": "execute_result",
          "data": {
            "text/html": [
              "<div>\n",
              "<style scoped>\n",
              "    .dataframe tbody tr th:only-of-type {\n",
              "        vertical-align: middle;\n",
              "    }\n",
              "\n",
              "    .dataframe tbody tr th {\n",
              "        vertical-align: top;\n",
              "    }\n",
              "\n",
              "    .dataframe thead th {\n",
              "        text-align: right;\n",
              "    }\n",
              "</style>\n",
              "<table border=\"1\" class=\"dataframe\">\n",
              "  <thead>\n",
              "    <tr style=\"text-align: right;\">\n",
              "      <th></th>\n",
              "      <th>text</th>\n",
              "    </tr>\n",
              "  </thead>\n",
              "  <tbody>\n",
              "    <tr>\n",
              "      <th>0</th>\n",
              "      <td>&lt;number&gt; it was not spread by snakes or bats i...</td>\n",
              "    </tr>\n",
              "    <tr>\n",
              "      <th>1</th>\n",
              "      <td>trump and cult think fraud billionaires can ru...</td>\n",
              "    </tr>\n",
              "    <tr>\n",
              "      <th>2</th>\n",
              "      <td>what if the coronavirus is not a virus but a d...</td>\n",
              "    </tr>\n",
              "    <tr>\n",
              "      <th>3</th>\n",
              "      <td>sad but i cannot say i am surprised unfortunat...</td>\n",
              "    </tr>\n",
              "    <tr>\n",
              "      <th>4</th>\n",
              "      <td>i have not read koontz in decades but i rememb...</td>\n",
              "    </tr>\n",
              "    <tr>\n",
              "      <th>...</th>\n",
              "      <td>...</td>\n",
              "    </tr>\n",
              "    <tr>\n",
              "      <th>261</th>\n",
              "      <td>the fact they have all been fully vaccinated a...</td>\n",
              "    </tr>\n",
              "    <tr>\n",
              "      <th>262</th>\n",
              "      <td>&lt;number&gt; control small electrical appliances f...</td>\n",
              "    </tr>\n",
              "    <tr>\n",
              "      <th>263</th>\n",
              "      <td>yes commissions to prom were given as per cont...</td>\n",
              "    </tr>\n",
              "    <tr>\n",
              "      <th>264</th>\n",
              "      <td>who cares a strain of covid has never actually...</td>\n",
              "    </tr>\n",
              "    <tr>\n",
              "      <th>265</th>\n",
              "      <td>during these post pandemic summer travel daysw...</td>\n",
              "    </tr>\n",
              "  </tbody>\n",
              "</table>\n",
              "<p>266 rows × 1 columns</p>\n",
              "</div>"
            ],
            "text/plain": [
              "                                                  text\n",
              "0    <number> it was not spread by snakes or bats i...\n",
              "1    trump and cult think fraud billionaires can ru...\n",
              "2    what if the coronavirus is not a virus but a d...\n",
              "3    sad but i cannot say i am surprised unfortunat...\n",
              "4    i have not read koontz in decades but i rememb...\n",
              "..                                                 ...\n",
              "261  the fact they have all been fully vaccinated a...\n",
              "262  <number> control small electrical appliances f...\n",
              "263  yes commissions to prom were given as per cont...\n",
              "264  who cares a strain of covid has never actually...\n",
              "265  during these post pandemic summer travel daysw...\n",
              "\n",
              "[266 rows x 1 columns]"
            ]
          },
          "metadata": {},
          "execution_count": 39
        }
      ]
    },
    {
      "cell_type": "markdown",
      "metadata": {
        "id": "zST7gsNGDle0"
      },
      "source": [
        "# Define tokenizer"
      ]
    },
    {
      "cell_type": "code",
      "metadata": {
        "id": "U36yuTnF32jj",
        "colab": {
          "base_uri": "https://localhost:8080/",
          "referenced_widgets": [
            "d66470a0a5194c2e86a8bbb49b7e90bf",
            "ef10ba121469454e89f15f0c87879c6d",
            "f736f28b02f84bcdb9197277ca507cd3",
            "3a5572ec62b4400785d521ab888ca2a2",
            "1f8aaa3040c44e1d8b0924dd4b33d25c",
            "e87ebc1fbf3740cfab69a258d8ed37f8",
            "20eb94abf9154d698e7acd076870f6b9",
            "885b7b6a529e4cef96e02fa2ecea32e1",
            "b9b1ab34eae743da8b0657ef7b7c9d6b",
            "d2d19a83c42c4a1db62aff606dd70f22",
            "b3bd099ecfb841999cc715a1d111efe9",
            "339ed6060c7044f2824f1a7ec78a0b80",
            "b6d4128fb3544767b61c9b9ca23f1b8a",
            "5c60ae4a245d4e3a87052a58cae32697",
            "30310c548d1148689ea9489bac12310f",
            "1e0998adaf094388a37e3d0a1e25b4b1",
            "7cc6d45a621e46628b26370007cb7353",
            "6c650658282e45b7a782300487b78491",
            "9c52a295a0994834aad2d071cf9a8033",
            "6b8a80e138484adf84b1a9947088316c",
            "922c37c4d0fd4193b8cb8fccaf407c76",
            "14b6f0a86c6046099d722f4edc157b8f",
            "173c6929d06b41f7b86694d67442ace1",
            "9e47df085f804efc8fa91d276c80b96b",
            "162717b8d2d844419cadcd778c4d82a8",
            "69a3dea4560c4d8ebd87852938479afd",
            "e55653e1dd8c4b95a585979845c27248",
            "f5fb05cdb2c340e88569b2e5ebccb8c0",
            "afeec1b11ced46bf96fff5c06ce47131",
            "6043e8ac651f4dc1ad60d6f8a644eef9",
            "35803ae568c04dfb99e86f981aa37b4b",
            "0fdbd2bd3da0436993b5d2c58e48f8b3",
            "6749b064b9164c81b51926f1a42042df",
            "80c179ddbcbf4326ba7d919bd8edc997",
            "39bc706ef04a4eb6a0637d942c8a968e",
            "f63b77ddc6e449c9ab7b97e533071c90",
            "6be21892fd1e43d49dd2c0a616078b62",
            "c90a4e6f4a3449df89363f953485fc22",
            "ea27bf9472054340a798d7abe6215493",
            "989b93c7a3064db68f97f51a568dd692",
            "2217fd721ac24df3b42227a19e983352",
            "fee97a8dabd9408b962822b87b7bcb5e",
            "51a578f3dd844094b9242f015be636f5",
            "4c9d7d19a6664f81bdc9835fe58f15c5"
          ]
        },
        "outputId": "fe0e7d77-5dea-467e-c635-de356294272c"
      },
      "source": [
        "MAX_SEQUENCE_LENGTH = 64\n",
        "\n",
        "PRETRAINED_MODEL_NAME = \"digitalepidemiologylab/covid-twitter-bert-v2\"#\"digitalepidemiologylab/covid-twitter-bert/2\" #'vinai/bertweet-covid19-base-uncased' \n",
        "\n",
        "# Number of labels:\n",
        "number_of_label = 3#train['label'].nunique()\n",
        "\n",
        "def batch_encode(X, tokenizer):\n",
        "    return tokenizer.batch_encode_plus(\n",
        "    X,\n",
        "    max_length=MAX_SEQUENCE_LENGTH, # set the length of the sequences\n",
        "    add_special_tokens=True, # add [CLS] and [SEP] tokens\n",
        "    return_attention_mask=True,\n",
        "    truncation = True,\n",
        "    return_token_type_ids=True, # not needed for this type of ML task\n",
        "    padding='max_length', # add 0 pad tokens to the sequences less than max_length\n",
        "    return_tensors='tf'\n",
        ")\n",
        "\n",
        "def CreateModel(model_class, tokenizer_class, pretrained_weights):\n",
        "  model_class, tokenizer_class, pretrained_weights = (model_class, tokenizer_class, pretrained_weights)\n",
        "\n",
        "  tokenizer = tokenizer_class.from_pretrained(pretrained_weights)\n",
        "  return tokenizer\n",
        "\n",
        "tokenizer = CreateModel(AutoModel, AutoTokenizer, PRETRAINED_MODEL_NAME)"
      ],
      "execution_count": null,
      "outputs": [
        {
          "output_type": "display_data",
          "data": {
            "application/vnd.jupyter.widget-view+json": {
              "model_id": "d66470a0a5194c2e86a8bbb49b7e90bf",
              "version_minor": 0,
              "version_major": 2
            },
            "text/plain": [
              "Downloading:   0%|          | 0.00/62.0 [00:00<?, ?B/s]"
            ]
          },
          "metadata": {}
        },
        {
          "output_type": "display_data",
          "data": {
            "application/vnd.jupyter.widget-view+json": {
              "model_id": "339ed6060c7044f2824f1a7ec78a0b80",
              "version_minor": 0,
              "version_major": 2
            },
            "text/plain": [
              "Downloading:   0%|          | 0.00/421 [00:00<?, ?B/s]"
            ]
          },
          "metadata": {}
        },
        {
          "output_type": "display_data",
          "data": {
            "application/vnd.jupyter.widget-view+json": {
              "model_id": "173c6929d06b41f7b86694d67442ace1",
              "version_minor": 0,
              "version_major": 2
            },
            "text/plain": [
              "Downloading:   0%|          | 0.00/226k [00:00<?, ?B/s]"
            ]
          },
          "metadata": {}
        },
        {
          "output_type": "display_data",
          "data": {
            "application/vnd.jupyter.widget-view+json": {
              "model_id": "80c179ddbcbf4326ba7d919bd8edc997",
              "version_minor": 0,
              "version_major": 2
            },
            "text/plain": [
              "Downloading:   0%|          | 0.00/112 [00:00<?, ?B/s]"
            ]
          },
          "metadata": {}
        }
      ]
    },
    {
      "cell_type": "markdown",
      "metadata": {
        "id": "7hlZaRRGFw4I"
      },
      "source": [
        "# Extract features for sklearn models"
      ]
    },
    {
      "cell_type": "code",
      "metadata": {
        "colab": {
          "base_uri": "https://localhost:8080/"
        },
        "id": "gvDUC1oEGiqy",
        "outputId": "cd6d054a-61d4-42d4-a5b5-2fca15eb3fe6"
      },
      "source": [
        "from transformers import AutoModel\n",
        "\n",
        "data_path = \"/content/drive/MyDrive/FakeNews/Test/test-preprocessed.csv\"\n",
        "data = pd.read_csv(data_path)\n",
        "\n",
        "def CreateModel(model_class, tokenizer_class, pretrained_weights):\n",
        "  model_class, tokenizer_class, pretrained_weights = (model_class, tokenizer_class, pretrained_weights)\n",
        "\n",
        "  tokenizer = tokenizer_class.from_pretrained(pretrained_weights)\n",
        "  model = model_class.from_pretrained(pretrained_weights, output_hidden_states=True)\n",
        "  return tokenizer, model\n",
        "\n",
        "tokenizer, model = CreateModel(AutoModel, AutoTokenizer, PRETRAINED_MODEL_NAME)\n",
        "\n",
        "def batch_encode(X, tokenizer):\n",
        "    return tokenizer.batch_encode_plus(\n",
        "    X,\n",
        "    max_length=MAX_SEQUENCE_LENGTH, # set the length of the sequences\n",
        "    add_special_tokens=True, # add [CLS] and [SEP] tokens\n",
        "    return_attention_mask=True,\n",
        "    truncation = True,\n",
        "    return_token_type_ids=True,\n",
        "    padding='max_length', # add 0 pad tokens to the sequences less than max_length\n",
        "    return_tensors='pt'\n",
        ")"
      ],
      "execution_count": null,
      "outputs": [
        {
          "output_type": "stream",
          "name": "stderr",
          "text": [
            "Some weights of the model checkpoint at digitalepidemiologylab/covid-twitter-bert-v2 were not used when initializing BertModel: ['cls.seq_relationship.weight', 'cls.predictions.transform.LayerNorm.bias', 'cls.predictions.transform.dense.weight', 'cls.predictions.bias', 'cls.predictions.decoder.weight', 'cls.predictions.transform.dense.bias', 'cls.seq_relationship.bias', 'cls.predictions.transform.LayerNorm.weight', 'cls.predictions.decoder.bias']\n",
            "- This IS expected if you are initializing BertModel from the checkpoint of a model trained on another task or with another architecture (e.g. initializing a BertForSequenceClassification model from a BertForPreTraining model).\n",
            "- This IS NOT expected if you are initializing BertModel from the checkpoint of a model that you expect to be exactly identical (initializing a BertForSequenceClassification model from a BertForSequenceClassification model).\n"
          ]
        }
      ]
    },
    {
      "cell_type": "code",
      "metadata": {
        "id": "yFvnMRdIF14o",
        "colab": {
          "base_uri": "https://localhost:8080/"
        },
        "outputId": "becfcbb0-762b-427a-fddc-b42352dc0c09"
      },
      "source": [
        "import gc\n",
        "\n",
        "def save_embedding_mini_batch(data_size, batch_size, model, path, filename, X_train):\n",
        "  \n",
        "  device = torch.device('cuda' if torch.cuda.is_available() else 'cpu')\n",
        "  model.to(device)\n",
        "\n",
        "  for batch in range(0, int(data_size / batch_size) + 1):\n",
        "    torch.cuda.empty_cache()\n",
        "\n",
        "    # mini_batch_input_ids = X_train['input_ids'][batch*batch_size:]\n",
        "    # mini_batch_attention_mask = X_train['attention_mask'][batch*batch_size:]\n",
        "    # mini_batch_token_type_ids = X_train['token_type_ids'][batch*batch_size:]\n",
        "\n",
        "    print(\"Batch {}\".format(batch))\n",
        "\n",
        "    if (batch+1)*batch_size > data_size:\n",
        "      mini_batch_input_ids = X_train['input_ids'][batch*batch_size:]\n",
        "      mini_batch_attention_mask = X_train['attention_mask'][batch*batch_size:]\n",
        "      mini_batch_token_type_ids = X_train['token_type_ids'][batch*batch_size:]\n",
        "    else:\n",
        "      mini_batch_input_ids = X_train['input_ids'][batch*batch_size:(batch+1)*batch_size]\n",
        "      mini_batch_attention_mask = X_train['attention_mask'][batch*batch_size:(batch+1)*batch_size]\n",
        "      mini_batch_token_type_ids = X_train['token_type_ids'][batch*batch_size:(batch+1)*batch_size]\n",
        "\n",
        "    with torch.no_grad():\n",
        "      output = model(input_ids=mini_batch_input_ids.to(device), attention_mask=mini_batch_attention_mask.to(device), token_type_ids=mini_batch_token_type_ids.to(device))\n",
        "    \n",
        "    print(len(output[2]))\n",
        "    output = list(output[2])\n",
        "    filepath = path + filename + str(batch) + \".pt\"\n",
        "    print(filepath)\n",
        "\n",
        "    torch.save(output, filepath)\n",
        "    print(\"saved\")\n",
        "\n",
        "    del output\n",
        "    gc.collect()\n",
        "print(\"Done\")"
      ],
      "execution_count": null,
      "outputs": [
        {
          "output_type": "stream",
          "name": "stdout",
          "text": [
            "Done\n"
          ]
        }
      ]
    },
    {
      "cell_type": "code",
      "metadata": {
        "id": "pODo5YrkKX3Y"
      },
      "source": [
        "X_train = batch_encode(list(data.text.values), tokenizer)"
      ],
      "execution_count": null,
      "outputs": []
    },
    {
      "cell_type": "code",
      "metadata": {
        "id": "of0idmXZKqVs",
        "colab": {
          "base_uri": "https://localhost:8080/"
        },
        "outputId": "dd61e41d-847e-49e3-cb88-9b3ebe68476c"
      },
      "source": [
        "X_train.keys()"
      ],
      "execution_count": null,
      "outputs": [
        {
          "output_type": "execute_result",
          "data": {
            "text/plain": [
              "dict_keys(['input_ids', 'token_type_ids', 'attention_mask'])"
            ]
          },
          "metadata": {},
          "execution_count": 49
        }
      ]
    },
    {
      "cell_type": "code",
      "metadata": {
        "id": "4UaOrehHF_4i",
        "colab": {
          "base_uri": "https://localhost:8080/"
        },
        "outputId": "a1d28dc0-3fd8-45ea-d16a-2cca2f5e1239"
      },
      "source": [
        "batch_size = len(data) + 1\n",
        "data_size = len(data)\n",
        "path = \"/content/drive/MyDrive/FakeNews/Test/\"\n",
        "filename = \"embedding\"\n",
        "save_embedding_mini_batch(data_size, batch_size, model, path, filename, X_train)"
      ],
      "execution_count": null,
      "outputs": [
        {
          "output_type": "stream",
          "name": "stdout",
          "text": [
            "Batch 0\n",
            "25\n",
            "/content/drive/MyDrive/FakeNews/Test/embedding0.pt\n",
            "saved\n"
          ]
        }
      ]
    },
    {
      "cell_type": "code",
      "metadata": {
        "id": "B4ZAelr0MTKL"
      },
      "source": [
        "torch.cuda.memory_summary(device=None, abbreviated=False)"
      ],
      "execution_count": null,
      "outputs": []
    },
    {
      "cell_type": "markdown",
      "metadata": {
        "id": "Lp-k672twTgA"
      },
      "source": [
        "# covid-twitter-bert-v2 Embedding"
      ]
    },
    {
      "cell_type": "code",
      "metadata": {
        "id": "koiAi4jt9RPw",
        "colab": {
          "base_uri": "https://localhost:8080/",
          "referenced_widgets": [
            "39d0888c2980486da942f1d1da6e35df",
            "7b93e0f83f9645059ee2b8cc580dd308",
            "3de5cdfab5f543af8837da39653802de",
            "199546a15f284bf9bd65f522b8a22a72",
            "2f2407f787c8401db26885685c58bb1c",
            "2f4643bfc7cc41e99d96cfdea4e97f88",
            "99eee85670d2423290d4f78a950baf3d",
            "9aea0ebd23ad48b288ee9baf350fba81",
            "b24654d9915b4e2593d93b874877a60b",
            "d34f354d0f774c55b823ec1b71e82eaa",
            "095312293b5a48438f07532465e87802"
          ]
        },
        "outputId": "e92e14f2-ce4c-432b-b18f-f97f97814a94"
      },
      "source": [
        "def CreateModel(model_class, tokenizer_class, pretrained_weights):\n",
        "  model_class, tokenizer_class, pretrained_weights = (model_class, tokenizer_class, pretrained_weights)\n",
        "\n",
        "  tokenizer = tokenizer_class.from_pretrained(pretrained_weights)\n",
        "  model = model_class.from_pretrained(pretrained_weights, output_hidden_states = True)\n",
        "  model.eval()\n",
        "  return model, tokenizer\n",
        "\n",
        "def batch_encode(X, tokenizer):\n",
        "    return tokenizer.batch_encode_plus(\n",
        "    X,\n",
        "    max_length=64, # set the length of the sequences\n",
        "    add_special_tokens=True, # add [CLS] and [SEP] tokens\n",
        "    return_attention_mask=True,\n",
        "    truncation = True,\n",
        "    return_token_type_ids=False,\n",
        "    padding='max_length', # add 0 pad tokens to the sequences less than max_length\n",
        "    return_tensors='pt'\n",
        ")\n",
        "    \n",
        "model, tokenizer = CreateModel(BertModel, BertTokenizer, 'digitalepidemiologylab/covid-twitter-bert-v2')"
      ],
      "execution_count": null,
      "outputs": [
        {
          "output_type": "display_data",
          "data": {
            "application/vnd.jupyter.widget-view+json": {
              "model_id": "39d0888c2980486da942f1d1da6e35df",
              "version_minor": 0,
              "version_major": 2
            },
            "text/plain": [
              "Downloading:   0%|          | 0.00/1.25G [00:00<?, ?B/s]"
            ]
          },
          "metadata": {}
        },
        {
          "output_type": "stream",
          "name": "stderr",
          "text": [
            "Some weights of the model checkpoint at digitalepidemiologylab/covid-twitter-bert-v2 were not used when initializing BertModel: ['cls.predictions.bias', 'cls.predictions.decoder.bias', 'cls.predictions.transform.dense.bias', 'cls.seq_relationship.bias', 'cls.predictions.transform.LayerNorm.weight', 'cls.predictions.transform.dense.weight', 'cls.predictions.transform.LayerNorm.bias', 'cls.predictions.decoder.weight', 'cls.seq_relationship.weight']\n",
            "- This IS expected if you are initializing BertModel from the checkpoint of a model trained on another task or with another architecture (e.g. initializing a BertForSequenceClassification model from a BertForPreTraining model).\n",
            "- This IS NOT expected if you are initializing BertModel from the checkpoint of a model that you expect to be exactly identical (initializing a BertForSequenceClassification model from a BertForSequenceClassification model).\n"
          ]
        }
      ]
    },
    {
      "cell_type": "code",
      "metadata": {
        "id": "o7xkLtlnqd6X"
      },
      "source": [
        "data = pd.read_csv(\"/content/drive/MyDrive/FakeNews/Test/test-preprocessed.csv\")\n",
        "X_train = batch_encode(data.text.values, tokenizer)"
      ],
      "execution_count": null,
      "outputs": []
    },
    {
      "cell_type": "code",
      "metadata": {
        "colab": {
          "base_uri": "https://localhost:8080/"
        },
        "id": "ZA4uYs9tf8rk",
        "outputId": "4f2a53f0-17d8-4d2a-8457-d0df49f252c7"
      },
      "source": [
        "def save_embedding_mini_batch(data_size, batch_size, model, path, filename, X_train):\n",
        "\n",
        "  for batch in range(0, int(data_size / batch_size) + 1):\n",
        "\n",
        "    print(\"Batch {}\".format(batch))\n",
        "\n",
        "    if (batch+1)*batch_size >= data_size:\n",
        "      mini_batch_input_ids = X_train['input_ids'][batch*batch_size:]\n",
        "      mini_batch_attention_mask = X_train['attention_mask'][batch*batch_size:]\n",
        "    else:\n",
        "      mini_batch_input_ids = X_train['input_ids'][batch*batch_size:(batch+1)*batch_size]\n",
        "      mini_batch_attention_mask = X_train['attention_mask'][batch*batch_size:(batch+1)*batch_size]\n",
        "    \n",
        "    with torch.no_grad():\n",
        "      output = model(mini_batch_input_ids, attention_mask=mini_batch_attention_mask)\n",
        "    \n",
        "    output = list(output[2])\n",
        "    filepath = path + filename + str(batch) + \".pt\"\n",
        "    print(filepath)\n",
        "\n",
        "    torch.save(output, filepath)\n",
        "    print(\"saved\")\n",
        "\n",
        "    del output\n",
        "    #del features\n",
        "    gc.collect()\n",
        "print(\"Done\")"
      ],
      "execution_count": null,
      "outputs": [
        {
          "name": "stdout",
          "output_type": "stream",
          "text": [
            "Done\n"
          ]
        }
      ]
    },
    {
      "cell_type": "code",
      "metadata": {
        "colab": {
          "base_uri": "https://localhost:8080/"
        },
        "id": "iGCIQhz37u0f",
        "outputId": "99d2d208-7f7b-4b42-c6fa-71b14abd8347"
      },
      "source": [
        "batch_size = 100\n",
        "data_size = len(data)\n",
        "path = \"/content/drive/MyDrive/FakeNews/fakenews_embeddings/\"\n",
        "filename = \"test\"\n",
        "save_embedding_mini_batch(data_size, batch_size, model, path, filename, X_train)"
      ],
      "execution_count": null,
      "outputs": [
        {
          "name": "stdout",
          "output_type": "stream",
          "text": [
            "/content/drive/MyDrive/FakeNews/fakenews_embeddings/test.pt\n",
            "saved\n"
          ]
        }
      ]
    },
    {
      "cell_type": "markdown",
      "metadata": {
        "id": "fdlZrFxAwkln"
      },
      "source": [
        "# Train on Augmented data in batches"
      ]
    },
    {
      "cell_type": "code",
      "metadata": {
        "id": "y-HyUFp85E4f"
      },
      "source": [
        "data = pd.read_csv(\"/content/drive/MyDrive/FakeNews/Data/dev-1-task-1-preprocessed.csv\")\n",
        "\n",
        "data = data.sample(frac=1, random_state=42).reset_index(drop=True)\n",
        "\n",
        "data[:int(len(data)*0.8)].to_csv(\"/content/drive/MyDrive/FakeNews/Data/dev-1-task-1-preprocessed-train.csv\", index=False)\n",
        "data[int(len(data)*0.8):].to_csv(\"/content/drive/MyDrive/FakeNews/Data/dev-1-task-1-preprocessed-test.csv\", index=False)\n",
        "\n",
        "data_train = pd.read_csv(\"/content/drive/MyDrive/FakeNews/Data/dev-1-task-1-preprocessed-train.csv\")\n",
        "data_test = pd.read_csv(\"/content/drive/MyDrive/FakeNews/Data/dev-1-task-1-preprocessed-test.csv\")"
      ],
      "execution_count": null,
      "outputs": []
    },
    {
      "cell_type": "code",
      "metadata": {
        "id": "BaDMe39MrPhf"
      },
      "source": [
        "def load_train_features(features_path, features_filename, data_size):\n",
        "    print(\"Loading \" + features_filename + \" features with size \", str(data_size))\n",
        "    path = features_path + features_filename + \"0.npy\"\n",
        "    print(path)\n",
        "    features = np.load(path)#Init the nparray\n",
        "    for batch in range(1, int(data_size / 100) + 1):\n",
        "        path = features_path + features_filename + str(batch) + \".npy\"\n",
        "        feature = np.load(path)\n",
        "        features = np.vstack((features, feature))\n",
        "        print(path)\n",
        "        print(\"Batch {} completed!\".format(batch))\n",
        "        del feature\n",
        "        gc.collect()\n",
        "    print(\"Done\")\n",
        "    return features"
      ],
      "execution_count": null,
      "outputs": []
    },
    {
      "cell_type": "code",
      "metadata": {
        "id": "e6hlRCbYvYz2"
      },
      "source": [
        "def load_test_features():\n",
        "    hidden_states = torch.load(\"/content/drive/MyDrive/FakeNews/fakenews_embeddings/test.pt\")\n",
        "    cat_features_test = cat_features(hidden_states)\n",
        "    mean_features_test = mean_features(hidden_states)\n",
        "    sentence_features_test = sentence_features(hidden_states)\n",
        "    sentencecls_features_test = sentenceCLS_features(hidden_states)\n",
        "    return cat_features_test, mean_features_test, sentence_features_test, sentencecls_features_test"
      ],
      "execution_count": null,
      "outputs": []
    },
    {
      "cell_type": "code",
      "metadata": {
        "id": "I6Wk0nPTtEwY"
      },
      "source": [
        "cat_features_train = load_train_features(\"/content/drive/MyDrive/FakeNews/Features/cat_features/\", \"catbatch\", len(data_train))\n",
        "mean_features_train = load_train_features(\"/content/drive/MyDrive/FakeNews/Features/mean_features/\", \"meanbatch\", len(data_train))\n",
        "sentence_features_train = load_train_features(\"/content/drive/MyDrive/FakeNews/Features/sentence_features/\", \"sentencebatch\", len(data_train))\n",
        "sentencecls_features_train = load_train_features(\"/content/drive/MyDrive/FakeNews/Features/sentencecls_features/\", \"sentenceclsbatch\", len(data_train))"
      ],
      "execution_count": null,
      "outputs": []
    },
    {
      "cell_type": "code",
      "metadata": {
        "colab": {
          "base_uri": "https://localhost:8080/"
        },
        "id": "gluahWMIwBVI",
        "outputId": "30daa530-7104-494d-f0a0-db670f79cd35"
      },
      "source": [
        "cat_features_test, mean_features_test, sentence_features_test, sentencecls_features_test = load_test_features()"
      ],
      "execution_count": null,
      "outputs": [
        {
          "name": "stdout",
          "output_type": "stream",
          "text": [
            "Shape is: 100 x 256 x 1024\n",
            "Shape is: 100 x 256 x 1024\n",
            "Shape is: 100 x 64 x 1024\n",
            "Shape is: 100 x 1024\n",
            "Shape is: 100 x 1024\n"
          ]
        }
      ]
    },
    {
      "cell_type": "code",
      "metadata": {
        "id": "6NUSiNyxwyS1"
      },
      "source": [
        "print(cat_features_train.shape, getsizeof(cat_features_train))\n",
        "print(mean_features_train.shape, getsizeof(mean_features_train))\n",
        "print(sentence_features_train.shape, getsizeof(sentence_features_train))\n",
        "print(sentencecls_features_train.shape, getsizeof(sentencecls_features_train))\n",
        "print(cat_features_test.shape, getsizeof(cat_features_test))\n",
        "print(mean_features_test.shape, getsizeof(mean_features_test))\n",
        "print(sentence_features_test.shape, getsizeof(sentence_features_test))\n",
        "print(sentencecls_features_test.shape, getsizeof(sentencecls_features_test))"
      ],
      "execution_count": null,
      "outputs": []
    },
    {
      "cell_type": "code",
      "metadata": {
        "id": "IIk8DztvyVtZ"
      },
      "source": [
        "train_features = [cat_features_train, mean_features_train, sentence_features_train, sentencecls_features_train]\n",
        "test_features = [cat_features_test, mean_features_test, sentence_features_test, sentencecls_features_test]\n",
        "features = list(zip(train_features, test_features))\n",
        "del train_features\n",
        "del test_features\n",
        "gc.collect()"
      ],
      "execution_count": null,
      "outputs": []
    },
    {
      "cell_type": "code",
      "metadata": {
        "id": "rT5cgdaM0eom"
      },
      "source": [
        "score = []\n",
        "mcc = []\n",
        "models = [#\"Perceptron\", \n",
        "          #\"SGDHinge\", \"SGDLog\", \"SGDModified_huber\", \"SGDSquared_hinge\", \"SGDPerceptron\"]\n",
        "          \"LogisticRegression\", \"SVC\", \"LinearSVC\"]\n",
        "feature_names = ['Cat', \"Mean\", \"Sentence\", \"CLS\"]\n",
        "classifiers = [#sklm.Perceptron(n_jobs=-1),\n",
        "            #   sklm.SGDClassifier(n_jobs=-1, loss='hinge'), \n",
        "            #   sklm.SGDClassifier(n_jobs=-1, loss='log'),\n",
        "            #   sklm.SGDClassifier(n_jobs=-1, loss='modified_huber'),\n",
        "            #   sklm.SGDClassifier(n_jobs=-1, loss='squared_hinge'), \n",
        "            #   sklm.SGDClassifier(n_jobs=-1, loss='perceptron')]\n",
        "              sklm.LogisticRegression(n_jobs=-1), sksvm.SVC(), sksvm.LinearSVC()]         "
      ],
      "execution_count": null,
      "outputs": []
    },
    {
      "cell_type": "code",
      "metadata": {
        "colab": {
          "base_uri": "https://localhost:8080/"
        },
        "id": "qmIb8VSW2fgo",
        "outputId": "62973bfa-3bcc-45e8-f955-449d678caaa1"
      },
      "source": [
        "for i, c in enumerate(classifiers):\n",
        "    print(i, \". Training \", models[i])\n",
        "    i = 0\n",
        "    for feature in features:\n",
        "        clf = c\n",
        "        print(\"\\tUsing \", feature_names[i], \" features\")\n",
        "        train, test = feature\n",
        "        clf.fit(train, data_train.label.values)\n",
        "        predicted_labels = clf.predict(test)\n",
        "        score.append(clf.score(test, data_test.label.values))\n",
        "        mcc.append(matthews_corrcoef(predicted_labels, data_test.label.values))   \n",
        "        i = i + 1\n",
        "        del train\n",
        "        del test\n",
        "        del predicted_labels\n",
        "        del clf\n",
        "        gc.collect()\n",
        "        print(\"\\tDone\")\n",
        "    print(\"----Done----\")"
      ],
      "execution_count": null,
      "outputs": [
        {
          "name": "stdout",
          "output_type": "stream",
          "text": [
            "0 . Training  LogisticRegression\n",
            "\tUsing  Cat  features\n"
          ]
        }
      ]
    },
    {
      "cell_type": "code",
      "metadata": {
        "id": "YGakdycnIrBA"
      },
      "source": [
        "clf = sklm.LogisticRegression(n_jobs=-1)\n",
        "clf.fit(cat_features_train, data_train.label.values)\n",
        "predicted_labels = clf.predict(cat_features_test)\n",
        "print(clf.score(cat_features_test, data_test.label.values))\n",
        "print(matthews_corrcoef(predicted_labels, data_test.label.values))"
      ],
      "execution_count": null,
      "outputs": []
    },
    {
      "cell_type": "code",
      "metadata": {
        "colab": {
          "base_uri": "https://localhost:8080/"
        },
        "id": "girQkakoCjxp",
        "outputId": "29d46988-484d-4b53-ccf7-e83d0e921a1c"
      },
      "source": [
        "temp_mcc = np.reshape(mcc, (len(models), -1))\n",
        "temp_score = np.reshape(score, (len(models), -1))\n",
        "print(temp_mcc)\n",
        "print(temp_score)\n"
      ],
      "execution_count": null,
      "outputs": [
        {
          "name": "stdout",
          "output_type": "stream",
          "text": [
            "[[0.35980818 0.46354699 0.38277761 0.36066205]\n",
            " [0.31826829 0.43629864 0.37876844 0.34397655]\n",
            " [0.39404991 0.49102008 0.43776039 0.2853061 ]\n",
            " [0.38469667 0.50688573 0.43234851 0.37124708]\n",
            " [0.37751965 0.40771549 0.48023317 0.41166463]\n",
            " [0.37619117 0.42174876 0.39371999 0.361554  ]]\n",
            "[[0.71 0.76 0.7  0.72]\n",
            " [0.71 0.75 0.73 0.72]\n",
            " [0.72 0.77 0.74 0.71]\n",
            " [0.71 0.78 0.75 0.72]\n",
            " [0.7  0.74 0.77 0.75]\n",
            " [0.72 0.73 0.73 0.72]]\n"
          ]
        }
      ]
    },
    {
      "cell_type": "code",
      "metadata": {
        "colab": {
          "base_uri": "https://localhost:8080/"
        },
        "id": "6hThVJF7DcgO",
        "outputId": "04420d83-5520-4936-ec4e-c8217ef53019"
      },
      "source": [
        "print(np.argmax(temp_mcc, axis = 0))\n",
        "print(np.argmax(temp_mcc, axis = 1))"
      ],
      "execution_count": null,
      "outputs": [
        {
          "name": "stdout",
          "output_type": "stream",
          "text": [
            "[2 3 4 4]\n",
            "[1 1 1 1 2 1]\n"
          ]
        }
      ]
    },
    {
      "cell_type": "markdown",
      "metadata": {
        "id": "KPZwpq6hcaE7"
      },
      "source": [
        "# Extract features from embeddings with different methods:\n",
        "- Mean from 4 LHS\n",
        "- CLS embeddings\n",
        "- Whole Sentence embeddings\n",
        "- LHS"
      ]
    },
    {
      "cell_type": "code",
      "metadata": {
        "id": "X_Km3e9sdFZt"
      },
      "source": [
        "def cat_features(hidden_states):\n",
        "  token_vecs_cat = []\n",
        "  for i in range(len(hidden_states[0])):\n",
        "    cat_vec = torch.cat((hidden_states[-1][i], hidden_states[-2][i], hidden_states[-3][i], hidden_states[-4][i]), dim=0)\n",
        "    token_vecs_cat.append(cat_vec)\n",
        "  \n",
        "  print ('Shape is: %d x %d x %d' % (len(token_vecs_cat), len(token_vecs_cat[0]), len(token_vecs_cat[0][0])))\n",
        "  features = np.array([x.detach().cpu().numpy() for x in token_vecs_cat])\n",
        "  nsamples, nx, ny = features.shape\n",
        "  features = features.reshape(nsamples, nx*ny)\n",
        "  return features\n",
        "\n",
        "def mean_features(hidden_states): #sum/mean\n",
        "    \n",
        "    token_vecs_cat = []\n",
        "    for i in range(len(hidden_states[0])):\n",
        "        cat_vec = torch.cat((hidden_states[-1][i], hidden_states[-2][i], hidden_states[-3][i], hidden_states[-4][i]), dim=0)\n",
        "        token_vecs_cat.append(cat_vec)\n",
        "    \n",
        "    print ('Shape is: %d x %d x %d' % (len(token_vecs_cat), len(token_vecs_cat[0]), len(token_vecs_cat[0][0])))\n",
        "    token_vecs_mean = []\n",
        "    for i in token_vecs_cat:\n",
        "        temp = i.reshape(4, 64, 1024)\n",
        "        temp = torch.mean(temp, dim = 0)\n",
        "        token_vecs_mean.append(temp)\n",
        "    print ('Shape is: %d x %d x %d' % (len(token_vecs_mean), len(token_vecs_mean[0]), len(token_vecs_mean[0][0])))\n",
        "\n",
        "    features = np.array([x.detach().cpu().numpy() for x in token_vecs_mean])\n",
        "    nsamples, nx, ny = features.shape\n",
        "    features = features.reshape(nsamples, nx*ny)\n",
        "    return features\n",
        "\n",
        "def sum_features(hidden_states): #sum/mean\n",
        "    \n",
        "    token_vecs_cat = []\n",
        "    for i in range(len(hidden_states[0])):\n",
        "        cat_vec = torch.cat((hidden_states[-1][i], hidden_states[-2][i], hidden_states[-3][i], hidden_states[-4][i]), dim=0)\n",
        "        token_vecs_cat.append(cat_vec)\n",
        "    \n",
        "    print ('Shape is: %d x %d x %d' % (len(token_vecs_cat), len(token_vecs_cat[0]), len(token_vecs_cat[0][0])))\n",
        "    token_vecs_sum = []\n",
        "    for i in token_vecs_cat:\n",
        "        temp = i.reshape(4, 64, 1024)\n",
        "        temp = torch.sum(temp, dim = 0)\n",
        "        token_vecs_sum.append(temp)\n",
        "    print ('Shape is: %d x %d x %d' % (len(token_vecs_sum), len(token_vecs_sum[0]), len(token_vecs_sum[0][0])))\n",
        "\n",
        "    features = np.array([x.detach().cpu().numpy() for x in token_vecs_sum])\n",
        "    nsamples, nx, ny = features.shape\n",
        "    features = features.reshape(nsamples, nx*ny)\n",
        "    return features\n",
        "\n",
        "def sentence_features(hidden_states):\n",
        "  sentence_embedding = []\n",
        "\n",
        "  for token_vecs in hidden_states[-1]:\n",
        "      embedding = torch.mean(token_vecs, dim=0)\n",
        "      sentence_embedding.append(embedding)\n",
        "  print ('Shape is: %d x %d' % (len(sentence_embedding), len(sentence_embedding[0])))\n",
        "\n",
        "  features = np.array([x.detach().cpu().numpy() for x in sentence_embedding])\n",
        "  return features\n",
        "\n",
        "def sentenceCLS_features(hidden_states):\n",
        "  sentence_embedding = hidden_states[-1][:,0,:]\n",
        "  print ('Shape is: %d x %d' % (len(sentence_embedding), len(sentence_embedding[0])))\n",
        "  features = np.array([x.detach().cpu().numpy() for x in sentence_embedding])\n",
        "  return features\n",
        "\n",
        "def lhs_features(hidden_states):\n",
        "  token_vecs_cat = []\n",
        "  for i in range(len(hidden_states[0])):\n",
        "    token_vecs_cat.append(hidden_states[-1][i])\n",
        "  \n",
        "  print ('Shape is: %d x %d x %d' % (len(token_vecs_cat), len(token_vecs_cat[0]), len(token_vecs_cat[0][0])))\n",
        "  features = np.array([x.detach().cpu().numpy() for x in token_vecs_cat])\n",
        "  nsamples, nx, ny = features.shape\n",
        "  features = features.reshape(nsamples, nx*ny)\n",
        "  return features"
      ],
      "execution_count": null,
      "outputs": []
    },
    {
      "cell_type": "markdown",
      "metadata": {
        "id": "xpJsOI1_qokr"
      },
      "source": [
        "# Prepare features for training"
      ]
    },
    {
      "cell_type": "code",
      "metadata": {
        "id": "Pc0Pi0w9R7L6"
      },
      "source": [
        "data = pd.read_csv(\"/content/drive/MyDrive/FakeNews/Test/test-preprocessed.csv\")\n",
        "data_size = len(data)\n",
        "score = []\n",
        "map_location=torch.device('cpu')\n",
        "\n",
        "path1 = \"/content/drive/MyDrive/FakeNews/Test/embedding0.pt\"\n",
        "# path2 = \"/content/drive/MyDrive/FakeNews/fakenews_embeddings/new1.pt\"\n",
        "# path3 = \"/content/drive/MyDrive/FakeNews/fakenews_embeddings/new2.pt\"\n",
        "\n",
        "embed1 = torch.load(path1, map_location=map_location)\n",
        "# embed2 = torch.load(path2, map_location=map_location)\n",
        "# embed3 = torch.load(path3, map_location=map_location)"
      ],
      "execution_count": null,
      "outputs": []
    },
    {
      "cell_type": "code",
      "metadata": {
        "colab": {
          "base_uri": "https://localhost:8080/"
        },
        "id": "y8kEsQywXoQB",
        "outputId": "1f9e93bf-3da6-44be-cb31-11ee3cd6a894"
      },
      "source": [
        "sentence1 = sentence_features(embed1)\n",
        "# sentence2 = sentence_features(embed2)\n",
        "# sentence3 = sentence_features(embed3)\n",
        "\n",
        "# lhs1 = lhs_features(embed1)\n",
        "# lhs2 = lhs_features(embed2)\n",
        "# lhs3 = lhs_features(embed3)\n",
        "\n",
        "mean1 = mean_features(embed1)\n",
        "# mean2 = mean_features(embed2)\n",
        "# mean3 = mean_features(embed3)"
      ],
      "execution_count": null,
      "outputs": [
        {
          "output_type": "stream",
          "name": "stdout",
          "text": [
            "Shape is: 266 x 1024\n",
            "Shape is: 266 x 256 x 1024\n",
            "Shape is: 266 x 64 x 1024\n"
          ]
        }
      ]
    },
    {
      "cell_type": "code",
      "metadata": {
        "id": "ZDt_ez404IdW"
      },
      "source": [
        "features = [np.vstack((sentence1, sentence2, sentence3)),\n",
        "            # np.vstack((lhs1, lhs2, lhs3)),\n",
        "            np.vstack((mean1, mean2, mean3))]"
      ],
      "execution_count": null,
      "outputs": []
    },
    {
      "cell_type": "code",
      "metadata": {
        "cellView": "form",
        "id": "a0yqc12H8y3A"
      },
      "source": [
        "#@title\n",
        "\n",
        "# def save_mini_batch_features(data_size, batch_size, model, embed_path, embed_filename, features_path, features_filename, features_method):\n",
        "  \n",
        "#   for batch in range(int(data_size / batch_size) + 1):\n",
        "\n",
        "#     print(\"Batch {}\".format(batch))\n",
        "\n",
        "#     embed_filepath = embed_path + embed_filename + str(batch) + \".pt\" #pt for saving embeddings\n",
        "#     print(embed_filepath)\n",
        "\n",
        "#     output = torch.load(embed_filepath)\n",
        "#     print(\"Embedding has loaded\")\n",
        "\n",
        "#     features_filepath = features_path + features_filename + str(batch) + \".npy\" #pt for saving embeddings\n",
        "#     print(features_filepath)\n",
        "\n",
        "#     features = features_method(output)\n",
        "\n",
        "#     np.save(features_filepath, features)\n",
        "#     print(\"Feature has saved\")\n",
        "\n",
        "#     del output\n",
        "#     del features\n",
        "#     gc.collect()\n",
        "#   print(\"Done\")\n",
        "\n",
        "# batch_size = 100\n",
        "# data_size = len(data)\n",
        "# embed_path = \"/content/drive/MyDrive/FakeNews/fakenews_embeddings/\"\n",
        "# embed_filename = \"train_batch\"\n",
        "# features_path = \"/content/drive/MyDrive/FakeNews/Features/mean_features/\"\n",
        "# features_filename = \"meanbatch\"\n",
        "# save_mini_batch_features(data_size, batch_size, model, embed_path, embed_filename, features_path, features_filename, mean_features)"
      ],
      "execution_count": null,
      "outputs": []
    },
    {
      "cell_type": "markdown",
      "metadata": {
        "id": "H3r2Ugzy6Mp3"
      },
      "source": [
        "# Training"
      ]
    },
    {
      "cell_type": "code",
      "metadata": {
        "id": "kr9M-de0sObB"
      },
      "source": [
        "mcc = []\n",
        "score = []\n",
        "cm = []\n",
        "\n",
        "models = [\"Perceptron\", \n",
        "          \"SGDHinge\", \"SGDLog\", \"SGDModified_huber\", \"SGDSquared_hinge\", \"SGDPerceptron\",\n",
        "          \"LogisticRegression\", \n",
        "          \"SVC\", \"LinearSVC\"]\n",
        "feature_names = [\"Sentence\", \"LHS\", \"Mean\"]\n",
        "classifiers = [sklm.Perceptron(n_jobs=-1),\n",
        "              sklm.SGDClassifier(n_jobs=-1, loss='hinge'), \n",
        "              sklm.SGDClassifier(n_jobs=-1, loss='log'),\n",
        "              sklm.SGDClassifier(n_jobs=-1, loss='modified_huber'),\n",
        "              sklm.SGDClassifier(n_jobs=-1, loss='squared_hinge'), \n",
        "              sklm.SGDClassifier(n_jobs=-1, loss='perceptron'),\n",
        "              sklm.LogisticRegression(n_jobs=-1, penalty='l2', C=0.03, solver='lbfgs'),\n",
        "                sksvm.SVC(C=3, kernel='poly', degree=3, max_iter=300, probability=True),\n",
        "               sksvm.LinearSVC(max_iter=10000)]"
      ],
      "execution_count": null,
      "outputs": []
    },
    {
      "cell_type": "code",
      "metadata": {
        "id": "xisilyciZdH0"
      },
      "source": [
        "for i, c in enumerate(classifiers):\n",
        "    print(i, \". Training \", c)\n",
        "    for id, feature in enumerate(features):\n",
        "        train_features, test_features, train_labels, test_labels = train_test_split(\n",
        "        features[id],\n",
        "        data.label.values,test_size=0.2, \n",
        "        random_state=42, \n",
        "        stratify=data.label.values)\n",
        "        clf = c\n",
        "        print(\"\\tUsing \", feature_names[id], \" features\")\n",
        "        clf.fit(train_features, train_labels)\n",
        "        predicted_labels = clf.predict(test_features)\n",
        "        score.append(clf.score(test_features, test_labels))\n",
        "        mcc.append(matthews_corrcoef(predicted_labels, test_labels))   \n",
        "        cm.append(list(confusion_matrix(predicted_labels, test_labels)))\n",
        "        path = \"/content/drive/MyDrive/FakeNews/Models/Sklearn/\" + models[i] + \"_\" + feature_names[id] + \".joblib\"\n",
        "        joblib.dump(clf, path)\n",
        "        print(\"Saved model to: \", path)\n",
        "        del predicted_labels\n",
        "        del clf\n",
        "        gc.collect()\n",
        "        print(\"\\tDone\")\n",
        "    print(\"----Done----\")"
      ],
      "execution_count": null,
      "outputs": []
    },
    {
      "cell_type": "code",
      "metadata": {
        "id": "wvWGCHJR9n3n"
      },
      "source": [
        "temp_mcc = np.reshape(mcc, (len(classifiers), -1))\n",
        "temp_acc = np.reshape(score, (len(classifiers), -1))\n",
        "temp_cm = np.reshape(cm, (len(classifiers), -1))"
      ],
      "execution_count": null,
      "outputs": []
    },
    {
      "cell_type": "code",
      "metadata": {
        "id": "21NxK12293f6"
      },
      "source": [
        "temp_mcc"
      ],
      "execution_count": null,
      "outputs": []
    },
    {
      "cell_type": "code",
      "metadata": {
        "id": "yByJESl2z0do"
      },
      "source": [
        "np.mean(temp_mcc, axis=0)"
      ],
      "execution_count": null,
      "outputs": []
    },
    {
      "cell_type": "code",
      "metadata": {
        "id": "dpw5Owwm94TH"
      },
      "source": [
        "temp_acc"
      ],
      "execution_count": null,
      "outputs": []
    },
    {
      "cell_type": "code",
      "metadata": {
        "id": "x6dT3daO0EbP"
      },
      "source": [
        "np.mean(temp_acc, axis=0)"
      ],
      "execution_count": null,
      "outputs": []
    },
    {
      "cell_type": "code",
      "metadata": {
        "id": "nk8YdKBf948z"
      },
      "source": [
        "temp_cm"
      ],
      "execution_count": null,
      "outputs": []
    },
    {
      "cell_type": "markdown",
      "metadata": {
        "id": "uF_hyQokYwMQ"
      },
      "source": [
        "# Cross Validation"
      ]
    },
    {
      "cell_type": "code",
      "metadata": {
        "id": "li8ygBuZDmVq"
      },
      "source": [
        "mcc = []\n",
        "train_features, test_features, train_labels, test_labels = train_test_split(\n",
        "        features[0],\n",
        "        data.label.values,test_size=0.2, \n",
        "        stratify=data.label.values)\n",
        "mcc_scorer = make_scorer(matthews_corrcoef, greater_is_better=True)\n",
        "\n",
        "for i, c in enumerate(classifiers):\n",
        "    print(i, \". Training \", c)\n",
        "    for id, feature in enumerate(features):\n",
        "        train_features, test_features, train_labels, test_labels = train_test_split(\n",
        "        features[id],\n",
        "        data.label.values,test_size=0.2, \n",
        "        random_state=42, \n",
        "        stratify=data.label.values)\n",
        "        clf = c\n",
        "        print(\"\\tUsing \", feature_names[id], \" features\")\n",
        "        mcc.append(np.mean(cross_val_score(\n",
        "            clf, train_features, train_labels, cv=5, scoring=mcc_scorer, n_jobs=-1))) \n",
        "        del clf\n",
        "        gc.collect()\n",
        "        print(\"\\tDone\")\n",
        "    print(\"----Done----\")"
      ],
      "execution_count": null,
      "outputs": []
    },
    {
      "cell_type": "code",
      "metadata": {
        "id": "NWX2lg5Gaz7P"
      },
      "source": [
        "temp_mcc = np.reshape(mcc, (len(classifiers), -1)).astype(np.float) "
      ],
      "execution_count": null,
      "outputs": []
    },
    {
      "cell_type": "code",
      "metadata": {
        "colab": {
          "base_uri": "https://localhost:8080/"
        },
        "id": "dWLitm11s7xN",
        "outputId": "bb4a94f9-36b4-4af9-bf7f-1d9cdcad2cc2"
      },
      "source": [
        "temp_mcc"
      ],
      "execution_count": null,
      "outputs": [
        {
          "data": {
            "text/plain": [
              "array([[0.51140424, 0.47354258, 0.49262245],\n",
              "       [0.48750408, 0.46589877, 0.48982769],\n",
              "       [0.5127429 , 0.48227707, 0.51061264],\n",
              "       [0.48879873, 0.48307812, 0.51606078],\n",
              "       [0.50446061, 0.46990706, 0.48892384],\n",
              "       [0.4867714 , 0.46454453, 0.4790037 ],\n",
              "       [0.51409227, 0.49356389, 0.51665878],\n",
              "       [0.58217435, 0.40076405, 0.39396993],\n",
              "       [0.47750833, 0.49382458, 0.50406208]])"
            ]
          },
          "execution_count": 198,
          "metadata": {},
          "output_type": "execute_result"
        }
      ]
    },
    {
      "cell_type": "code",
      "metadata": {
        "colab": {
          "base_uri": "https://localhost:8080/"
        },
        "id": "JIfLfBDJvopY",
        "outputId": "9c79bf91-0bd7-4d8d-801b-5942867a9aaa"
      },
      "source": [
        "np.mean(temp_mcc, axis=0)"
      ],
      "execution_count": null,
      "outputs": [
        {
          "data": {
            "text/plain": [
              "array([0.50727299, 0.46971118, 0.48797132])"
            ]
          },
          "execution_count": 199,
          "metadata": {},
          "output_type": "execute_result"
        }
      ]
    },
    {
      "cell_type": "markdown",
      "metadata": {
        "id": "ZhP5iF1prukp"
      },
      "source": [
        "# Inference\n"
      ]
    },
    {
      "cell_type": "code",
      "metadata": {
        "colab": {
          "base_uri": "https://localhost:8080/"
        },
        "id": "JfEt0HOqr579",
        "outputId": "32103031-6aca-4da5-9bf8-a2d5206acbe9"
      },
      "source": [
        "classifiers = dict.fromkeys(models)\n",
        "path = \"/content/drive/MyDrive/FakeNews/Models/Sklearn/\"\n",
        "f = \"_Mean.joblib\"\n",
        "\n",
        "for k in classifiers.keys():\n",
        "    print(k)\n",
        "    classifiers[k] = joblib.load(filename=path+k+f)"
      ],
      "execution_count": null,
      "outputs": [
        {
          "name": "stdout",
          "output_type": "stream",
          "text": [
            "Perceptron\n",
            "SGDHinge\n",
            "SGDLog\n",
            "SGDModified_huber\n",
            "SGDSquared_hinge\n",
            "SGDPerceptron\n",
            "LogisticRegression\n",
            "SVC\n",
            "LinearSVC\n"
          ]
        }
      ]
    },
    {
      "cell_type": "code",
      "metadata": {
        "colab": {
          "base_uri": "https://localhost:8080/"
        },
        "id": "K3J77qXssjdy",
        "outputId": "1201700e-1975-4799-a718-296d59a4d67e"
      },
      "source": [
        "train_features, test_features, train_labels, test_labels = train_test_split(\n",
        "        features[2],\n",
        "        data.label.values,test_size=0.2, \n",
        "        random_state=42, \n",
        "        stratify=data.label.values)\n",
        "for k, v in classifiers.items():\n",
        "    predict = v.predict(test_features)\n",
        "    print(matthews_corrcoef(predict, test_labels))"
      ],
      "execution_count": null,
      "outputs": [
        {
          "name": "stdout",
          "output_type": "stream",
          "text": [
            "0.6095851222307147\n",
            "0.5827090473127142\n",
            "0.6305418411823758\n",
            "0.584915025601238\n",
            "0.5747139582155741\n",
            "0.5893903157983027\n",
            "0.5945948103458082\n",
            "0.47392732587164543\n",
            "0.6127342750009808\n"
          ]
        }
      ]
    },
    {
      "cell_type": "code",
      "metadata": {
        "colab": {
          "base_uri": "https://localhost:8080/"
        },
        "id": "KtJ8CRYWg_-Z",
        "outputId": "8e4ee8b3-a945-46eb-e162-4c8e1a40b18c"
      },
      "source": [
        "model = joblib.load(\"/content/drive/MyDrive/FakeNews/Models/Sklearn/ensemble_soft_mean.joblib\")\n",
        "prediction1 = model.predict(mean1)\n",
        "prediction1"
      ],
      "execution_count": null,
      "outputs": [
        {
          "output_type": "execute_result",
          "data": {
            "text/plain": [
              "array([2, 2, 2, 2, 0, 0, 0, 0, 0, 2, 2, 0, 2, 1, 0, 0, 2, 0, 0, 0, 2, 0,\n",
              "       0, 2, 0, 1, 0, 2, 0, 0, 0, 0, 0, 1, 0, 0, 0, 2, 0, 2, 0, 0, 0, 2,\n",
              "       2, 0, 0, 1, 0, 2, 2, 0, 2, 1, 2, 0, 0, 0, 1, 2, 0, 2, 0, 0, 0, 0,\n",
              "       2, 1, 0, 0, 0, 2, 0, 0, 0, 2, 0, 0, 2, 2, 0, 0, 0, 2, 2, 1, 0, 0,\n",
              "       2, 0, 0, 2, 0, 2, 0, 2, 2, 2, 2, 0, 0, 0, 0, 0, 2, 1, 2, 2, 0, 1,\n",
              "       2, 2, 0, 1, 2, 0, 1, 0, 2, 2, 1, 0, 2, 0, 0, 0, 0, 2, 0, 2, 1, 1,\n",
              "       2, 0, 0, 0, 2, 0, 1, 0, 0, 0, 0, 1, 2, 0, 2, 2, 0, 1, 0, 0, 2, 0,\n",
              "       2, 0, 2, 0, 2, 0, 2, 0, 1, 2, 0, 0, 2, 0, 1, 2, 0, 0, 0, 0, 0, 0,\n",
              "       0, 0, 0, 2, 0, 2, 2, 0, 2, 0, 0, 1, 0, 2, 2, 2, 0, 0, 0, 0, 1, 2,\n",
              "       2, 2, 0, 2, 2, 0, 2, 2, 1, 1, 2, 2, 1, 2, 2, 1, 0, 0, 0, 2, 1, 1,\n",
              "       2, 0, 2, 0, 0, 0, 1, 0, 0, 2, 2, 0, 0, 0, 0, 0, 0, 0, 0, 0, 0, 0,\n",
              "       0, 0, 2, 0, 1, 1, 2, 0, 0, 1, 0, 0, 0, 0, 0, 0, 0, 0, 0, 0, 0, 0,\n",
              "       2, 0])"
            ]
          },
          "metadata": {},
          "execution_count": 69
        }
      ]
    },
    {
      "cell_type": "code",
      "metadata": {
        "colab": {
          "base_uri": "https://localhost:8080/"
        },
        "id": "Va9hGLVMpYce",
        "outputId": "500a3f49-3063-477e-b2f3-bb86c682bd53"
      },
      "source": [
        "np.unique(prediction, return_counts=True)"
      ],
      "execution_count": null,
      "outputs": [
        {
          "output_type": "execute_result",
          "data": {
            "text/plain": [
              "(array([0, 1, 2]), array([150,  32,  84]))"
            ]
          },
          "metadata": {},
          "execution_count": 70
        }
      ]
    },
    {
      "cell_type": "code",
      "metadata": {
        "colab": {
          "base_uri": "https://localhost:8080/"
        },
        "id": "jqocRyx5tJJC",
        "outputId": "aa21919b-5009-4111-bdfc-dd8e176330c7"
      },
      "source": [
        "model = joblib.load(\"/content/drive/MyDrive/FakeNews/Models/Sklearn/ensemble_hard_mean.joblib\")\n",
        "prediction3 = model.predict(mean1)\n",
        "prediction3"
      ],
      "execution_count": null,
      "outputs": [
        {
          "output_type": "execute_result",
          "data": {
            "text/plain": [
              "array([2, 0, 2, 2, 0, 0, 0, 0, 0, 2, 1, 0, 2, 1, 0, 0, 2, 0, 0, 0, 2, 0,\n",
              "       0, 2, 0, 1, 0, 2, 0, 0, 0, 0, 0, 1, 0, 0, 0, 2, 0, 2, 0, 0, 0, 2,\n",
              "       2, 0, 0, 1, 0, 2, 2, 0, 2, 1, 2, 0, 0, 0, 1, 2, 0, 2, 0, 0, 0, 0,\n",
              "       2, 1, 0, 0, 0, 2, 0, 0, 0, 2, 0, 0, 0, 2, 0, 0, 0, 2, 2, 1, 0, 0,\n",
              "       2, 0, 0, 2, 0, 2, 0, 2, 2, 2, 2, 0, 0, 0, 0, 0, 2, 1, 0, 2, 0, 0,\n",
              "       2, 2, 0, 1, 2, 0, 1, 0, 2, 2, 1, 0, 2, 0, 0, 0, 0, 2, 0, 2, 1, 1,\n",
              "       2, 0, 0, 0, 2, 0, 1, 0, 0, 0, 0, 1, 2, 0, 2, 2, 0, 1, 0, 0, 2, 0,\n",
              "       2, 0, 2, 0, 2, 0, 2, 0, 1, 2, 0, 0, 2, 0, 1, 2, 0, 0, 0, 0, 0, 0,\n",
              "       0, 0, 0, 2, 0, 2, 2, 0, 2, 0, 0, 1, 0, 2, 2, 2, 0, 0, 1, 0, 1, 2,\n",
              "       2, 2, 0, 2, 2, 0, 2, 2, 1, 1, 2, 2, 1, 0, 2, 1, 0, 0, 0, 2, 1, 1,\n",
              "       2, 0, 2, 0, 0, 0, 1, 0, 0, 2, 2, 0, 0, 0, 0, 0, 0, 0, 0, 0, 0, 0,\n",
              "       0, 0, 2, 0, 1, 1, 2, 0, 0, 1, 0, 0, 0, 0, 0, 0, 0, 0, 0, 0, 0, 0,\n",
              "       2, 0])"
            ]
          },
          "metadata": {},
          "execution_count": 78
        }
      ]
    },
    {
      "cell_type": "code",
      "metadata": {
        "colab": {
          "base_uri": "https://localhost:8080/"
        },
        "id": "E-sF8GHDtKwl",
        "outputId": "0fbb9421-f9fc-4159-caf0-4fee58c652a3"
      },
      "source": [
        "np.unique(prediction, return_counts=True)"
      ],
      "execution_count": null,
      "outputs": [
        {
          "output_type": "execute_result",
          "data": {
            "text/plain": [
              "(array([0, 1, 2]), array([150,  32,  84]))"
            ]
          },
          "metadata": {},
          "execution_count": 79
        }
      ]
    },
    {
      "cell_type": "code",
      "metadata": {
        "colab": {
          "base_uri": "https://localhost:8080/"
        },
        "id": "h3qPTs8stQLK",
        "outputId": "8129f292-1a28-44e6-d8e4-b07e49a3b01d"
      },
      "source": [
        "np.unique(prediction3 - prediction1, return_counts=True)"
      ],
      "execution_count": null,
      "outputs": [
        {
          "output_type": "execute_result",
          "data": {
            "text/plain": [
              "(array([-2, -1,  0,  1]), array([  4,   2, 259,   1]))"
            ]
          },
          "metadata": {},
          "execution_count": 80
        }
      ]
    },
    {
      "cell_type": "code",
      "metadata": {
        "colab": {
          "base_uri": "https://localhost:8080/"
        },
        "id": "T0fEaqNZpkup",
        "outputId": "3d34cc73-2249-4a4c-9906-06663e776a92"
      },
      "source": [
        "model = joblib.load(\"/content/drive/MyDrive/FakeNews/Models/Sklearn/ensemble_soft_sentence.joblib\")\n",
        "prediction2 = model.predict(sentence1)\n",
        "prediction2"
      ],
      "execution_count": null,
      "outputs": [
        {
          "output_type": "execute_result",
          "data": {
            "text/plain": [
              "array([0, 0, 2, 0, 0, 0, 0, 0, 0, 2, 1, 0, 2, 1, 0, 0, 2, 0, 0, 0, 2, 0,\n",
              "       0, 2, 0, 1, 0, 0, 0, 0, 0, 2, 0, 2, 0, 0, 0, 2, 0, 2, 0, 0, 0, 2,\n",
              "       2, 0, 0, 1, 0, 2, 2, 0, 2, 1, 2, 0, 0, 0, 1, 2, 0, 2, 2, 0, 0, 0,\n",
              "       2, 1, 1, 0, 0, 0, 0, 0, 0, 2, 2, 0, 2, 2, 0, 0, 0, 2, 2, 1, 0, 0,\n",
              "       2, 0, 0, 2, 0, 2, 0, 2, 2, 2, 2, 0, 2, 0, 0, 0, 2, 2, 2, 2, 0, 0,\n",
              "       2, 2, 0, 1, 0, 2, 1, 0, 2, 2, 1, 0, 2, 0, 0, 0, 0, 0, 0, 2, 1, 1,\n",
              "       0, 0, 0, 0, 2, 0, 1, 2, 0, 0, 0, 1, 2, 0, 2, 2, 2, 1, 0, 0, 2, 0,\n",
              "       2, 0, 2, 2, 2, 0, 2, 0, 0, 2, 0, 0, 2, 0, 2, 0, 0, 0, 2, 0, 0, 0,\n",
              "       0, 0, 0, 0, 0, 2, 0, 0, 2, 0, 0, 1, 0, 0, 2, 0, 0, 0, 0, 0, 1, 0,\n",
              "       2, 0, 1, 2, 2, 0, 2, 2, 1, 1, 2, 2, 1, 2, 2, 2, 2, 0, 0, 2, 1, 1,\n",
              "       2, 0, 2, 0, 0, 0, 1, 0, 0, 2, 2, 2, 0, 0, 1, 0, 0, 0, 0, 0, 0, 0,\n",
              "       0, 0, 2, 0, 1, 1, 2, 0, 0, 1, 0, 1, 0, 0, 0, 1, 0, 0, 0, 0, 0, 0,\n",
              "       2, 0])"
            ]
          },
          "metadata": {},
          "execution_count": 71
        }
      ]
    },
    {
      "cell_type": "code",
      "metadata": {
        "colab": {
          "base_uri": "https://localhost:8080/"
        },
        "id": "Ug8sdvd5sKoc",
        "outputId": "befe6bdf-8587-4312-8173-0f786e7206e6"
      },
      "source": [
        "np.unique(prediction2, return_counts=True)"
      ],
      "execution_count": null,
      "outputs": [
        {
          "output_type": "execute_result",
          "data": {
            "text/plain": [
              "(array([0, 1, 2]), array([150,  32,  84]))"
            ]
          },
          "metadata": {},
          "execution_count": 72
        }
      ]
    },
    {
      "cell_type": "code",
      "metadata": {
        "colab": {
          "base_uri": "https://localhost:8080/"
        },
        "id": "0Rgts3G2sxUi",
        "outputId": "1ad6944e-8372-47fc-b6ca-51439de61353"
      },
      "source": [
        "np.unique(prediction1 - prediction2, return_counts=True)"
      ],
      "execution_count": null,
      "outputs": [
        {
          "output_type": "execute_result",
          "data": {
            "text/plain": [
              "(array([-2, -1,  0,  1,  2]), array([ 11,   9, 228,   3,  15]))"
            ]
          },
          "metadata": {},
          "execution_count": 77
        }
      ]
    },
    {
      "cell_type": "markdown",
      "metadata": {
        "id": "6VJ1LnzwY3F6"
      },
      "source": [
        "# Visualization"
      ]
    },
    {
      "cell_type": "code",
      "metadata": {
        "id": "yHy0sSUKanDT"
      },
      "source": [
        "def plot_confusion_matrix(models, feature_names, cm, mcc):\n",
        "    fig, axes = plt.subplots(nrows=len(models), ncols=len(feature_names), figsize=(12*len(feature_names), 12*len(models)))\n",
        "    for i, m in enumerate(models):\n",
        "        for id, f in enumerate(feature_names):\n",
        "            # axes.flat[i*len(feature_names) + id].title.set_text(feature_names[id])\n",
        "            df_cm = pd.DataFrame(cm[i*len(feature_names) + id], index = [x for x in range(3)],\n",
        "                        columns = [x for x in range(3)])\n",
        "            plt.figure(figsize = (12,12))\n",
        "            sns.heatmap(df_cm, annot=True, cmap=\"Blues\", ax=axes.flat[i*len(feature_names) + id])\n",
        "\n",
        "    # for id, f in enumerate(feature_names):\n",
        "    #     plt.setp(axes[-1, id], xlabel=f)\n",
        "\n",
        "    # for id, f in enumerate(models):\n",
        "    #     plt.setp(axes[id, 0], ylabel=f)\n",
        "    plt.tight_layout()  \n",
        "    plt.show()"
      ],
      "execution_count": null,
      "outputs": []
    },
    {
      "cell_type": "code",
      "metadata": {
        "colab": {
          "base_uri": "https://localhost:8080/",
          "height": 1000
        },
        "id": "yoXEOWVDOghe",
        "outputId": "6ccb9a13-be88-4fe5-b943-185a5277b9a1"
      },
      "source": [
        "plot_confusion_matrix(clfs, ['Sentence'], cm, mcc)"
      ],
      "execution_count": null,
      "outputs": [
        {
          "data": {
            "image/png": "[encoded data removed]",
            "text/plain": [
              "<Figure size 864x7776 with 18 Axes>"
            ]
          },
          "metadata": {},
          "output_type": "display_data"
        },
        {
          "data": {
            "text/plain": [
              "<Figure size 864x864 with 0 Axes>"
            ]
          },
          "metadata": {},
          "output_type": "display_data"
        },
        {
          "data": {
            "text/plain": [
              "<Figure size 864x864 with 0 Axes>"
            ]
          },
          "metadata": {},
          "output_type": "display_data"
        },
        {
          "data": {
            "text/plain": [
              "<Figure size 864x864 with 0 Axes>"
            ]
          },
          "metadata": {},
          "output_type": "display_data"
        },
        {
          "data": {
            "text/plain": [
              "<Figure size 864x864 with 0 Axes>"
            ]
          },
          "metadata": {},
          "output_type": "display_data"
        },
        {
          "data": {
            "text/plain": [
              "<Figure size 864x864 with 0 Axes>"
            ]
          },
          "metadata": {},
          "output_type": "display_data"
        },
        {
          "data": {
            "text/plain": [
              "<Figure size 864x864 with 0 Axes>"
            ]
          },
          "metadata": {},
          "output_type": "display_data"
        },
        {
          "data": {
            "text/plain": [
              "<Figure size 864x864 with 0 Axes>"
            ]
          },
          "metadata": {},
          "output_type": "display_data"
        },
        {
          "data": {
            "text/plain": [
              "<Figure size 864x864 with 0 Axes>"
            ]
          },
          "metadata": {},
          "output_type": "display_data"
        },
        {
          "data": {
            "text/plain": [
              "<Figure size 864x864 with 0 Axes>"
            ]
          },
          "metadata": {},
          "output_type": "display_data"
        }
      ]
    },
    {
      "cell_type": "code",
      "metadata": {
        "id": "x5VM_1-QgVEm"
      },
      "source": [
        "sns.set_theme()\n",
        "colors = ListedColormap(['g','b', 'c', 'y', 'm', 'r', 'k', 'orange', 'gray'])\n",
        "fig, ax = plt.subplots(int(len(feature_names)), figsize=(10,20), dpi=100)\n",
        "for i in range(len(feature_names)):\n",
        "    acc_x = temp_acc[:,i]\n",
        "    mcc_y = temp_mcc[:,i]\n",
        "    scatter = ax[i].scatter(acc_x, mcc_y, c=list(range(len(models))), cmap=colors)\n",
        "    if(i == int(len(feature_names)/2)):\n",
        "        ax[i].legend(handles=scatter.legend_elements()[0],\n",
        "                labels=models,\n",
        "                loc='center left',\n",
        "                bbox_to_anchor=(1, 0.5))\n",
        "\n",
        "    ax[i].title.set_text(str(\"MCC and ACC for \" + str(feature_names[i]) + \" feature\"))\n",
        "\n",
        "    # ax[i].figure(figsize=(20, 12), dpi=100)\n",
        "\n",
        "plt.setp(ax[:], xlabel=\"Accuracy\")\n",
        "plt.setp(ax[:], ylabel=\"MCC\")"
      ],
      "execution_count": null,
      "outputs": []
    },
    {
      "cell_type": "code",
      "metadata": {
        "colab": {
          "base_uri": "https://localhost:8080/"
        },
        "id": "mPCAu9kmrGBK",
        "outputId": "c424c405-55f9-4eec-d9dc-fd730c032177"
      },
      "source": [
        "temp_mcc"
      ],
      "execution_count": null,
      "outputs": [
        {
          "data": {
            "text/plain": [
              "array([[0.56446358, 0.60145325, 0.60958512],\n",
              "       [0.55161075, 0.62516308, 0.58270905],\n",
              "       [0.54581394, 0.58997164, 0.63054184],\n",
              "       [0.57194552, 0.6125147 , 0.58491503],\n",
              "       [0.51154033, 0.60680393, 0.57471396],\n",
              "       [0.56608673, 0.60542095, 0.58939032],\n",
              "       [0.55018738, 0.60584662, 0.59459481],\n",
              "       [0.62794203, 0.48304443, 0.47392733],\n",
              "       [0.52505284, 0.60124606, 0.61273428]])"
            ]
          },
          "execution_count": 100,
          "metadata": {},
          "output_type": "execute_result"
        }
      ]
    },
    {
      "cell_type": "code",
      "metadata": {
        "colab": {
          "base_uri": "https://localhost:8080/"
        },
        "id": "g4EZ9U8qrHWv",
        "outputId": "1f6bbb57-3d81-4ffe-9061-552a573ca170"
      },
      "source": [
        "temp_acc"
      ],
      "execution_count": null,
      "outputs": [
        {
          "data": {
            "text/plain": [
              "array([[0.73684211, 0.75986842, 0.76315789],\n",
              "       [0.72368421, 0.77302632, 0.75      ],\n",
              "       [0.72368421, 0.75328947, 0.77631579],\n",
              "       [0.73355263, 0.76315789, 0.75      ],\n",
              "       [0.6875    , 0.76315789, 0.74342105],\n",
              "       [0.73684211, 0.76315789, 0.75328947],\n",
              "       [0.72368421, 0.76315789, 0.75657895],\n",
              "       [0.77631579, 0.6875    , 0.68421053],\n",
              "       [0.70394737, 0.75986842, 0.76644737]])"
            ]
          },
          "execution_count": 101,
          "metadata": {},
          "output_type": "execute_result"
        }
      ]
    },
    {
      "cell_type": "code",
      "metadata": {
        "id": "Yl8TM170Fl0S"
      },
      "source": [
        "ske.VotingClassifier()"
      ],
      "execution_count": null,
      "outputs": []
    },
    {
      "cell_type": "markdown",
      "metadata": {
        "id": "6kRm7H5cakmG"
      },
      "source": [
        "\n",
        "# Fine-tuning model"
      ]
    },
    {
      "cell_type": "code",
      "metadata": {
        "id": "J8-peqC1bzYG"
      },
      "source": [
        "import scipy.stats as ss\n",
        "\n",
        "train_features, test_features, train_labels, test_labels = train_test_split(\n",
        "        features[0],\n",
        "        data.label.values,test_size=0.2,\n",
        "        random_state=42,\n",
        "        stratify=data.label.values)\n",
        "mcc_scorer = make_scorer(matthews_corrcoef, greater_is_better=True)\n",
        "\n",
        "params = {\n",
        "    'penalty': Categorical(['None', 'l1']),\n",
        "    # 'n_iter': Integer(5, 100, prior='uniform'),\n",
        "    'alpha':Real(1e-4, 1e-1, prior='uniform'),\n",
        "    'eta0':Real(1e-2,1, prior='uniform')\n",
        "}\n",
        "\n",
        "mcc = make_scorer(matthews_corrcoef, greater_is_better=True)\n",
        "gs = BayesSearchCV(\n",
        "    sklm.Perceptron(n_jobs=-1),\n",
        "    search_spaces=params,\n",
        "    scoring=mcc_scorer,\n",
        "    verbose=3,\n",
        "    cv=5,\n",
        "    n_jobs=4,\n",
        "    pre_dispatch=8)"
      ],
      "execution_count": null,
      "outputs": []
    },
    {
      "cell_type": "code",
      "metadata": {
        "id": "sgX1SJ5jiDKU"
      },
      "source": [
        "gs.fit(train_features, train_labels)"
      ],
      "execution_count": null,
      "outputs": []
    },
    {
      "cell_type": "code",
      "metadata": {
        "colab": {
          "base_uri": "https://localhost:8080/"
        },
        "id": "iyGoUhTFnwCF",
        "outputId": "82875018-8a0d-4d69-ad57-ce65979d96db"
      },
      "source": [
        "print(gs.best_estimator_)\n",
        "print(gs.best_score_)\n",
        "predict = gs.predict(test_features)\n",
        "print(matthews_corrcoef(predict, test_labels))"
      ],
      "execution_count": null,
      "outputs": [
        {
          "name": "stdout",
          "output_type": "stream",
          "text": [
            "Perceptron(alpha=0.042042605414654426, eta0=0.015800879343464348, n_jobs=-1,\n",
            "           penalty='None')\n",
            "0.5230436179460277\n",
            "0.5157713946637411\n"
          ]
        }
      ]
    },
    {
      "cell_type": "code",
      "metadata": {
        "id": "TCmxK7Ip0x6S"
      },
      "source": [
        "df = pd.DataFrame(gs.cv_results_)"
      ],
      "execution_count": null,
      "outputs": []
    },
    {
      "cell_type": "code",
      "metadata": {
        "id": "DcgWhknc1x56"
      },
      "source": [
        "df[['rank_test_score','param_alpha', 'param_eta0', 'param_penalty', 'mean_test_score', 'std_test_score',  'mean_fit_time']].sort_values(['mean_test_score', 'std_test_score', 'mean_fit_time'], ascending=[False, True, True]).head(100)"
      ],
      "execution_count": null,
      "outputs": []
    },
    {
      "cell_type": "code",
      "metadata": {
        "colab": {
          "base_uri": "https://localhost:8080/"
        },
        "id": "2nRQSsGZkWgt",
        "outputId": "48e24758-2993-435a-e46b-c527e55ccbdc"
      },
      "source": [
        "from sklearn.metrics import f1_score\n",
        "print(np.mean(cross_val_score(sklm.Perceptron(alpha=0.0001, eta0=1, penalty='l1'), train_features, train_labels, cv=5, scoring=mcc_scorer, n_jobs=-1)))\n",
        "print(f1_score(test_labels, sklm.Perceptron(alpha=0.0001, eta0=1, penalty='l1').fit(train_features, train_labels).predict(test_features), average='macro'))\n",
        "\n",
        "print(np.mean(cross_val_score(sklm.Perceptron(alpha=0.0001, eta0=1, penalty='l2'), train_features, train_labels, cv=5, scoring=mcc_scorer, n_jobs=-1)))\n",
        "print(f1_score(test_labels, sklm.Perceptron(alpha=0.0001, eta0=1, penalty='l2').fit(train_features, train_labels).predict(test_features), average='macro'))\n",
        "\n",
        "print(np.mean(cross_val_score(sklm.Perceptron(alpha=0.0001, eta0=1, penalty='None'), train_features, train_labels, cv=5, scoring=mcc_scorer, n_jobs=-1)))\n",
        "print(f1_score(test_labels, sklm.Perceptron(alpha=0.0001, eta0=1, penalty='None').fit(train_features, train_labels).predict(test_features), average='macro'))"
      ],
      "execution_count": null,
      "outputs": [
        {
          "name": "stdout",
          "output_type": "stream",
          "text": [
            "0.5113295576965309\n",
            "0.6972735440439402\n",
            "0.4929850115982556\n",
            "0.6557897143262997\n",
            "0.511404238062236\n",
            "0.7050554338560069\n"
          ]
        }
      ]
    },
    {
      "cell_type": "code",
      "metadata": {
        "colab": {
          "base_uri": "https://localhost:8080/"
        },
        "id": "Gy9idspflxur",
        "outputId": "2e48ca72-9ed1-46cf-b710-f73ac795803d"
      },
      "source": [
        "print(matthews_corrcoef(test_labels, sklm.Perceptron(alpha=0.0001, eta0=0.01, penalty='l1').fit(train_features, train_labels).predict(test_features)))"
      ],
      "execution_count": null,
      "outputs": [
        {
          "name": "stdout",
          "output_type": "stream",
          "text": [
            "0.5605095966767817\n"
          ]
        }
      ]
    },
    {
      "cell_type": "markdown",
      "metadata": {
        "id": "NEMIlyQcGeYN"
      },
      "source": [
        "# Ensemble"
      ]
    },
    {
      "cell_type": "code",
      "metadata": {
        "id": "K6eEWph5GhLA"
      },
      "source": [
        "data = pd.read_csv(\"/content/drive/MyDrive/FakeNews/Data/new/combine-preprocessed.csv\")\n",
        "train_features, test_features, train_labels, test_labels = train_test_split(\n",
        "        features[0],\n",
        "        data.label.values,test_size=0.2,\n",
        "        random_state=42,\n",
        "        stratify=data.label.values)\n",
        "\n",
        "# clf1 = sklm.SGDClassifier(loss='log', eta0=0.0006, alpha=0.002, learning_rate='constant')\n",
        "# clf2 = sklm.LogisticRegression(C=75, max_iter=100, n_jobs=-1,\n",
        "#                    solver='liblinear')\n",
        "# clf3 = sklm.SGDClassifier(n_jobs=-1,  loss='modified_huber', learning_rate='adaptive', alpha=0.374, eta0=0.0001)\n",
        "# clf4 = CalibratedClassifierCV(sksvm.LinearSVC(C=3, max_iter=10000, multi_class='crammer_singer'), cv=5, n_jobs=-1)\n",
        "# clfs = [('clf1',clf1), ('clf2',clf2), ('clf3', clf3),('clf4', clf4) ]\n",
        "\n",
        "clf1 = sklm.LogisticRegression(n_jobs=-1, penalty='l2', C=0.03, solver='lbfgs')\n",
        "clf2 = sksvm.SVC(C=3, kernel='poly', degree=3, max_iter=300, probability=True)\n",
        "\n",
        "clfs = [('clf1',clf1), ('clf2',clf2)]\n",
        "\n",
        "esclf = ske.VotingClassifier(estimators=clfs,\n",
        "                            voting='soft')\n",
        "ehclf = ske.VotingClassifier(estimators=clfs,\n",
        "                            voting='hard')"
      ],
      "execution_count": null,
      "outputs": []
    },
    {
      "cell_type": "code",
      "metadata": {
        "colab": {
          "base_uri": "https://localhost:8080/"
        },
        "id": "kD2wdOIi6ECP",
        "outputId": "e739fcb9-7215-49c5-dd7a-945341e24761"
      },
      "source": [
        "clf2.fit(train_features, train_labels)"
      ],
      "execution_count": null,
      "outputs": [
        {
          "output_type": "stream",
          "name": "stderr",
          "text": [
            "/usr/local/lib/python3.7/dist-packages/sklearn/svm/_base.py:289: ConvergenceWarning: Solver terminated early (max_iter=300).  Consider pre-processing your data with StandardScaler or MinMaxScaler.\n",
            "  ConvergenceWarning,\n"
          ]
        },
        {
          "output_type": "execute_result",
          "data": {
            "text/plain": [
              "SVC(C=3, kernel='poly', max_iter=300, probability=True)"
            ]
          },
          "metadata": {},
          "execution_count": 114
        }
      ]
    },
    {
      "cell_type": "code",
      "metadata": {
        "colab": {
          "base_uri": "https://localhost:8080/"
        },
        "id": "yrRmF4-s8PJ4",
        "outputId": "78e20269-1716-4f1e-d4b7-f8920baefdbe"
      },
      "source": [
        "joblib.dump(clf2, \"/content/drive/MyDrive/FakeNews/Models/Sklearn/SVC_sentence.joblib\")"
      ],
      "execution_count": null,
      "outputs": [
        {
          "output_type": "execute_result",
          "data": {
            "text/plain": [
              "['/content/drive/MyDrive/FakeNews/Models/Sklearn/SVC_sentence.joblib']"
            ]
          },
          "metadata": {},
          "execution_count": 118
        }
      ]
    },
    {
      "cell_type": "code",
      "metadata": {
        "colab": {
          "base_uri": "https://localhost:8080/"
        },
        "id": "UNrVTfhB6bof",
        "outputId": "c81823c6-fb0f-44a8-c7a9-b0ce4d295fe0"
      },
      "source": [
        "y_pred = clf1.predict(test_features)\n",
        "print(confusion_matrix(test_labels, y_pred))\n",
        "print(matthews_corrcoef(test_labels, y_pred))"
      ],
      "execution_count": null,
      "outputs": [
        {
          "output_type": "stream",
          "name": "stdout",
          "text": [
            "[[128   5  18]\n",
            " [ 14  34   5]\n",
            " [ 23   3  74]]\n",
            "0.6300810268914065\n"
          ]
        }
      ]
    },
    {
      "cell_type": "code",
      "metadata": {
        "colab": {
          "base_uri": "https://localhost:8080/"
        },
        "id": "xhRGP67g6ORb",
        "outputId": "a56eb2f1-e0f5-4738-a8d7-dfd2da955193"
      },
      "source": [
        "y_pred = clf2.predict(test_features)\n",
        "print(confusion_matrix(test_labels, y_pred))\n",
        "print(matthews_corrcoef(test_labels, y_pred))"
      ],
      "execution_count": null,
      "outputs": [
        {
          "output_type": "stream",
          "name": "stdout",
          "text": [
            "[[125   8  18]\n",
            " [ 15  34   4]\n",
            " [ 22   2  76]]\n",
            "0.6255071490498384\n"
          ]
        }
      ]
    },
    {
      "cell_type": "code",
      "metadata": {
        "colab": {
          "base_uri": "https://localhost:8080/"
        },
        "id": "v1_wHzfD6xEp",
        "outputId": "08afb6dc-1da0-4843-c575-edba31734b92"
      },
      "source": [
        "y_pred = clf1.predict(test_features)\n",
        "print(confusion_matrix(test_labels, y_pred))\n",
        "print(matthews_corrcoef(test_labels, y_pred))"
      ],
      "execution_count": null,
      "outputs": [
        {
          "output_type": "stream",
          "name": "stdout",
          "text": [
            "[[127   7  17]\n",
            " [ 22  27   4]\n",
            " [ 22   2  76]]\n",
            "0.5951280789175656\n"
          ]
        }
      ]
    },
    {
      "cell_type": "code",
      "metadata": {
        "colab": {
          "base_uri": "https://localhost:8080/"
        },
        "id": "BimKRb8x7Dh1",
        "outputId": "2a33c45b-9de7-473c-e153-2edc8fd79e49"
      },
      "source": [
        "y_pred = clf2.predict(test_features)\n",
        "print(confusion_matrix(test_labels, y_pred))\n",
        "print(matthews_corrcoef(test_labels, y_pred))"
      ],
      "execution_count": null,
      "outputs": [
        {
          "output_type": "stream",
          "name": "stdout",
          "text": [
            "[[128   6  17]\n",
            " [ 19  30   4]\n",
            " [ 23   3  74]]\n",
            "0.6068966630138968\n"
          ]
        }
      ]
    },
    {
      "cell_type": "code",
      "metadata": {
        "colab": {
          "base_uri": "https://localhost:8080/"
        },
        "id": "jAC07OSp7c1u",
        "outputId": "63c69d4b-a040-4896-a0b7-81d55eb2d72b"
      },
      "source": [
        "y_pred = clf3.predict(test_features)\n",
        "print(confusion_matrix(test_labels, y_pred))\n",
        "print(matthews_corrcoef(test_labels, y_pred))"
      ],
      "execution_count": null,
      "outputs": [
        {
          "output_type": "stream",
          "name": "stdout",
          "text": [
            "[[125   5  21]\n",
            " [ 19  30   4]\n",
            " [ 20   1  79]]\n",
            "0.6184368819469395\n"
          ]
        }
      ]
    },
    {
      "cell_type": "code",
      "metadata": {
        "colab": {
          "base_uri": "https://localhost:8080/"
        },
        "id": "o5mXyaOJ7ktv",
        "outputId": "85da30bf-f66a-43fe-c5fc-441a0714017e"
      },
      "source": [
        "y_pred = clf4.predict(test_features)\n",
        "print(confusion_matrix(test_labels, y_pred))\n",
        "print(matthews_corrcoef(test_labels, y_pred))"
      ],
      "execution_count": null,
      "outputs": [
        {
          "output_type": "stream",
          "name": "stdout",
          "text": [
            "[[129   6  16]\n",
            " [ 19  29   5]\n",
            " [ 24   2  74]]\n",
            "0.606376303307852\n"
          ]
        }
      ]
    },
    {
      "cell_type": "code",
      "metadata": {
        "id": "Y662N_Nn64wy"
      },
      "source": [
        "y_pred = clf2.predict(test_features)\n",
        "print(confusion_matrix(test_labels, y_pred))\n",
        "print(matthews_corrcoef(test_labels, y_pred))"
      ],
      "execution_count": null,
      "outputs": []
    },
    {
      "cell_type": "code",
      "metadata": {
        "id": "ckjil0PHHXoS",
        "colab": {
          "base_uri": "https://localhost:8080/"
        },
        "outputId": "5f8c0ef4-b116-4511-942a-c112498d4e1f"
      },
      "source": [
        "for clf in clfs:\n",
        "  clf[1].fit(train_features, train_labels)\n",
        "\n",
        "esclf.fit(train_features, train_labels)\n",
        "ehclf.fit(train_features, train_labels)"
      ],
      "execution_count": null,
      "outputs": [
        {
          "output_type": "stream",
          "name": "stderr",
          "text": [
            "/usr/local/lib/python3.7/dist-packages/sklearn/svm/_base.py:289: ConvergenceWarning: Solver terminated early (max_iter=300).  Consider pre-processing your data with StandardScaler or MinMaxScaler.\n",
            "  ConvergenceWarning,\n",
            "/usr/local/lib/python3.7/dist-packages/sklearn/svm/_base.py:289: ConvergenceWarning: Solver terminated early (max_iter=300).  Consider pre-processing your data with StandardScaler or MinMaxScaler.\n",
            "  ConvergenceWarning,\n",
            "/usr/local/lib/python3.7/dist-packages/sklearn/svm/_base.py:289: ConvergenceWarning: Solver terminated early (max_iter=300).  Consider pre-processing your data with StandardScaler or MinMaxScaler.\n",
            "  ConvergenceWarning,\n"
          ]
        },
        {
          "output_type": "execute_result",
          "data": {
            "text/plain": [
              "VotingClassifier(estimators=[('clf1', LogisticRegression(C=0.03, n_jobs=-1)),\n",
              "                             ('clf2',\n",
              "                              SVC(C=3, kernel='poly', max_iter=300,\n",
              "                                  probability=True))])"
            ]
          },
          "metadata": {},
          "execution_count": 14
        }
      ]
    },
    {
      "cell_type": "code",
      "metadata": {
        "colab": {
          "base_uri": "https://localhost:8080/"
        },
        "id": "szAPnbCTIOQ3",
        "outputId": "11bd1d12-7077-4925-b152-a336c095045a"
      },
      "source": [
        "for clf in clfs:\n",
        "  y_pred = clf[1].predict(test_features)\n",
        "  print(confusion_matrix(test_labels, y_pred))\n",
        "  print(matthews_corrcoef(test_labels, y_pred))\n"
      ],
      "execution_count": null,
      "outputs": [
        {
          "output_type": "stream",
          "name": "stdout",
          "text": [
            "[[128   5  18]\n",
            " [ 15  33   5]\n",
            " [ 22   3  75]]\n",
            "0.6298859028111593\n",
            "[[125   8  18]\n",
            " [ 15  34   4]\n",
            " [ 22   2  76]]\n",
            "0.6255071490498384\n"
          ]
        }
      ]
    },
    {
      "cell_type": "code",
      "metadata": {
        "colab": {
          "base_uri": "https://localhost:8080/"
        },
        "id": "TgA9p_WtLEW8",
        "outputId": "23b7a3e8-ba51-4afe-c8a1-91f28f40b3b3"
      },
      "source": [
        "y_pred = esclf.predict(test_features)\n",
        "print(confusion_matrix(test_labels, y_pred))\n",
        "print(matthews_corrcoef(test_labels, y_pred))\n",
        "y_pred = ehclf.predict(test_features)\n",
        "print(confusion_matrix(test_labels, y_pred))\n",
        "print(matthews_corrcoef(test_labels, y_pred))"
      ],
      "execution_count": null,
      "outputs": [
        {
          "output_type": "stream",
          "name": "stdout",
          "text": [
            "[[126   7  18]\n",
            " [ 15  34   4]\n",
            " [ 23   2  75]]\n",
            "0.6249523749995134\n",
            "[[134   3  14]\n",
            " [ 18  31   4]\n",
            " [ 27   3  70]]\n",
            "0.6235771469989165\n"
          ]
        }
      ]
    },
    {
      "cell_type": "code",
      "metadata": {
        "colab": {
          "base_uri": "https://localhost:8080/"
        },
        "id": "gO-0HEVGHOMi",
        "outputId": "e4afe6f0-6ba7-4b24-c8a1-e509c0a8c395"
      },
      "source": [
        "joblib.dump(ehclf, \"/content/drive/MyDrive/FakeNews/Models/Sklearn/ensemble_hard_sentence.joblib\")\n",
        "# joblib.dump(ehclf, \"/content/drive/MyDrive/FakeNews/Models/Sklearn/ensemble_hard_mean.joblib\")"
      ],
      "execution_count": null,
      "outputs": [
        {
          "output_type": "execute_result",
          "data": {
            "text/plain": [
              "['/content/drive/MyDrive/FakeNews/Models/Sklearn/ensemble_hard_sentence.joblib']"
            ]
          },
          "metadata": {},
          "execution_count": 17
        }
      ]
    },
    {
      "cell_type": "markdown",
      "metadata": {
        "id": "8l0DQjenRrwR"
      },
      "source": [
        "# Feyn"
      ]
    },
    {
      "cell_type": "code",
      "metadata": {
        "id": "xvnHkjrhvvhw"
      },
      "source": [
        "train_features, test_features, train_labels, test_labels = train_test_split(\n",
        "        features[0],\n",
        "        data.label.values,test_size=0.2, \n",
        "        stratify=data.label.values)"
      ],
      "execution_count": null,
      "outputs": []
    },
    {
      "cell_type": "code",
      "metadata": {
        "id": "ZfVl2HbdymhP"
      },
      "source": [
        "df = pd.DataFrame(CalibratedClassifierCV(sklm.SGDClassifier(n_jobs=-1, loss='perceptron'), cv=5).fit(train_features, train_labels).predict_proba(test_features))\n",
        "df.to_csv(\"/content/drive/MyDrive/FakeNews/sgdperceptron.csv\", index=False)\n",
        "\n",
        "df = pd.DataFrame(CalibratedClassifierCV(sklm.SGDClassifier(n_jobs=-1, loss='hinge'), cv=5).fit(train_features, train_labels).predict_proba(test_features))\n",
        "df.to_csv(\"/content/drive/MyDrive/FakeNews/sgdhinge.csv\", index=False)\n",
        "\n",
        "df = pd.DataFrame(CalibratedClassifierCV(sklm.SGDClassifier(n_jobs=-1, loss='squared_hinge'), cv=5).fit(train_features, train_labels).predict_proba(test_features))\n",
        "df.to_csv(\"/content/drive/MyDrive/FakeNews/sgdsquaredhinge.csv\", index=False)\n",
        "\n",
        "df = pd.DataFrame(CalibratedClassifierCV(sklm.Perceptron(n_jobs=-1), cv=5).fit(train_features, train_labels).predict_proba(test_features))\n",
        "df.to_csv(\"/content/drive/MyDrive/FakeNews/perceptron.csv\", index=False)\n",
        "\n",
        "df = pd.DataFrame(CalibratedClassifierCV(sklm.SGDClassifier(n_jobs=-1, loss='modified_huber'), cv=5).fit(train_features, train_labels).predict_proba(test_features))\n",
        "df.to_csv(\"/content/drive/MyDrive/FakeNews/sgdmodified_huber.csv\", index=False)\n",
        "\n",
        "df = pd.DataFrame(CalibratedClassifierCV(sksvm.LinearSVC(max_iter=10000), cv=5).fit(train_features, train_labels).predict_proba(test_features))\n",
        "df.to_csv(\"/content/drive/MyDrive/FakeNews/linearsvc.csv\", index=False)\n",
        "\n",
        "df = pd.DataFrame(CalibratedClassifierCV(sksvm.SVC(max_iter=10000), cv=5).fit(train_features, train_labels).predict_proba(test_features))\n",
        "df.to_csv(\"/content/drive/MyDrive/FakeNews/svc.csv\", index=False)\n",
        "\n",
        "df = pd.DataFrame(CalibratedClassifierCV(sklm.SGDClassifier(n_jobs=-1, loss='log'), cv=5).fit(train_features, train_labels).predict_proba(test_features))\n",
        "df.to_csv(\"/content/drive/MyDrive/FakeNews/sgdlog.csv\", index=False)\n",
        "\n",
        "df = pd.DataFrame(CalibratedClassifierCV(sklm.LogisticRegression(n_jobs=-1), cv=5).fit(train_features, train_labels).predict_proba(test_features))\n",
        "df.to_csv(\"/content/drive/MyDrive/FakeNews/logisticregression.csv\", index=False)"
      ],
      "execution_count": null,
      "outputs": []
    },
    {
      "cell_type": "code",
      "metadata": {
        "id": "bLkiLo3kzRs-"
      },
      "source": [
        "df1 = pd.read_csv(\"/content/drive/MyDrive/FakeNews/perceptron.csv\")\n",
        "df2 = pd.read_csv(\"/content/drive/MyDrive/FakeNews/sgdperceptron.csv\")\n",
        "df3 = pd.read_csv(\"/content/drive/MyDrive/FakeNews/sgdlog.csv\")\n",
        "df4 = pd.read_csv(\"/content/drive/MyDrive/FakeNews/sgdhinge.csv\")\n",
        "df5 = pd.read_csv(\"/content/drive/MyDrive/FakeNews/sgdsquaredhinge.csv\")\n",
        "df6 = pd.read_csv(\"/content/drive/MyDrive/FakeNews/svc.csv\")\n",
        "df7 = pd.read_csv(\"/content/drive/MyDrive/FakeNews/linearsvc.csv\")\n",
        "df8 = pd.read_csv(\"/content/drive/MyDrive/FakeNews/sgdmodified_huber.csv\")\n",
        "df9 = pd.read_csv(\"/content/drive/MyDrive/FakeNews/logisticregression.csv\")"
      ],
      "execution_count": null,
      "outputs": []
    },
    {
      "cell_type": "code",
      "metadata": {
        "id": "t8nvwgK_8VIB"
      },
      "source": [
        "df = pd.concat([df1, df2, df3, df4, df5, df6, df7, df8, df9], axis=1)"
      ],
      "execution_count": null,
      "outputs": []
    },
    {
      "cell_type": "code",
      "metadata": {
        "id": "3WZfFrkW8XrE"
      },
      "source": [
        "df.to_csv(\"/content/drive/MyDrive/FakeNews/qlattice.csv\", index=False)"
      ],
      "execution_count": null,
      "outputs": []
    },
    {
      "cell_type": "code",
      "metadata": {
        "id": "avpQ3TMP9Q01"
      },
      "source": [
        "df = pd.read_csv(\"/content/drive/MyDrive/FakeNews/qlattice.csv\", names=[str(x) for x in range(27)])"
      ],
      "execution_count": null,
      "outputs": []
    },
    {
      "cell_type": "code",
      "metadata": {
        "colab": {
          "base_uri": "https://localhost:8080/",
          "height": 437
        },
        "id": "DIXQwDdsFAZ2",
        "outputId": "485294ef-481e-40e8-c89a-b3acb493127d"
      },
      "source": [
        "df"
      ],
      "execution_count": null,
      "outputs": [
        {
          "data": {
            "text/html": [
              "<div>\n",
              "<style scoped>\n",
              "    .dataframe tbody tr th:only-of-type {\n",
              "        vertical-align: middle;\n",
              "    }\n",
              "\n",
              "    .dataframe tbody tr th {\n",
              "        vertical-align: top;\n",
              "    }\n",
              "\n",
              "    .dataframe thead th {\n",
              "        text-align: right;\n",
              "    }\n",
              "</style>\n",
              "<table border=\"1\" class=\"dataframe\">\n",
              "  <thead>\n",
              "    <tr style=\"text-align: right;\">\n",
              "      <th></th>\n",
              "      <th>0</th>\n",
              "      <th>1</th>\n",
              "      <th>2</th>\n",
              "      <th>3</th>\n",
              "      <th>4</th>\n",
              "      <th>5</th>\n",
              "      <th>6</th>\n",
              "      <th>7</th>\n",
              "      <th>8</th>\n",
              "      <th>9</th>\n",
              "      <th>10</th>\n",
              "      <th>11</th>\n",
              "      <th>12</th>\n",
              "      <th>13</th>\n",
              "      <th>14</th>\n",
              "      <th>15</th>\n",
              "      <th>16</th>\n",
              "      <th>17</th>\n",
              "      <th>18</th>\n",
              "      <th>19</th>\n",
              "      <th>20</th>\n",
              "      <th>21</th>\n",
              "      <th>22</th>\n",
              "      <th>23</th>\n",
              "      <th>24</th>\n",
              "      <th>25</th>\n",
              "      <th>26</th>\n",
              "    </tr>\n",
              "  </thead>\n",
              "  <tbody>\n",
              "    <tr>\n",
              "      <th>0</th>\n",
              "      <td>0.000000</td>\n",
              "      <td>1.000000</td>\n",
              "      <td>2.000000</td>\n",
              "      <td>0.000000</td>\n",
              "      <td>1.000000</td>\n",
              "      <td>2.000000</td>\n",
              "      <td>0.000000</td>\n",
              "      <td>1.000000</td>\n",
              "      <td>2.000000</td>\n",
              "      <td>0.000000</td>\n",
              "      <td>1.000000</td>\n",
              "      <td>2.000000</td>\n",
              "      <td>0.000000</td>\n",
              "      <td>1.000000</td>\n",
              "      <td>2.000000</td>\n",
              "      <td>0.000000</td>\n",
              "      <td>1.000000</td>\n",
              "      <td>2.000000</td>\n",
              "      <td>0.000000</td>\n",
              "      <td>1.000000</td>\n",
              "      <td>2.000000</td>\n",
              "      <td>0.000000</td>\n",
              "      <td>1.000000</td>\n",
              "      <td>2.000000</td>\n",
              "      <td>0.000000</td>\n",
              "      <td>1.000000</td>\n",
              "      <td>2.000000</td>\n",
              "    </tr>\n",
              "    <tr>\n",
              "      <th>1</th>\n",
              "      <td>0.513138</td>\n",
              "      <td>0.111754</td>\n",
              "      <td>0.375107</td>\n",
              "      <td>0.482285</td>\n",
              "      <td>0.104942</td>\n",
              "      <td>0.412773</td>\n",
              "      <td>0.503346</td>\n",
              "      <td>0.124822</td>\n",
              "      <td>0.371832</td>\n",
              "      <td>0.526050</td>\n",
              "      <td>0.107956</td>\n",
              "      <td>0.365994</td>\n",
              "      <td>0.493496</td>\n",
              "      <td>0.178049</td>\n",
              "      <td>0.328455</td>\n",
              "      <td>0.725947</td>\n",
              "      <td>0.051089</td>\n",
              "      <td>0.222964</td>\n",
              "      <td>0.535488</td>\n",
              "      <td>0.134122</td>\n",
              "      <td>0.330390</td>\n",
              "      <td>0.513264</td>\n",
              "      <td>0.106118</td>\n",
              "      <td>0.380619</td>\n",
              "      <td>0.493915</td>\n",
              "      <td>0.108518</td>\n",
              "      <td>0.397567</td>\n",
              "    </tr>\n",
              "    <tr>\n",
              "      <th>2</th>\n",
              "      <td>0.613655</td>\n",
              "      <td>0.127822</td>\n",
              "      <td>0.258523</td>\n",
              "      <td>0.637634</td>\n",
              "      <td>0.139246</td>\n",
              "      <td>0.223121</td>\n",
              "      <td>0.650037</td>\n",
              "      <td>0.115143</td>\n",
              "      <td>0.234821</td>\n",
              "      <td>0.639547</td>\n",
              "      <td>0.140976</td>\n",
              "      <td>0.219477</td>\n",
              "      <td>0.493496</td>\n",
              "      <td>0.178049</td>\n",
              "      <td>0.328455</td>\n",
              "      <td>0.224064</td>\n",
              "      <td>0.756817</td>\n",
              "      <td>0.019120</td>\n",
              "      <td>0.624761</td>\n",
              "      <td>0.117863</td>\n",
              "      <td>0.257376</td>\n",
              "      <td>0.626271</td>\n",
              "      <td>0.144780</td>\n",
              "      <td>0.228949</td>\n",
              "      <td>0.654075</td>\n",
              "      <td>0.164446</td>\n",
              "      <td>0.181480</td>\n",
              "    </tr>\n",
              "    <tr>\n",
              "      <th>3</th>\n",
              "      <td>0.144154</td>\n",
              "      <td>0.108923</td>\n",
              "      <td>0.746924</td>\n",
              "      <td>0.143307</td>\n",
              "      <td>0.122630</td>\n",
              "      <td>0.734063</td>\n",
              "      <td>0.121957</td>\n",
              "      <td>0.119984</td>\n",
              "      <td>0.758059</td>\n",
              "      <td>0.125330</td>\n",
              "      <td>0.111409</td>\n",
              "      <td>0.763261</td>\n",
              "      <td>0.493496</td>\n",
              "      <td>0.178049</td>\n",
              "      <td>0.328455</td>\n",
              "      <td>0.212912</td>\n",
              "      <td>0.047202</td>\n",
              "      <td>0.739886</td>\n",
              "      <td>0.135533</td>\n",
              "      <td>0.135183</td>\n",
              "      <td>0.729284</td>\n",
              "      <td>0.132940</td>\n",
              "      <td>0.128583</td>\n",
              "      <td>0.738477</td>\n",
              "      <td>0.132390</td>\n",
              "      <td>0.090236</td>\n",
              "      <td>0.777374</td>\n",
              "    </tr>\n",
              "    <tr>\n",
              "      <th>4</th>\n",
              "      <td>0.556612</td>\n",
              "      <td>0.041087</td>\n",
              "      <td>0.402302</td>\n",
              "      <td>0.520625</td>\n",
              "      <td>0.045971</td>\n",
              "      <td>0.433404</td>\n",
              "      <td>0.547111</td>\n",
              "      <td>0.045255</td>\n",
              "      <td>0.407635</td>\n",
              "      <td>0.563072</td>\n",
              "      <td>0.039474</td>\n",
              "      <td>0.397454</td>\n",
              "      <td>0.493496</td>\n",
              "      <td>0.178049</td>\n",
              "      <td>0.328455</td>\n",
              "      <td>0.734707</td>\n",
              "      <td>0.047989</td>\n",
              "      <td>0.217304</td>\n",
              "      <td>0.535669</td>\n",
              "      <td>0.050875</td>\n",
              "      <td>0.413456</td>\n",
              "      <td>0.534849</td>\n",
              "      <td>0.041204</td>\n",
              "      <td>0.423948</td>\n",
              "      <td>0.541615</td>\n",
              "      <td>0.029918</td>\n",
              "      <td>0.428467</td>\n",
              "    </tr>\n",
              "    <tr>\n",
              "      <th>...</th>\n",
              "      <td>...</td>\n",
              "      <td>...</td>\n",
              "      <td>...</td>\n",
              "      <td>...</td>\n",
              "      <td>...</td>\n",
              "      <td>...</td>\n",
              "      <td>...</td>\n",
              "      <td>...</td>\n",
              "      <td>...</td>\n",
              "      <td>...</td>\n",
              "      <td>...</td>\n",
              "      <td>...</td>\n",
              "      <td>...</td>\n",
              "      <td>...</td>\n",
              "      <td>...</td>\n",
              "      <td>...</td>\n",
              "      <td>...</td>\n",
              "      <td>...</td>\n",
              "      <td>...</td>\n",
              "      <td>...</td>\n",
              "      <td>...</td>\n",
              "      <td>...</td>\n",
              "      <td>...</td>\n",
              "      <td>...</td>\n",
              "      <td>...</td>\n",
              "      <td>...</td>\n",
              "      <td>...</td>\n",
              "    </tr>\n",
              "    <tr>\n",
              "      <th>300</th>\n",
              "      <td>0.578798</td>\n",
              "      <td>0.069385</td>\n",
              "      <td>0.351817</td>\n",
              "      <td>0.580131</td>\n",
              "      <td>0.084558</td>\n",
              "      <td>0.335310</td>\n",
              "      <td>0.541663</td>\n",
              "      <td>0.082229</td>\n",
              "      <td>0.376107</td>\n",
              "      <td>0.589071</td>\n",
              "      <td>0.088938</td>\n",
              "      <td>0.321991</td>\n",
              "      <td>0.493496</td>\n",
              "      <td>0.178049</td>\n",
              "      <td>0.328455</td>\n",
              "      <td>0.203945</td>\n",
              "      <td>0.046780</td>\n",
              "      <td>0.749275</td>\n",
              "      <td>0.526062</td>\n",
              "      <td>0.107963</td>\n",
              "      <td>0.365976</td>\n",
              "      <td>0.595738</td>\n",
              "      <td>0.094862</td>\n",
              "      <td>0.309400</td>\n",
              "      <td>0.547283</td>\n",
              "      <td>0.064797</td>\n",
              "      <td>0.387920</td>\n",
              "    </tr>\n",
              "    <tr>\n",
              "      <th>301</th>\n",
              "      <td>0.468588</td>\n",
              "      <td>0.404916</td>\n",
              "      <td>0.126497</td>\n",
              "      <td>0.463776</td>\n",
              "      <td>0.425239</td>\n",
              "      <td>0.110986</td>\n",
              "      <td>0.478151</td>\n",
              "      <td>0.392417</td>\n",
              "      <td>0.129432</td>\n",
              "      <td>0.525651</td>\n",
              "      <td>0.365589</td>\n",
              "      <td>0.108759</td>\n",
              "      <td>0.493496</td>\n",
              "      <td>0.178049</td>\n",
              "      <td>0.328455</td>\n",
              "      <td>0.727269</td>\n",
              "      <td>0.253397</td>\n",
              "      <td>0.019334</td>\n",
              "      <td>0.478236</td>\n",
              "      <td>0.373758</td>\n",
              "      <td>0.148006</td>\n",
              "      <td>0.482575</td>\n",
              "      <td>0.414369</td>\n",
              "      <td>0.103056</td>\n",
              "      <td>0.552504</td>\n",
              "      <td>0.362719</td>\n",
              "      <td>0.084778</td>\n",
              "    </tr>\n",
              "    <tr>\n",
              "      <th>302</th>\n",
              "      <td>0.715426</td>\n",
              "      <td>0.086461</td>\n",
              "      <td>0.198114</td>\n",
              "      <td>0.740825</td>\n",
              "      <td>0.092012</td>\n",
              "      <td>0.167163</td>\n",
              "      <td>0.716184</td>\n",
              "      <td>0.100857</td>\n",
              "      <td>0.182959</td>\n",
              "      <td>0.708331</td>\n",
              "      <td>0.106008</td>\n",
              "      <td>0.185661</td>\n",
              "      <td>0.493496</td>\n",
              "      <td>0.178049</td>\n",
              "      <td>0.328455</td>\n",
              "      <td>0.756379</td>\n",
              "      <td>0.052283</td>\n",
              "      <td>0.191338</td>\n",
              "      <td>0.727859</td>\n",
              "      <td>0.105561</td>\n",
              "      <td>0.166579</td>\n",
              "      <td>0.749068</td>\n",
              "      <td>0.086098</td>\n",
              "      <td>0.164834</td>\n",
              "      <td>0.707754</td>\n",
              "      <td>0.121709</td>\n",
              "      <td>0.170537</td>\n",
              "    </tr>\n",
              "    <tr>\n",
              "      <th>303</th>\n",
              "      <td>0.758619</td>\n",
              "      <td>0.110911</td>\n",
              "      <td>0.130470</td>\n",
              "      <td>0.762030</td>\n",
              "      <td>0.104166</td>\n",
              "      <td>0.133804</td>\n",
              "      <td>0.760156</td>\n",
              "      <td>0.109787</td>\n",
              "      <td>0.130057</td>\n",
              "      <td>0.772121</td>\n",
              "      <td>0.103279</td>\n",
              "      <td>0.124600</td>\n",
              "      <td>0.493496</td>\n",
              "      <td>0.178049</td>\n",
              "      <td>0.328455</td>\n",
              "      <td>0.789498</td>\n",
              "      <td>0.052523</td>\n",
              "      <td>0.157979</td>\n",
              "      <td>0.736163</td>\n",
              "      <td>0.108978</td>\n",
              "      <td>0.154859</td>\n",
              "      <td>0.765042</td>\n",
              "      <td>0.107236</td>\n",
              "      <td>0.127722</td>\n",
              "      <td>0.806050</td>\n",
              "      <td>0.086923</td>\n",
              "      <td>0.107027</td>\n",
              "    </tr>\n",
              "    <tr>\n",
              "      <th>304</th>\n",
              "      <td>0.798859</td>\n",
              "      <td>0.140153</td>\n",
              "      <td>0.060988</td>\n",
              "      <td>0.822864</td>\n",
              "      <td>0.114296</td>\n",
              "      <td>0.062841</td>\n",
              "      <td>0.819367</td>\n",
              "      <td>0.111173</td>\n",
              "      <td>0.069460</td>\n",
              "      <td>0.792865</td>\n",
              "      <td>0.125901</td>\n",
              "      <td>0.081235</td>\n",
              "      <td>0.493496</td>\n",
              "      <td>0.178049</td>\n",
              "      <td>0.328455</td>\n",
              "      <td>0.706525</td>\n",
              "      <td>0.275958</td>\n",
              "      <td>0.017517</td>\n",
              "      <td>0.792463</td>\n",
              "      <td>0.113565</td>\n",
              "      <td>0.093972</td>\n",
              "      <td>0.824999</td>\n",
              "      <td>0.108861</td>\n",
              "      <td>0.066140</td>\n",
              "      <td>0.834341</td>\n",
              "      <td>0.106072</td>\n",
              "      <td>0.059586</td>\n",
              "    </tr>\n",
              "  </tbody>\n",
              "</table>\n",
              "<p>305 rows × 27 columns</p>\n",
              "</div>"
            ],
            "text/plain": [
              "            0         1         2  ...        24        25        26\n",
              "0    0.000000  1.000000  2.000000  ...  0.000000  1.000000  2.000000\n",
              "1    0.513138  0.111754  0.375107  ...  0.493915  0.108518  0.397567\n",
              "2    0.613655  0.127822  0.258523  ...  0.654075  0.164446  0.181480\n",
              "3    0.144154  0.108923  0.746924  ...  0.132390  0.090236  0.777374\n",
              "4    0.556612  0.041087  0.402302  ...  0.541615  0.029918  0.428467\n",
              "..        ...       ...       ...  ...       ...       ...       ...\n",
              "300  0.578798  0.069385  0.351817  ...  0.547283  0.064797  0.387920\n",
              "301  0.468588  0.404916  0.126497  ...  0.552504  0.362719  0.084778\n",
              "302  0.715426  0.086461  0.198114  ...  0.707754  0.121709  0.170537\n",
              "303  0.758619  0.110911  0.130470  ...  0.806050  0.086923  0.107027\n",
              "304  0.798859  0.140153  0.060988  ...  0.834341  0.106072  0.059586\n",
              "\n",
              "[305 rows x 27 columns]"
            ]
          },
          "execution_count": 452,
          "metadata": {},
          "output_type": "execute_result"
        }
      ]
    },
    {
      "cell_type": "code",
      "metadata": {
        "colab": {
          "base_uri": "https://localhost:8080/",
          "height": 307
        },
        "id": "s5jf3ivwJrqA",
        "outputId": "5fc8c374-e13f-44c0-9705-191db18ba11e"
      },
      "source": [
        "input, target = df.iloc[:, :-1].copy(), df.iloc[:, -1].copy()\n",
        "input.head()"
      ],
      "execution_count": null,
      "outputs": [
        {
          "data": {
            "text/html": [
              "<div>\n",
              "<style scoped>\n",
              "    .dataframe tbody tr th:only-of-type {\n",
              "        vertical-align: middle;\n",
              "    }\n",
              "\n",
              "    .dataframe tbody tr th {\n",
              "        vertical-align: top;\n",
              "    }\n",
              "\n",
              "    .dataframe thead th {\n",
              "        text-align: right;\n",
              "    }\n",
              "</style>\n",
              "<table border=\"1\" class=\"dataframe\">\n",
              "  <thead>\n",
              "    <tr style=\"text-align: right;\">\n",
              "      <th></th>\n",
              "      <th>0</th>\n",
              "      <th>1</th>\n",
              "      <th>2</th>\n",
              "      <th>0.1</th>\n",
              "      <th>1.1</th>\n",
              "      <th>2.1</th>\n",
              "      <th>0.2</th>\n",
              "      <th>1.2</th>\n",
              "      <th>2.2</th>\n",
              "      <th>0.3</th>\n",
              "      <th>1.3</th>\n",
              "      <th>2.3</th>\n",
              "      <th>0.4</th>\n",
              "      <th>1.4</th>\n",
              "      <th>2.4</th>\n",
              "      <th>0.5</th>\n",
              "      <th>1.5</th>\n",
              "      <th>2.5</th>\n",
              "      <th>0.6</th>\n",
              "      <th>1.6</th>\n",
              "      <th>2.6</th>\n",
              "      <th>0.7</th>\n",
              "      <th>1.7</th>\n",
              "      <th>2.7</th>\n",
              "      <th>0.8</th>\n",
              "      <th>1.8</th>\n",
              "      <th>2.8</th>\n",
              "    </tr>\n",
              "  </thead>\n",
              "  <tbody>\n",
              "    <tr>\n",
              "      <th>0</th>\n",
              "      <td>0.710312</td>\n",
              "      <td>0.145001</td>\n",
              "      <td>0.144687</td>\n",
              "      <td>0.710894</td>\n",
              "      <td>0.137163</td>\n",
              "      <td>0.151943</td>\n",
              "      <td>0.738137</td>\n",
              "      <td>0.127783</td>\n",
              "      <td>0.134080</td>\n",
              "      <td>0.707802</td>\n",
              "      <td>0.150653</td>\n",
              "      <td>0.141545</td>\n",
              "      <td>0.493496</td>\n",
              "      <td>0.178049</td>\n",
              "      <td>0.328455</td>\n",
              "      <td>0.870492</td>\n",
              "      <td>0.113274</td>\n",
              "      <td>0.016234</td>\n",
              "      <td>0.701462</td>\n",
              "      <td>0.138018</td>\n",
              "      <td>0.160520</td>\n",
              "      <td>0.721571</td>\n",
              "      <td>0.129144</td>\n",
              "      <td>0.149285</td>\n",
              "      <td>0.992060</td>\n",
              "      <td>7.869233e-03</td>\n",
              "      <td>0.000071</td>\n",
              "    </tr>\n",
              "    <tr>\n",
              "      <th>1</th>\n",
              "      <td>0.100394</td>\n",
              "      <td>0.056966</td>\n",
              "      <td>0.842640</td>\n",
              "      <td>0.091477</td>\n",
              "      <td>0.068967</td>\n",
              "      <td>0.839556</td>\n",
              "      <td>0.086742</td>\n",
              "      <td>0.052309</td>\n",
              "      <td>0.860948</td>\n",
              "      <td>0.078100</td>\n",
              "      <td>0.055828</td>\n",
              "      <td>0.866073</td>\n",
              "      <td>0.493496</td>\n",
              "      <td>0.178049</td>\n",
              "      <td>0.328455</td>\n",
              "      <td>0.147518</td>\n",
              "      <td>0.035767</td>\n",
              "      <td>0.816715</td>\n",
              "      <td>0.131642</td>\n",
              "      <td>0.045602</td>\n",
              "      <td>0.822757</td>\n",
              "      <td>0.084399</td>\n",
              "      <td>0.059690</td>\n",
              "      <td>0.855911</td>\n",
              "      <td>0.000017</td>\n",
              "      <td>2.258934e-05</td>\n",
              "      <td>0.999960</td>\n",
              "    </tr>\n",
              "    <tr>\n",
              "      <th>2</th>\n",
              "      <td>0.317791</td>\n",
              "      <td>0.065203</td>\n",
              "      <td>0.617005</td>\n",
              "      <td>0.311354</td>\n",
              "      <td>0.060672</td>\n",
              "      <td>0.627974</td>\n",
              "      <td>0.302993</td>\n",
              "      <td>0.056181</td>\n",
              "      <td>0.640825</td>\n",
              "      <td>0.358889</td>\n",
              "      <td>0.043317</td>\n",
              "      <td>0.597794</td>\n",
              "      <td>0.493496</td>\n",
              "      <td>0.178049</td>\n",
              "      <td>0.328455</td>\n",
              "      <td>0.203486</td>\n",
              "      <td>0.025703</td>\n",
              "      <td>0.770810</td>\n",
              "      <td>0.350684</td>\n",
              "      <td>0.051479</td>\n",
              "      <td>0.597837</td>\n",
              "      <td>0.317391</td>\n",
              "      <td>0.052788</td>\n",
              "      <td>0.629820</td>\n",
              "      <td>0.076909</td>\n",
              "      <td>2.370606e-04</td>\n",
              "      <td>0.922854</td>\n",
              "    </tr>\n",
              "    <tr>\n",
              "      <th>3</th>\n",
              "      <td>0.940485</td>\n",
              "      <td>0.010232</td>\n",
              "      <td>0.049282</td>\n",
              "      <td>0.942090</td>\n",
              "      <td>0.009715</td>\n",
              "      <td>0.048195</td>\n",
              "      <td>0.948484</td>\n",
              "      <td>0.009088</td>\n",
              "      <td>0.042428</td>\n",
              "      <td>0.944516</td>\n",
              "      <td>0.008347</td>\n",
              "      <td>0.047137</td>\n",
              "      <td>0.493496</td>\n",
              "      <td>0.178049</td>\n",
              "      <td>0.328455</td>\n",
              "      <td>0.959888</td>\n",
              "      <td>0.007371</td>\n",
              "      <td>0.032741</td>\n",
              "      <td>0.919360</td>\n",
              "      <td>0.009479</td>\n",
              "      <td>0.071161</td>\n",
              "      <td>0.939874</td>\n",
              "      <td>0.007063</td>\n",
              "      <td>0.053063</td>\n",
              "      <td>0.999978</td>\n",
              "      <td>2.450309e-08</td>\n",
              "      <td>0.000022</td>\n",
              "    </tr>\n",
              "    <tr>\n",
              "      <th>4</th>\n",
              "      <td>0.710154</td>\n",
              "      <td>0.058567</td>\n",
              "      <td>0.231279</td>\n",
              "      <td>0.722872</td>\n",
              "      <td>0.043244</td>\n",
              "      <td>0.233883</td>\n",
              "      <td>0.695925</td>\n",
              "      <td>0.056027</td>\n",
              "      <td>0.248047</td>\n",
              "      <td>0.720227</td>\n",
              "      <td>0.046069</td>\n",
              "      <td>0.233704</td>\n",
              "      <td>0.493496</td>\n",
              "      <td>0.178049</td>\n",
              "      <td>0.328455</td>\n",
              "      <td>0.588284</td>\n",
              "      <td>0.102363</td>\n",
              "      <td>0.309352</td>\n",
              "      <td>0.701877</td>\n",
              "      <td>0.056721</td>\n",
              "      <td>0.241402</td>\n",
              "      <td>0.733028</td>\n",
              "      <td>0.055998</td>\n",
              "      <td>0.210973</td>\n",
              "      <td>0.834802</td>\n",
              "      <td>7.418775e-03</td>\n",
              "      <td>0.157779</td>\n",
              "    </tr>\n",
              "  </tbody>\n",
              "</table>\n",
              "</div>"
            ],
            "text/plain": [
              "          0         1         2  ...       0.8           1.8       2.8\n",
              "0  0.710312  0.145001  0.144687  ...  0.992060  7.869233e-03  0.000071\n",
              "1  0.100394  0.056966  0.842640  ...  0.000017  2.258934e-05  0.999960\n",
              "2  0.317791  0.065203  0.617005  ...  0.076909  2.370606e-04  0.922854\n",
              "3  0.940485  0.010232  0.049282  ...  0.999978  2.450309e-08  0.000022\n",
              "4  0.710154  0.058567  0.231279  ...  0.834802  7.418775e-03  0.157779\n",
              "\n",
              "[5 rows x 27 columns]"
            ]
          },
          "execution_count": 374,
          "metadata": {},
          "output_type": "execute_result"
        }
      ]
    },
    {
      "cell_type": "code",
      "metadata": {
        "colab": {
          "base_uri": "https://localhost:8080/"
        },
        "id": "j-2c56gs9Zbi",
        "outputId": "2cdd2f56-2c1c-46d6-a020-acf08b3a4f6e"
      },
      "source": [
        "ql = feyn.connect_qlattice()"
      ],
      "execution_count": null,
      "outputs": [
        {
          "name": "stdout",
          "output_type": "stream",
          "text": [
            "A new Community QLattice has been allocated for you. This temporary QLattice is available for personal/non-commercial use. By using this Community QLattice you agree to the terms and conditions which can be found at `https://abzu.ai/privacy`.\n"
          ]
        }
      ]
    },
    {
      "cell_type": "code",
      "metadata": {
        "id": "hIMYKTGeBTpn"
      },
      "source": [
        "ql.reset(random_seed=42)"
      ],
      "execution_count": null,
      "outputs": []
    },
    {
      "cell_type": "code",
      "metadata": {
        "id": "4ptsJMb9BT2H"
      },
      "source": [
        "# Set random seed for reproducibility\n",
        "random_seed = 42\n",
        "\n",
        "# Define the target variable\n",
        "label = \"label\"\n",
        "\n",
        "# Split\n",
        "# train_input, test_input, train_output, test_output = train_test_split(input, target, test_size=0.2, stratify=target, random_state=random_seed)\n",
        "train, test = train_test_split(df, test_size=0.2, stratify=target, random_state=random_seed)"
      ],
      "execution_count": null,
      "outputs": []
    },
    {
      "cell_type": "code",
      "metadata": {
        "colab": {
          "base_uri": "https://localhost:8080/",
          "height": 437
        },
        "id": "VfP9tXwGR4Bp",
        "outputId": "342ded45-3e7a-4e29-a746-232d80770d33"
      },
      "source": [
        "train[train.iloc[:, -1] == 0]"
      ],
      "execution_count": null,
      "outputs": [
        {
          "data": {
            "text/html": [
              "<div>\n",
              "<style scoped>\n",
              "    .dataframe tbody tr th:only-of-type {\n",
              "        vertical-align: middle;\n",
              "    }\n",
              "\n",
              "    .dataframe tbody tr th {\n",
              "        vertical-align: top;\n",
              "    }\n",
              "\n",
              "    .dataframe thead th {\n",
              "        text-align: right;\n",
              "    }\n",
              "</style>\n",
              "<table border=\"1\" class=\"dataframe\">\n",
              "  <thead>\n",
              "    <tr style=\"text-align: right;\">\n",
              "      <th></th>\n",
              "      <th>0</th>\n",
              "      <th>1</th>\n",
              "      <th>2</th>\n",
              "      <th>0.1</th>\n",
              "      <th>1.1</th>\n",
              "      <th>2.1</th>\n",
              "      <th>0.2</th>\n",
              "      <th>1.2</th>\n",
              "      <th>2.2</th>\n",
              "      <th>0.3</th>\n",
              "      <th>1.3</th>\n",
              "      <th>2.3</th>\n",
              "      <th>0.4</th>\n",
              "      <th>1.4</th>\n",
              "      <th>2.4</th>\n",
              "      <th>0.5</th>\n",
              "      <th>1.5</th>\n",
              "      <th>2.5</th>\n",
              "      <th>0.6</th>\n",
              "      <th>1.6</th>\n",
              "      <th>2.6</th>\n",
              "      <th>0.7</th>\n",
              "      <th>1.7</th>\n",
              "      <th>2.7</th>\n",
              "      <th>0.8</th>\n",
              "      <th>1.8</th>\n",
              "      <th>2.8</th>\n",
              "      <th>label</th>\n",
              "    </tr>\n",
              "  </thead>\n",
              "  <tbody>\n",
              "    <tr>\n",
              "      <th>888</th>\n",
              "      <td>0.720867</td>\n",
              "      <td>0.170719</td>\n",
              "      <td>0.108413</td>\n",
              "      <td>0.709937</td>\n",
              "      <td>0.186468</td>\n",
              "      <td>0.103595</td>\n",
              "      <td>0.723638</td>\n",
              "      <td>0.165362</td>\n",
              "      <td>0.111000</td>\n",
              "      <td>0.692318</td>\n",
              "      <td>0.202142</td>\n",
              "      <td>0.105540</td>\n",
              "      <td>0.493496</td>\n",
              "      <td>0.178049</td>\n",
              "      <td>0.328455</td>\n",
              "      <td>0.439602</td>\n",
              "      <td>0.517932</td>\n",
              "      <td>0.042466</td>\n",
              "      <td>0.705508</td>\n",
              "      <td>0.158088</td>\n",
              "      <td>0.136404</td>\n",
              "      <td>0.695688</td>\n",
              "      <td>0.193931</td>\n",
              "      <td>0.110380</td>\n",
              "      <td>0.283243</td>\n",
              "      <td>0.706186</td>\n",
              "      <td>0.010572</td>\n",
              "      <td>0</td>\n",
              "    </tr>\n",
              "    <tr>\n",
              "      <th>335</th>\n",
              "      <td>0.744814</td>\n",
              "      <td>0.083053</td>\n",
              "      <td>0.172133</td>\n",
              "      <td>0.776819</td>\n",
              "      <td>0.063522</td>\n",
              "      <td>0.159658</td>\n",
              "      <td>0.765550</td>\n",
              "      <td>0.082662</td>\n",
              "      <td>0.151787</td>\n",
              "      <td>0.810070</td>\n",
              "      <td>0.057257</td>\n",
              "      <td>0.132673</td>\n",
              "      <td>0.493496</td>\n",
              "      <td>0.178049</td>\n",
              "      <td>0.328455</td>\n",
              "      <td>0.862304</td>\n",
              "      <td>0.051304</td>\n",
              "      <td>0.086392</td>\n",
              "      <td>0.720930</td>\n",
              "      <td>0.095462</td>\n",
              "      <td>0.183608</td>\n",
              "      <td>0.778493</td>\n",
              "      <td>0.064088</td>\n",
              "      <td>0.157419</td>\n",
              "      <td>0.994291</td>\n",
              "      <td>0.003548</td>\n",
              "      <td>0.002161</td>\n",
              "      <td>0</td>\n",
              "    </tr>\n",
              "    <tr>\n",
              "      <th>1055</th>\n",
              "      <td>0.870218</td>\n",
              "      <td>0.075339</td>\n",
              "      <td>0.054443</td>\n",
              "      <td>0.842992</td>\n",
              "      <td>0.085900</td>\n",
              "      <td>0.071108</td>\n",
              "      <td>0.896324</td>\n",
              "      <td>0.063601</td>\n",
              "      <td>0.040076</td>\n",
              "      <td>0.900455</td>\n",
              "      <td>0.059842</td>\n",
              "      <td>0.039703</td>\n",
              "      <td>0.493496</td>\n",
              "      <td>0.178049</td>\n",
              "      <td>0.328455</td>\n",
              "      <td>0.746842</td>\n",
              "      <td>0.056642</td>\n",
              "      <td>0.196516</td>\n",
              "      <td>0.846179</td>\n",
              "      <td>0.073707</td>\n",
              "      <td>0.080114</td>\n",
              "      <td>0.889295</td>\n",
              "      <td>0.062850</td>\n",
              "      <td>0.047855</td>\n",
              "      <td>0.999611</td>\n",
              "      <td>0.000111</td>\n",
              "      <td>0.000277</td>\n",
              "      <td>0</td>\n",
              "    </tr>\n",
              "    <tr>\n",
              "      <th>241</th>\n",
              "      <td>0.642324</td>\n",
              "      <td>0.041105</td>\n",
              "      <td>0.316571</td>\n",
              "      <td>0.743182</td>\n",
              "      <td>0.032629</td>\n",
              "      <td>0.224189</td>\n",
              "      <td>0.692575</td>\n",
              "      <td>0.035868</td>\n",
              "      <td>0.271557</td>\n",
              "      <td>0.675562</td>\n",
              "      <td>0.040933</td>\n",
              "      <td>0.283506</td>\n",
              "      <td>0.493496</td>\n",
              "      <td>0.178049</td>\n",
              "      <td>0.328455</td>\n",
              "      <td>0.738176</td>\n",
              "      <td>0.055413</td>\n",
              "      <td>0.206411</td>\n",
              "      <td>0.638124</td>\n",
              "      <td>0.045768</td>\n",
              "      <td>0.316109</td>\n",
              "      <td>0.690925</td>\n",
              "      <td>0.052113</td>\n",
              "      <td>0.256962</td>\n",
              "      <td>0.151916</td>\n",
              "      <td>0.000314</td>\n",
              "      <td>0.847770</td>\n",
              "      <td>0</td>\n",
              "    </tr>\n",
              "    <tr>\n",
              "      <th>865</th>\n",
              "      <td>0.548829</td>\n",
              "      <td>0.133825</td>\n",
              "      <td>0.317346</td>\n",
              "      <td>0.545709</td>\n",
              "      <td>0.143563</td>\n",
              "      <td>0.310728</td>\n",
              "      <td>0.549936</td>\n",
              "      <td>0.111761</td>\n",
              "      <td>0.338304</td>\n",
              "      <td>0.533424</td>\n",
              "      <td>0.124872</td>\n",
              "      <td>0.341704</td>\n",
              "      <td>0.493496</td>\n",
              "      <td>0.178049</td>\n",
              "      <td>0.328455</td>\n",
              "      <td>0.157096</td>\n",
              "      <td>0.034935</td>\n",
              "      <td>0.807969</td>\n",
              "      <td>0.586632</td>\n",
              "      <td>0.114367</td>\n",
              "      <td>0.299002</td>\n",
              "      <td>0.579325</td>\n",
              "      <td>0.114818</td>\n",
              "      <td>0.305857</td>\n",
              "      <td>0.148157</td>\n",
              "      <td>0.018622</td>\n",
              "      <td>0.833221</td>\n",
              "      <td>0</td>\n",
              "    </tr>\n",
              "    <tr>\n",
              "      <th>...</th>\n",
              "      <td>...</td>\n",
              "      <td>...</td>\n",
              "      <td>...</td>\n",
              "      <td>...</td>\n",
              "      <td>...</td>\n",
              "      <td>...</td>\n",
              "      <td>...</td>\n",
              "      <td>...</td>\n",
              "      <td>...</td>\n",
              "      <td>...</td>\n",
              "      <td>...</td>\n",
              "      <td>...</td>\n",
              "      <td>...</td>\n",
              "      <td>...</td>\n",
              "      <td>...</td>\n",
              "      <td>...</td>\n",
              "      <td>...</td>\n",
              "      <td>...</td>\n",
              "      <td>...</td>\n",
              "      <td>...</td>\n",
              "      <td>...</td>\n",
              "      <td>...</td>\n",
              "      <td>...</td>\n",
              "      <td>...</td>\n",
              "      <td>...</td>\n",
              "      <td>...</td>\n",
              "      <td>...</td>\n",
              "      <td>...</td>\n",
              "    </tr>\n",
              "    <tr>\n",
              "      <th>954</th>\n",
              "      <td>0.789872</td>\n",
              "      <td>0.068386</td>\n",
              "      <td>0.141742</td>\n",
              "      <td>0.768154</td>\n",
              "      <td>0.080657</td>\n",
              "      <td>0.151189</td>\n",
              "      <td>0.811781</td>\n",
              "      <td>0.068912</td>\n",
              "      <td>0.119306</td>\n",
              "      <td>0.800061</td>\n",
              "      <td>0.068973</td>\n",
              "      <td>0.130966</td>\n",
              "      <td>0.493496</td>\n",
              "      <td>0.178049</td>\n",
              "      <td>0.328455</td>\n",
              "      <td>0.898252</td>\n",
              "      <td>0.041052</td>\n",
              "      <td>0.060696</td>\n",
              "      <td>0.783999</td>\n",
              "      <td>0.061213</td>\n",
              "      <td>0.154788</td>\n",
              "      <td>0.826826</td>\n",
              "      <td>0.067823</td>\n",
              "      <td>0.105352</td>\n",
              "      <td>0.996680</td>\n",
              "      <td>0.000479</td>\n",
              "      <td>0.002841</td>\n",
              "      <td>0</td>\n",
              "    </tr>\n",
              "    <tr>\n",
              "      <th>430</th>\n",
              "      <td>0.554703</td>\n",
              "      <td>0.129750</td>\n",
              "      <td>0.315548</td>\n",
              "      <td>0.551416</td>\n",
              "      <td>0.097805</td>\n",
              "      <td>0.350779</td>\n",
              "      <td>0.553166</td>\n",
              "      <td>0.120776</td>\n",
              "      <td>0.326058</td>\n",
              "      <td>0.537632</td>\n",
              "      <td>0.128685</td>\n",
              "      <td>0.333682</td>\n",
              "      <td>0.493496</td>\n",
              "      <td>0.178049</td>\n",
              "      <td>0.328455</td>\n",
              "      <td>0.401525</td>\n",
              "      <td>0.094912</td>\n",
              "      <td>0.503563</td>\n",
              "      <td>0.551310</td>\n",
              "      <td>0.137332</td>\n",
              "      <td>0.311358</td>\n",
              "      <td>0.544843</td>\n",
              "      <td>0.120214</td>\n",
              "      <td>0.334943</td>\n",
              "      <td>0.004212</td>\n",
              "      <td>0.003338</td>\n",
              "      <td>0.992450</td>\n",
              "      <td>0</td>\n",
              "    </tr>\n",
              "    <tr>\n",
              "      <th>378</th>\n",
              "      <td>0.717230</td>\n",
              "      <td>0.096867</td>\n",
              "      <td>0.185903</td>\n",
              "      <td>0.714484</td>\n",
              "      <td>0.117869</td>\n",
              "      <td>0.167648</td>\n",
              "      <td>0.728297</td>\n",
              "      <td>0.098694</td>\n",
              "      <td>0.173010</td>\n",
              "      <td>0.728265</td>\n",
              "      <td>0.087740</td>\n",
              "      <td>0.183994</td>\n",
              "      <td>0.493496</td>\n",
              "      <td>0.178049</td>\n",
              "      <td>0.328455</td>\n",
              "      <td>0.597800</td>\n",
              "      <td>0.081917</td>\n",
              "      <td>0.320283</td>\n",
              "      <td>0.676320</td>\n",
              "      <td>0.126781</td>\n",
              "      <td>0.196899</td>\n",
              "      <td>0.702166</td>\n",
              "      <td>0.098946</td>\n",
              "      <td>0.198888</td>\n",
              "      <td>0.904256</td>\n",
              "      <td>0.003515</td>\n",
              "      <td>0.092229</td>\n",
              "      <td>0</td>\n",
              "    </tr>\n",
              "    <tr>\n",
              "      <th>243</th>\n",
              "      <td>0.606003</td>\n",
              "      <td>0.029776</td>\n",
              "      <td>0.364221</td>\n",
              "      <td>0.602977</td>\n",
              "      <td>0.023927</td>\n",
              "      <td>0.373096</td>\n",
              "      <td>0.622667</td>\n",
              "      <td>0.028358</td>\n",
              "      <td>0.348975</td>\n",
              "      <td>0.602223</td>\n",
              "      <td>0.028588</td>\n",
              "      <td>0.369189</td>\n",
              "      <td>0.493496</td>\n",
              "      <td>0.178049</td>\n",
              "      <td>0.328455</td>\n",
              "      <td>0.522484</td>\n",
              "      <td>0.018082</td>\n",
              "      <td>0.459434</td>\n",
              "      <td>0.635033</td>\n",
              "      <td>0.032129</td>\n",
              "      <td>0.332838</td>\n",
              "      <td>0.604781</td>\n",
              "      <td>0.023753</td>\n",
              "      <td>0.371466</td>\n",
              "      <td>0.131381</td>\n",
              "      <td>0.000054</td>\n",
              "      <td>0.868564</td>\n",
              "      <td>0</td>\n",
              "    </tr>\n",
              "    <tr>\n",
              "      <th>176</th>\n",
              "      <td>0.667695</td>\n",
              "      <td>0.283917</td>\n",
              "      <td>0.048387</td>\n",
              "      <td>0.631030</td>\n",
              "      <td>0.332779</td>\n",
              "      <td>0.036190</td>\n",
              "      <td>0.646731</td>\n",
              "      <td>0.324342</td>\n",
              "      <td>0.028926</td>\n",
              "      <td>0.685738</td>\n",
              "      <td>0.281767</td>\n",
              "      <td>0.032495</td>\n",
              "      <td>0.493496</td>\n",
              "      <td>0.178049</td>\n",
              "      <td>0.328455</td>\n",
              "      <td>0.257458</td>\n",
              "      <td>0.724148</td>\n",
              "      <td>0.018394</td>\n",
              "      <td>0.698136</td>\n",
              "      <td>0.264748</td>\n",
              "      <td>0.037116</td>\n",
              "      <td>0.633089</td>\n",
              "      <td>0.332558</td>\n",
              "      <td>0.034353</td>\n",
              "      <td>0.039169</td>\n",
              "      <td>0.960512</td>\n",
              "      <td>0.000318</td>\n",
              "      <td>0</td>\n",
              "    </tr>\n",
              "  </tbody>\n",
              "</table>\n",
              "<p>482 rows × 28 columns</p>\n",
              "</div>"
            ],
            "text/plain": [
              "             0         1         2  ...       1.8       2.8  label\n",
              "888   0.720867  0.170719  0.108413  ...  0.706186  0.010572      0\n",
              "335   0.744814  0.083053  0.172133  ...  0.003548  0.002161      0\n",
              "1055  0.870218  0.075339  0.054443  ...  0.000111  0.000277      0\n",
              "241   0.642324  0.041105  0.316571  ...  0.000314  0.847770      0\n",
              "865   0.548829  0.133825  0.317346  ...  0.018622  0.833221      0\n",
              "...        ...       ...       ...  ...       ...       ...    ...\n",
              "954   0.789872  0.068386  0.141742  ...  0.000479  0.002841      0\n",
              "430   0.554703  0.129750  0.315548  ...  0.003338  0.992450      0\n",
              "378   0.717230  0.096867  0.185903  ...  0.003515  0.092229      0\n",
              "243   0.606003  0.029776  0.364221  ...  0.000054  0.868564      0\n",
              "176   0.667695  0.283917  0.048387  ...  0.960512  0.000318      0\n",
              "\n",
              "[482 rows x 28 columns]"
            ]
          },
          "execution_count": 378,
          "metadata": {},
          "output_type": "execute_result"
        }
      ]
    },
    {
      "cell_type": "code",
      "metadata": {
        "id": "fvCZNmyQUrDy"
      },
      "source": [
        "# train_0 = pd.merge(train_input, train_cat.iloc[:, 0], left_index=True, right_index=True)\n",
        "# train_0"
      ],
      "execution_count": null,
      "outputs": []
    },
    {
      "cell_type": "code",
      "metadata": {
        "id": "TY9mETKFUMtp"
      },
      "source": [
        "# models = ql.auto_run(train_0, output_name='label_0', criterion='classification')"
      ],
      "execution_count": null,
      "outputs": []
    },
    {
      "cell_type": "code",
      "metadata": {
        "id": "5QxPoA9IFm6B"
      },
      "source": [
        "import feyn\n",
        "import pandas as pd\n",
        "from sklearn.utils import compute_sample_weight\n",
        "\n",
        "\n",
        "class QLatticeModel:\n",
        "    def __init__(self, classes, max_iter=10, early_stop=0.001):\n",
        "        self.models = []\n",
        "        self.max_iter = max_iter\n",
        "        self.classes = classes\n",
        "        self.early_stop = early_stop\n",
        "        self._qls = []\n",
        "        self._models = []\n",
        "        for i in range(self.classes):\n",
        "            self._qls.append(feyn.connect_qlattice())\n",
        "            self._models.append([])\n",
        "\n",
        "    def fit(self, x: np.ndarray, y: np.ndarray):\n",
        "        y_one_hot = np.zeros((y.size, y.max() + 1))\n",
        "        y_one_hot[np.arange(y.size), y] = 1\n",
        "        x_columns = [f\"x_{i}\" for i in range(x.shape[1])]\n",
        "        y_columns = [f\"y_{i}\" for i in range(self.classes)]\n",
        "        train = np.concatenate((x, y_one_hot), axis=1)\n",
        "        train = pd.DataFrame(train, columns=[*x_columns, *y_columns])\n",
        "        print(train.head())\n",
        "\n",
        "        for i, ql in enumerate(self._qls):\n",
        "            losses = []\n",
        "            for epoch in range(self.max_iter):\n",
        "                ql = self._qls[i]\n",
        "                # sample_weights = sample_weights_list[i]\n",
        "                # Sample models from the QLattice, and add them to the list\n",
        "                self._models[i] += ql.sample_models(input_names=x_columns,\n",
        "                                                    output_name=f'y_{i}',\n",
        "                                                    kind='regression')\n",
        "\n",
        "                # Fit the list of models. Returns a list of models sorted by loss or criterion.\n",
        "                self._models[i] = feyn.fit_models(self._models[i],\n",
        "                                                  data=train,\n",
        "                                                  loss_function='absolute_error',\n",
        "                                                  threads=10)\n",
        "\n",
        "                # Remove redundant and poorly performing models from the list\n",
        "                self._models[i] = feyn.prune_models(self._models[i])\n",
        "\n",
        "                # Find the 10 best and sufficiently diverse models\n",
        "                self._models[i] = feyn.get_diverse_models(self._models[i])\n",
        "\n",
        "                # Display the best model in the current epoch\n",
        "                # feyn.show_model(self._models[i][0], label=f\"Epoch: {epoch}\", update_display=True)\n",
        "\n",
        "                # Update QLattice with the 10 best and diverse models\n",
        "                ql.update(self._models[i])\n",
        "                \n",
        "                losses.append(self._models[i][0].loss_value)\n",
        "                \n",
        "                print(\"Epoch {}. Class {}. Loss: {}\".format(epoch, i, losses[-1]))\n",
        "                                                                     \n",
        "                if epoch > 3:\n",
        "                    if losses[-2] / losses[-1] < (1 + self.early_stop) and losses[-3] / losses[-2] < (1 + self.early_stop):\n",
        "                        print(f\"Stopping training for class {i}\")\n",
        "                        break\n",
        "    \n",
        "    def predict(self, x):                                                                                                                   \n",
        "        x_columns = [f\"x_{i}\" for i in range(x.shape[1])]                \n",
        "        test = pd.DataFrame(x.values, columns=x_columns)    \n",
        "        predictions = []    \n",
        "        for i, ql in enumerate(self._qls):\n",
        "            model = self._models[i][0]\n",
        "            # print(model.predict(test))\n",
        "            predictions.append(model.predict(test))\n",
        "        return np.stack(predictions, axis=1)"
      ],
      "execution_count": null,
      "outputs": []
    },
    {
      "cell_type": "code",
      "metadata": {
        "id": "GrIO_pY2DEgF"
      },
      "source": [
        "model = QLatticeModel(classes=3, max_iter=30, early_stop=0.0001)\n",
        "model.fit(train.iloc[:, :-1], train.iloc[:, -1])"
      ],
      "execution_count": null,
      "outputs": []
    },
    {
      "cell_type": "code",
      "metadata": {
        "id": "CTpFGra5Dp-c"
      },
      "source": [
        "y_pred = model.predict(test.iloc[:, :-1])"
      ],
      "execution_count": null,
      "outputs": []
    },
    {
      "cell_type": "code",
      "metadata": {
        "colab": {
          "base_uri": "https://localhost:8080/"
        },
        "id": "zD-r05ziLYzJ",
        "outputId": "36487564-0c38-45f6-92ef-c74168716471"
      },
      "source": [
        "y_pred = test.iloc[:, :-1].values\n",
        "y_pred = np.reshape(y_pred, (-1, 9, 3))\n",
        "y_pred = np.argmax(y_pred.sum(axis=1), axis=1)\n",
        "print(y_pred)"
      ],
      "execution_count": null,
      "outputs": [
        {
          "name": "stdout",
          "output_type": "stream",
          "text": [
            "[2 0 0 0 2 2 0 0 0 2 0 0 2 2 0 2 2 2 0 0 2 0 0 0 0 0 0 2 0 0 2 0 0 1 0 0 0\n",
            " 0 0 2 0 0 2 0 2 0 0 0 0 0 1 0 2 2 0 0 0 2 2 0 2 2 0 2 1 2 0 2 2 0 0 2 2 0\n",
            " 0 0 1 0 1 1 1 0 1 1 0 0 0 0 0 0 2 0 1 2 0 2 0 0 2 0 0 0 0 2 0 2 1 2 0 0 0\n",
            " 0 2 1 2 2 0 0 2 0 0 2 2 1 0 2 0 0 0 0 0 2 0 2 2 0 0 0 0 2 0 0 2 0 0 0 1 2\n",
            " 2 0 0 0 1 0 0 0 0 2 0 0 2 0 0 2 0 2 2 2 0 0 0 0 2 0 0 0 1 0 0 0 0 2 1 0 2\n",
            " 0 2 1 2 1 0 2 2 0 2 2 2 1 0 2 0 0 0 2 0 0 0 0 0 0 2 1 0 0 0 2 1 2 0 0 0 0\n",
            " 1 2 2 0 2 0 0 1 1 0 0 2 0 0 0 0 0 0 2 0 0]\n"
          ]
        }
      ]
    },
    {
      "cell_type": "code",
      "metadata": {
        "colab": {
          "base_uri": "https://localhost:8080/",
          "height": 605
        },
        "id": "qIuMMIe-7fJb",
        "outputId": "05cc2539-da10-4166-ed6f-b0b07bf0e901"
      },
      "source": [
        "test.iloc[:, :-1]"
      ],
      "execution_count": null,
      "outputs": [
        {
          "data": {
            "text/html": [
              "<div>\n",
              "<style scoped>\n",
              "    .dataframe tbody tr th:only-of-type {\n",
              "        vertical-align: middle;\n",
              "    }\n",
              "\n",
              "    .dataframe tbody tr th {\n",
              "        vertical-align: top;\n",
              "    }\n",
              "\n",
              "    .dataframe thead th {\n",
              "        text-align: right;\n",
              "    }\n",
              "</style>\n",
              "<table border=\"1\" class=\"dataframe\">\n",
              "  <thead>\n",
              "    <tr style=\"text-align: right;\">\n",
              "      <th></th>\n",
              "      <th>0</th>\n",
              "      <th>1</th>\n",
              "      <th>2</th>\n",
              "      <th>0.1</th>\n",
              "      <th>1.1</th>\n",
              "      <th>2.1</th>\n",
              "      <th>0.2</th>\n",
              "      <th>1.2</th>\n",
              "      <th>2.2</th>\n",
              "      <th>0.3</th>\n",
              "      <th>1.3</th>\n",
              "      <th>2.3</th>\n",
              "      <th>0.4</th>\n",
              "      <th>1.4</th>\n",
              "      <th>2.4</th>\n",
              "      <th>0.5</th>\n",
              "      <th>1.5</th>\n",
              "      <th>2.5</th>\n",
              "      <th>0.6</th>\n",
              "      <th>1.6</th>\n",
              "      <th>2.6</th>\n",
              "      <th>0.7</th>\n",
              "      <th>1.7</th>\n",
              "      <th>2.7</th>\n",
              "      <th>0.8</th>\n",
              "      <th>1.8</th>\n",
              "      <th>2.8</th>\n",
              "    </tr>\n",
              "  </thead>\n",
              "  <tbody>\n",
              "    <tr>\n",
              "      <th>595</th>\n",
              "      <td>0.464061</td>\n",
              "      <td>0.136987</td>\n",
              "      <td>0.398952</td>\n",
              "      <td>0.508009</td>\n",
              "      <td>0.141519</td>\n",
              "      <td>0.350472</td>\n",
              "      <td>0.474967</td>\n",
              "      <td>0.139787</td>\n",
              "      <td>0.385246</td>\n",
              "      <td>0.487118</td>\n",
              "      <td>0.129844</td>\n",
              "      <td>0.383038</td>\n",
              "      <td>0.493496</td>\n",
              "      <td>0.178049</td>\n",
              "      <td>0.328455</td>\n",
              "      <td>0.113740</td>\n",
              "      <td>0.016584</td>\n",
              "      <td>0.869676</td>\n",
              "      <td>0.546659</td>\n",
              "      <td>0.124499</td>\n",
              "      <td>0.328842</td>\n",
              "      <td>0.492688</td>\n",
              "      <td>0.154242</td>\n",
              "      <td>0.353070</td>\n",
              "      <td>0.000527</td>\n",
              "      <td>0.000084</td>\n",
              "      <td>9.993891e-01</td>\n",
              "    </tr>\n",
              "    <tr>\n",
              "      <th>1044</th>\n",
              "      <td>0.714260</td>\n",
              "      <td>0.129629</td>\n",
              "      <td>0.156110</td>\n",
              "      <td>0.721706</td>\n",
              "      <td>0.136708</td>\n",
              "      <td>0.141586</td>\n",
              "      <td>0.733473</td>\n",
              "      <td>0.123173</td>\n",
              "      <td>0.143355</td>\n",
              "      <td>0.729598</td>\n",
              "      <td>0.105971</td>\n",
              "      <td>0.164431</td>\n",
              "      <td>0.493496</td>\n",
              "      <td>0.178049</td>\n",
              "      <td>0.328455</td>\n",
              "      <td>0.776461</td>\n",
              "      <td>0.051279</td>\n",
              "      <td>0.172260</td>\n",
              "      <td>0.726433</td>\n",
              "      <td>0.116668</td>\n",
              "      <td>0.156898</td>\n",
              "      <td>0.725410</td>\n",
              "      <td>0.114886</td>\n",
              "      <td>0.159704</td>\n",
              "      <td>0.982975</td>\n",
              "      <td>0.011230</td>\n",
              "      <td>5.794700e-03</td>\n",
              "    </tr>\n",
              "    <tr>\n",
              "      <th>728</th>\n",
              "      <td>0.556499</td>\n",
              "      <td>0.269864</td>\n",
              "      <td>0.173638</td>\n",
              "      <td>0.537082</td>\n",
              "      <td>0.309645</td>\n",
              "      <td>0.153273</td>\n",
              "      <td>0.553901</td>\n",
              "      <td>0.294279</td>\n",
              "      <td>0.151821</td>\n",
              "      <td>0.515127</td>\n",
              "      <td>0.305814</td>\n",
              "      <td>0.179058</td>\n",
              "      <td>0.493496</td>\n",
              "      <td>0.178049</td>\n",
              "      <td>0.328455</td>\n",
              "      <td>0.147626</td>\n",
              "      <td>0.793404</td>\n",
              "      <td>0.058970</td>\n",
              "      <td>0.615360</td>\n",
              "      <td>0.249625</td>\n",
              "      <td>0.135015</td>\n",
              "      <td>0.557898</td>\n",
              "      <td>0.272208</td>\n",
              "      <td>0.169894</td>\n",
              "      <td>0.008730</td>\n",
              "      <td>0.972875</td>\n",
              "      <td>1.839450e-02</td>\n",
              "    </tr>\n",
              "    <tr>\n",
              "      <th>132</th>\n",
              "      <td>0.753715</td>\n",
              "      <td>0.212767</td>\n",
              "      <td>0.033518</td>\n",
              "      <td>0.750935</td>\n",
              "      <td>0.216135</td>\n",
              "      <td>0.032930</td>\n",
              "      <td>0.751423</td>\n",
              "      <td>0.220466</td>\n",
              "      <td>0.028111</td>\n",
              "      <td>0.741788</td>\n",
              "      <td>0.226254</td>\n",
              "      <td>0.031958</td>\n",
              "      <td>0.493496</td>\n",
              "      <td>0.178049</td>\n",
              "      <td>0.328455</td>\n",
              "      <td>0.625293</td>\n",
              "      <td>0.362781</td>\n",
              "      <td>0.011926</td>\n",
              "      <td>0.730668</td>\n",
              "      <td>0.225972</td>\n",
              "      <td>0.043359</td>\n",
              "      <td>0.733542</td>\n",
              "      <td>0.235959</td>\n",
              "      <td>0.030499</td>\n",
              "      <td>0.286699</td>\n",
              "      <td>0.713292</td>\n",
              "      <td>9.132130e-06</td>\n",
              "    </tr>\n",
              "    <tr>\n",
              "      <th>270</th>\n",
              "      <td>0.144070</td>\n",
              "      <td>0.221447</td>\n",
              "      <td>0.634483</td>\n",
              "      <td>0.153758</td>\n",
              "      <td>0.220693</td>\n",
              "      <td>0.625549</td>\n",
              "      <td>0.149902</td>\n",
              "      <td>0.191056</td>\n",
              "      <td>0.659041</td>\n",
              "      <td>0.176688</td>\n",
              "      <td>0.173064</td>\n",
              "      <td>0.650249</td>\n",
              "      <td>0.493496</td>\n",
              "      <td>0.178049</td>\n",
              "      <td>0.328455</td>\n",
              "      <td>0.051604</td>\n",
              "      <td>0.264524</td>\n",
              "      <td>0.683872</td>\n",
              "      <td>0.168174</td>\n",
              "      <td>0.173222</td>\n",
              "      <td>0.658604</td>\n",
              "      <td>0.164222</td>\n",
              "      <td>0.201834</td>\n",
              "      <td>0.633944</td>\n",
              "      <td>0.003316</td>\n",
              "      <td>0.083147</td>\n",
              "      <td>9.135368e-01</td>\n",
              "    </tr>\n",
              "    <tr>\n",
              "      <th>...</th>\n",
              "      <td>...</td>\n",
              "      <td>...</td>\n",
              "      <td>...</td>\n",
              "      <td>...</td>\n",
              "      <td>...</td>\n",
              "      <td>...</td>\n",
              "      <td>...</td>\n",
              "      <td>...</td>\n",
              "      <td>...</td>\n",
              "      <td>...</td>\n",
              "      <td>...</td>\n",
              "      <td>...</td>\n",
              "      <td>...</td>\n",
              "      <td>...</td>\n",
              "      <td>...</td>\n",
              "      <td>...</td>\n",
              "      <td>...</td>\n",
              "      <td>...</td>\n",
              "      <td>...</td>\n",
              "      <td>...</td>\n",
              "      <td>...</td>\n",
              "      <td>...</td>\n",
              "      <td>...</td>\n",
              "      <td>...</td>\n",
              "      <td>...</td>\n",
              "      <td>...</td>\n",
              "      <td>...</td>\n",
              "    </tr>\n",
              "    <tr>\n",
              "      <th>1116</th>\n",
              "      <td>0.660863</td>\n",
              "      <td>0.086107</td>\n",
              "      <td>0.253030</td>\n",
              "      <td>0.636495</td>\n",
              "      <td>0.083423</td>\n",
              "      <td>0.280083</td>\n",
              "      <td>0.699540</td>\n",
              "      <td>0.085942</td>\n",
              "      <td>0.214518</td>\n",
              "      <td>0.710919</td>\n",
              "      <td>0.075708</td>\n",
              "      <td>0.213373</td>\n",
              "      <td>0.493496</td>\n",
              "      <td>0.178049</td>\n",
              "      <td>0.328455</td>\n",
              "      <td>0.911726</td>\n",
              "      <td>0.048546</td>\n",
              "      <td>0.039728</td>\n",
              "      <td>0.700631</td>\n",
              "      <td>0.068490</td>\n",
              "      <td>0.230878</td>\n",
              "      <td>0.661636</td>\n",
              "      <td>0.067555</td>\n",
              "      <td>0.270808</td>\n",
              "      <td>0.994712</td>\n",
              "      <td>0.003531</td>\n",
              "      <td>1.757337e-03</td>\n",
              "    </tr>\n",
              "    <tr>\n",
              "      <th>547</th>\n",
              "      <td>0.885067</td>\n",
              "      <td>0.091984</td>\n",
              "      <td>0.022949</td>\n",
              "      <td>0.890044</td>\n",
              "      <td>0.091748</td>\n",
              "      <td>0.018208</td>\n",
              "      <td>0.880907</td>\n",
              "      <td>0.101886</td>\n",
              "      <td>0.017207</td>\n",
              "      <td>0.892321</td>\n",
              "      <td>0.090618</td>\n",
              "      <td>0.017061</td>\n",
              "      <td>0.493496</td>\n",
              "      <td>0.178049</td>\n",
              "      <td>0.328455</td>\n",
              "      <td>0.949907</td>\n",
              "      <td>0.038724</td>\n",
              "      <td>0.011369</td>\n",
              "      <td>0.851177</td>\n",
              "      <td>0.121240</td>\n",
              "      <td>0.027583</td>\n",
              "      <td>0.886743</td>\n",
              "      <td>0.094029</td>\n",
              "      <td>0.019227</td>\n",
              "      <td>0.999416</td>\n",
              "      <td>0.000584</td>\n",
              "      <td>4.564430e-07</td>\n",
              "    </tr>\n",
              "    <tr>\n",
              "      <th>745</th>\n",
              "      <td>0.323388</td>\n",
              "      <td>0.091848</td>\n",
              "      <td>0.584764</td>\n",
              "      <td>0.321648</td>\n",
              "      <td>0.079720</td>\n",
              "      <td>0.598632</td>\n",
              "      <td>0.341618</td>\n",
              "      <td>0.079095</td>\n",
              "      <td>0.579287</td>\n",
              "      <td>0.321968</td>\n",
              "      <td>0.073732</td>\n",
              "      <td>0.604301</td>\n",
              "      <td>0.493496</td>\n",
              "      <td>0.178049</td>\n",
              "      <td>0.328455</td>\n",
              "      <td>0.351719</td>\n",
              "      <td>0.038429</td>\n",
              "      <td>0.609852</td>\n",
              "      <td>0.343463</td>\n",
              "      <td>0.109867</td>\n",
              "      <td>0.546670</td>\n",
              "      <td>0.332436</td>\n",
              "      <td>0.080964</td>\n",
              "      <td>0.586600</td>\n",
              "      <td>0.283643</td>\n",
              "      <td>0.007398</td>\n",
              "      <td>7.089590e-01</td>\n",
              "    </tr>\n",
              "    <tr>\n",
              "      <th>1030</th>\n",
              "      <td>0.693779</td>\n",
              "      <td>0.011599</td>\n",
              "      <td>0.294622</td>\n",
              "      <td>0.686651</td>\n",
              "      <td>0.010856</td>\n",
              "      <td>0.302493</td>\n",
              "      <td>0.694372</td>\n",
              "      <td>0.012359</td>\n",
              "      <td>0.293269</td>\n",
              "      <td>0.693814</td>\n",
              "      <td>0.012104</td>\n",
              "      <td>0.294082</td>\n",
              "      <td>0.493496</td>\n",
              "      <td>0.178049</td>\n",
              "      <td>0.328455</td>\n",
              "      <td>0.217020</td>\n",
              "      <td>0.036404</td>\n",
              "      <td>0.746577</td>\n",
              "      <td>0.655756</td>\n",
              "      <td>0.009925</td>\n",
              "      <td>0.334318</td>\n",
              "      <td>0.665763</td>\n",
              "      <td>0.013610</td>\n",
              "      <td>0.320627</td>\n",
              "      <td>0.055674</td>\n",
              "      <td>0.000006</td>\n",
              "      <td>9.443199e-01</td>\n",
              "    </tr>\n",
              "    <tr>\n",
              "      <th>124</th>\n",
              "      <td>0.773885</td>\n",
              "      <td>0.103881</td>\n",
              "      <td>0.122233</td>\n",
              "      <td>0.767032</td>\n",
              "      <td>0.102380</td>\n",
              "      <td>0.130589</td>\n",
              "      <td>0.772345</td>\n",
              "      <td>0.089782</td>\n",
              "      <td>0.137873</td>\n",
              "      <td>0.767147</td>\n",
              "      <td>0.107175</td>\n",
              "      <td>0.125677</td>\n",
              "      <td>0.493496</td>\n",
              "      <td>0.178049</td>\n",
              "      <td>0.328455</td>\n",
              "      <td>0.908214</td>\n",
              "      <td>0.047605</td>\n",
              "      <td>0.044181</td>\n",
              "      <td>0.771462</td>\n",
              "      <td>0.106042</td>\n",
              "      <td>0.122496</td>\n",
              "      <td>0.775340</td>\n",
              "      <td>0.094050</td>\n",
              "      <td>0.130610</td>\n",
              "      <td>0.979579</td>\n",
              "      <td>0.012078</td>\n",
              "      <td>8.343254e-03</td>\n",
              "    </tr>\n",
              "  </tbody>\n",
              "</table>\n",
              "<p>243 rows × 27 columns</p>\n",
              "</div>"
            ],
            "text/plain": [
              "             0         1         2  ...       0.8       1.8           2.8\n",
              "595   0.464061  0.136987  0.398952  ...  0.000527  0.000084  9.993891e-01\n",
              "1044  0.714260  0.129629  0.156110  ...  0.982975  0.011230  5.794700e-03\n",
              "728   0.556499  0.269864  0.173638  ...  0.008730  0.972875  1.839450e-02\n",
              "132   0.753715  0.212767  0.033518  ...  0.286699  0.713292  9.132130e-06\n",
              "270   0.144070  0.221447  0.634483  ...  0.003316  0.083147  9.135368e-01\n",
              "...        ...       ...       ...  ...       ...       ...           ...\n",
              "1116  0.660863  0.086107  0.253030  ...  0.994712  0.003531  1.757337e-03\n",
              "547   0.885067  0.091984  0.022949  ...  0.999416  0.000584  4.564430e-07\n",
              "745   0.323388  0.091848  0.584764  ...  0.283643  0.007398  7.089590e-01\n",
              "1030  0.693779  0.011599  0.294622  ...  0.055674  0.000006  9.443199e-01\n",
              "124   0.773885  0.103881  0.122233  ...  0.979579  0.012078  8.343254e-03\n",
              "\n",
              "[243 rows x 27 columns]"
            ]
          },
          "execution_count": 393,
          "metadata": {},
          "output_type": "execute_result"
        }
      ]
    },
    {
      "cell_type": "code",
      "metadata": {
        "id": "ik8yKokB65iX"
      },
      "source": [
        "y_pred"
      ],
      "execution_count": null,
      "outputs": []
    },
    {
      "cell_type": "code",
      "metadata": {
        "id": "mgWmAJQUmYOo"
      },
      "source": [
        "print(confusion_matrix(test.iloc[:, -1], y_pred))\n",
        "print(matthews_corrcoef(test_temp, y_temp))"
      ],
      "execution_count": null,
      "outputs": []
    },
    {
      "cell_type": "code",
      "metadata": {
        "id": "E2V05teVbU1m"
      },
      "source": [
        "y_temp = (1 - y_pred).copy()\n",
        "y_temp = [0 if y_sample[0] > 0.5 else 1 for y_sample in y_temp]\n",
        "test_temp = test.iloc[:, -1].values\n",
        "test_temp = [0 if sample == 0 else 1 for sample in test_temp]\n",
        "print(confusion_matrix(test_temp, y_temp))\n",
        "print(matthews_corrcoef(test_temp, y_temp))"
      ],
      "execution_count": null,
      "outputs": []
    },
    {
      "cell_type": "code",
      "metadata": {
        "colab": {
          "base_uri": "https://localhost:8080/"
        },
        "id": "6FHedNBdMZNI",
        "outputId": "b30a79d0-efe9-45a9-b69e-ec057cd2c4ee"
      },
      "source": [
        "y_temp = [1 if y_sample[1] > 0.2 else 0 for y_sample in y_pred]\n",
        "test_temp = test.iloc[:, -1].values\n",
        "test_temp = [1 if sample == 1 else 0 for sample in test_temp]\n",
        "print(confusion_matrix(test_temp, y_temp))\n",
        "print(matthews_corrcoef(test_temp, y_temp))"
      ],
      "execution_count": null,
      "outputs": [
        {
          "name": "stdout",
          "output_type": "stream",
          "text": [
            "[[200   0]\n",
            " [ 43   0]]\n",
            "0.0\n"
          ]
        }
      ]
    },
    {
      "cell_type": "code",
      "metadata": {
        "colab": {
          "base_uri": "https://localhost:8080/"
        },
        "id": "E5eOBvp6N3Z7",
        "outputId": "9a8c59b6-018e-454d-c5c5-762e2a04c4dc"
      },
      "source": [
        "y_temp = [2 if y_sample[2] > 0.5 else 1 for y_sample in y_pred]\n",
        "test_temp = test.iloc[:, -1].values\n",
        "test_temp = [2 if sample == 2 else 1 for sample in test_temp]\n",
        "print(confusion_matrix(test_temp, y_temp))\n",
        "print(matthews_corrcoef(test_temp, y_temp))"
      ],
      "execution_count": null,
      "outputs": [
        {
          "name": "stdout",
          "output_type": "stream",
          "text": [
            "[[148  15]\n",
            " [ 70  10]]\n",
            "0.05100719116914077\n"
          ]
        }
      ]
    },
    {
      "cell_type": "code",
      "metadata": {
        "colab": {
          "base_uri": "https://localhost:8080/"
        },
        "id": "LI2IgnevOv1f",
        "outputId": "e68a4db4-1a35-47d9-af60-ec275c158235"
      },
      "source": [
        "class_id = 0\n",
        "feyn.show_model(model._models[class_id][0])"
      ],
      "execution_count": null,
      "outputs": [
        {
          "name": "stdout",
          "output_type": "stream",
          "text": [
            "0.24160107975673467\n"
          ]
        }
      ]
    },
    {
      "cell_type": "code",
      "metadata": {
        "id": "cmy1CG8TPFJM"
      },
      "source": [
        "print(confusion_matrix(test_, y_temp))\n",
        "print(matthews_corrcoef(test_temp, y_temp))"
      ],
      "execution_count": null,
      "outputs": []
    },
    {
      "cell_type": "code",
      "metadata": {
        "colab": {
          "base_uri": "https://localhost:8080/"
        },
        "id": "ZucSZyxcPJ16",
        "outputId": "983f2e6a-ece5-4082-c0d8-bbf4364fd2ac"
      },
      "source": [
        "type(test.iloc[:, :-1])"
      ],
      "execution_count": null,
      "outputs": [
        {
          "data": {
            "text/plain": [
              "pandas.core.frame.DataFrame"
            ]
          },
          "execution_count": 119,
          "metadata": {},
          "output_type": "execute_result"
        }
      ]
    },
    {
      "cell_type": "code",
      "metadata": {
        "id": "-h0WLFAhQCd8"
      },
      "source": [
        "train.iloc[:, :-1:3]"
      ],
      "execution_count": null,
      "outputs": []
    },
    {
      "cell_type": "code",
      "metadata": {
        "id": "eazQYsdx6dkW"
      },
      "source": [
        "test.iloc[:, :-1]"
      ],
      "execution_count": null,
      "outputs": []
    },
    {
      "cell_type": "code",
      "metadata": {
        "id": "N4UUCZZE8Aef"
      },
      "source": [
        "y_pred"
      ],
      "execution_count": null,
      "outputs": []
    },
    {
      "cell_type": "code",
      "metadata": {
        "id": "sAQe9BH18Ca6"
      },
      "source": [
        "pred = np.argmax(y_pred, axis = 1)"
      ],
      "execution_count": null,
      "outputs": []
    },
    {
      "cell_type": "code",
      "metadata": {
        "id": "LdMZngC18KDu"
      },
      "source": [
        "pred"
      ],
      "execution_count": null,
      "outputs": []
    },
    {
      "cell_type": "code",
      "metadata": {
        "id": "jK82NwT58K6e"
      },
      "source": [
        "test.iloc[:, -1].values"
      ],
      "execution_count": null,
      "outputs": []
    },
    {
      "cell_type": "code",
      "metadata": {
        "id": "lzI46jPU8qVf"
      },
      "source": [
        "confusion_matrix(test.iloc[:, -1].values, pred)"
      ],
      "execution_count": null,
      "outputs": []
    },
    {
      "cell_type": "code",
      "metadata": {
        "colab": {
          "base_uri": "https://localhost:8080/"
        },
        "id": "EjOG3Dli8wlm",
        "outputId": "5225b55c-3763-45d7-8fb5-9524982188d8"
      },
      "source": [
        "matthews_corrcoef(test.iloc[:, -1].values, pred)"
      ],
      "execution_count": null,
      "outputs": [
        {
          "data": {
            "text/plain": [
              "1.0"
            ]
          },
          "execution_count": 423,
          "metadata": {},
          "output_type": "execute_result"
        }
      ]
    },
    {
      "cell_type": "code",
      "metadata": {
        "id": "y6abuOKV8Q7e"
      },
      "source": [
        "y_pred = model.predict(train.iloc[:, :-1])"
      ],
      "execution_count": null,
      "outputs": []
    },
    {
      "cell_type": "code",
      "metadata": {
        "id": "F9GpmOUC8jKN"
      },
      "source": [
        "pred = np.argmax(y_pred, axis = 1)"
      ],
      "execution_count": null,
      "outputs": []
    },
    {
      "cell_type": "code",
      "metadata": {
        "colab": {
          "base_uri": "https://localhost:8080/"
        },
        "id": "xfxljERN-zjL",
        "outputId": "80b773ee-5759-444f-b81a-5bb78418e483"
      },
      "source": [
        "confusion_matrix(train.iloc[:, -1].values, pred)"
      ],
      "execution_count": null,
      "outputs": [
        {
          "data": {
            "text/plain": [
              "array([[482,   0,   0],\n",
              "       [  0, 171,   0],\n",
              "       [  0,   0, 319]])"
            ]
          },
          "execution_count": 428,
          "metadata": {},
          "output_type": "execute_result"
        }
      ]
    },
    {
      "cell_type": "code",
      "metadata": {
        "colab": {
          "base_uri": "https://localhost:8080/"
        },
        "id": "XaIRmOK6-3MG",
        "outputId": "2e0174c3-f8f6-4615-9107-a2374486d163"
      },
      "source": [
        "matthews_corrcoef(train.iloc[:, -1].values, pred)"
      ],
      "execution_count": null,
      "outputs": [
        {
          "data": {
            "text/plain": [
              "1.0"
            ]
          },
          "execution_count": 429,
          "metadata": {},
          "output_type": "execute_result"
        }
      ]
    },
    {
      "cell_type": "code",
      "metadata": {
        "id": "9QbERxQS-6xe"
      },
      "source": [
        ""
      ],
      "execution_count": null,
      "outputs": []
    },
    {
      "cell_type": "markdown",
      "metadata": {
        "id": "9ID3LVzaRahT"
      },
      "source": [
        "# Test run submission"
      ]
    },
    {
      "cell_type": "code",
      "metadata": {
        "id": "EBjmEK5sRuFO"
      },
      "source": [
        "index = pd.read_csv(\"/content/drive/MyDrive/FakeNews/Test/test-task-1.csv\", names = ['index', 'text'])"
      ],
      "execution_count": null,
      "outputs": []
    },
    {
      "cell_type": "code",
      "metadata": {
        "id": "rwbFJTXXuKNd"
      },
      "source": [
        "model1 = joblib.load(\"/content/drive/MyDrive/FakeNews/Models/Sklearn/ensemble_soft_mean.joblib\")\n",
        "model2 = joblib.load(\"/content/drive/MyDrive/FakeNews/Models/Sklearn/ensemble_hard_mean.joblib\")\n",
        "model3 = joblib.load(\"/content/drive/MyDrive/FakeNews/Models/Sklearn/ensemble_soft_sentence.joblib\")\n",
        "model4 = joblib.load(\"/content/drive/MyDrive/FakeNews/Models/Sklearn/ensemble_hard_sentence.joblib\")\n",
        "model5 = joblib.load(\"/content/drive/MyDrive/FakeNews/Models/Sklearn/SVC_sentence.joblib\")"
      ],
      "execution_count": null,
      "outputs": []
    },
    {
      "cell_type": "code",
      "metadata": {
        "id": "w5KqYYGOuLs_"
      },
      "source": [
        "models = [model1, model2, model3, model4]"
      ],
      "execution_count": null,
      "outputs": []
    },
    {
      "cell_type": "code",
      "metadata": {
        "id": "BgQnRWmRvtKh"
      },
      "source": [
        "prediction = []\n",
        "prediction.append(model1.predict(mean1))\n",
        "prediction.append(model2.predict(mean1))\n",
        "prediction.append(model3.predict(sentence1))\n",
        "prediction.append(model4.predict(sentence1))"
      ],
      "execution_count": null,
      "outputs": []
    },
    {
      "cell_type": "code",
      "metadata": {
        "id": "t95KzBezw2Pd"
      },
      "source": [
        "prediction"
      ],
      "execution_count": null,
      "outputs": []
    },
    {
      "cell_type": "code",
      "metadata": {
        "id": "fF2YGT3yyrWn"
      },
      "source": [
        "result = []\n",
        "for i in prediction:\n",
        "  a = np.stack((index, i), axis=-1)\n",
        "  dataset = pd.DataFrame(a, columns=['index', 'label'])\n",
        "  result.append(dataset)"
      ],
      "execution_count": null,
      "outputs": []
    },
    {
      "cell_type": "code",
      "metadata": {
        "id": "Jh1xKLSK0RgP"
      },
      "source": [
        "result[3].to_csv(\"/content/drive/MyDrive/FakeNews/Test/result4.csv\", index=False)"
      ],
      "execution_count": null,
      "outputs": []
    },
    {
      "cell_type": "code",
      "metadata": {
        "id": "NMmh2Wf62WeW"
      },
      "source": [
        "prediction = model5.predict(sentence1)"
      ],
      "execution_count": null,
      "outputs": []
    },
    {
      "cell_type": "code",
      "metadata": {
        "colab": {
          "base_uri": "https://localhost:8080/"
        },
        "id": "6go4WD5z9i_7",
        "outputId": "329369db-4997-4277-8b54-6cb37e80f2a5"
      },
      "source": [
        "prediction"
      ],
      "execution_count": null,
      "outputs": [
        {
          "output_type": "execute_result",
          "data": {
            "text/plain": [
              "array([0, 0, 2, 0, 0, 0, 0, 0, 0, 2, 1, 0, 2, 1, 0, 0, 2, 0, 0, 0, 2, 0,\n",
              "       0, 2, 0, 1, 0, 0, 0, 0, 0, 2, 0, 2, 0, 0, 0, 2, 0, 2, 0, 0, 0, 2,\n",
              "       2, 2, 0, 1, 1, 2, 2, 0, 2, 1, 2, 0, 0, 0, 1, 2, 0, 2, 0, 0, 0, 0,\n",
              "       2, 1, 1, 2, 0, 0, 0, 0, 0, 2, 2, 0, 0, 2, 0, 0, 0, 2, 2, 1, 0, 0,\n",
              "       2, 0, 0, 2, 0, 2, 0, 2, 2, 2, 2, 0, 2, 2, 0, 0, 2, 1, 2, 2, 0, 0,\n",
              "       2, 2, 0, 1, 0, 2, 1, 0, 2, 2, 1, 0, 2, 0, 0, 0, 0, 0, 0, 2, 1, 1,\n",
              "       0, 0, 0, 0, 2, 0, 1, 0, 0, 0, 0, 1, 2, 0, 2, 2, 2, 1, 0, 0, 2, 0,\n",
              "       2, 0, 2, 2, 2, 0, 2, 0, 0, 2, 0, 0, 2, 0, 2, 0, 0, 0, 2, 0, 0, 0,\n",
              "       0, 0, 0, 2, 0, 2, 0, 0, 2, 0, 0, 1, 0, 0, 2, 0, 0, 0, 0, 0, 1, 0,\n",
              "       2, 0, 1, 2, 2, 0, 2, 2, 1, 1, 2, 2, 1, 2, 2, 2, 2, 0, 0, 2, 1, 1,\n",
              "       2, 0, 2, 0, 0, 0, 1, 0, 0, 2, 2, 2, 0, 0, 1, 0, 0, 0, 0, 0, 1, 0,\n",
              "       0, 0, 2, 1, 1, 1, 2, 0, 0, 1, 0, 1, 0, 0, 0, 0, 0, 0, 0, 0, 0, 0,\n",
              "       2, 0])"
            ]
          },
          "metadata": {},
          "execution_count": 129
        }
      ]
    },
    {
      "cell_type": "code",
      "metadata": {
        "id": "ege9PaQa9XiV"
      },
      "source": [
        "a = np.stack((np.array(index), prediction), axis=-1)\n",
        "dataset = pd.DataFrame(a, columns=['index', 'label'])"
      ],
      "execution_count": null,
      "outputs": []
    },
    {
      "cell_type": "code",
      "metadata": {
        "colab": {
          "base_uri": "https://localhost:8080/",
          "height": 424
        },
        "id": "Jf-xpiZN9mIA",
        "outputId": "f359ed6d-42dd-477a-c69d-cb75b97b1f2e"
      },
      "source": [
        "dataset"
      ],
      "execution_count": null,
      "outputs": [
        {
          "output_type": "execute_result",
          "data": {
            "text/html": [
              "<div>\n",
              "<style scoped>\n",
              "    .dataframe tbody tr th:only-of-type {\n",
              "        vertical-align: middle;\n",
              "    }\n",
              "\n",
              "    .dataframe tbody tr th {\n",
              "        vertical-align: top;\n",
              "    }\n",
              "\n",
              "    .dataframe thead th {\n",
              "        text-align: right;\n",
              "    }\n",
              "</style>\n",
              "<table border=\"1\" class=\"dataframe\">\n",
              "  <thead>\n",
              "    <tr style=\"text-align: right;\">\n",
              "      <th></th>\n",
              "      <th>index</th>\n",
              "      <th>label</th>\n",
              "    </tr>\n",
              "  </thead>\n",
              "  <tbody>\n",
              "    <tr>\n",
              "      <th>0</th>\n",
              "      <td>2084</td>\n",
              "      <td>0</td>\n",
              "    </tr>\n",
              "    <tr>\n",
              "      <th>1</th>\n",
              "      <td>2085</td>\n",
              "      <td>0</td>\n",
              "    </tr>\n",
              "    <tr>\n",
              "      <th>2</th>\n",
              "      <td>2086</td>\n",
              "      <td>2</td>\n",
              "    </tr>\n",
              "    <tr>\n",
              "      <th>3</th>\n",
              "      <td>2087</td>\n",
              "      <td>0</td>\n",
              "    </tr>\n",
              "    <tr>\n",
              "      <th>4</th>\n",
              "      <td>2088</td>\n",
              "      <td>0</td>\n",
              "    </tr>\n",
              "    <tr>\n",
              "      <th>...</th>\n",
              "      <td>...</td>\n",
              "      <td>...</td>\n",
              "    </tr>\n",
              "    <tr>\n",
              "      <th>261</th>\n",
              "      <td>2345</td>\n",
              "      <td>0</td>\n",
              "    </tr>\n",
              "    <tr>\n",
              "      <th>262</th>\n",
              "      <td>2346</td>\n",
              "      <td>0</td>\n",
              "    </tr>\n",
              "    <tr>\n",
              "      <th>263</th>\n",
              "      <td>2347</td>\n",
              "      <td>0</td>\n",
              "    </tr>\n",
              "    <tr>\n",
              "      <th>264</th>\n",
              "      <td>2348</td>\n",
              "      <td>2</td>\n",
              "    </tr>\n",
              "    <tr>\n",
              "      <th>265</th>\n",
              "      <td>2349</td>\n",
              "      <td>0</td>\n",
              "    </tr>\n",
              "  </tbody>\n",
              "</table>\n",
              "<p>266 rows × 2 columns</p>\n",
              "</div>"
            ],
            "text/plain": [
              "     index  label\n",
              "0     2084      0\n",
              "1     2085      0\n",
              "2     2086      2\n",
              "3     2087      0\n",
              "4     2088      0\n",
              "..     ...    ...\n",
              "261   2345      0\n",
              "262   2346      0\n",
              "263   2347      0\n",
              "264   2348      2\n",
              "265   2349      0\n",
              "\n",
              "[266 rows x 2 columns]"
            ]
          },
          "metadata": {},
          "execution_count": 131
        }
      ]
    },
    {
      "cell_type": "code",
      "metadata": {
        "id": "XOQQU-SM9mvk"
      },
      "source": [
        "dataset.to_csv(\"/content/drive/MyDrive/FakeNews/Test/result5.csv\", index=False)"
      ],
      "execution_count": null,
      "outputs": []
    }
  ]
}